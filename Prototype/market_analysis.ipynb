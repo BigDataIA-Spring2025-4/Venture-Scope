{
 "cells": [
  {
   "cell_type": "code",
   "execution_count": 2,
   "id": "ddfe0590",
   "metadata": {},
   "outputs": [],
   "source": [
    "import pandas as pd\n",
    "import plotly.express as px\n",
    "import plotly.graph_objects as go\n",
    "from plotly.subplots import make_subplots\n",
    "import numpy as np"
   ]
  },
  {
   "cell_type": "code",
   "execution_count": 4,
   "id": "03276f06",
   "metadata": {},
   "outputs": [],
   "source": [
    "state_abbrev = {\n",
    "    'Alabama': 'AL', 'Alaska': 'AK', 'Arizona': 'AZ', 'Arkansas': 'AR', 'California': 'CA',\n",
    "    'Colorado': 'CO', 'Connecticut': 'CT', 'Delaware': 'DE', 'Florida': 'FL', 'Georgia': 'GA',\n",
    "    'Hawaii': 'HI', 'Idaho': 'ID', 'Illinois': 'IL', 'Indiana': 'IN', 'Iowa': 'IA',\n",
    "    'Kansas': 'KS', 'Kentucky': 'KY', 'Louisiana': 'LA', 'Maine': 'ME', 'Maryland': 'MD',\n",
    "    'Massachusetts': 'MA', 'Michigan': 'MI', 'Minnesota': 'MN', 'Mississippi': 'MS', 'Missouri': 'MO',\n",
    "    'Montana': 'MT', 'Nebraska': 'NE', 'Nevada': 'NV', 'New Hampshire': 'NH', 'New Jersey': 'NJ',\n",
    "    'New Mexico': 'NM', 'New York': 'NY', 'North Carolina': 'NC', 'North Dakota': 'ND', 'Ohio': 'OH',\n",
    "    'Oklahoma': 'OK', 'Oregon': 'OR', 'Pennsylvania': 'PA', 'Rhode Island': 'RI', 'South Carolina': 'SC',\n",
    "    'South Dakota': 'SD', 'Tennessee': 'TN', 'Texas': 'TX', 'Utah': 'UT', 'Vermont': 'VT',\n",
    "    'Virginia': 'VA', 'Washington': 'WA', 'West Virginia': 'WV', 'Wisconsin': 'WI', 'Wyoming': 'WY'\n",
    "}"
   ]
  },
  {
   "cell_type": "code",
   "execution_count": 24,
   "id": "e51c3431",
   "metadata": {},
   "outputs": [],
   "source": [
    "\n",
    "import pandas as pd\n",
    "import plotly.express as px\n",
    "import plotly.graph_objects as go\n",
    "from plotly.subplots import make_subplots\n",
    "import numpy as np\n",
    "import snowflake.connector\n",
    "from snowflake.connector.pandas_tools import pd_writer"
   ]
  },
  {
   "cell_type": "code",
   "execution_count": 45,
   "id": "696b2bb1",
   "metadata": {},
   "outputs": [],
   "source": [
    "conn_params = {\n",
    "    'user': 'ABHINAV',\n",
    "    'password': 'Dortmund@1997!',\n",
    "    'account': 'nba28627.east-us-2.azure',\n",
    "    'warehouse': 'DBT_WH',\n",
    "    'database': 'OPPORTUNITY_ANALYSIS',\n",
    "    'schema': 'MARKET_ANALYSIS',\n",
    "    'role': 'FIN_ROLE'\n",
    "}"
   ]
  },
  {
   "cell_type": "code",
   "execution_count": 26,
   "id": "f8033aa6",
   "metadata": {},
   "outputs": [],
   "source": [
    "def connect_to_snowflake(params):\n",
    "    try:\n",
    "        conn = snowflake.connector.connect(\n",
    "            user=params['user'],\n",
    "            password=params['password'],\n",
    "            account=params['account'],\n",
    "            warehouse=params['warehouse'],\n",
    "            database=params['database'],\n",
    "            schema=params['schema'],\n",
    "            role=params['role']  # Specify the role if needed\n",
    "        )\n",
    "        print(\"Connected to Snowflake successfully!\")\n",
    "        return conn\n",
    "    except Exception as e:\n",
    "        print(f\"Error connecting to Snowflake: {e}\")\n",
    "        return None"
   ]
  },
  {
   "cell_type": "code",
   "execution_count": 27,
   "id": "66a481ea",
   "metadata": {},
   "outputs": [],
   "source": [
    "def query_data(conn, industry='automotive'):\n",
    "    query = f\"\"\"\n",
    "    SELECT region, size_catagory as size_category, count(*) as count \n",
    "    FROM enhanced_companies \n",
    "    WHERE industry = '{industry}' \n",
    "    GROUP BY region, size_catagory\n",
    "    \"\"\"\n",
    "    \n",
    "    try:\n",
    "        cursor = conn.cursor()\n",
    "        cursor.execute(query)\n",
    "        \n",
    "        # Fetch column names\n",
    "        col_names = [col[0] for col in cursor.description]\n",
    "        \n",
    "        # Fetch data\n",
    "        data = cursor.fetchall()\n",
    "        \n",
    "        # Create DataFrame\n",
    "        df = pd.DataFrame(data, columns=col_names)\n",
    "        \n",
    "        # Close cursor\n",
    "        cursor.close()\n",
    "        \n",
    "        return df\n",
    "    except Exception as e:\n",
    "        print(f\"Error executing query: {e}\")\n",
    "        return None"
   ]
  },
  {
   "cell_type": "code",
   "execution_count": 28,
   "id": "8ebde697",
   "metadata": {},
   "outputs": [
    {
     "name": "stdout",
     "output_type": "stream",
     "text": [
      "Connected to Snowflake successfully!\n"
     ]
    }
   ],
   "source": [
    "conn = connect_to_snowflake(conn_params)\n",
    "\n",
    "if conn is None:\n",
    "    print(\"Failed to connect to Snowflake. Exiting.\")\n"
   ]
  },
  {
   "cell_type": "code",
   "execution_count": 29,
   "id": "9523fd12",
   "metadata": {},
   "outputs": [],
   "source": [
    "df = query_data(conn)"
   ]
  },
  {
   "cell_type": "code",
   "execution_count": 30,
   "id": "941b9f11",
   "metadata": {},
   "outputs": [
    {
     "data": {
      "text/html": [
       "<div>\n",
       "<style scoped>\n",
       "    .dataframe tbody tr th:only-of-type {\n",
       "        vertical-align: middle;\n",
       "    }\n",
       "\n",
       "    .dataframe tbody tr th {\n",
       "        vertical-align: top;\n",
       "    }\n",
       "\n",
       "    .dataframe thead th {\n",
       "        text-align: right;\n",
       "    }\n",
       "</style>\n",
       "<table border=\"1\" class=\"dataframe\">\n",
       "  <thead>\n",
       "    <tr style=\"text-align: right;\">\n",
       "      <th></th>\n",
       "      <th>REGION</th>\n",
       "      <th>SIZE_CATEGORY</th>\n",
       "      <th>COUNT</th>\n",
       "    </tr>\n",
       "  </thead>\n",
       "  <tbody>\n",
       "    <tr>\n",
       "      <th>0</th>\n",
       "      <td>oklahoma</td>\n",
       "      <td>large</td>\n",
       "      <td>2</td>\n",
       "    </tr>\n",
       "    <tr>\n",
       "      <th>1</th>\n",
       "      <td>mississippi</td>\n",
       "      <td>large</td>\n",
       "      <td>2</td>\n",
       "    </tr>\n",
       "    <tr>\n",
       "      <th>2</th>\n",
       "      <td>connecticut</td>\n",
       "      <td>large</td>\n",
       "      <td>5</td>\n",
       "    </tr>\n",
       "    <tr>\n",
       "      <th>3</th>\n",
       "      <td>nebraska</td>\n",
       "      <td>large</td>\n",
       "      <td>4</td>\n",
       "    </tr>\n",
       "    <tr>\n",
       "      <th>4</th>\n",
       "      <td>north dakota</td>\n",
       "      <td>large</td>\n",
       "      <td>2</td>\n",
       "    </tr>\n",
       "  </tbody>\n",
       "</table>\n",
       "</div>"
      ],
      "text/plain": [
       "         REGION SIZE_CATEGORY  COUNT\n",
       "0      oklahoma         large      2\n",
       "1   mississippi         large      2\n",
       "2   connecticut         large      5\n",
       "3      nebraska         large      4\n",
       "4  north dakota         large      2"
      ]
     },
     "execution_count": 30,
     "metadata": {},
     "output_type": "execute_result"
    }
   ],
   "source": [
    "df.head()"
   ]
  },
  {
   "cell_type": "code",
   "execution_count": 40,
   "id": "2fc267ae",
   "metadata": {},
   "outputs": [],
   "source": [
    "def create_heatmap(industry='automotive'):\n",
    "    # Connect to Snowflake\n",
    "    conn = connect_to_snowflake(conn_params)\n",
    "    \n",
    "    if conn is None:\n",
    "        print(\"Failed to connect to Snowflake. Exiting.\")\n",
    "        return\n",
    "    \n",
    "    # Query data\n",
    "    df = query_data(conn, industry)\n",
    "    \n",
    "    if df is None or df.empty:\n",
    "        print(f\"No data found for industry: {industry}\")\n",
    "        conn.close()\n",
    "        return\n",
    "    \n",
    "    # Close connection\n",
    "    conn.close()\n",
    "    \n",
    "    # Data preprocessing\n",
    "    # Convert state names to title case for proper display\n",
    "    print(\"rreached before title case\")\n",
    "    df['REGION'] = df['REGION'].str.title()\n",
    "    print(\"rreached after title case\")\n",
    "    \n",
    "    # Map state names to their abbreviations for the choropleth map\n",
    "    state_abbrev = {\n",
    "        'Alabama': 'AL', 'Alaska': 'AK', 'Arizona': 'AZ', 'Arkansas': 'AR', 'California': 'CA',\n",
    "        'Colorado': 'CO', 'Connecticut': 'CT', 'Delaware': 'DE', 'Florida': 'FL', 'Georgia': 'GA',\n",
    "        'Hawaii': 'HI', 'Idaho': 'ID', 'Illinois': 'IL', 'Indiana': 'IN', 'Iowa': 'IA',\n",
    "        'Kansas': 'KS', 'Kentucky': 'KY', 'Louisiana': 'LA', 'Maine': 'ME', 'Maryland': 'MD',\n",
    "        'Massachusetts': 'MA', 'Michigan': 'MI', 'Minnesota': 'MN', 'Mississippi': 'MS', 'Missouri': 'MO',\n",
    "        'Montana': 'MT', 'Nebraska': 'NE', 'Nevada': 'NV', 'New Hampshire': 'NH', 'New Jersey': 'NJ',\n",
    "        'New Mexico': 'NM', 'New York': 'NY', 'North Carolina': 'NC', 'North Dakota': 'ND', 'Ohio': 'OH',\n",
    "        'Oklahoma': 'OK', 'Oregon': 'OR', 'Pennsylvania': 'PA', 'Rhode Island': 'RI', 'South Carolina': 'SC',\n",
    "        'South Dakota': 'SD', 'Tennessee': 'TN', 'Texas': 'TX', 'Utah': 'UT', 'Vermont': 'VT',\n",
    "        'Virginia': 'VA', 'Washington': 'WA', 'West Virginia': 'WV', 'Wisconsin': 'WI', 'Wyoming': 'WY'\n",
    "    }\n",
    "    \n",
    "    # Handle any non-matching state names\n",
    "    for region in df['REGION'].unique():\n",
    "        if region not in state_abbrev:\n",
    "            print(f\"Warning: '{region}' is not a recognized US state name\")\n",
    "    \n",
    "    # Add state abbreviations to the dataframe\n",
    "    df['state_code'] = df['REGION'].map(state_abbrev)\n",
    "    \n",
    "    # Create a total count by state for the main heatmap\n",
    "    state_totals = df.groupby('REGION')['COUNT'].sum().reset_index()\n",
    "    state_totals['state_code'] = state_totals['REGION'].map(state_abbrev)\n",
    "    \n",
    "    # Define size categories order for consistent visualization\n",
    "    size_order = ['1-10', '11-50', '51-200', '201-500', '501-1000', '1001-5000', '5001-10000', '10000+']\n",
    "    \n",
    "    # Create pivot table\n",
    "    df['SIZE_CATEGORY'] = pd.Categorical(df['SIZE_CATEGORY'], categories=size_order, ordered=True)\n",
    "    \n",
    "    # Create a pivot table for size categories distribution\n",
    "    size_pivot = df.pivot_table(\n",
    "        values='COUNT', \n",
    "        index='REGION', \n",
    "        columns='SIZE_CATEGORY',\n",
    "        aggfunc='sum',\n",
    "        fill_value=0\n",
    "    )\n",
    "    \n",
    "    # Normalize the data to show distribution percentages within each state\n",
    "    size_pivot_normalized = size_pivot.div(size_pivot.sum(axis=1), axis=0) * 100\n",
    "    \n",
    "    # Add state codes to the pivot data\n",
    "    size_pivot_normalized['state_code'] = size_pivot_normalized.index.map(state_abbrev)\n",
    "    \n",
    "    # Create the main choropleth map\n",
    "    fig = make_subplots(\n",
    "        rows=1, cols=1,\n",
    "        specs=[[{\"type\": \"choropleth\"}]]\n",
    "    )\n",
    "    \n",
    "    # Add the main choropleth map showing total company count by state\n",
    "    fig.add_trace(\n",
    "        go.Choropleth(\n",
    "            locations=state_totals['state_code'],\n",
    "            z=state_totals['COUNT'],\n",
    "            locationmode='USA-states',\n",
    "            colorscale='Viridis',\n",
    "            colorbar_title=\"Total Companies\",\n",
    "            name=f\"Total {industry.title()} Companies\",\n",
    "            marker_line_color='white',\n",
    "            marker_line_width=0.5,\n",
    "            hovertemplate='<b>%{location}</b><br>' +\n",
    "                            'Total Companies: %{z}<br>' +\n",
    "                            '<extra></extra>'\n",
    "        ),\n",
    "        row=1, col=1\n",
    "    )\n",
    "# Create a secondary visualization for the size distribution\n",
    "    # We'll use a bar chart that appears on hover\n",
    "    size_data = []\n",
    "    for state in state_totals['REGION']:\n",
    "        if state in size_pivot.index:\n",
    "            for size_cat in size_order:\n",
    "                if size_cat in size_pivot.columns:\n",
    "                    value = size_pivot.loc[state, size_cat] if size_cat in size_pivot.columns else 0\n",
    "                    pct = size_pivot_normalized.loc[state, size_cat] if size_cat in size_pivot_normalized.columns else 0\n",
    "                    \n",
    "                    # Add hover data\n",
    "                    fig.add_trace(\n",
    "                        go.Scatter(\n",
    "                            x=[state_abbrev.get(state, \"\")],\n",
    "                            y=[0],\n",
    "                            mode='markers',\n",
    "                            marker=dict(size=0, color='rgba(0,0,0,0)'),\n",
    "                            hoverinfo='text',\n",
    "                            hovertemplate=f'<b>{state}</b><br>' +\n",
    "                                         f'Size: {size_cat}<br>' +\n",
    "                                         f'Count: {value}<br>' +\n",
    "                                         f'Percentage: {pct:.1f}%<br>' +\n",
    "                                         '<extra></extra>',\n",
    "                            showlegend=False\n",
    "                        )\n",
    "                    )\n",
    "    \n",
    "    # Update the layout\n",
    "    fig.update_layout(\n",
    "        title_text=f'US {industry.title()} Industry Distribution by State',\n",
    "        title_x=0.5,\n",
    "        geo=dict(\n",
    "            scope='usa',\n",
    "            projection=go.layout.geo.Projection(type='albers usa'),\n",
    "            showlakes=True,\n",
    "            lakecolor='rgb(255, 255, 255)'\n",
    "        ),\n",
    "        height=600,\n",
    "        width=950,\n",
    "        margin=dict(l=0, r=0, t=50, b=0),\n",
    "        showlegend=False\n",
    "    )\n",
    "    \n",
    "    # Add an annotation explaining the visualization\n",
    "    fig.add_annotation(\n",
    "        x=0.5,\n",
    "        y=-0.1,\n",
    "        xref='paper',\n",
    "        yref='paper',\n",
    "        text='Hover over states to see size category distribution',\n",
    "        showarrow=False,\n",
    "        font=dict(size=12)\n",
    "    )\n",
    "    \n",
    "    # Create a second visualization for size categories in top states\n",
    "    # Get top 5 states by company count\n",
    "    top_states = state_totals.sort_values('COUNT', ascending=False).head(5)['REGION'].tolist()\n",
    "    \n",
    "    # Create subplots for the pie charts\n",
    "    fig2 = make_subplots(\n",
    "        rows=1, cols=min(5, len(top_states)),\n",
    "        specs=[[{'type':'domain'} for _ in range(min(5, len(top_states)))]],\n",
    "        subplot_titles=[f\"{state}\" for state in top_states]\n",
    "    )\n",
    "    \n",
    "    # Add pie charts for each top state\n",
    "    for i, state in enumerate(top_states):\n",
    "        state_data = df[df['REGION'] == state]\n",
    "        pie_data = state_data.groupby('SIZE_CATEGORY')['COUNT'].sum().reset_index()\n",
    "        \n",
    "        fig2.add_trace(\n",
    "            go.Pie(\n",
    "                labels=pie_data['SIZE_CATEGORY'],\n",
    "                values=pie_data['COUNT'],\n",
    "                name=state,\n",
    "                marker_colors=px.colors.sequential.Viridis[:len(pie_data)],\n",
    "                textinfo='percent',\n",
    "                hoverinfo='label+percent+value',\n",
    "                hovertemplate='<b>%{label}</b><br>' +\n",
    "                             'Count: %{value}<br>' +\n",
    "                             'Percentage: %{percent}<br>' +\n",
    "                             '<extra></extra>'\n",
    "            ),\n",
    "            row=1, col=i+1\n",
    "        )\n",
    "    \n",
    "    # Update layout for the second figure\n",
    "    fig2.update_layout(\n",
    "        title_text=f'Size Distribution in Top {len(top_states)} {industry.title()} Industry States',\n",
    "        height=400,\n",
    "        width=950\n",
    "    )\n",
    "\n",
    "    return fig, fig2"
   ]
  },
  {
   "cell_type": "code",
   "execution_count": 41,
   "id": "7884b4fb",
   "metadata": {},
   "outputs": [
    {
     "name": "stdout",
     "output_type": "stream",
     "text": [
      "Connected to Snowflake successfully!\n",
      "rreached before title case\n",
      "rreached after title case\n",
      "Warning: 'Guam' is not a recognized US state name\n",
      "Warning: 'District Of Columbia' is not a recognized US state name\n",
      "Warning: 'Virgin Islands' is not a recognized US state name\n"
     ]
    },
    {
     "name": "stderr",
     "output_type": "stream",
     "text": [
      "C:\\Users\\yohan\\AppData\\Local\\Temp\\ipykernel_20296\\2068319353.py:59: FutureWarning:\n",
      "\n",
      "The default value of observed=False is deprecated and will change to observed=True in a future version of pandas. Specify observed=False to silence this warning and retain the current behavior\n",
      "\n",
      "C:\\Users\\yohan\\AppData\\Local\\Temp\\ipykernel_20296\\2068319353.py:164: FutureWarning:\n",
      "\n",
      "The default of observed=False is deprecated and will be changed to True in a future version of pandas. Pass observed=False to retain current behavior or observed=True to adopt the future default and silence this warning.\n",
      "\n",
      "C:\\Users\\yohan\\AppData\\Local\\Temp\\ipykernel_20296\\2068319353.py:164: FutureWarning:\n",
      "\n",
      "The default of observed=False is deprecated and will be changed to True in a future version of pandas. Pass observed=False to retain current behavior or observed=True to adopt the future default and silence this warning.\n",
      "\n",
      "C:\\Users\\yohan\\AppData\\Local\\Temp\\ipykernel_20296\\2068319353.py:164: FutureWarning:\n",
      "\n",
      "The default of observed=False is deprecated and will be changed to True in a future version of pandas. Pass observed=False to retain current behavior or observed=True to adopt the future default and silence this warning.\n",
      "\n",
      "C:\\Users\\yohan\\AppData\\Local\\Temp\\ipykernel_20296\\2068319353.py:164: FutureWarning:\n",
      "\n",
      "The default of observed=False is deprecated and will be changed to True in a future version of pandas. Pass observed=False to retain current behavior or observed=True to adopt the future default and silence this warning.\n",
      "\n",
      "C:\\Users\\yohan\\AppData\\Local\\Temp\\ipykernel_20296\\2068319353.py:164: FutureWarning:\n",
      "\n",
      "The default of observed=False is deprecated and will be changed to True in a future version of pandas. Pass observed=False to retain current behavior or observed=True to adopt the future default and silence this warning.\n",
      "\n"
     ]
    }
   ],
   "source": [
    "fig1, fig2 = create_heatmap(industry='automotive')"
   ]
  },
  {
   "cell_type": "code",
   "execution_count": 42,
   "id": "6fb131cb",
   "metadata": {},
   "outputs": [
    {
     "data": {
      "application/vnd.plotly.v1+json": {
       "config": {
        "plotlyServerURL": "https://plot.ly"
       },
       "data": [
        {
         "colorbar": {
          "title": {
           "text": "Total Companies"
          }
         },
         "colorscale": [
          [
           0,
           "#440154"
          ],
          [
           0.1111111111111111,
           "#482878"
          ],
          [
           0.2222222222222222,
           "#3e4989"
          ],
          [
           0.3333333333333333,
           "#31688e"
          ],
          [
           0.4444444444444444,
           "#26828e"
          ],
          [
           0.5555555555555556,
           "#1f9e89"
          ],
          [
           0.6666666666666666,
           "#35b779"
          ],
          [
           0.7777777777777778,
           "#6ece58"
          ],
          [
           0.8888888888888888,
           "#b5de2b"
          ],
          [
           1,
           "#fde725"
          ]
         ],
         "geo": "geo",
         "hovertemplate": "<b>%{location}</b><br>Total Companies: %{z}<br><extra></extra>",
         "locationmode": "USA-states",
         "locations": [
          "AL",
          "AK",
          "AZ",
          "AR",
          "CA",
          "CO",
          "CT",
          "DE",
          null,
          "FL",
          "GA",
          null,
          "HI",
          "ID",
          "IL",
          "IN",
          "IA",
          "KS",
          "KY",
          "LA",
          "ME",
          "MD",
          "MA",
          "MI",
          "MN",
          "MS",
          "MO",
          "MT",
          "NE",
          "NV",
          "NH",
          "NJ",
          "NM",
          "NY",
          "NC",
          "ND",
          "OH",
          "OK",
          "OR",
          "PA",
          "RI",
          "SC",
          "SD",
          "TN",
          "TX",
          "UT",
          "VT",
          null,
          "VA",
          "WA",
          "WV",
          "WI",
          "WY"
         ],
         "marker": {
          "line": {
           "color": "white",
           "width": 0.5
          }
         },
         "name": "Total Automotive Companies",
         "type": "choropleth",
         "z": {
          "bdata": "5wAPAEUCXgBXCz0C/gBKACkARQbCAgEAGwCCAEIDKQKyAL8A6wCXADsAKQGRAQgGmwFfAKQBLwBwANQAbAAxAkQAowNmAiQAswO4ACYBxgIuABgBKgCRAcMGBQEwAAEA6AHdASoAlwElAA==",
          "dtype": "i2"
         }
        },
        {
         "hoverinfo": "text",
         "hovertemplate": "<b>Alabama</b><br>Size: 1-10<br>Count: 0<br>Percentage: nan%<br><extra></extra>",
         "marker": {
          "color": "rgba(0,0,0,0)",
          "size": 0
         },
         "mode": "markers",
         "showlegend": false,
         "type": "scatter",
         "x": [
          "AL"
         ],
         "y": [
          0
         ]
        },
        {
         "hoverinfo": "text",
         "hovertemplate": "<b>Alabama</b><br>Size: 11-50<br>Count: 0<br>Percentage: nan%<br><extra></extra>",
         "marker": {
          "color": "rgba(0,0,0,0)",
          "size": 0
         },
         "mode": "markers",
         "showlegend": false,
         "type": "scatter",
         "x": [
          "AL"
         ],
         "y": [
          0
         ]
        },
        {
         "hoverinfo": "text",
         "hovertemplate": "<b>Alabama</b><br>Size: 51-200<br>Count: 0<br>Percentage: nan%<br><extra></extra>",
         "marker": {
          "color": "rgba(0,0,0,0)",
          "size": 0
         },
         "mode": "markers",
         "showlegend": false,
         "type": "scatter",
         "x": [
          "AL"
         ],
         "y": [
          0
         ]
        },
        {
         "hoverinfo": "text",
         "hovertemplate": "<b>Alabama</b><br>Size: 201-500<br>Count: 0<br>Percentage: nan%<br><extra></extra>",
         "marker": {
          "color": "rgba(0,0,0,0)",
          "size": 0
         },
         "mode": "markers",
         "showlegend": false,
         "type": "scatter",
         "x": [
          "AL"
         ],
         "y": [
          0
         ]
        },
        {
         "hoverinfo": "text",
         "hovertemplate": "<b>Alabama</b><br>Size: 501-1000<br>Count: 0<br>Percentage: nan%<br><extra></extra>",
         "marker": {
          "color": "rgba(0,0,0,0)",
          "size": 0
         },
         "mode": "markers",
         "showlegend": false,
         "type": "scatter",
         "x": [
          "AL"
         ],
         "y": [
          0
         ]
        },
        {
         "hoverinfo": "text",
         "hovertemplate": "<b>Alabama</b><br>Size: 1001-5000<br>Count: 0<br>Percentage: nan%<br><extra></extra>",
         "marker": {
          "color": "rgba(0,0,0,0)",
          "size": 0
         },
         "mode": "markers",
         "showlegend": false,
         "type": "scatter",
         "x": [
          "AL"
         ],
         "y": [
          0
         ]
        },
        {
         "hoverinfo": "text",
         "hovertemplate": "<b>Alabama</b><br>Size: 5001-10000<br>Count: 0<br>Percentage: nan%<br><extra></extra>",
         "marker": {
          "color": "rgba(0,0,0,0)",
          "size": 0
         },
         "mode": "markers",
         "showlegend": false,
         "type": "scatter",
         "x": [
          "AL"
         ],
         "y": [
          0
         ]
        },
        {
         "hoverinfo": "text",
         "hovertemplate": "<b>Alabama</b><br>Size: 10000+<br>Count: 0<br>Percentage: nan%<br><extra></extra>",
         "marker": {
          "color": "rgba(0,0,0,0)",
          "size": 0
         },
         "mode": "markers",
         "showlegend": false,
         "type": "scatter",
         "x": [
          "AL"
         ],
         "y": [
          0
         ]
        },
        {
         "hoverinfo": "text",
         "hovertemplate": "<b>Alaska</b><br>Size: 1-10<br>Count: 0<br>Percentage: nan%<br><extra></extra>",
         "marker": {
          "color": "rgba(0,0,0,0)",
          "size": 0
         },
         "mode": "markers",
         "showlegend": false,
         "type": "scatter",
         "x": [
          "AK"
         ],
         "y": [
          0
         ]
        },
        {
         "hoverinfo": "text",
         "hovertemplate": "<b>Alaska</b><br>Size: 11-50<br>Count: 0<br>Percentage: nan%<br><extra></extra>",
         "marker": {
          "color": "rgba(0,0,0,0)",
          "size": 0
         },
         "mode": "markers",
         "showlegend": false,
         "type": "scatter",
         "x": [
          "AK"
         ],
         "y": [
          0
         ]
        },
        {
         "hoverinfo": "text",
         "hovertemplate": "<b>Alaska</b><br>Size: 51-200<br>Count: 0<br>Percentage: nan%<br><extra></extra>",
         "marker": {
          "color": "rgba(0,0,0,0)",
          "size": 0
         },
         "mode": "markers",
         "showlegend": false,
         "type": "scatter",
         "x": [
          "AK"
         ],
         "y": [
          0
         ]
        },
        {
         "hoverinfo": "text",
         "hovertemplate": "<b>Alaska</b><br>Size: 201-500<br>Count: 0<br>Percentage: nan%<br><extra></extra>",
         "marker": {
          "color": "rgba(0,0,0,0)",
          "size": 0
         },
         "mode": "markers",
         "showlegend": false,
         "type": "scatter",
         "x": [
          "AK"
         ],
         "y": [
          0
         ]
        },
        {
         "hoverinfo": "text",
         "hovertemplate": "<b>Alaska</b><br>Size: 501-1000<br>Count: 0<br>Percentage: nan%<br><extra></extra>",
         "marker": {
          "color": "rgba(0,0,0,0)",
          "size": 0
         },
         "mode": "markers",
         "showlegend": false,
         "type": "scatter",
         "x": [
          "AK"
         ],
         "y": [
          0
         ]
        },
        {
         "hoverinfo": "text",
         "hovertemplate": "<b>Alaska</b><br>Size: 1001-5000<br>Count: 0<br>Percentage: nan%<br><extra></extra>",
         "marker": {
          "color": "rgba(0,0,0,0)",
          "size": 0
         },
         "mode": "markers",
         "showlegend": false,
         "type": "scatter",
         "x": [
          "AK"
         ],
         "y": [
          0
         ]
        },
        {
         "hoverinfo": "text",
         "hovertemplate": "<b>Alaska</b><br>Size: 5001-10000<br>Count: 0<br>Percentage: nan%<br><extra></extra>",
         "marker": {
          "color": "rgba(0,0,0,0)",
          "size": 0
         },
         "mode": "markers",
         "showlegend": false,
         "type": "scatter",
         "x": [
          "AK"
         ],
         "y": [
          0
         ]
        },
        {
         "hoverinfo": "text",
         "hovertemplate": "<b>Alaska</b><br>Size: 10000+<br>Count: 0<br>Percentage: nan%<br><extra></extra>",
         "marker": {
          "color": "rgba(0,0,0,0)",
          "size": 0
         },
         "mode": "markers",
         "showlegend": false,
         "type": "scatter",
         "x": [
          "AK"
         ],
         "y": [
          0
         ]
        },
        {
         "hoverinfo": "text",
         "hovertemplate": "<b>Arizona</b><br>Size: 1-10<br>Count: 0<br>Percentage: nan%<br><extra></extra>",
         "marker": {
          "color": "rgba(0,0,0,0)",
          "size": 0
         },
         "mode": "markers",
         "showlegend": false,
         "type": "scatter",
         "x": [
          "AZ"
         ],
         "y": [
          0
         ]
        },
        {
         "hoverinfo": "text",
         "hovertemplate": "<b>Arizona</b><br>Size: 11-50<br>Count: 0<br>Percentage: nan%<br><extra></extra>",
         "marker": {
          "color": "rgba(0,0,0,0)",
          "size": 0
         },
         "mode": "markers",
         "showlegend": false,
         "type": "scatter",
         "x": [
          "AZ"
         ],
         "y": [
          0
         ]
        },
        {
         "hoverinfo": "text",
         "hovertemplate": "<b>Arizona</b><br>Size: 51-200<br>Count: 0<br>Percentage: nan%<br><extra></extra>",
         "marker": {
          "color": "rgba(0,0,0,0)",
          "size": 0
         },
         "mode": "markers",
         "showlegend": false,
         "type": "scatter",
         "x": [
          "AZ"
         ],
         "y": [
          0
         ]
        },
        {
         "hoverinfo": "text",
         "hovertemplate": "<b>Arizona</b><br>Size: 201-500<br>Count: 0<br>Percentage: nan%<br><extra></extra>",
         "marker": {
          "color": "rgba(0,0,0,0)",
          "size": 0
         },
         "mode": "markers",
         "showlegend": false,
         "type": "scatter",
         "x": [
          "AZ"
         ],
         "y": [
          0
         ]
        },
        {
         "hoverinfo": "text",
         "hovertemplate": "<b>Arizona</b><br>Size: 501-1000<br>Count: 0<br>Percentage: nan%<br><extra></extra>",
         "marker": {
          "color": "rgba(0,0,0,0)",
          "size": 0
         },
         "mode": "markers",
         "showlegend": false,
         "type": "scatter",
         "x": [
          "AZ"
         ],
         "y": [
          0
         ]
        },
        {
         "hoverinfo": "text",
         "hovertemplate": "<b>Arizona</b><br>Size: 1001-5000<br>Count: 0<br>Percentage: nan%<br><extra></extra>",
         "marker": {
          "color": "rgba(0,0,0,0)",
          "size": 0
         },
         "mode": "markers",
         "showlegend": false,
         "type": "scatter",
         "x": [
          "AZ"
         ],
         "y": [
          0
         ]
        },
        {
         "hoverinfo": "text",
         "hovertemplate": "<b>Arizona</b><br>Size: 5001-10000<br>Count: 0<br>Percentage: nan%<br><extra></extra>",
         "marker": {
          "color": "rgba(0,0,0,0)",
          "size": 0
         },
         "mode": "markers",
         "showlegend": false,
         "type": "scatter",
         "x": [
          "AZ"
         ],
         "y": [
          0
         ]
        },
        {
         "hoverinfo": "text",
         "hovertemplate": "<b>Arizona</b><br>Size: 10000+<br>Count: 0<br>Percentage: nan%<br><extra></extra>",
         "marker": {
          "color": "rgba(0,0,0,0)",
          "size": 0
         },
         "mode": "markers",
         "showlegend": false,
         "type": "scatter",
         "x": [
          "AZ"
         ],
         "y": [
          0
         ]
        },
        {
         "hoverinfo": "text",
         "hovertemplate": "<b>Arkansas</b><br>Size: 1-10<br>Count: 0<br>Percentage: nan%<br><extra></extra>",
         "marker": {
          "color": "rgba(0,0,0,0)",
          "size": 0
         },
         "mode": "markers",
         "showlegend": false,
         "type": "scatter",
         "x": [
          "AR"
         ],
         "y": [
          0
         ]
        },
        {
         "hoverinfo": "text",
         "hovertemplate": "<b>Arkansas</b><br>Size: 11-50<br>Count: 0<br>Percentage: nan%<br><extra></extra>",
         "marker": {
          "color": "rgba(0,0,0,0)",
          "size": 0
         },
         "mode": "markers",
         "showlegend": false,
         "type": "scatter",
         "x": [
          "AR"
         ],
         "y": [
          0
         ]
        },
        {
         "hoverinfo": "text",
         "hovertemplate": "<b>Arkansas</b><br>Size: 51-200<br>Count: 0<br>Percentage: nan%<br><extra></extra>",
         "marker": {
          "color": "rgba(0,0,0,0)",
          "size": 0
         },
         "mode": "markers",
         "showlegend": false,
         "type": "scatter",
         "x": [
          "AR"
         ],
         "y": [
          0
         ]
        },
        {
         "hoverinfo": "text",
         "hovertemplate": "<b>Arkansas</b><br>Size: 201-500<br>Count: 0<br>Percentage: nan%<br><extra></extra>",
         "marker": {
          "color": "rgba(0,0,0,0)",
          "size": 0
         },
         "mode": "markers",
         "showlegend": false,
         "type": "scatter",
         "x": [
          "AR"
         ],
         "y": [
          0
         ]
        },
        {
         "hoverinfo": "text",
         "hovertemplate": "<b>Arkansas</b><br>Size: 501-1000<br>Count: 0<br>Percentage: nan%<br><extra></extra>",
         "marker": {
          "color": "rgba(0,0,0,0)",
          "size": 0
         },
         "mode": "markers",
         "showlegend": false,
         "type": "scatter",
         "x": [
          "AR"
         ],
         "y": [
          0
         ]
        },
        {
         "hoverinfo": "text",
         "hovertemplate": "<b>Arkansas</b><br>Size: 1001-5000<br>Count: 0<br>Percentage: nan%<br><extra></extra>",
         "marker": {
          "color": "rgba(0,0,0,0)",
          "size": 0
         },
         "mode": "markers",
         "showlegend": false,
         "type": "scatter",
         "x": [
          "AR"
         ],
         "y": [
          0
         ]
        },
        {
         "hoverinfo": "text",
         "hovertemplate": "<b>Arkansas</b><br>Size: 5001-10000<br>Count: 0<br>Percentage: nan%<br><extra></extra>",
         "marker": {
          "color": "rgba(0,0,0,0)",
          "size": 0
         },
         "mode": "markers",
         "showlegend": false,
         "type": "scatter",
         "x": [
          "AR"
         ],
         "y": [
          0
         ]
        },
        {
         "hoverinfo": "text",
         "hovertemplate": "<b>Arkansas</b><br>Size: 10000+<br>Count: 0<br>Percentage: nan%<br><extra></extra>",
         "marker": {
          "color": "rgba(0,0,0,0)",
          "size": 0
         },
         "mode": "markers",
         "showlegend": false,
         "type": "scatter",
         "x": [
          "AR"
         ],
         "y": [
          0
         ]
        },
        {
         "hoverinfo": "text",
         "hovertemplate": "<b>California</b><br>Size: 1-10<br>Count: 0<br>Percentage: nan%<br><extra></extra>",
         "marker": {
          "color": "rgba(0,0,0,0)",
          "size": 0
         },
         "mode": "markers",
         "showlegend": false,
         "type": "scatter",
         "x": [
          "CA"
         ],
         "y": [
          0
         ]
        },
        {
         "hoverinfo": "text",
         "hovertemplate": "<b>California</b><br>Size: 11-50<br>Count: 0<br>Percentage: nan%<br><extra></extra>",
         "marker": {
          "color": "rgba(0,0,0,0)",
          "size": 0
         },
         "mode": "markers",
         "showlegend": false,
         "type": "scatter",
         "x": [
          "CA"
         ],
         "y": [
          0
         ]
        },
        {
         "hoverinfo": "text",
         "hovertemplate": "<b>California</b><br>Size: 51-200<br>Count: 0<br>Percentage: nan%<br><extra></extra>",
         "marker": {
          "color": "rgba(0,0,0,0)",
          "size": 0
         },
         "mode": "markers",
         "showlegend": false,
         "type": "scatter",
         "x": [
          "CA"
         ],
         "y": [
          0
         ]
        },
        {
         "hoverinfo": "text",
         "hovertemplate": "<b>California</b><br>Size: 201-500<br>Count: 0<br>Percentage: nan%<br><extra></extra>",
         "marker": {
          "color": "rgba(0,0,0,0)",
          "size": 0
         },
         "mode": "markers",
         "showlegend": false,
         "type": "scatter",
         "x": [
          "CA"
         ],
         "y": [
          0
         ]
        },
        {
         "hoverinfo": "text",
         "hovertemplate": "<b>California</b><br>Size: 501-1000<br>Count: 0<br>Percentage: nan%<br><extra></extra>",
         "marker": {
          "color": "rgba(0,0,0,0)",
          "size": 0
         },
         "mode": "markers",
         "showlegend": false,
         "type": "scatter",
         "x": [
          "CA"
         ],
         "y": [
          0
         ]
        },
        {
         "hoverinfo": "text",
         "hovertemplate": "<b>California</b><br>Size: 1001-5000<br>Count: 0<br>Percentage: nan%<br><extra></extra>",
         "marker": {
          "color": "rgba(0,0,0,0)",
          "size": 0
         },
         "mode": "markers",
         "showlegend": false,
         "type": "scatter",
         "x": [
          "CA"
         ],
         "y": [
          0
         ]
        },
        {
         "hoverinfo": "text",
         "hovertemplate": "<b>California</b><br>Size: 5001-10000<br>Count: 0<br>Percentage: nan%<br><extra></extra>",
         "marker": {
          "color": "rgba(0,0,0,0)",
          "size": 0
         },
         "mode": "markers",
         "showlegend": false,
         "type": "scatter",
         "x": [
          "CA"
         ],
         "y": [
          0
         ]
        },
        {
         "hoverinfo": "text",
         "hovertemplate": "<b>California</b><br>Size: 10000+<br>Count: 0<br>Percentage: nan%<br><extra></extra>",
         "marker": {
          "color": "rgba(0,0,0,0)",
          "size": 0
         },
         "mode": "markers",
         "showlegend": false,
         "type": "scatter",
         "x": [
          "CA"
         ],
         "y": [
          0
         ]
        },
        {
         "hoverinfo": "text",
         "hovertemplate": "<b>Colorado</b><br>Size: 1-10<br>Count: 0<br>Percentage: nan%<br><extra></extra>",
         "marker": {
          "color": "rgba(0,0,0,0)",
          "size": 0
         },
         "mode": "markers",
         "showlegend": false,
         "type": "scatter",
         "x": [
          "CO"
         ],
         "y": [
          0
         ]
        },
        {
         "hoverinfo": "text",
         "hovertemplate": "<b>Colorado</b><br>Size: 11-50<br>Count: 0<br>Percentage: nan%<br><extra></extra>",
         "marker": {
          "color": "rgba(0,0,0,0)",
          "size": 0
         },
         "mode": "markers",
         "showlegend": false,
         "type": "scatter",
         "x": [
          "CO"
         ],
         "y": [
          0
         ]
        },
        {
         "hoverinfo": "text",
         "hovertemplate": "<b>Colorado</b><br>Size: 51-200<br>Count: 0<br>Percentage: nan%<br><extra></extra>",
         "marker": {
          "color": "rgba(0,0,0,0)",
          "size": 0
         },
         "mode": "markers",
         "showlegend": false,
         "type": "scatter",
         "x": [
          "CO"
         ],
         "y": [
          0
         ]
        },
        {
         "hoverinfo": "text",
         "hovertemplate": "<b>Colorado</b><br>Size: 201-500<br>Count: 0<br>Percentage: nan%<br><extra></extra>",
         "marker": {
          "color": "rgba(0,0,0,0)",
          "size": 0
         },
         "mode": "markers",
         "showlegend": false,
         "type": "scatter",
         "x": [
          "CO"
         ],
         "y": [
          0
         ]
        },
        {
         "hoverinfo": "text",
         "hovertemplate": "<b>Colorado</b><br>Size: 501-1000<br>Count: 0<br>Percentage: nan%<br><extra></extra>",
         "marker": {
          "color": "rgba(0,0,0,0)",
          "size": 0
         },
         "mode": "markers",
         "showlegend": false,
         "type": "scatter",
         "x": [
          "CO"
         ],
         "y": [
          0
         ]
        },
        {
         "hoverinfo": "text",
         "hovertemplate": "<b>Colorado</b><br>Size: 1001-5000<br>Count: 0<br>Percentage: nan%<br><extra></extra>",
         "marker": {
          "color": "rgba(0,0,0,0)",
          "size": 0
         },
         "mode": "markers",
         "showlegend": false,
         "type": "scatter",
         "x": [
          "CO"
         ],
         "y": [
          0
         ]
        },
        {
         "hoverinfo": "text",
         "hovertemplate": "<b>Colorado</b><br>Size: 5001-10000<br>Count: 0<br>Percentage: nan%<br><extra></extra>",
         "marker": {
          "color": "rgba(0,0,0,0)",
          "size": 0
         },
         "mode": "markers",
         "showlegend": false,
         "type": "scatter",
         "x": [
          "CO"
         ],
         "y": [
          0
         ]
        },
        {
         "hoverinfo": "text",
         "hovertemplate": "<b>Colorado</b><br>Size: 10000+<br>Count: 0<br>Percentage: nan%<br><extra></extra>",
         "marker": {
          "color": "rgba(0,0,0,0)",
          "size": 0
         },
         "mode": "markers",
         "showlegend": false,
         "type": "scatter",
         "x": [
          "CO"
         ],
         "y": [
          0
         ]
        },
        {
         "hoverinfo": "text",
         "hovertemplate": "<b>Connecticut</b><br>Size: 1-10<br>Count: 0<br>Percentage: nan%<br><extra></extra>",
         "marker": {
          "color": "rgba(0,0,0,0)",
          "size": 0
         },
         "mode": "markers",
         "showlegend": false,
         "type": "scatter",
         "x": [
          "CT"
         ],
         "y": [
          0
         ]
        },
        {
         "hoverinfo": "text",
         "hovertemplate": "<b>Connecticut</b><br>Size: 11-50<br>Count: 0<br>Percentage: nan%<br><extra></extra>",
         "marker": {
          "color": "rgba(0,0,0,0)",
          "size": 0
         },
         "mode": "markers",
         "showlegend": false,
         "type": "scatter",
         "x": [
          "CT"
         ],
         "y": [
          0
         ]
        },
        {
         "hoverinfo": "text",
         "hovertemplate": "<b>Connecticut</b><br>Size: 51-200<br>Count: 0<br>Percentage: nan%<br><extra></extra>",
         "marker": {
          "color": "rgba(0,0,0,0)",
          "size": 0
         },
         "mode": "markers",
         "showlegend": false,
         "type": "scatter",
         "x": [
          "CT"
         ],
         "y": [
          0
         ]
        },
        {
         "hoverinfo": "text",
         "hovertemplate": "<b>Connecticut</b><br>Size: 201-500<br>Count: 0<br>Percentage: nan%<br><extra></extra>",
         "marker": {
          "color": "rgba(0,0,0,0)",
          "size": 0
         },
         "mode": "markers",
         "showlegend": false,
         "type": "scatter",
         "x": [
          "CT"
         ],
         "y": [
          0
         ]
        },
        {
         "hoverinfo": "text",
         "hovertemplate": "<b>Connecticut</b><br>Size: 501-1000<br>Count: 0<br>Percentage: nan%<br><extra></extra>",
         "marker": {
          "color": "rgba(0,0,0,0)",
          "size": 0
         },
         "mode": "markers",
         "showlegend": false,
         "type": "scatter",
         "x": [
          "CT"
         ],
         "y": [
          0
         ]
        },
        {
         "hoverinfo": "text",
         "hovertemplate": "<b>Connecticut</b><br>Size: 1001-5000<br>Count: 0<br>Percentage: nan%<br><extra></extra>",
         "marker": {
          "color": "rgba(0,0,0,0)",
          "size": 0
         },
         "mode": "markers",
         "showlegend": false,
         "type": "scatter",
         "x": [
          "CT"
         ],
         "y": [
          0
         ]
        },
        {
         "hoverinfo": "text",
         "hovertemplate": "<b>Connecticut</b><br>Size: 5001-10000<br>Count: 0<br>Percentage: nan%<br><extra></extra>",
         "marker": {
          "color": "rgba(0,0,0,0)",
          "size": 0
         },
         "mode": "markers",
         "showlegend": false,
         "type": "scatter",
         "x": [
          "CT"
         ],
         "y": [
          0
         ]
        },
        {
         "hoverinfo": "text",
         "hovertemplate": "<b>Connecticut</b><br>Size: 10000+<br>Count: 0<br>Percentage: nan%<br><extra></extra>",
         "marker": {
          "color": "rgba(0,0,0,0)",
          "size": 0
         },
         "mode": "markers",
         "showlegend": false,
         "type": "scatter",
         "x": [
          "CT"
         ],
         "y": [
          0
         ]
        },
        {
         "hoverinfo": "text",
         "hovertemplate": "<b>Delaware</b><br>Size: 1-10<br>Count: 0<br>Percentage: nan%<br><extra></extra>",
         "marker": {
          "color": "rgba(0,0,0,0)",
          "size": 0
         },
         "mode": "markers",
         "showlegend": false,
         "type": "scatter",
         "x": [
          "DE"
         ],
         "y": [
          0
         ]
        },
        {
         "hoverinfo": "text",
         "hovertemplate": "<b>Delaware</b><br>Size: 11-50<br>Count: 0<br>Percentage: nan%<br><extra></extra>",
         "marker": {
          "color": "rgba(0,0,0,0)",
          "size": 0
         },
         "mode": "markers",
         "showlegend": false,
         "type": "scatter",
         "x": [
          "DE"
         ],
         "y": [
          0
         ]
        },
        {
         "hoverinfo": "text",
         "hovertemplate": "<b>Delaware</b><br>Size: 51-200<br>Count: 0<br>Percentage: nan%<br><extra></extra>",
         "marker": {
          "color": "rgba(0,0,0,0)",
          "size": 0
         },
         "mode": "markers",
         "showlegend": false,
         "type": "scatter",
         "x": [
          "DE"
         ],
         "y": [
          0
         ]
        },
        {
         "hoverinfo": "text",
         "hovertemplate": "<b>Delaware</b><br>Size: 201-500<br>Count: 0<br>Percentage: nan%<br><extra></extra>",
         "marker": {
          "color": "rgba(0,0,0,0)",
          "size": 0
         },
         "mode": "markers",
         "showlegend": false,
         "type": "scatter",
         "x": [
          "DE"
         ],
         "y": [
          0
         ]
        },
        {
         "hoverinfo": "text",
         "hovertemplate": "<b>Delaware</b><br>Size: 501-1000<br>Count: 0<br>Percentage: nan%<br><extra></extra>",
         "marker": {
          "color": "rgba(0,0,0,0)",
          "size": 0
         },
         "mode": "markers",
         "showlegend": false,
         "type": "scatter",
         "x": [
          "DE"
         ],
         "y": [
          0
         ]
        },
        {
         "hoverinfo": "text",
         "hovertemplate": "<b>Delaware</b><br>Size: 1001-5000<br>Count: 0<br>Percentage: nan%<br><extra></extra>",
         "marker": {
          "color": "rgba(0,0,0,0)",
          "size": 0
         },
         "mode": "markers",
         "showlegend": false,
         "type": "scatter",
         "x": [
          "DE"
         ],
         "y": [
          0
         ]
        },
        {
         "hoverinfo": "text",
         "hovertemplate": "<b>Delaware</b><br>Size: 5001-10000<br>Count: 0<br>Percentage: nan%<br><extra></extra>",
         "marker": {
          "color": "rgba(0,0,0,0)",
          "size": 0
         },
         "mode": "markers",
         "showlegend": false,
         "type": "scatter",
         "x": [
          "DE"
         ],
         "y": [
          0
         ]
        },
        {
         "hoverinfo": "text",
         "hovertemplate": "<b>Delaware</b><br>Size: 10000+<br>Count: 0<br>Percentage: nan%<br><extra></extra>",
         "marker": {
          "color": "rgba(0,0,0,0)",
          "size": 0
         },
         "mode": "markers",
         "showlegend": false,
         "type": "scatter",
         "x": [
          "DE"
         ],
         "y": [
          0
         ]
        },
        {
         "hoverinfo": "text",
         "hovertemplate": "<b>District Of Columbia</b><br>Size: 1-10<br>Count: 0<br>Percentage: nan%<br><extra></extra>",
         "marker": {
          "color": "rgba(0,0,0,0)",
          "size": 0
         },
         "mode": "markers",
         "showlegend": false,
         "type": "scatter",
         "x": [
          ""
         ],
         "y": [
          0
         ]
        },
        {
         "hoverinfo": "text",
         "hovertemplate": "<b>District Of Columbia</b><br>Size: 11-50<br>Count: 0<br>Percentage: nan%<br><extra></extra>",
         "marker": {
          "color": "rgba(0,0,0,0)",
          "size": 0
         },
         "mode": "markers",
         "showlegend": false,
         "type": "scatter",
         "x": [
          ""
         ],
         "y": [
          0
         ]
        },
        {
         "hoverinfo": "text",
         "hovertemplate": "<b>District Of Columbia</b><br>Size: 51-200<br>Count: 0<br>Percentage: nan%<br><extra></extra>",
         "marker": {
          "color": "rgba(0,0,0,0)",
          "size": 0
         },
         "mode": "markers",
         "showlegend": false,
         "type": "scatter",
         "x": [
          ""
         ],
         "y": [
          0
         ]
        },
        {
         "hoverinfo": "text",
         "hovertemplate": "<b>District Of Columbia</b><br>Size: 201-500<br>Count: 0<br>Percentage: nan%<br><extra></extra>",
         "marker": {
          "color": "rgba(0,0,0,0)",
          "size": 0
         },
         "mode": "markers",
         "showlegend": false,
         "type": "scatter",
         "x": [
          ""
         ],
         "y": [
          0
         ]
        },
        {
         "hoverinfo": "text",
         "hovertemplate": "<b>District Of Columbia</b><br>Size: 501-1000<br>Count: 0<br>Percentage: nan%<br><extra></extra>",
         "marker": {
          "color": "rgba(0,0,0,0)",
          "size": 0
         },
         "mode": "markers",
         "showlegend": false,
         "type": "scatter",
         "x": [
          ""
         ],
         "y": [
          0
         ]
        },
        {
         "hoverinfo": "text",
         "hovertemplate": "<b>District Of Columbia</b><br>Size: 1001-5000<br>Count: 0<br>Percentage: nan%<br><extra></extra>",
         "marker": {
          "color": "rgba(0,0,0,0)",
          "size": 0
         },
         "mode": "markers",
         "showlegend": false,
         "type": "scatter",
         "x": [
          ""
         ],
         "y": [
          0
         ]
        },
        {
         "hoverinfo": "text",
         "hovertemplate": "<b>District Of Columbia</b><br>Size: 5001-10000<br>Count: 0<br>Percentage: nan%<br><extra></extra>",
         "marker": {
          "color": "rgba(0,0,0,0)",
          "size": 0
         },
         "mode": "markers",
         "showlegend": false,
         "type": "scatter",
         "x": [
          ""
         ],
         "y": [
          0
         ]
        },
        {
         "hoverinfo": "text",
         "hovertemplate": "<b>District Of Columbia</b><br>Size: 10000+<br>Count: 0<br>Percentage: nan%<br><extra></extra>",
         "marker": {
          "color": "rgba(0,0,0,0)",
          "size": 0
         },
         "mode": "markers",
         "showlegend": false,
         "type": "scatter",
         "x": [
          ""
         ],
         "y": [
          0
         ]
        },
        {
         "hoverinfo": "text",
         "hovertemplate": "<b>Florida</b><br>Size: 1-10<br>Count: 0<br>Percentage: nan%<br><extra></extra>",
         "marker": {
          "color": "rgba(0,0,0,0)",
          "size": 0
         },
         "mode": "markers",
         "showlegend": false,
         "type": "scatter",
         "x": [
          "FL"
         ],
         "y": [
          0
         ]
        },
        {
         "hoverinfo": "text",
         "hovertemplate": "<b>Florida</b><br>Size: 11-50<br>Count: 0<br>Percentage: nan%<br><extra></extra>",
         "marker": {
          "color": "rgba(0,0,0,0)",
          "size": 0
         },
         "mode": "markers",
         "showlegend": false,
         "type": "scatter",
         "x": [
          "FL"
         ],
         "y": [
          0
         ]
        },
        {
         "hoverinfo": "text",
         "hovertemplate": "<b>Florida</b><br>Size: 51-200<br>Count: 0<br>Percentage: nan%<br><extra></extra>",
         "marker": {
          "color": "rgba(0,0,0,0)",
          "size": 0
         },
         "mode": "markers",
         "showlegend": false,
         "type": "scatter",
         "x": [
          "FL"
         ],
         "y": [
          0
         ]
        },
        {
         "hoverinfo": "text",
         "hovertemplate": "<b>Florida</b><br>Size: 201-500<br>Count: 0<br>Percentage: nan%<br><extra></extra>",
         "marker": {
          "color": "rgba(0,0,0,0)",
          "size": 0
         },
         "mode": "markers",
         "showlegend": false,
         "type": "scatter",
         "x": [
          "FL"
         ],
         "y": [
          0
         ]
        },
        {
         "hoverinfo": "text",
         "hovertemplate": "<b>Florida</b><br>Size: 501-1000<br>Count: 0<br>Percentage: nan%<br><extra></extra>",
         "marker": {
          "color": "rgba(0,0,0,0)",
          "size": 0
         },
         "mode": "markers",
         "showlegend": false,
         "type": "scatter",
         "x": [
          "FL"
         ],
         "y": [
          0
         ]
        },
        {
         "hoverinfo": "text",
         "hovertemplate": "<b>Florida</b><br>Size: 1001-5000<br>Count: 0<br>Percentage: nan%<br><extra></extra>",
         "marker": {
          "color": "rgba(0,0,0,0)",
          "size": 0
         },
         "mode": "markers",
         "showlegend": false,
         "type": "scatter",
         "x": [
          "FL"
         ],
         "y": [
          0
         ]
        },
        {
         "hoverinfo": "text",
         "hovertemplate": "<b>Florida</b><br>Size: 5001-10000<br>Count: 0<br>Percentage: nan%<br><extra></extra>",
         "marker": {
          "color": "rgba(0,0,0,0)",
          "size": 0
         },
         "mode": "markers",
         "showlegend": false,
         "type": "scatter",
         "x": [
          "FL"
         ],
         "y": [
          0
         ]
        },
        {
         "hoverinfo": "text",
         "hovertemplate": "<b>Florida</b><br>Size: 10000+<br>Count: 0<br>Percentage: nan%<br><extra></extra>",
         "marker": {
          "color": "rgba(0,0,0,0)",
          "size": 0
         },
         "mode": "markers",
         "showlegend": false,
         "type": "scatter",
         "x": [
          "FL"
         ],
         "y": [
          0
         ]
        },
        {
         "hoverinfo": "text",
         "hovertemplate": "<b>Georgia</b><br>Size: 1-10<br>Count: 0<br>Percentage: nan%<br><extra></extra>",
         "marker": {
          "color": "rgba(0,0,0,0)",
          "size": 0
         },
         "mode": "markers",
         "showlegend": false,
         "type": "scatter",
         "x": [
          "GA"
         ],
         "y": [
          0
         ]
        },
        {
         "hoverinfo": "text",
         "hovertemplate": "<b>Georgia</b><br>Size: 11-50<br>Count: 0<br>Percentage: nan%<br><extra></extra>",
         "marker": {
          "color": "rgba(0,0,0,0)",
          "size": 0
         },
         "mode": "markers",
         "showlegend": false,
         "type": "scatter",
         "x": [
          "GA"
         ],
         "y": [
          0
         ]
        },
        {
         "hoverinfo": "text",
         "hovertemplate": "<b>Georgia</b><br>Size: 51-200<br>Count: 0<br>Percentage: nan%<br><extra></extra>",
         "marker": {
          "color": "rgba(0,0,0,0)",
          "size": 0
         },
         "mode": "markers",
         "showlegend": false,
         "type": "scatter",
         "x": [
          "GA"
         ],
         "y": [
          0
         ]
        },
        {
         "hoverinfo": "text",
         "hovertemplate": "<b>Georgia</b><br>Size: 201-500<br>Count: 0<br>Percentage: nan%<br><extra></extra>",
         "marker": {
          "color": "rgba(0,0,0,0)",
          "size": 0
         },
         "mode": "markers",
         "showlegend": false,
         "type": "scatter",
         "x": [
          "GA"
         ],
         "y": [
          0
         ]
        },
        {
         "hoverinfo": "text",
         "hovertemplate": "<b>Georgia</b><br>Size: 501-1000<br>Count: 0<br>Percentage: nan%<br><extra></extra>",
         "marker": {
          "color": "rgba(0,0,0,0)",
          "size": 0
         },
         "mode": "markers",
         "showlegend": false,
         "type": "scatter",
         "x": [
          "GA"
         ],
         "y": [
          0
         ]
        },
        {
         "hoverinfo": "text",
         "hovertemplate": "<b>Georgia</b><br>Size: 1001-5000<br>Count: 0<br>Percentage: nan%<br><extra></extra>",
         "marker": {
          "color": "rgba(0,0,0,0)",
          "size": 0
         },
         "mode": "markers",
         "showlegend": false,
         "type": "scatter",
         "x": [
          "GA"
         ],
         "y": [
          0
         ]
        },
        {
         "hoverinfo": "text",
         "hovertemplate": "<b>Georgia</b><br>Size: 5001-10000<br>Count: 0<br>Percentage: nan%<br><extra></extra>",
         "marker": {
          "color": "rgba(0,0,0,0)",
          "size": 0
         },
         "mode": "markers",
         "showlegend": false,
         "type": "scatter",
         "x": [
          "GA"
         ],
         "y": [
          0
         ]
        },
        {
         "hoverinfo": "text",
         "hovertemplate": "<b>Georgia</b><br>Size: 10000+<br>Count: 0<br>Percentage: nan%<br><extra></extra>",
         "marker": {
          "color": "rgba(0,0,0,0)",
          "size": 0
         },
         "mode": "markers",
         "showlegend": false,
         "type": "scatter",
         "x": [
          "GA"
         ],
         "y": [
          0
         ]
        },
        {
         "hoverinfo": "text",
         "hovertemplate": "<b>Guam</b><br>Size: 1-10<br>Count: 0<br>Percentage: nan%<br><extra></extra>",
         "marker": {
          "color": "rgba(0,0,0,0)",
          "size": 0
         },
         "mode": "markers",
         "showlegend": false,
         "type": "scatter",
         "x": [
          ""
         ],
         "y": [
          0
         ]
        },
        {
         "hoverinfo": "text",
         "hovertemplate": "<b>Guam</b><br>Size: 11-50<br>Count: 0<br>Percentage: nan%<br><extra></extra>",
         "marker": {
          "color": "rgba(0,0,0,0)",
          "size": 0
         },
         "mode": "markers",
         "showlegend": false,
         "type": "scatter",
         "x": [
          ""
         ],
         "y": [
          0
         ]
        },
        {
         "hoverinfo": "text",
         "hovertemplate": "<b>Guam</b><br>Size: 51-200<br>Count: 0<br>Percentage: nan%<br><extra></extra>",
         "marker": {
          "color": "rgba(0,0,0,0)",
          "size": 0
         },
         "mode": "markers",
         "showlegend": false,
         "type": "scatter",
         "x": [
          ""
         ],
         "y": [
          0
         ]
        },
        {
         "hoverinfo": "text",
         "hovertemplate": "<b>Guam</b><br>Size: 201-500<br>Count: 0<br>Percentage: nan%<br><extra></extra>",
         "marker": {
          "color": "rgba(0,0,0,0)",
          "size": 0
         },
         "mode": "markers",
         "showlegend": false,
         "type": "scatter",
         "x": [
          ""
         ],
         "y": [
          0
         ]
        },
        {
         "hoverinfo": "text",
         "hovertemplate": "<b>Guam</b><br>Size: 501-1000<br>Count: 0<br>Percentage: nan%<br><extra></extra>",
         "marker": {
          "color": "rgba(0,0,0,0)",
          "size": 0
         },
         "mode": "markers",
         "showlegend": false,
         "type": "scatter",
         "x": [
          ""
         ],
         "y": [
          0
         ]
        },
        {
         "hoverinfo": "text",
         "hovertemplate": "<b>Guam</b><br>Size: 1001-5000<br>Count: 0<br>Percentage: nan%<br><extra></extra>",
         "marker": {
          "color": "rgba(0,0,0,0)",
          "size": 0
         },
         "mode": "markers",
         "showlegend": false,
         "type": "scatter",
         "x": [
          ""
         ],
         "y": [
          0
         ]
        },
        {
         "hoverinfo": "text",
         "hovertemplate": "<b>Guam</b><br>Size: 5001-10000<br>Count: 0<br>Percentage: nan%<br><extra></extra>",
         "marker": {
          "color": "rgba(0,0,0,0)",
          "size": 0
         },
         "mode": "markers",
         "showlegend": false,
         "type": "scatter",
         "x": [
          ""
         ],
         "y": [
          0
         ]
        },
        {
         "hoverinfo": "text",
         "hovertemplate": "<b>Guam</b><br>Size: 10000+<br>Count: 0<br>Percentage: nan%<br><extra></extra>",
         "marker": {
          "color": "rgba(0,0,0,0)",
          "size": 0
         },
         "mode": "markers",
         "showlegend": false,
         "type": "scatter",
         "x": [
          ""
         ],
         "y": [
          0
         ]
        },
        {
         "hoverinfo": "text",
         "hovertemplate": "<b>Hawaii</b><br>Size: 1-10<br>Count: 0<br>Percentage: nan%<br><extra></extra>",
         "marker": {
          "color": "rgba(0,0,0,0)",
          "size": 0
         },
         "mode": "markers",
         "showlegend": false,
         "type": "scatter",
         "x": [
          "HI"
         ],
         "y": [
          0
         ]
        },
        {
         "hoverinfo": "text",
         "hovertemplate": "<b>Hawaii</b><br>Size: 11-50<br>Count: 0<br>Percentage: nan%<br><extra></extra>",
         "marker": {
          "color": "rgba(0,0,0,0)",
          "size": 0
         },
         "mode": "markers",
         "showlegend": false,
         "type": "scatter",
         "x": [
          "HI"
         ],
         "y": [
          0
         ]
        },
        {
         "hoverinfo": "text",
         "hovertemplate": "<b>Hawaii</b><br>Size: 51-200<br>Count: 0<br>Percentage: nan%<br><extra></extra>",
         "marker": {
          "color": "rgba(0,0,0,0)",
          "size": 0
         },
         "mode": "markers",
         "showlegend": false,
         "type": "scatter",
         "x": [
          "HI"
         ],
         "y": [
          0
         ]
        },
        {
         "hoverinfo": "text",
         "hovertemplate": "<b>Hawaii</b><br>Size: 201-500<br>Count: 0<br>Percentage: nan%<br><extra></extra>",
         "marker": {
          "color": "rgba(0,0,0,0)",
          "size": 0
         },
         "mode": "markers",
         "showlegend": false,
         "type": "scatter",
         "x": [
          "HI"
         ],
         "y": [
          0
         ]
        },
        {
         "hoverinfo": "text",
         "hovertemplate": "<b>Hawaii</b><br>Size: 501-1000<br>Count: 0<br>Percentage: nan%<br><extra></extra>",
         "marker": {
          "color": "rgba(0,0,0,0)",
          "size": 0
         },
         "mode": "markers",
         "showlegend": false,
         "type": "scatter",
         "x": [
          "HI"
         ],
         "y": [
          0
         ]
        },
        {
         "hoverinfo": "text",
         "hovertemplate": "<b>Hawaii</b><br>Size: 1001-5000<br>Count: 0<br>Percentage: nan%<br><extra></extra>",
         "marker": {
          "color": "rgba(0,0,0,0)",
          "size": 0
         },
         "mode": "markers",
         "showlegend": false,
         "type": "scatter",
         "x": [
          "HI"
         ],
         "y": [
          0
         ]
        },
        {
         "hoverinfo": "text",
         "hovertemplate": "<b>Hawaii</b><br>Size: 5001-10000<br>Count: 0<br>Percentage: nan%<br><extra></extra>",
         "marker": {
          "color": "rgba(0,0,0,0)",
          "size": 0
         },
         "mode": "markers",
         "showlegend": false,
         "type": "scatter",
         "x": [
          "HI"
         ],
         "y": [
          0
         ]
        },
        {
         "hoverinfo": "text",
         "hovertemplate": "<b>Hawaii</b><br>Size: 10000+<br>Count: 0<br>Percentage: nan%<br><extra></extra>",
         "marker": {
          "color": "rgba(0,0,0,0)",
          "size": 0
         },
         "mode": "markers",
         "showlegend": false,
         "type": "scatter",
         "x": [
          "HI"
         ],
         "y": [
          0
         ]
        },
        {
         "hoverinfo": "text",
         "hovertemplate": "<b>Idaho</b><br>Size: 1-10<br>Count: 0<br>Percentage: nan%<br><extra></extra>",
         "marker": {
          "color": "rgba(0,0,0,0)",
          "size": 0
         },
         "mode": "markers",
         "showlegend": false,
         "type": "scatter",
         "x": [
          "ID"
         ],
         "y": [
          0
         ]
        },
        {
         "hoverinfo": "text",
         "hovertemplate": "<b>Idaho</b><br>Size: 11-50<br>Count: 0<br>Percentage: nan%<br><extra></extra>",
         "marker": {
          "color": "rgba(0,0,0,0)",
          "size": 0
         },
         "mode": "markers",
         "showlegend": false,
         "type": "scatter",
         "x": [
          "ID"
         ],
         "y": [
          0
         ]
        },
        {
         "hoverinfo": "text",
         "hovertemplate": "<b>Idaho</b><br>Size: 51-200<br>Count: 0<br>Percentage: nan%<br><extra></extra>",
         "marker": {
          "color": "rgba(0,0,0,0)",
          "size": 0
         },
         "mode": "markers",
         "showlegend": false,
         "type": "scatter",
         "x": [
          "ID"
         ],
         "y": [
          0
         ]
        },
        {
         "hoverinfo": "text",
         "hovertemplate": "<b>Idaho</b><br>Size: 201-500<br>Count: 0<br>Percentage: nan%<br><extra></extra>",
         "marker": {
          "color": "rgba(0,0,0,0)",
          "size": 0
         },
         "mode": "markers",
         "showlegend": false,
         "type": "scatter",
         "x": [
          "ID"
         ],
         "y": [
          0
         ]
        },
        {
         "hoverinfo": "text",
         "hovertemplate": "<b>Idaho</b><br>Size: 501-1000<br>Count: 0<br>Percentage: nan%<br><extra></extra>",
         "marker": {
          "color": "rgba(0,0,0,0)",
          "size": 0
         },
         "mode": "markers",
         "showlegend": false,
         "type": "scatter",
         "x": [
          "ID"
         ],
         "y": [
          0
         ]
        },
        {
         "hoverinfo": "text",
         "hovertemplate": "<b>Idaho</b><br>Size: 1001-5000<br>Count: 0<br>Percentage: nan%<br><extra></extra>",
         "marker": {
          "color": "rgba(0,0,0,0)",
          "size": 0
         },
         "mode": "markers",
         "showlegend": false,
         "type": "scatter",
         "x": [
          "ID"
         ],
         "y": [
          0
         ]
        },
        {
         "hoverinfo": "text",
         "hovertemplate": "<b>Idaho</b><br>Size: 5001-10000<br>Count: 0<br>Percentage: nan%<br><extra></extra>",
         "marker": {
          "color": "rgba(0,0,0,0)",
          "size": 0
         },
         "mode": "markers",
         "showlegend": false,
         "type": "scatter",
         "x": [
          "ID"
         ],
         "y": [
          0
         ]
        },
        {
         "hoverinfo": "text",
         "hovertemplate": "<b>Idaho</b><br>Size: 10000+<br>Count: 0<br>Percentage: nan%<br><extra></extra>",
         "marker": {
          "color": "rgba(0,0,0,0)",
          "size": 0
         },
         "mode": "markers",
         "showlegend": false,
         "type": "scatter",
         "x": [
          "ID"
         ],
         "y": [
          0
         ]
        },
        {
         "hoverinfo": "text",
         "hovertemplate": "<b>Illinois</b><br>Size: 1-10<br>Count: 0<br>Percentage: nan%<br><extra></extra>",
         "marker": {
          "color": "rgba(0,0,0,0)",
          "size": 0
         },
         "mode": "markers",
         "showlegend": false,
         "type": "scatter",
         "x": [
          "IL"
         ],
         "y": [
          0
         ]
        },
        {
         "hoverinfo": "text",
         "hovertemplate": "<b>Illinois</b><br>Size: 11-50<br>Count: 0<br>Percentage: nan%<br><extra></extra>",
         "marker": {
          "color": "rgba(0,0,0,0)",
          "size": 0
         },
         "mode": "markers",
         "showlegend": false,
         "type": "scatter",
         "x": [
          "IL"
         ],
         "y": [
          0
         ]
        },
        {
         "hoverinfo": "text",
         "hovertemplate": "<b>Illinois</b><br>Size: 51-200<br>Count: 0<br>Percentage: nan%<br><extra></extra>",
         "marker": {
          "color": "rgba(0,0,0,0)",
          "size": 0
         },
         "mode": "markers",
         "showlegend": false,
         "type": "scatter",
         "x": [
          "IL"
         ],
         "y": [
          0
         ]
        },
        {
         "hoverinfo": "text",
         "hovertemplate": "<b>Illinois</b><br>Size: 201-500<br>Count: 0<br>Percentage: nan%<br><extra></extra>",
         "marker": {
          "color": "rgba(0,0,0,0)",
          "size": 0
         },
         "mode": "markers",
         "showlegend": false,
         "type": "scatter",
         "x": [
          "IL"
         ],
         "y": [
          0
         ]
        },
        {
         "hoverinfo": "text",
         "hovertemplate": "<b>Illinois</b><br>Size: 501-1000<br>Count: 0<br>Percentage: nan%<br><extra></extra>",
         "marker": {
          "color": "rgba(0,0,0,0)",
          "size": 0
         },
         "mode": "markers",
         "showlegend": false,
         "type": "scatter",
         "x": [
          "IL"
         ],
         "y": [
          0
         ]
        },
        {
         "hoverinfo": "text",
         "hovertemplate": "<b>Illinois</b><br>Size: 1001-5000<br>Count: 0<br>Percentage: nan%<br><extra></extra>",
         "marker": {
          "color": "rgba(0,0,0,0)",
          "size": 0
         },
         "mode": "markers",
         "showlegend": false,
         "type": "scatter",
         "x": [
          "IL"
         ],
         "y": [
          0
         ]
        },
        {
         "hoverinfo": "text",
         "hovertemplate": "<b>Illinois</b><br>Size: 5001-10000<br>Count: 0<br>Percentage: nan%<br><extra></extra>",
         "marker": {
          "color": "rgba(0,0,0,0)",
          "size": 0
         },
         "mode": "markers",
         "showlegend": false,
         "type": "scatter",
         "x": [
          "IL"
         ],
         "y": [
          0
         ]
        },
        {
         "hoverinfo": "text",
         "hovertemplate": "<b>Illinois</b><br>Size: 10000+<br>Count: 0<br>Percentage: nan%<br><extra></extra>",
         "marker": {
          "color": "rgba(0,0,0,0)",
          "size": 0
         },
         "mode": "markers",
         "showlegend": false,
         "type": "scatter",
         "x": [
          "IL"
         ],
         "y": [
          0
         ]
        },
        {
         "hoverinfo": "text",
         "hovertemplate": "<b>Indiana</b><br>Size: 1-10<br>Count: 0<br>Percentage: nan%<br><extra></extra>",
         "marker": {
          "color": "rgba(0,0,0,0)",
          "size": 0
         },
         "mode": "markers",
         "showlegend": false,
         "type": "scatter",
         "x": [
          "IN"
         ],
         "y": [
          0
         ]
        },
        {
         "hoverinfo": "text",
         "hovertemplate": "<b>Indiana</b><br>Size: 11-50<br>Count: 0<br>Percentage: nan%<br><extra></extra>",
         "marker": {
          "color": "rgba(0,0,0,0)",
          "size": 0
         },
         "mode": "markers",
         "showlegend": false,
         "type": "scatter",
         "x": [
          "IN"
         ],
         "y": [
          0
         ]
        },
        {
         "hoverinfo": "text",
         "hovertemplate": "<b>Indiana</b><br>Size: 51-200<br>Count: 0<br>Percentage: nan%<br><extra></extra>",
         "marker": {
          "color": "rgba(0,0,0,0)",
          "size": 0
         },
         "mode": "markers",
         "showlegend": false,
         "type": "scatter",
         "x": [
          "IN"
         ],
         "y": [
          0
         ]
        },
        {
         "hoverinfo": "text",
         "hovertemplate": "<b>Indiana</b><br>Size: 201-500<br>Count: 0<br>Percentage: nan%<br><extra></extra>",
         "marker": {
          "color": "rgba(0,0,0,0)",
          "size": 0
         },
         "mode": "markers",
         "showlegend": false,
         "type": "scatter",
         "x": [
          "IN"
         ],
         "y": [
          0
         ]
        },
        {
         "hoverinfo": "text",
         "hovertemplate": "<b>Indiana</b><br>Size: 501-1000<br>Count: 0<br>Percentage: nan%<br><extra></extra>",
         "marker": {
          "color": "rgba(0,0,0,0)",
          "size": 0
         },
         "mode": "markers",
         "showlegend": false,
         "type": "scatter",
         "x": [
          "IN"
         ],
         "y": [
          0
         ]
        },
        {
         "hoverinfo": "text",
         "hovertemplate": "<b>Indiana</b><br>Size: 1001-5000<br>Count: 0<br>Percentage: nan%<br><extra></extra>",
         "marker": {
          "color": "rgba(0,0,0,0)",
          "size": 0
         },
         "mode": "markers",
         "showlegend": false,
         "type": "scatter",
         "x": [
          "IN"
         ],
         "y": [
          0
         ]
        },
        {
         "hoverinfo": "text",
         "hovertemplate": "<b>Indiana</b><br>Size: 5001-10000<br>Count: 0<br>Percentage: nan%<br><extra></extra>",
         "marker": {
          "color": "rgba(0,0,0,0)",
          "size": 0
         },
         "mode": "markers",
         "showlegend": false,
         "type": "scatter",
         "x": [
          "IN"
         ],
         "y": [
          0
         ]
        },
        {
         "hoverinfo": "text",
         "hovertemplate": "<b>Indiana</b><br>Size: 10000+<br>Count: 0<br>Percentage: nan%<br><extra></extra>",
         "marker": {
          "color": "rgba(0,0,0,0)",
          "size": 0
         },
         "mode": "markers",
         "showlegend": false,
         "type": "scatter",
         "x": [
          "IN"
         ],
         "y": [
          0
         ]
        },
        {
         "hoverinfo": "text",
         "hovertemplate": "<b>Iowa</b><br>Size: 1-10<br>Count: 0<br>Percentage: nan%<br><extra></extra>",
         "marker": {
          "color": "rgba(0,0,0,0)",
          "size": 0
         },
         "mode": "markers",
         "showlegend": false,
         "type": "scatter",
         "x": [
          "IA"
         ],
         "y": [
          0
         ]
        },
        {
         "hoverinfo": "text",
         "hovertemplate": "<b>Iowa</b><br>Size: 11-50<br>Count: 0<br>Percentage: nan%<br><extra></extra>",
         "marker": {
          "color": "rgba(0,0,0,0)",
          "size": 0
         },
         "mode": "markers",
         "showlegend": false,
         "type": "scatter",
         "x": [
          "IA"
         ],
         "y": [
          0
         ]
        },
        {
         "hoverinfo": "text",
         "hovertemplate": "<b>Iowa</b><br>Size: 51-200<br>Count: 0<br>Percentage: nan%<br><extra></extra>",
         "marker": {
          "color": "rgba(0,0,0,0)",
          "size": 0
         },
         "mode": "markers",
         "showlegend": false,
         "type": "scatter",
         "x": [
          "IA"
         ],
         "y": [
          0
         ]
        },
        {
         "hoverinfo": "text",
         "hovertemplate": "<b>Iowa</b><br>Size: 201-500<br>Count: 0<br>Percentage: nan%<br><extra></extra>",
         "marker": {
          "color": "rgba(0,0,0,0)",
          "size": 0
         },
         "mode": "markers",
         "showlegend": false,
         "type": "scatter",
         "x": [
          "IA"
         ],
         "y": [
          0
         ]
        },
        {
         "hoverinfo": "text",
         "hovertemplate": "<b>Iowa</b><br>Size: 501-1000<br>Count: 0<br>Percentage: nan%<br><extra></extra>",
         "marker": {
          "color": "rgba(0,0,0,0)",
          "size": 0
         },
         "mode": "markers",
         "showlegend": false,
         "type": "scatter",
         "x": [
          "IA"
         ],
         "y": [
          0
         ]
        },
        {
         "hoverinfo": "text",
         "hovertemplate": "<b>Iowa</b><br>Size: 1001-5000<br>Count: 0<br>Percentage: nan%<br><extra></extra>",
         "marker": {
          "color": "rgba(0,0,0,0)",
          "size": 0
         },
         "mode": "markers",
         "showlegend": false,
         "type": "scatter",
         "x": [
          "IA"
         ],
         "y": [
          0
         ]
        },
        {
         "hoverinfo": "text",
         "hovertemplate": "<b>Iowa</b><br>Size: 5001-10000<br>Count: 0<br>Percentage: nan%<br><extra></extra>",
         "marker": {
          "color": "rgba(0,0,0,0)",
          "size": 0
         },
         "mode": "markers",
         "showlegend": false,
         "type": "scatter",
         "x": [
          "IA"
         ],
         "y": [
          0
         ]
        },
        {
         "hoverinfo": "text",
         "hovertemplate": "<b>Iowa</b><br>Size: 10000+<br>Count: 0<br>Percentage: nan%<br><extra></extra>",
         "marker": {
          "color": "rgba(0,0,0,0)",
          "size": 0
         },
         "mode": "markers",
         "showlegend": false,
         "type": "scatter",
         "x": [
          "IA"
         ],
         "y": [
          0
         ]
        },
        {
         "hoverinfo": "text",
         "hovertemplate": "<b>Kansas</b><br>Size: 1-10<br>Count: 0<br>Percentage: nan%<br><extra></extra>",
         "marker": {
          "color": "rgba(0,0,0,0)",
          "size": 0
         },
         "mode": "markers",
         "showlegend": false,
         "type": "scatter",
         "x": [
          "KS"
         ],
         "y": [
          0
         ]
        },
        {
         "hoverinfo": "text",
         "hovertemplate": "<b>Kansas</b><br>Size: 11-50<br>Count: 0<br>Percentage: nan%<br><extra></extra>",
         "marker": {
          "color": "rgba(0,0,0,0)",
          "size": 0
         },
         "mode": "markers",
         "showlegend": false,
         "type": "scatter",
         "x": [
          "KS"
         ],
         "y": [
          0
         ]
        },
        {
         "hoverinfo": "text",
         "hovertemplate": "<b>Kansas</b><br>Size: 51-200<br>Count: 0<br>Percentage: nan%<br><extra></extra>",
         "marker": {
          "color": "rgba(0,0,0,0)",
          "size": 0
         },
         "mode": "markers",
         "showlegend": false,
         "type": "scatter",
         "x": [
          "KS"
         ],
         "y": [
          0
         ]
        },
        {
         "hoverinfo": "text",
         "hovertemplate": "<b>Kansas</b><br>Size: 201-500<br>Count: 0<br>Percentage: nan%<br><extra></extra>",
         "marker": {
          "color": "rgba(0,0,0,0)",
          "size": 0
         },
         "mode": "markers",
         "showlegend": false,
         "type": "scatter",
         "x": [
          "KS"
         ],
         "y": [
          0
         ]
        },
        {
         "hoverinfo": "text",
         "hovertemplate": "<b>Kansas</b><br>Size: 501-1000<br>Count: 0<br>Percentage: nan%<br><extra></extra>",
         "marker": {
          "color": "rgba(0,0,0,0)",
          "size": 0
         },
         "mode": "markers",
         "showlegend": false,
         "type": "scatter",
         "x": [
          "KS"
         ],
         "y": [
          0
         ]
        },
        {
         "hoverinfo": "text",
         "hovertemplate": "<b>Kansas</b><br>Size: 1001-5000<br>Count: 0<br>Percentage: nan%<br><extra></extra>",
         "marker": {
          "color": "rgba(0,0,0,0)",
          "size": 0
         },
         "mode": "markers",
         "showlegend": false,
         "type": "scatter",
         "x": [
          "KS"
         ],
         "y": [
          0
         ]
        },
        {
         "hoverinfo": "text",
         "hovertemplate": "<b>Kansas</b><br>Size: 5001-10000<br>Count: 0<br>Percentage: nan%<br><extra></extra>",
         "marker": {
          "color": "rgba(0,0,0,0)",
          "size": 0
         },
         "mode": "markers",
         "showlegend": false,
         "type": "scatter",
         "x": [
          "KS"
         ],
         "y": [
          0
         ]
        },
        {
         "hoverinfo": "text",
         "hovertemplate": "<b>Kansas</b><br>Size: 10000+<br>Count: 0<br>Percentage: nan%<br><extra></extra>",
         "marker": {
          "color": "rgba(0,0,0,0)",
          "size": 0
         },
         "mode": "markers",
         "showlegend": false,
         "type": "scatter",
         "x": [
          "KS"
         ],
         "y": [
          0
         ]
        },
        {
         "hoverinfo": "text",
         "hovertemplate": "<b>Kentucky</b><br>Size: 1-10<br>Count: 0<br>Percentage: nan%<br><extra></extra>",
         "marker": {
          "color": "rgba(0,0,0,0)",
          "size": 0
         },
         "mode": "markers",
         "showlegend": false,
         "type": "scatter",
         "x": [
          "KY"
         ],
         "y": [
          0
         ]
        },
        {
         "hoverinfo": "text",
         "hovertemplate": "<b>Kentucky</b><br>Size: 11-50<br>Count: 0<br>Percentage: nan%<br><extra></extra>",
         "marker": {
          "color": "rgba(0,0,0,0)",
          "size": 0
         },
         "mode": "markers",
         "showlegend": false,
         "type": "scatter",
         "x": [
          "KY"
         ],
         "y": [
          0
         ]
        },
        {
         "hoverinfo": "text",
         "hovertemplate": "<b>Kentucky</b><br>Size: 51-200<br>Count: 0<br>Percentage: nan%<br><extra></extra>",
         "marker": {
          "color": "rgba(0,0,0,0)",
          "size": 0
         },
         "mode": "markers",
         "showlegend": false,
         "type": "scatter",
         "x": [
          "KY"
         ],
         "y": [
          0
         ]
        },
        {
         "hoverinfo": "text",
         "hovertemplate": "<b>Kentucky</b><br>Size: 201-500<br>Count: 0<br>Percentage: nan%<br><extra></extra>",
         "marker": {
          "color": "rgba(0,0,0,0)",
          "size": 0
         },
         "mode": "markers",
         "showlegend": false,
         "type": "scatter",
         "x": [
          "KY"
         ],
         "y": [
          0
         ]
        },
        {
         "hoverinfo": "text",
         "hovertemplate": "<b>Kentucky</b><br>Size: 501-1000<br>Count: 0<br>Percentage: nan%<br><extra></extra>",
         "marker": {
          "color": "rgba(0,0,0,0)",
          "size": 0
         },
         "mode": "markers",
         "showlegend": false,
         "type": "scatter",
         "x": [
          "KY"
         ],
         "y": [
          0
         ]
        },
        {
         "hoverinfo": "text",
         "hovertemplate": "<b>Kentucky</b><br>Size: 1001-5000<br>Count: 0<br>Percentage: nan%<br><extra></extra>",
         "marker": {
          "color": "rgba(0,0,0,0)",
          "size": 0
         },
         "mode": "markers",
         "showlegend": false,
         "type": "scatter",
         "x": [
          "KY"
         ],
         "y": [
          0
         ]
        },
        {
         "hoverinfo": "text",
         "hovertemplate": "<b>Kentucky</b><br>Size: 5001-10000<br>Count: 0<br>Percentage: nan%<br><extra></extra>",
         "marker": {
          "color": "rgba(0,0,0,0)",
          "size": 0
         },
         "mode": "markers",
         "showlegend": false,
         "type": "scatter",
         "x": [
          "KY"
         ],
         "y": [
          0
         ]
        },
        {
         "hoverinfo": "text",
         "hovertemplate": "<b>Kentucky</b><br>Size: 10000+<br>Count: 0<br>Percentage: nan%<br><extra></extra>",
         "marker": {
          "color": "rgba(0,0,0,0)",
          "size": 0
         },
         "mode": "markers",
         "showlegend": false,
         "type": "scatter",
         "x": [
          "KY"
         ],
         "y": [
          0
         ]
        },
        {
         "hoverinfo": "text",
         "hovertemplate": "<b>Louisiana</b><br>Size: 1-10<br>Count: 0<br>Percentage: nan%<br><extra></extra>",
         "marker": {
          "color": "rgba(0,0,0,0)",
          "size": 0
         },
         "mode": "markers",
         "showlegend": false,
         "type": "scatter",
         "x": [
          "LA"
         ],
         "y": [
          0
         ]
        },
        {
         "hoverinfo": "text",
         "hovertemplate": "<b>Louisiana</b><br>Size: 11-50<br>Count: 0<br>Percentage: nan%<br><extra></extra>",
         "marker": {
          "color": "rgba(0,0,0,0)",
          "size": 0
         },
         "mode": "markers",
         "showlegend": false,
         "type": "scatter",
         "x": [
          "LA"
         ],
         "y": [
          0
         ]
        },
        {
         "hoverinfo": "text",
         "hovertemplate": "<b>Louisiana</b><br>Size: 51-200<br>Count: 0<br>Percentage: nan%<br><extra></extra>",
         "marker": {
          "color": "rgba(0,0,0,0)",
          "size": 0
         },
         "mode": "markers",
         "showlegend": false,
         "type": "scatter",
         "x": [
          "LA"
         ],
         "y": [
          0
         ]
        },
        {
         "hoverinfo": "text",
         "hovertemplate": "<b>Louisiana</b><br>Size: 201-500<br>Count: 0<br>Percentage: nan%<br><extra></extra>",
         "marker": {
          "color": "rgba(0,0,0,0)",
          "size": 0
         },
         "mode": "markers",
         "showlegend": false,
         "type": "scatter",
         "x": [
          "LA"
         ],
         "y": [
          0
         ]
        },
        {
         "hoverinfo": "text",
         "hovertemplate": "<b>Louisiana</b><br>Size: 501-1000<br>Count: 0<br>Percentage: nan%<br><extra></extra>",
         "marker": {
          "color": "rgba(0,0,0,0)",
          "size": 0
         },
         "mode": "markers",
         "showlegend": false,
         "type": "scatter",
         "x": [
          "LA"
         ],
         "y": [
          0
         ]
        },
        {
         "hoverinfo": "text",
         "hovertemplate": "<b>Louisiana</b><br>Size: 1001-5000<br>Count: 0<br>Percentage: nan%<br><extra></extra>",
         "marker": {
          "color": "rgba(0,0,0,0)",
          "size": 0
         },
         "mode": "markers",
         "showlegend": false,
         "type": "scatter",
         "x": [
          "LA"
         ],
         "y": [
          0
         ]
        },
        {
         "hoverinfo": "text",
         "hovertemplate": "<b>Louisiana</b><br>Size: 5001-10000<br>Count: 0<br>Percentage: nan%<br><extra></extra>",
         "marker": {
          "color": "rgba(0,0,0,0)",
          "size": 0
         },
         "mode": "markers",
         "showlegend": false,
         "type": "scatter",
         "x": [
          "LA"
         ],
         "y": [
          0
         ]
        },
        {
         "hoverinfo": "text",
         "hovertemplate": "<b>Louisiana</b><br>Size: 10000+<br>Count: 0<br>Percentage: nan%<br><extra></extra>",
         "marker": {
          "color": "rgba(0,0,0,0)",
          "size": 0
         },
         "mode": "markers",
         "showlegend": false,
         "type": "scatter",
         "x": [
          "LA"
         ],
         "y": [
          0
         ]
        },
        {
         "hoverinfo": "text",
         "hovertemplate": "<b>Maine</b><br>Size: 1-10<br>Count: 0<br>Percentage: nan%<br><extra></extra>",
         "marker": {
          "color": "rgba(0,0,0,0)",
          "size": 0
         },
         "mode": "markers",
         "showlegend": false,
         "type": "scatter",
         "x": [
          "ME"
         ],
         "y": [
          0
         ]
        },
        {
         "hoverinfo": "text",
         "hovertemplate": "<b>Maine</b><br>Size: 11-50<br>Count: 0<br>Percentage: nan%<br><extra></extra>",
         "marker": {
          "color": "rgba(0,0,0,0)",
          "size": 0
         },
         "mode": "markers",
         "showlegend": false,
         "type": "scatter",
         "x": [
          "ME"
         ],
         "y": [
          0
         ]
        },
        {
         "hoverinfo": "text",
         "hovertemplate": "<b>Maine</b><br>Size: 51-200<br>Count: 0<br>Percentage: nan%<br><extra></extra>",
         "marker": {
          "color": "rgba(0,0,0,0)",
          "size": 0
         },
         "mode": "markers",
         "showlegend": false,
         "type": "scatter",
         "x": [
          "ME"
         ],
         "y": [
          0
         ]
        },
        {
         "hoverinfo": "text",
         "hovertemplate": "<b>Maine</b><br>Size: 201-500<br>Count: 0<br>Percentage: nan%<br><extra></extra>",
         "marker": {
          "color": "rgba(0,0,0,0)",
          "size": 0
         },
         "mode": "markers",
         "showlegend": false,
         "type": "scatter",
         "x": [
          "ME"
         ],
         "y": [
          0
         ]
        },
        {
         "hoverinfo": "text",
         "hovertemplate": "<b>Maine</b><br>Size: 501-1000<br>Count: 0<br>Percentage: nan%<br><extra></extra>",
         "marker": {
          "color": "rgba(0,0,0,0)",
          "size": 0
         },
         "mode": "markers",
         "showlegend": false,
         "type": "scatter",
         "x": [
          "ME"
         ],
         "y": [
          0
         ]
        },
        {
         "hoverinfo": "text",
         "hovertemplate": "<b>Maine</b><br>Size: 1001-5000<br>Count: 0<br>Percentage: nan%<br><extra></extra>",
         "marker": {
          "color": "rgba(0,0,0,0)",
          "size": 0
         },
         "mode": "markers",
         "showlegend": false,
         "type": "scatter",
         "x": [
          "ME"
         ],
         "y": [
          0
         ]
        },
        {
         "hoverinfo": "text",
         "hovertemplate": "<b>Maine</b><br>Size: 5001-10000<br>Count: 0<br>Percentage: nan%<br><extra></extra>",
         "marker": {
          "color": "rgba(0,0,0,0)",
          "size": 0
         },
         "mode": "markers",
         "showlegend": false,
         "type": "scatter",
         "x": [
          "ME"
         ],
         "y": [
          0
         ]
        },
        {
         "hoverinfo": "text",
         "hovertemplate": "<b>Maine</b><br>Size: 10000+<br>Count: 0<br>Percentage: nan%<br><extra></extra>",
         "marker": {
          "color": "rgba(0,0,0,0)",
          "size": 0
         },
         "mode": "markers",
         "showlegend": false,
         "type": "scatter",
         "x": [
          "ME"
         ],
         "y": [
          0
         ]
        },
        {
         "hoverinfo": "text",
         "hovertemplate": "<b>Maryland</b><br>Size: 1-10<br>Count: 0<br>Percentage: nan%<br><extra></extra>",
         "marker": {
          "color": "rgba(0,0,0,0)",
          "size": 0
         },
         "mode": "markers",
         "showlegend": false,
         "type": "scatter",
         "x": [
          "MD"
         ],
         "y": [
          0
         ]
        },
        {
         "hoverinfo": "text",
         "hovertemplate": "<b>Maryland</b><br>Size: 11-50<br>Count: 0<br>Percentage: nan%<br><extra></extra>",
         "marker": {
          "color": "rgba(0,0,0,0)",
          "size": 0
         },
         "mode": "markers",
         "showlegend": false,
         "type": "scatter",
         "x": [
          "MD"
         ],
         "y": [
          0
         ]
        },
        {
         "hoverinfo": "text",
         "hovertemplate": "<b>Maryland</b><br>Size: 51-200<br>Count: 0<br>Percentage: nan%<br><extra></extra>",
         "marker": {
          "color": "rgba(0,0,0,0)",
          "size": 0
         },
         "mode": "markers",
         "showlegend": false,
         "type": "scatter",
         "x": [
          "MD"
         ],
         "y": [
          0
         ]
        },
        {
         "hoverinfo": "text",
         "hovertemplate": "<b>Maryland</b><br>Size: 201-500<br>Count: 0<br>Percentage: nan%<br><extra></extra>",
         "marker": {
          "color": "rgba(0,0,0,0)",
          "size": 0
         },
         "mode": "markers",
         "showlegend": false,
         "type": "scatter",
         "x": [
          "MD"
         ],
         "y": [
          0
         ]
        },
        {
         "hoverinfo": "text",
         "hovertemplate": "<b>Maryland</b><br>Size: 501-1000<br>Count: 0<br>Percentage: nan%<br><extra></extra>",
         "marker": {
          "color": "rgba(0,0,0,0)",
          "size": 0
         },
         "mode": "markers",
         "showlegend": false,
         "type": "scatter",
         "x": [
          "MD"
         ],
         "y": [
          0
         ]
        },
        {
         "hoverinfo": "text",
         "hovertemplate": "<b>Maryland</b><br>Size: 1001-5000<br>Count: 0<br>Percentage: nan%<br><extra></extra>",
         "marker": {
          "color": "rgba(0,0,0,0)",
          "size": 0
         },
         "mode": "markers",
         "showlegend": false,
         "type": "scatter",
         "x": [
          "MD"
         ],
         "y": [
          0
         ]
        },
        {
         "hoverinfo": "text",
         "hovertemplate": "<b>Maryland</b><br>Size: 5001-10000<br>Count: 0<br>Percentage: nan%<br><extra></extra>",
         "marker": {
          "color": "rgba(0,0,0,0)",
          "size": 0
         },
         "mode": "markers",
         "showlegend": false,
         "type": "scatter",
         "x": [
          "MD"
         ],
         "y": [
          0
         ]
        },
        {
         "hoverinfo": "text",
         "hovertemplate": "<b>Maryland</b><br>Size: 10000+<br>Count: 0<br>Percentage: nan%<br><extra></extra>",
         "marker": {
          "color": "rgba(0,0,0,0)",
          "size": 0
         },
         "mode": "markers",
         "showlegend": false,
         "type": "scatter",
         "x": [
          "MD"
         ],
         "y": [
          0
         ]
        },
        {
         "hoverinfo": "text",
         "hovertemplate": "<b>Massachusetts</b><br>Size: 1-10<br>Count: 0<br>Percentage: nan%<br><extra></extra>",
         "marker": {
          "color": "rgba(0,0,0,0)",
          "size": 0
         },
         "mode": "markers",
         "showlegend": false,
         "type": "scatter",
         "x": [
          "MA"
         ],
         "y": [
          0
         ]
        },
        {
         "hoverinfo": "text",
         "hovertemplate": "<b>Massachusetts</b><br>Size: 11-50<br>Count: 0<br>Percentage: nan%<br><extra></extra>",
         "marker": {
          "color": "rgba(0,0,0,0)",
          "size": 0
         },
         "mode": "markers",
         "showlegend": false,
         "type": "scatter",
         "x": [
          "MA"
         ],
         "y": [
          0
         ]
        },
        {
         "hoverinfo": "text",
         "hovertemplate": "<b>Massachusetts</b><br>Size: 51-200<br>Count: 0<br>Percentage: nan%<br><extra></extra>",
         "marker": {
          "color": "rgba(0,0,0,0)",
          "size": 0
         },
         "mode": "markers",
         "showlegend": false,
         "type": "scatter",
         "x": [
          "MA"
         ],
         "y": [
          0
         ]
        },
        {
         "hoverinfo": "text",
         "hovertemplate": "<b>Massachusetts</b><br>Size: 201-500<br>Count: 0<br>Percentage: nan%<br><extra></extra>",
         "marker": {
          "color": "rgba(0,0,0,0)",
          "size": 0
         },
         "mode": "markers",
         "showlegend": false,
         "type": "scatter",
         "x": [
          "MA"
         ],
         "y": [
          0
         ]
        },
        {
         "hoverinfo": "text",
         "hovertemplate": "<b>Massachusetts</b><br>Size: 501-1000<br>Count: 0<br>Percentage: nan%<br><extra></extra>",
         "marker": {
          "color": "rgba(0,0,0,0)",
          "size": 0
         },
         "mode": "markers",
         "showlegend": false,
         "type": "scatter",
         "x": [
          "MA"
         ],
         "y": [
          0
         ]
        },
        {
         "hoverinfo": "text",
         "hovertemplate": "<b>Massachusetts</b><br>Size: 1001-5000<br>Count: 0<br>Percentage: nan%<br><extra></extra>",
         "marker": {
          "color": "rgba(0,0,0,0)",
          "size": 0
         },
         "mode": "markers",
         "showlegend": false,
         "type": "scatter",
         "x": [
          "MA"
         ],
         "y": [
          0
         ]
        },
        {
         "hoverinfo": "text",
         "hovertemplate": "<b>Massachusetts</b><br>Size: 5001-10000<br>Count: 0<br>Percentage: nan%<br><extra></extra>",
         "marker": {
          "color": "rgba(0,0,0,0)",
          "size": 0
         },
         "mode": "markers",
         "showlegend": false,
         "type": "scatter",
         "x": [
          "MA"
         ],
         "y": [
          0
         ]
        },
        {
         "hoverinfo": "text",
         "hovertemplate": "<b>Massachusetts</b><br>Size: 10000+<br>Count: 0<br>Percentage: nan%<br><extra></extra>",
         "marker": {
          "color": "rgba(0,0,0,0)",
          "size": 0
         },
         "mode": "markers",
         "showlegend": false,
         "type": "scatter",
         "x": [
          "MA"
         ],
         "y": [
          0
         ]
        },
        {
         "hoverinfo": "text",
         "hovertemplate": "<b>Michigan</b><br>Size: 1-10<br>Count: 0<br>Percentage: nan%<br><extra></extra>",
         "marker": {
          "color": "rgba(0,0,0,0)",
          "size": 0
         },
         "mode": "markers",
         "showlegend": false,
         "type": "scatter",
         "x": [
          "MI"
         ],
         "y": [
          0
         ]
        },
        {
         "hoverinfo": "text",
         "hovertemplate": "<b>Michigan</b><br>Size: 11-50<br>Count: 0<br>Percentage: nan%<br><extra></extra>",
         "marker": {
          "color": "rgba(0,0,0,0)",
          "size": 0
         },
         "mode": "markers",
         "showlegend": false,
         "type": "scatter",
         "x": [
          "MI"
         ],
         "y": [
          0
         ]
        },
        {
         "hoverinfo": "text",
         "hovertemplate": "<b>Michigan</b><br>Size: 51-200<br>Count: 0<br>Percentage: nan%<br><extra></extra>",
         "marker": {
          "color": "rgba(0,0,0,0)",
          "size": 0
         },
         "mode": "markers",
         "showlegend": false,
         "type": "scatter",
         "x": [
          "MI"
         ],
         "y": [
          0
         ]
        },
        {
         "hoverinfo": "text",
         "hovertemplate": "<b>Michigan</b><br>Size: 201-500<br>Count: 0<br>Percentage: nan%<br><extra></extra>",
         "marker": {
          "color": "rgba(0,0,0,0)",
          "size": 0
         },
         "mode": "markers",
         "showlegend": false,
         "type": "scatter",
         "x": [
          "MI"
         ],
         "y": [
          0
         ]
        },
        {
         "hoverinfo": "text",
         "hovertemplate": "<b>Michigan</b><br>Size: 501-1000<br>Count: 0<br>Percentage: nan%<br><extra></extra>",
         "marker": {
          "color": "rgba(0,0,0,0)",
          "size": 0
         },
         "mode": "markers",
         "showlegend": false,
         "type": "scatter",
         "x": [
          "MI"
         ],
         "y": [
          0
         ]
        },
        {
         "hoverinfo": "text",
         "hovertemplate": "<b>Michigan</b><br>Size: 1001-5000<br>Count: 0<br>Percentage: nan%<br><extra></extra>",
         "marker": {
          "color": "rgba(0,0,0,0)",
          "size": 0
         },
         "mode": "markers",
         "showlegend": false,
         "type": "scatter",
         "x": [
          "MI"
         ],
         "y": [
          0
         ]
        },
        {
         "hoverinfo": "text",
         "hovertemplate": "<b>Michigan</b><br>Size: 5001-10000<br>Count: 0<br>Percentage: nan%<br><extra></extra>",
         "marker": {
          "color": "rgba(0,0,0,0)",
          "size": 0
         },
         "mode": "markers",
         "showlegend": false,
         "type": "scatter",
         "x": [
          "MI"
         ],
         "y": [
          0
         ]
        },
        {
         "hoverinfo": "text",
         "hovertemplate": "<b>Michigan</b><br>Size: 10000+<br>Count: 0<br>Percentage: nan%<br><extra></extra>",
         "marker": {
          "color": "rgba(0,0,0,0)",
          "size": 0
         },
         "mode": "markers",
         "showlegend": false,
         "type": "scatter",
         "x": [
          "MI"
         ],
         "y": [
          0
         ]
        },
        {
         "hoverinfo": "text",
         "hovertemplate": "<b>Minnesota</b><br>Size: 1-10<br>Count: 0<br>Percentage: nan%<br><extra></extra>",
         "marker": {
          "color": "rgba(0,0,0,0)",
          "size": 0
         },
         "mode": "markers",
         "showlegend": false,
         "type": "scatter",
         "x": [
          "MN"
         ],
         "y": [
          0
         ]
        },
        {
         "hoverinfo": "text",
         "hovertemplate": "<b>Minnesota</b><br>Size: 11-50<br>Count: 0<br>Percentage: nan%<br><extra></extra>",
         "marker": {
          "color": "rgba(0,0,0,0)",
          "size": 0
         },
         "mode": "markers",
         "showlegend": false,
         "type": "scatter",
         "x": [
          "MN"
         ],
         "y": [
          0
         ]
        },
        {
         "hoverinfo": "text",
         "hovertemplate": "<b>Minnesota</b><br>Size: 51-200<br>Count: 0<br>Percentage: nan%<br><extra></extra>",
         "marker": {
          "color": "rgba(0,0,0,0)",
          "size": 0
         },
         "mode": "markers",
         "showlegend": false,
         "type": "scatter",
         "x": [
          "MN"
         ],
         "y": [
          0
         ]
        },
        {
         "hoverinfo": "text",
         "hovertemplate": "<b>Minnesota</b><br>Size: 201-500<br>Count: 0<br>Percentage: nan%<br><extra></extra>",
         "marker": {
          "color": "rgba(0,0,0,0)",
          "size": 0
         },
         "mode": "markers",
         "showlegend": false,
         "type": "scatter",
         "x": [
          "MN"
         ],
         "y": [
          0
         ]
        },
        {
         "hoverinfo": "text",
         "hovertemplate": "<b>Minnesota</b><br>Size: 501-1000<br>Count: 0<br>Percentage: nan%<br><extra></extra>",
         "marker": {
          "color": "rgba(0,0,0,0)",
          "size": 0
         },
         "mode": "markers",
         "showlegend": false,
         "type": "scatter",
         "x": [
          "MN"
         ],
         "y": [
          0
         ]
        },
        {
         "hoverinfo": "text",
         "hovertemplate": "<b>Minnesota</b><br>Size: 1001-5000<br>Count: 0<br>Percentage: nan%<br><extra></extra>",
         "marker": {
          "color": "rgba(0,0,0,0)",
          "size": 0
         },
         "mode": "markers",
         "showlegend": false,
         "type": "scatter",
         "x": [
          "MN"
         ],
         "y": [
          0
         ]
        },
        {
         "hoverinfo": "text",
         "hovertemplate": "<b>Minnesota</b><br>Size: 5001-10000<br>Count: 0<br>Percentage: nan%<br><extra></extra>",
         "marker": {
          "color": "rgba(0,0,0,0)",
          "size": 0
         },
         "mode": "markers",
         "showlegend": false,
         "type": "scatter",
         "x": [
          "MN"
         ],
         "y": [
          0
         ]
        },
        {
         "hoverinfo": "text",
         "hovertemplate": "<b>Minnesota</b><br>Size: 10000+<br>Count: 0<br>Percentage: nan%<br><extra></extra>",
         "marker": {
          "color": "rgba(0,0,0,0)",
          "size": 0
         },
         "mode": "markers",
         "showlegend": false,
         "type": "scatter",
         "x": [
          "MN"
         ],
         "y": [
          0
         ]
        },
        {
         "hoverinfo": "text",
         "hovertemplate": "<b>Mississippi</b><br>Size: 1-10<br>Count: 0<br>Percentage: nan%<br><extra></extra>",
         "marker": {
          "color": "rgba(0,0,0,0)",
          "size": 0
         },
         "mode": "markers",
         "showlegend": false,
         "type": "scatter",
         "x": [
          "MS"
         ],
         "y": [
          0
         ]
        },
        {
         "hoverinfo": "text",
         "hovertemplate": "<b>Mississippi</b><br>Size: 11-50<br>Count: 0<br>Percentage: nan%<br><extra></extra>",
         "marker": {
          "color": "rgba(0,0,0,0)",
          "size": 0
         },
         "mode": "markers",
         "showlegend": false,
         "type": "scatter",
         "x": [
          "MS"
         ],
         "y": [
          0
         ]
        },
        {
         "hoverinfo": "text",
         "hovertemplate": "<b>Mississippi</b><br>Size: 51-200<br>Count: 0<br>Percentage: nan%<br><extra></extra>",
         "marker": {
          "color": "rgba(0,0,0,0)",
          "size": 0
         },
         "mode": "markers",
         "showlegend": false,
         "type": "scatter",
         "x": [
          "MS"
         ],
         "y": [
          0
         ]
        },
        {
         "hoverinfo": "text",
         "hovertemplate": "<b>Mississippi</b><br>Size: 201-500<br>Count: 0<br>Percentage: nan%<br><extra></extra>",
         "marker": {
          "color": "rgba(0,0,0,0)",
          "size": 0
         },
         "mode": "markers",
         "showlegend": false,
         "type": "scatter",
         "x": [
          "MS"
         ],
         "y": [
          0
         ]
        },
        {
         "hoverinfo": "text",
         "hovertemplate": "<b>Mississippi</b><br>Size: 501-1000<br>Count: 0<br>Percentage: nan%<br><extra></extra>",
         "marker": {
          "color": "rgba(0,0,0,0)",
          "size": 0
         },
         "mode": "markers",
         "showlegend": false,
         "type": "scatter",
         "x": [
          "MS"
         ],
         "y": [
          0
         ]
        },
        {
         "hoverinfo": "text",
         "hovertemplate": "<b>Mississippi</b><br>Size: 1001-5000<br>Count: 0<br>Percentage: nan%<br><extra></extra>",
         "marker": {
          "color": "rgba(0,0,0,0)",
          "size": 0
         },
         "mode": "markers",
         "showlegend": false,
         "type": "scatter",
         "x": [
          "MS"
         ],
         "y": [
          0
         ]
        },
        {
         "hoverinfo": "text",
         "hovertemplate": "<b>Mississippi</b><br>Size: 5001-10000<br>Count: 0<br>Percentage: nan%<br><extra></extra>",
         "marker": {
          "color": "rgba(0,0,0,0)",
          "size": 0
         },
         "mode": "markers",
         "showlegend": false,
         "type": "scatter",
         "x": [
          "MS"
         ],
         "y": [
          0
         ]
        },
        {
         "hoverinfo": "text",
         "hovertemplate": "<b>Mississippi</b><br>Size: 10000+<br>Count: 0<br>Percentage: nan%<br><extra></extra>",
         "marker": {
          "color": "rgba(0,0,0,0)",
          "size": 0
         },
         "mode": "markers",
         "showlegend": false,
         "type": "scatter",
         "x": [
          "MS"
         ],
         "y": [
          0
         ]
        },
        {
         "hoverinfo": "text",
         "hovertemplate": "<b>Missouri</b><br>Size: 1-10<br>Count: 0<br>Percentage: nan%<br><extra></extra>",
         "marker": {
          "color": "rgba(0,0,0,0)",
          "size": 0
         },
         "mode": "markers",
         "showlegend": false,
         "type": "scatter",
         "x": [
          "MO"
         ],
         "y": [
          0
         ]
        },
        {
         "hoverinfo": "text",
         "hovertemplate": "<b>Missouri</b><br>Size: 11-50<br>Count: 0<br>Percentage: nan%<br><extra></extra>",
         "marker": {
          "color": "rgba(0,0,0,0)",
          "size": 0
         },
         "mode": "markers",
         "showlegend": false,
         "type": "scatter",
         "x": [
          "MO"
         ],
         "y": [
          0
         ]
        },
        {
         "hoverinfo": "text",
         "hovertemplate": "<b>Missouri</b><br>Size: 51-200<br>Count: 0<br>Percentage: nan%<br><extra></extra>",
         "marker": {
          "color": "rgba(0,0,0,0)",
          "size": 0
         },
         "mode": "markers",
         "showlegend": false,
         "type": "scatter",
         "x": [
          "MO"
         ],
         "y": [
          0
         ]
        },
        {
         "hoverinfo": "text",
         "hovertemplate": "<b>Missouri</b><br>Size: 201-500<br>Count: 0<br>Percentage: nan%<br><extra></extra>",
         "marker": {
          "color": "rgba(0,0,0,0)",
          "size": 0
         },
         "mode": "markers",
         "showlegend": false,
         "type": "scatter",
         "x": [
          "MO"
         ],
         "y": [
          0
         ]
        },
        {
         "hoverinfo": "text",
         "hovertemplate": "<b>Missouri</b><br>Size: 501-1000<br>Count: 0<br>Percentage: nan%<br><extra></extra>",
         "marker": {
          "color": "rgba(0,0,0,0)",
          "size": 0
         },
         "mode": "markers",
         "showlegend": false,
         "type": "scatter",
         "x": [
          "MO"
         ],
         "y": [
          0
         ]
        },
        {
         "hoverinfo": "text",
         "hovertemplate": "<b>Missouri</b><br>Size: 1001-5000<br>Count: 0<br>Percentage: nan%<br><extra></extra>",
         "marker": {
          "color": "rgba(0,0,0,0)",
          "size": 0
         },
         "mode": "markers",
         "showlegend": false,
         "type": "scatter",
         "x": [
          "MO"
         ],
         "y": [
          0
         ]
        },
        {
         "hoverinfo": "text",
         "hovertemplate": "<b>Missouri</b><br>Size: 5001-10000<br>Count: 0<br>Percentage: nan%<br><extra></extra>",
         "marker": {
          "color": "rgba(0,0,0,0)",
          "size": 0
         },
         "mode": "markers",
         "showlegend": false,
         "type": "scatter",
         "x": [
          "MO"
         ],
         "y": [
          0
         ]
        },
        {
         "hoverinfo": "text",
         "hovertemplate": "<b>Missouri</b><br>Size: 10000+<br>Count: 0<br>Percentage: nan%<br><extra></extra>",
         "marker": {
          "color": "rgba(0,0,0,0)",
          "size": 0
         },
         "mode": "markers",
         "showlegend": false,
         "type": "scatter",
         "x": [
          "MO"
         ],
         "y": [
          0
         ]
        },
        {
         "hoverinfo": "text",
         "hovertemplate": "<b>Montana</b><br>Size: 1-10<br>Count: 0<br>Percentage: nan%<br><extra></extra>",
         "marker": {
          "color": "rgba(0,0,0,0)",
          "size": 0
         },
         "mode": "markers",
         "showlegend": false,
         "type": "scatter",
         "x": [
          "MT"
         ],
         "y": [
          0
         ]
        },
        {
         "hoverinfo": "text",
         "hovertemplate": "<b>Montana</b><br>Size: 11-50<br>Count: 0<br>Percentage: nan%<br><extra></extra>",
         "marker": {
          "color": "rgba(0,0,0,0)",
          "size": 0
         },
         "mode": "markers",
         "showlegend": false,
         "type": "scatter",
         "x": [
          "MT"
         ],
         "y": [
          0
         ]
        },
        {
         "hoverinfo": "text",
         "hovertemplate": "<b>Montana</b><br>Size: 51-200<br>Count: 0<br>Percentage: nan%<br><extra></extra>",
         "marker": {
          "color": "rgba(0,0,0,0)",
          "size": 0
         },
         "mode": "markers",
         "showlegend": false,
         "type": "scatter",
         "x": [
          "MT"
         ],
         "y": [
          0
         ]
        },
        {
         "hoverinfo": "text",
         "hovertemplate": "<b>Montana</b><br>Size: 201-500<br>Count: 0<br>Percentage: nan%<br><extra></extra>",
         "marker": {
          "color": "rgba(0,0,0,0)",
          "size": 0
         },
         "mode": "markers",
         "showlegend": false,
         "type": "scatter",
         "x": [
          "MT"
         ],
         "y": [
          0
         ]
        },
        {
         "hoverinfo": "text",
         "hovertemplate": "<b>Montana</b><br>Size: 501-1000<br>Count: 0<br>Percentage: nan%<br><extra></extra>",
         "marker": {
          "color": "rgba(0,0,0,0)",
          "size": 0
         },
         "mode": "markers",
         "showlegend": false,
         "type": "scatter",
         "x": [
          "MT"
         ],
         "y": [
          0
         ]
        },
        {
         "hoverinfo": "text",
         "hovertemplate": "<b>Montana</b><br>Size: 1001-5000<br>Count: 0<br>Percentage: nan%<br><extra></extra>",
         "marker": {
          "color": "rgba(0,0,0,0)",
          "size": 0
         },
         "mode": "markers",
         "showlegend": false,
         "type": "scatter",
         "x": [
          "MT"
         ],
         "y": [
          0
         ]
        },
        {
         "hoverinfo": "text",
         "hovertemplate": "<b>Montana</b><br>Size: 5001-10000<br>Count: 0<br>Percentage: nan%<br><extra></extra>",
         "marker": {
          "color": "rgba(0,0,0,0)",
          "size": 0
         },
         "mode": "markers",
         "showlegend": false,
         "type": "scatter",
         "x": [
          "MT"
         ],
         "y": [
          0
         ]
        },
        {
         "hoverinfo": "text",
         "hovertemplate": "<b>Montana</b><br>Size: 10000+<br>Count: 0<br>Percentage: nan%<br><extra></extra>",
         "marker": {
          "color": "rgba(0,0,0,0)",
          "size": 0
         },
         "mode": "markers",
         "showlegend": false,
         "type": "scatter",
         "x": [
          "MT"
         ],
         "y": [
          0
         ]
        },
        {
         "hoverinfo": "text",
         "hovertemplate": "<b>Nebraska</b><br>Size: 1-10<br>Count: 0<br>Percentage: nan%<br><extra></extra>",
         "marker": {
          "color": "rgba(0,0,0,0)",
          "size": 0
         },
         "mode": "markers",
         "showlegend": false,
         "type": "scatter",
         "x": [
          "NE"
         ],
         "y": [
          0
         ]
        },
        {
         "hoverinfo": "text",
         "hovertemplate": "<b>Nebraska</b><br>Size: 11-50<br>Count: 0<br>Percentage: nan%<br><extra></extra>",
         "marker": {
          "color": "rgba(0,0,0,0)",
          "size": 0
         },
         "mode": "markers",
         "showlegend": false,
         "type": "scatter",
         "x": [
          "NE"
         ],
         "y": [
          0
         ]
        },
        {
         "hoverinfo": "text",
         "hovertemplate": "<b>Nebraska</b><br>Size: 51-200<br>Count: 0<br>Percentage: nan%<br><extra></extra>",
         "marker": {
          "color": "rgba(0,0,0,0)",
          "size": 0
         },
         "mode": "markers",
         "showlegend": false,
         "type": "scatter",
         "x": [
          "NE"
         ],
         "y": [
          0
         ]
        },
        {
         "hoverinfo": "text",
         "hovertemplate": "<b>Nebraska</b><br>Size: 201-500<br>Count: 0<br>Percentage: nan%<br><extra></extra>",
         "marker": {
          "color": "rgba(0,0,0,0)",
          "size": 0
         },
         "mode": "markers",
         "showlegend": false,
         "type": "scatter",
         "x": [
          "NE"
         ],
         "y": [
          0
         ]
        },
        {
         "hoverinfo": "text",
         "hovertemplate": "<b>Nebraska</b><br>Size: 501-1000<br>Count: 0<br>Percentage: nan%<br><extra></extra>",
         "marker": {
          "color": "rgba(0,0,0,0)",
          "size": 0
         },
         "mode": "markers",
         "showlegend": false,
         "type": "scatter",
         "x": [
          "NE"
         ],
         "y": [
          0
         ]
        },
        {
         "hoverinfo": "text",
         "hovertemplate": "<b>Nebraska</b><br>Size: 1001-5000<br>Count: 0<br>Percentage: nan%<br><extra></extra>",
         "marker": {
          "color": "rgba(0,0,0,0)",
          "size": 0
         },
         "mode": "markers",
         "showlegend": false,
         "type": "scatter",
         "x": [
          "NE"
         ],
         "y": [
          0
         ]
        },
        {
         "hoverinfo": "text",
         "hovertemplate": "<b>Nebraska</b><br>Size: 5001-10000<br>Count: 0<br>Percentage: nan%<br><extra></extra>",
         "marker": {
          "color": "rgba(0,0,0,0)",
          "size": 0
         },
         "mode": "markers",
         "showlegend": false,
         "type": "scatter",
         "x": [
          "NE"
         ],
         "y": [
          0
         ]
        },
        {
         "hoverinfo": "text",
         "hovertemplate": "<b>Nebraska</b><br>Size: 10000+<br>Count: 0<br>Percentage: nan%<br><extra></extra>",
         "marker": {
          "color": "rgba(0,0,0,0)",
          "size": 0
         },
         "mode": "markers",
         "showlegend": false,
         "type": "scatter",
         "x": [
          "NE"
         ],
         "y": [
          0
         ]
        },
        {
         "hoverinfo": "text",
         "hovertemplate": "<b>Nevada</b><br>Size: 1-10<br>Count: 0<br>Percentage: nan%<br><extra></extra>",
         "marker": {
          "color": "rgba(0,0,0,0)",
          "size": 0
         },
         "mode": "markers",
         "showlegend": false,
         "type": "scatter",
         "x": [
          "NV"
         ],
         "y": [
          0
         ]
        },
        {
         "hoverinfo": "text",
         "hovertemplate": "<b>Nevada</b><br>Size: 11-50<br>Count: 0<br>Percentage: nan%<br><extra></extra>",
         "marker": {
          "color": "rgba(0,0,0,0)",
          "size": 0
         },
         "mode": "markers",
         "showlegend": false,
         "type": "scatter",
         "x": [
          "NV"
         ],
         "y": [
          0
         ]
        },
        {
         "hoverinfo": "text",
         "hovertemplate": "<b>Nevada</b><br>Size: 51-200<br>Count: 0<br>Percentage: nan%<br><extra></extra>",
         "marker": {
          "color": "rgba(0,0,0,0)",
          "size": 0
         },
         "mode": "markers",
         "showlegend": false,
         "type": "scatter",
         "x": [
          "NV"
         ],
         "y": [
          0
         ]
        },
        {
         "hoverinfo": "text",
         "hovertemplate": "<b>Nevada</b><br>Size: 201-500<br>Count: 0<br>Percentage: nan%<br><extra></extra>",
         "marker": {
          "color": "rgba(0,0,0,0)",
          "size": 0
         },
         "mode": "markers",
         "showlegend": false,
         "type": "scatter",
         "x": [
          "NV"
         ],
         "y": [
          0
         ]
        },
        {
         "hoverinfo": "text",
         "hovertemplate": "<b>Nevada</b><br>Size: 501-1000<br>Count: 0<br>Percentage: nan%<br><extra></extra>",
         "marker": {
          "color": "rgba(0,0,0,0)",
          "size": 0
         },
         "mode": "markers",
         "showlegend": false,
         "type": "scatter",
         "x": [
          "NV"
         ],
         "y": [
          0
         ]
        },
        {
         "hoverinfo": "text",
         "hovertemplate": "<b>Nevada</b><br>Size: 1001-5000<br>Count: 0<br>Percentage: nan%<br><extra></extra>",
         "marker": {
          "color": "rgba(0,0,0,0)",
          "size": 0
         },
         "mode": "markers",
         "showlegend": false,
         "type": "scatter",
         "x": [
          "NV"
         ],
         "y": [
          0
         ]
        },
        {
         "hoverinfo": "text",
         "hovertemplate": "<b>Nevada</b><br>Size: 5001-10000<br>Count: 0<br>Percentage: nan%<br><extra></extra>",
         "marker": {
          "color": "rgba(0,0,0,0)",
          "size": 0
         },
         "mode": "markers",
         "showlegend": false,
         "type": "scatter",
         "x": [
          "NV"
         ],
         "y": [
          0
         ]
        },
        {
         "hoverinfo": "text",
         "hovertemplate": "<b>Nevada</b><br>Size: 10000+<br>Count: 0<br>Percentage: nan%<br><extra></extra>",
         "marker": {
          "color": "rgba(0,0,0,0)",
          "size": 0
         },
         "mode": "markers",
         "showlegend": false,
         "type": "scatter",
         "x": [
          "NV"
         ],
         "y": [
          0
         ]
        },
        {
         "hoverinfo": "text",
         "hovertemplate": "<b>New Hampshire</b><br>Size: 1-10<br>Count: 0<br>Percentage: nan%<br><extra></extra>",
         "marker": {
          "color": "rgba(0,0,0,0)",
          "size": 0
         },
         "mode": "markers",
         "showlegend": false,
         "type": "scatter",
         "x": [
          "NH"
         ],
         "y": [
          0
         ]
        },
        {
         "hoverinfo": "text",
         "hovertemplate": "<b>New Hampshire</b><br>Size: 11-50<br>Count: 0<br>Percentage: nan%<br><extra></extra>",
         "marker": {
          "color": "rgba(0,0,0,0)",
          "size": 0
         },
         "mode": "markers",
         "showlegend": false,
         "type": "scatter",
         "x": [
          "NH"
         ],
         "y": [
          0
         ]
        },
        {
         "hoverinfo": "text",
         "hovertemplate": "<b>New Hampshire</b><br>Size: 51-200<br>Count: 0<br>Percentage: nan%<br><extra></extra>",
         "marker": {
          "color": "rgba(0,0,0,0)",
          "size": 0
         },
         "mode": "markers",
         "showlegend": false,
         "type": "scatter",
         "x": [
          "NH"
         ],
         "y": [
          0
         ]
        },
        {
         "hoverinfo": "text",
         "hovertemplate": "<b>New Hampshire</b><br>Size: 201-500<br>Count: 0<br>Percentage: nan%<br><extra></extra>",
         "marker": {
          "color": "rgba(0,0,0,0)",
          "size": 0
         },
         "mode": "markers",
         "showlegend": false,
         "type": "scatter",
         "x": [
          "NH"
         ],
         "y": [
          0
         ]
        },
        {
         "hoverinfo": "text",
         "hovertemplate": "<b>New Hampshire</b><br>Size: 501-1000<br>Count: 0<br>Percentage: nan%<br><extra></extra>",
         "marker": {
          "color": "rgba(0,0,0,0)",
          "size": 0
         },
         "mode": "markers",
         "showlegend": false,
         "type": "scatter",
         "x": [
          "NH"
         ],
         "y": [
          0
         ]
        },
        {
         "hoverinfo": "text",
         "hovertemplate": "<b>New Hampshire</b><br>Size: 1001-5000<br>Count: 0<br>Percentage: nan%<br><extra></extra>",
         "marker": {
          "color": "rgba(0,0,0,0)",
          "size": 0
         },
         "mode": "markers",
         "showlegend": false,
         "type": "scatter",
         "x": [
          "NH"
         ],
         "y": [
          0
         ]
        },
        {
         "hoverinfo": "text",
         "hovertemplate": "<b>New Hampshire</b><br>Size: 5001-10000<br>Count: 0<br>Percentage: nan%<br><extra></extra>",
         "marker": {
          "color": "rgba(0,0,0,0)",
          "size": 0
         },
         "mode": "markers",
         "showlegend": false,
         "type": "scatter",
         "x": [
          "NH"
         ],
         "y": [
          0
         ]
        },
        {
         "hoverinfo": "text",
         "hovertemplate": "<b>New Hampshire</b><br>Size: 10000+<br>Count: 0<br>Percentage: nan%<br><extra></extra>",
         "marker": {
          "color": "rgba(0,0,0,0)",
          "size": 0
         },
         "mode": "markers",
         "showlegend": false,
         "type": "scatter",
         "x": [
          "NH"
         ],
         "y": [
          0
         ]
        },
        {
         "hoverinfo": "text",
         "hovertemplate": "<b>New Jersey</b><br>Size: 1-10<br>Count: 0<br>Percentage: nan%<br><extra></extra>",
         "marker": {
          "color": "rgba(0,0,0,0)",
          "size": 0
         },
         "mode": "markers",
         "showlegend": false,
         "type": "scatter",
         "x": [
          "NJ"
         ],
         "y": [
          0
         ]
        },
        {
         "hoverinfo": "text",
         "hovertemplate": "<b>New Jersey</b><br>Size: 11-50<br>Count: 0<br>Percentage: nan%<br><extra></extra>",
         "marker": {
          "color": "rgba(0,0,0,0)",
          "size": 0
         },
         "mode": "markers",
         "showlegend": false,
         "type": "scatter",
         "x": [
          "NJ"
         ],
         "y": [
          0
         ]
        },
        {
         "hoverinfo": "text",
         "hovertemplate": "<b>New Jersey</b><br>Size: 51-200<br>Count: 0<br>Percentage: nan%<br><extra></extra>",
         "marker": {
          "color": "rgba(0,0,0,0)",
          "size": 0
         },
         "mode": "markers",
         "showlegend": false,
         "type": "scatter",
         "x": [
          "NJ"
         ],
         "y": [
          0
         ]
        },
        {
         "hoverinfo": "text",
         "hovertemplate": "<b>New Jersey</b><br>Size: 201-500<br>Count: 0<br>Percentage: nan%<br><extra></extra>",
         "marker": {
          "color": "rgba(0,0,0,0)",
          "size": 0
         },
         "mode": "markers",
         "showlegend": false,
         "type": "scatter",
         "x": [
          "NJ"
         ],
         "y": [
          0
         ]
        },
        {
         "hoverinfo": "text",
         "hovertemplate": "<b>New Jersey</b><br>Size: 501-1000<br>Count: 0<br>Percentage: nan%<br><extra></extra>",
         "marker": {
          "color": "rgba(0,0,0,0)",
          "size": 0
         },
         "mode": "markers",
         "showlegend": false,
         "type": "scatter",
         "x": [
          "NJ"
         ],
         "y": [
          0
         ]
        },
        {
         "hoverinfo": "text",
         "hovertemplate": "<b>New Jersey</b><br>Size: 1001-5000<br>Count: 0<br>Percentage: nan%<br><extra></extra>",
         "marker": {
          "color": "rgba(0,0,0,0)",
          "size": 0
         },
         "mode": "markers",
         "showlegend": false,
         "type": "scatter",
         "x": [
          "NJ"
         ],
         "y": [
          0
         ]
        },
        {
         "hoverinfo": "text",
         "hovertemplate": "<b>New Jersey</b><br>Size: 5001-10000<br>Count: 0<br>Percentage: nan%<br><extra></extra>",
         "marker": {
          "color": "rgba(0,0,0,0)",
          "size": 0
         },
         "mode": "markers",
         "showlegend": false,
         "type": "scatter",
         "x": [
          "NJ"
         ],
         "y": [
          0
         ]
        },
        {
         "hoverinfo": "text",
         "hovertemplate": "<b>New Jersey</b><br>Size: 10000+<br>Count: 0<br>Percentage: nan%<br><extra></extra>",
         "marker": {
          "color": "rgba(0,0,0,0)",
          "size": 0
         },
         "mode": "markers",
         "showlegend": false,
         "type": "scatter",
         "x": [
          "NJ"
         ],
         "y": [
          0
         ]
        },
        {
         "hoverinfo": "text",
         "hovertemplate": "<b>New Mexico</b><br>Size: 1-10<br>Count: 0<br>Percentage: nan%<br><extra></extra>",
         "marker": {
          "color": "rgba(0,0,0,0)",
          "size": 0
         },
         "mode": "markers",
         "showlegend": false,
         "type": "scatter",
         "x": [
          "NM"
         ],
         "y": [
          0
         ]
        },
        {
         "hoverinfo": "text",
         "hovertemplate": "<b>New Mexico</b><br>Size: 11-50<br>Count: 0<br>Percentage: nan%<br><extra></extra>",
         "marker": {
          "color": "rgba(0,0,0,0)",
          "size": 0
         },
         "mode": "markers",
         "showlegend": false,
         "type": "scatter",
         "x": [
          "NM"
         ],
         "y": [
          0
         ]
        },
        {
         "hoverinfo": "text",
         "hovertemplate": "<b>New Mexico</b><br>Size: 51-200<br>Count: 0<br>Percentage: nan%<br><extra></extra>",
         "marker": {
          "color": "rgba(0,0,0,0)",
          "size": 0
         },
         "mode": "markers",
         "showlegend": false,
         "type": "scatter",
         "x": [
          "NM"
         ],
         "y": [
          0
         ]
        },
        {
         "hoverinfo": "text",
         "hovertemplate": "<b>New Mexico</b><br>Size: 201-500<br>Count: 0<br>Percentage: nan%<br><extra></extra>",
         "marker": {
          "color": "rgba(0,0,0,0)",
          "size": 0
         },
         "mode": "markers",
         "showlegend": false,
         "type": "scatter",
         "x": [
          "NM"
         ],
         "y": [
          0
         ]
        },
        {
         "hoverinfo": "text",
         "hovertemplate": "<b>New Mexico</b><br>Size: 501-1000<br>Count: 0<br>Percentage: nan%<br><extra></extra>",
         "marker": {
          "color": "rgba(0,0,0,0)",
          "size": 0
         },
         "mode": "markers",
         "showlegend": false,
         "type": "scatter",
         "x": [
          "NM"
         ],
         "y": [
          0
         ]
        },
        {
         "hoverinfo": "text",
         "hovertemplate": "<b>New Mexico</b><br>Size: 1001-5000<br>Count: 0<br>Percentage: nan%<br><extra></extra>",
         "marker": {
          "color": "rgba(0,0,0,0)",
          "size": 0
         },
         "mode": "markers",
         "showlegend": false,
         "type": "scatter",
         "x": [
          "NM"
         ],
         "y": [
          0
         ]
        },
        {
         "hoverinfo": "text",
         "hovertemplate": "<b>New Mexico</b><br>Size: 5001-10000<br>Count: 0<br>Percentage: nan%<br><extra></extra>",
         "marker": {
          "color": "rgba(0,0,0,0)",
          "size": 0
         },
         "mode": "markers",
         "showlegend": false,
         "type": "scatter",
         "x": [
          "NM"
         ],
         "y": [
          0
         ]
        },
        {
         "hoverinfo": "text",
         "hovertemplate": "<b>New Mexico</b><br>Size: 10000+<br>Count: 0<br>Percentage: nan%<br><extra></extra>",
         "marker": {
          "color": "rgba(0,0,0,0)",
          "size": 0
         },
         "mode": "markers",
         "showlegend": false,
         "type": "scatter",
         "x": [
          "NM"
         ],
         "y": [
          0
         ]
        },
        {
         "hoverinfo": "text",
         "hovertemplate": "<b>New York</b><br>Size: 1-10<br>Count: 0<br>Percentage: nan%<br><extra></extra>",
         "marker": {
          "color": "rgba(0,0,0,0)",
          "size": 0
         },
         "mode": "markers",
         "showlegend": false,
         "type": "scatter",
         "x": [
          "NY"
         ],
         "y": [
          0
         ]
        },
        {
         "hoverinfo": "text",
         "hovertemplate": "<b>New York</b><br>Size: 11-50<br>Count: 0<br>Percentage: nan%<br><extra></extra>",
         "marker": {
          "color": "rgba(0,0,0,0)",
          "size": 0
         },
         "mode": "markers",
         "showlegend": false,
         "type": "scatter",
         "x": [
          "NY"
         ],
         "y": [
          0
         ]
        },
        {
         "hoverinfo": "text",
         "hovertemplate": "<b>New York</b><br>Size: 51-200<br>Count: 0<br>Percentage: nan%<br><extra></extra>",
         "marker": {
          "color": "rgba(0,0,0,0)",
          "size": 0
         },
         "mode": "markers",
         "showlegend": false,
         "type": "scatter",
         "x": [
          "NY"
         ],
         "y": [
          0
         ]
        },
        {
         "hoverinfo": "text",
         "hovertemplate": "<b>New York</b><br>Size: 201-500<br>Count: 0<br>Percentage: nan%<br><extra></extra>",
         "marker": {
          "color": "rgba(0,0,0,0)",
          "size": 0
         },
         "mode": "markers",
         "showlegend": false,
         "type": "scatter",
         "x": [
          "NY"
         ],
         "y": [
          0
         ]
        },
        {
         "hoverinfo": "text",
         "hovertemplate": "<b>New York</b><br>Size: 501-1000<br>Count: 0<br>Percentage: nan%<br><extra></extra>",
         "marker": {
          "color": "rgba(0,0,0,0)",
          "size": 0
         },
         "mode": "markers",
         "showlegend": false,
         "type": "scatter",
         "x": [
          "NY"
         ],
         "y": [
          0
         ]
        },
        {
         "hoverinfo": "text",
         "hovertemplate": "<b>New York</b><br>Size: 1001-5000<br>Count: 0<br>Percentage: nan%<br><extra></extra>",
         "marker": {
          "color": "rgba(0,0,0,0)",
          "size": 0
         },
         "mode": "markers",
         "showlegend": false,
         "type": "scatter",
         "x": [
          "NY"
         ],
         "y": [
          0
         ]
        },
        {
         "hoverinfo": "text",
         "hovertemplate": "<b>New York</b><br>Size: 5001-10000<br>Count: 0<br>Percentage: nan%<br><extra></extra>",
         "marker": {
          "color": "rgba(0,0,0,0)",
          "size": 0
         },
         "mode": "markers",
         "showlegend": false,
         "type": "scatter",
         "x": [
          "NY"
         ],
         "y": [
          0
         ]
        },
        {
         "hoverinfo": "text",
         "hovertemplate": "<b>New York</b><br>Size: 10000+<br>Count: 0<br>Percentage: nan%<br><extra></extra>",
         "marker": {
          "color": "rgba(0,0,0,0)",
          "size": 0
         },
         "mode": "markers",
         "showlegend": false,
         "type": "scatter",
         "x": [
          "NY"
         ],
         "y": [
          0
         ]
        },
        {
         "hoverinfo": "text",
         "hovertemplate": "<b>North Carolina</b><br>Size: 1-10<br>Count: 0<br>Percentage: nan%<br><extra></extra>",
         "marker": {
          "color": "rgba(0,0,0,0)",
          "size": 0
         },
         "mode": "markers",
         "showlegend": false,
         "type": "scatter",
         "x": [
          "NC"
         ],
         "y": [
          0
         ]
        },
        {
         "hoverinfo": "text",
         "hovertemplate": "<b>North Carolina</b><br>Size: 11-50<br>Count: 0<br>Percentage: nan%<br><extra></extra>",
         "marker": {
          "color": "rgba(0,0,0,0)",
          "size": 0
         },
         "mode": "markers",
         "showlegend": false,
         "type": "scatter",
         "x": [
          "NC"
         ],
         "y": [
          0
         ]
        },
        {
         "hoverinfo": "text",
         "hovertemplate": "<b>North Carolina</b><br>Size: 51-200<br>Count: 0<br>Percentage: nan%<br><extra></extra>",
         "marker": {
          "color": "rgba(0,0,0,0)",
          "size": 0
         },
         "mode": "markers",
         "showlegend": false,
         "type": "scatter",
         "x": [
          "NC"
         ],
         "y": [
          0
         ]
        },
        {
         "hoverinfo": "text",
         "hovertemplate": "<b>North Carolina</b><br>Size: 201-500<br>Count: 0<br>Percentage: nan%<br><extra></extra>",
         "marker": {
          "color": "rgba(0,0,0,0)",
          "size": 0
         },
         "mode": "markers",
         "showlegend": false,
         "type": "scatter",
         "x": [
          "NC"
         ],
         "y": [
          0
         ]
        },
        {
         "hoverinfo": "text",
         "hovertemplate": "<b>North Carolina</b><br>Size: 501-1000<br>Count: 0<br>Percentage: nan%<br><extra></extra>",
         "marker": {
          "color": "rgba(0,0,0,0)",
          "size": 0
         },
         "mode": "markers",
         "showlegend": false,
         "type": "scatter",
         "x": [
          "NC"
         ],
         "y": [
          0
         ]
        },
        {
         "hoverinfo": "text",
         "hovertemplate": "<b>North Carolina</b><br>Size: 1001-5000<br>Count: 0<br>Percentage: nan%<br><extra></extra>",
         "marker": {
          "color": "rgba(0,0,0,0)",
          "size": 0
         },
         "mode": "markers",
         "showlegend": false,
         "type": "scatter",
         "x": [
          "NC"
         ],
         "y": [
          0
         ]
        },
        {
         "hoverinfo": "text",
         "hovertemplate": "<b>North Carolina</b><br>Size: 5001-10000<br>Count: 0<br>Percentage: nan%<br><extra></extra>",
         "marker": {
          "color": "rgba(0,0,0,0)",
          "size": 0
         },
         "mode": "markers",
         "showlegend": false,
         "type": "scatter",
         "x": [
          "NC"
         ],
         "y": [
          0
         ]
        },
        {
         "hoverinfo": "text",
         "hovertemplate": "<b>North Carolina</b><br>Size: 10000+<br>Count: 0<br>Percentage: nan%<br><extra></extra>",
         "marker": {
          "color": "rgba(0,0,0,0)",
          "size": 0
         },
         "mode": "markers",
         "showlegend": false,
         "type": "scatter",
         "x": [
          "NC"
         ],
         "y": [
          0
         ]
        },
        {
         "hoverinfo": "text",
         "hovertemplate": "<b>North Dakota</b><br>Size: 1-10<br>Count: 0<br>Percentage: nan%<br><extra></extra>",
         "marker": {
          "color": "rgba(0,0,0,0)",
          "size": 0
         },
         "mode": "markers",
         "showlegend": false,
         "type": "scatter",
         "x": [
          "ND"
         ],
         "y": [
          0
         ]
        },
        {
         "hoverinfo": "text",
         "hovertemplate": "<b>North Dakota</b><br>Size: 11-50<br>Count: 0<br>Percentage: nan%<br><extra></extra>",
         "marker": {
          "color": "rgba(0,0,0,0)",
          "size": 0
         },
         "mode": "markers",
         "showlegend": false,
         "type": "scatter",
         "x": [
          "ND"
         ],
         "y": [
          0
         ]
        },
        {
         "hoverinfo": "text",
         "hovertemplate": "<b>North Dakota</b><br>Size: 51-200<br>Count: 0<br>Percentage: nan%<br><extra></extra>",
         "marker": {
          "color": "rgba(0,0,0,0)",
          "size": 0
         },
         "mode": "markers",
         "showlegend": false,
         "type": "scatter",
         "x": [
          "ND"
         ],
         "y": [
          0
         ]
        },
        {
         "hoverinfo": "text",
         "hovertemplate": "<b>North Dakota</b><br>Size: 201-500<br>Count: 0<br>Percentage: nan%<br><extra></extra>",
         "marker": {
          "color": "rgba(0,0,0,0)",
          "size": 0
         },
         "mode": "markers",
         "showlegend": false,
         "type": "scatter",
         "x": [
          "ND"
         ],
         "y": [
          0
         ]
        },
        {
         "hoverinfo": "text",
         "hovertemplate": "<b>North Dakota</b><br>Size: 501-1000<br>Count: 0<br>Percentage: nan%<br><extra></extra>",
         "marker": {
          "color": "rgba(0,0,0,0)",
          "size": 0
         },
         "mode": "markers",
         "showlegend": false,
         "type": "scatter",
         "x": [
          "ND"
         ],
         "y": [
          0
         ]
        },
        {
         "hoverinfo": "text",
         "hovertemplate": "<b>North Dakota</b><br>Size: 1001-5000<br>Count: 0<br>Percentage: nan%<br><extra></extra>",
         "marker": {
          "color": "rgba(0,0,0,0)",
          "size": 0
         },
         "mode": "markers",
         "showlegend": false,
         "type": "scatter",
         "x": [
          "ND"
         ],
         "y": [
          0
         ]
        },
        {
         "hoverinfo": "text",
         "hovertemplate": "<b>North Dakota</b><br>Size: 5001-10000<br>Count: 0<br>Percentage: nan%<br><extra></extra>",
         "marker": {
          "color": "rgba(0,0,0,0)",
          "size": 0
         },
         "mode": "markers",
         "showlegend": false,
         "type": "scatter",
         "x": [
          "ND"
         ],
         "y": [
          0
         ]
        },
        {
         "hoverinfo": "text",
         "hovertemplate": "<b>North Dakota</b><br>Size: 10000+<br>Count: 0<br>Percentage: nan%<br><extra></extra>",
         "marker": {
          "color": "rgba(0,0,0,0)",
          "size": 0
         },
         "mode": "markers",
         "showlegend": false,
         "type": "scatter",
         "x": [
          "ND"
         ],
         "y": [
          0
         ]
        },
        {
         "hoverinfo": "text",
         "hovertemplate": "<b>Ohio</b><br>Size: 1-10<br>Count: 0<br>Percentage: nan%<br><extra></extra>",
         "marker": {
          "color": "rgba(0,0,0,0)",
          "size": 0
         },
         "mode": "markers",
         "showlegend": false,
         "type": "scatter",
         "x": [
          "OH"
         ],
         "y": [
          0
         ]
        },
        {
         "hoverinfo": "text",
         "hovertemplate": "<b>Ohio</b><br>Size: 11-50<br>Count: 0<br>Percentage: nan%<br><extra></extra>",
         "marker": {
          "color": "rgba(0,0,0,0)",
          "size": 0
         },
         "mode": "markers",
         "showlegend": false,
         "type": "scatter",
         "x": [
          "OH"
         ],
         "y": [
          0
         ]
        },
        {
         "hoverinfo": "text",
         "hovertemplate": "<b>Ohio</b><br>Size: 51-200<br>Count: 0<br>Percentage: nan%<br><extra></extra>",
         "marker": {
          "color": "rgba(0,0,0,0)",
          "size": 0
         },
         "mode": "markers",
         "showlegend": false,
         "type": "scatter",
         "x": [
          "OH"
         ],
         "y": [
          0
         ]
        },
        {
         "hoverinfo": "text",
         "hovertemplate": "<b>Ohio</b><br>Size: 201-500<br>Count: 0<br>Percentage: nan%<br><extra></extra>",
         "marker": {
          "color": "rgba(0,0,0,0)",
          "size": 0
         },
         "mode": "markers",
         "showlegend": false,
         "type": "scatter",
         "x": [
          "OH"
         ],
         "y": [
          0
         ]
        },
        {
         "hoverinfo": "text",
         "hovertemplate": "<b>Ohio</b><br>Size: 501-1000<br>Count: 0<br>Percentage: nan%<br><extra></extra>",
         "marker": {
          "color": "rgba(0,0,0,0)",
          "size": 0
         },
         "mode": "markers",
         "showlegend": false,
         "type": "scatter",
         "x": [
          "OH"
         ],
         "y": [
          0
         ]
        },
        {
         "hoverinfo": "text",
         "hovertemplate": "<b>Ohio</b><br>Size: 1001-5000<br>Count: 0<br>Percentage: nan%<br><extra></extra>",
         "marker": {
          "color": "rgba(0,0,0,0)",
          "size": 0
         },
         "mode": "markers",
         "showlegend": false,
         "type": "scatter",
         "x": [
          "OH"
         ],
         "y": [
          0
         ]
        },
        {
         "hoverinfo": "text",
         "hovertemplate": "<b>Ohio</b><br>Size: 5001-10000<br>Count: 0<br>Percentage: nan%<br><extra></extra>",
         "marker": {
          "color": "rgba(0,0,0,0)",
          "size": 0
         },
         "mode": "markers",
         "showlegend": false,
         "type": "scatter",
         "x": [
          "OH"
         ],
         "y": [
          0
         ]
        },
        {
         "hoverinfo": "text",
         "hovertemplate": "<b>Ohio</b><br>Size: 10000+<br>Count: 0<br>Percentage: nan%<br><extra></extra>",
         "marker": {
          "color": "rgba(0,0,0,0)",
          "size": 0
         },
         "mode": "markers",
         "showlegend": false,
         "type": "scatter",
         "x": [
          "OH"
         ],
         "y": [
          0
         ]
        },
        {
         "hoverinfo": "text",
         "hovertemplate": "<b>Oklahoma</b><br>Size: 1-10<br>Count: 0<br>Percentage: nan%<br><extra></extra>",
         "marker": {
          "color": "rgba(0,0,0,0)",
          "size": 0
         },
         "mode": "markers",
         "showlegend": false,
         "type": "scatter",
         "x": [
          "OK"
         ],
         "y": [
          0
         ]
        },
        {
         "hoverinfo": "text",
         "hovertemplate": "<b>Oklahoma</b><br>Size: 11-50<br>Count: 0<br>Percentage: nan%<br><extra></extra>",
         "marker": {
          "color": "rgba(0,0,0,0)",
          "size": 0
         },
         "mode": "markers",
         "showlegend": false,
         "type": "scatter",
         "x": [
          "OK"
         ],
         "y": [
          0
         ]
        },
        {
         "hoverinfo": "text",
         "hovertemplate": "<b>Oklahoma</b><br>Size: 51-200<br>Count: 0<br>Percentage: nan%<br><extra></extra>",
         "marker": {
          "color": "rgba(0,0,0,0)",
          "size": 0
         },
         "mode": "markers",
         "showlegend": false,
         "type": "scatter",
         "x": [
          "OK"
         ],
         "y": [
          0
         ]
        },
        {
         "hoverinfo": "text",
         "hovertemplate": "<b>Oklahoma</b><br>Size: 201-500<br>Count: 0<br>Percentage: nan%<br><extra></extra>",
         "marker": {
          "color": "rgba(0,0,0,0)",
          "size": 0
         },
         "mode": "markers",
         "showlegend": false,
         "type": "scatter",
         "x": [
          "OK"
         ],
         "y": [
          0
         ]
        },
        {
         "hoverinfo": "text",
         "hovertemplate": "<b>Oklahoma</b><br>Size: 501-1000<br>Count: 0<br>Percentage: nan%<br><extra></extra>",
         "marker": {
          "color": "rgba(0,0,0,0)",
          "size": 0
         },
         "mode": "markers",
         "showlegend": false,
         "type": "scatter",
         "x": [
          "OK"
         ],
         "y": [
          0
         ]
        },
        {
         "hoverinfo": "text",
         "hovertemplate": "<b>Oklahoma</b><br>Size: 1001-5000<br>Count: 0<br>Percentage: nan%<br><extra></extra>",
         "marker": {
          "color": "rgba(0,0,0,0)",
          "size": 0
         },
         "mode": "markers",
         "showlegend": false,
         "type": "scatter",
         "x": [
          "OK"
         ],
         "y": [
          0
         ]
        },
        {
         "hoverinfo": "text",
         "hovertemplate": "<b>Oklahoma</b><br>Size: 5001-10000<br>Count: 0<br>Percentage: nan%<br><extra></extra>",
         "marker": {
          "color": "rgba(0,0,0,0)",
          "size": 0
         },
         "mode": "markers",
         "showlegend": false,
         "type": "scatter",
         "x": [
          "OK"
         ],
         "y": [
          0
         ]
        },
        {
         "hoverinfo": "text",
         "hovertemplate": "<b>Oklahoma</b><br>Size: 10000+<br>Count: 0<br>Percentage: nan%<br><extra></extra>",
         "marker": {
          "color": "rgba(0,0,0,0)",
          "size": 0
         },
         "mode": "markers",
         "showlegend": false,
         "type": "scatter",
         "x": [
          "OK"
         ],
         "y": [
          0
         ]
        },
        {
         "hoverinfo": "text",
         "hovertemplate": "<b>Oregon</b><br>Size: 1-10<br>Count: 0<br>Percentage: nan%<br><extra></extra>",
         "marker": {
          "color": "rgba(0,0,0,0)",
          "size": 0
         },
         "mode": "markers",
         "showlegend": false,
         "type": "scatter",
         "x": [
          "OR"
         ],
         "y": [
          0
         ]
        },
        {
         "hoverinfo": "text",
         "hovertemplate": "<b>Oregon</b><br>Size: 11-50<br>Count: 0<br>Percentage: nan%<br><extra></extra>",
         "marker": {
          "color": "rgba(0,0,0,0)",
          "size": 0
         },
         "mode": "markers",
         "showlegend": false,
         "type": "scatter",
         "x": [
          "OR"
         ],
         "y": [
          0
         ]
        },
        {
         "hoverinfo": "text",
         "hovertemplate": "<b>Oregon</b><br>Size: 51-200<br>Count: 0<br>Percentage: nan%<br><extra></extra>",
         "marker": {
          "color": "rgba(0,0,0,0)",
          "size": 0
         },
         "mode": "markers",
         "showlegend": false,
         "type": "scatter",
         "x": [
          "OR"
         ],
         "y": [
          0
         ]
        },
        {
         "hoverinfo": "text",
         "hovertemplate": "<b>Oregon</b><br>Size: 201-500<br>Count: 0<br>Percentage: nan%<br><extra></extra>",
         "marker": {
          "color": "rgba(0,0,0,0)",
          "size": 0
         },
         "mode": "markers",
         "showlegend": false,
         "type": "scatter",
         "x": [
          "OR"
         ],
         "y": [
          0
         ]
        },
        {
         "hoverinfo": "text",
         "hovertemplate": "<b>Oregon</b><br>Size: 501-1000<br>Count: 0<br>Percentage: nan%<br><extra></extra>",
         "marker": {
          "color": "rgba(0,0,0,0)",
          "size": 0
         },
         "mode": "markers",
         "showlegend": false,
         "type": "scatter",
         "x": [
          "OR"
         ],
         "y": [
          0
         ]
        },
        {
         "hoverinfo": "text",
         "hovertemplate": "<b>Oregon</b><br>Size: 1001-5000<br>Count: 0<br>Percentage: nan%<br><extra></extra>",
         "marker": {
          "color": "rgba(0,0,0,0)",
          "size": 0
         },
         "mode": "markers",
         "showlegend": false,
         "type": "scatter",
         "x": [
          "OR"
         ],
         "y": [
          0
         ]
        },
        {
         "hoverinfo": "text",
         "hovertemplate": "<b>Oregon</b><br>Size: 5001-10000<br>Count: 0<br>Percentage: nan%<br><extra></extra>",
         "marker": {
          "color": "rgba(0,0,0,0)",
          "size": 0
         },
         "mode": "markers",
         "showlegend": false,
         "type": "scatter",
         "x": [
          "OR"
         ],
         "y": [
          0
         ]
        },
        {
         "hoverinfo": "text",
         "hovertemplate": "<b>Oregon</b><br>Size: 10000+<br>Count: 0<br>Percentage: nan%<br><extra></extra>",
         "marker": {
          "color": "rgba(0,0,0,0)",
          "size": 0
         },
         "mode": "markers",
         "showlegend": false,
         "type": "scatter",
         "x": [
          "OR"
         ],
         "y": [
          0
         ]
        },
        {
         "hoverinfo": "text",
         "hovertemplate": "<b>Pennsylvania</b><br>Size: 1-10<br>Count: 0<br>Percentage: nan%<br><extra></extra>",
         "marker": {
          "color": "rgba(0,0,0,0)",
          "size": 0
         },
         "mode": "markers",
         "showlegend": false,
         "type": "scatter",
         "x": [
          "PA"
         ],
         "y": [
          0
         ]
        },
        {
         "hoverinfo": "text",
         "hovertemplate": "<b>Pennsylvania</b><br>Size: 11-50<br>Count: 0<br>Percentage: nan%<br><extra></extra>",
         "marker": {
          "color": "rgba(0,0,0,0)",
          "size": 0
         },
         "mode": "markers",
         "showlegend": false,
         "type": "scatter",
         "x": [
          "PA"
         ],
         "y": [
          0
         ]
        },
        {
         "hoverinfo": "text",
         "hovertemplate": "<b>Pennsylvania</b><br>Size: 51-200<br>Count: 0<br>Percentage: nan%<br><extra></extra>",
         "marker": {
          "color": "rgba(0,0,0,0)",
          "size": 0
         },
         "mode": "markers",
         "showlegend": false,
         "type": "scatter",
         "x": [
          "PA"
         ],
         "y": [
          0
         ]
        },
        {
         "hoverinfo": "text",
         "hovertemplate": "<b>Pennsylvania</b><br>Size: 201-500<br>Count: 0<br>Percentage: nan%<br><extra></extra>",
         "marker": {
          "color": "rgba(0,0,0,0)",
          "size": 0
         },
         "mode": "markers",
         "showlegend": false,
         "type": "scatter",
         "x": [
          "PA"
         ],
         "y": [
          0
         ]
        },
        {
         "hoverinfo": "text",
         "hovertemplate": "<b>Pennsylvania</b><br>Size: 501-1000<br>Count: 0<br>Percentage: nan%<br><extra></extra>",
         "marker": {
          "color": "rgba(0,0,0,0)",
          "size": 0
         },
         "mode": "markers",
         "showlegend": false,
         "type": "scatter",
         "x": [
          "PA"
         ],
         "y": [
          0
         ]
        },
        {
         "hoverinfo": "text",
         "hovertemplate": "<b>Pennsylvania</b><br>Size: 1001-5000<br>Count: 0<br>Percentage: nan%<br><extra></extra>",
         "marker": {
          "color": "rgba(0,0,0,0)",
          "size": 0
         },
         "mode": "markers",
         "showlegend": false,
         "type": "scatter",
         "x": [
          "PA"
         ],
         "y": [
          0
         ]
        },
        {
         "hoverinfo": "text",
         "hovertemplate": "<b>Pennsylvania</b><br>Size: 5001-10000<br>Count: 0<br>Percentage: nan%<br><extra></extra>",
         "marker": {
          "color": "rgba(0,0,0,0)",
          "size": 0
         },
         "mode": "markers",
         "showlegend": false,
         "type": "scatter",
         "x": [
          "PA"
         ],
         "y": [
          0
         ]
        },
        {
         "hoverinfo": "text",
         "hovertemplate": "<b>Pennsylvania</b><br>Size: 10000+<br>Count: 0<br>Percentage: nan%<br><extra></extra>",
         "marker": {
          "color": "rgba(0,0,0,0)",
          "size": 0
         },
         "mode": "markers",
         "showlegend": false,
         "type": "scatter",
         "x": [
          "PA"
         ],
         "y": [
          0
         ]
        },
        {
         "hoverinfo": "text",
         "hovertemplate": "<b>Rhode Island</b><br>Size: 1-10<br>Count: 0<br>Percentage: nan%<br><extra></extra>",
         "marker": {
          "color": "rgba(0,0,0,0)",
          "size": 0
         },
         "mode": "markers",
         "showlegend": false,
         "type": "scatter",
         "x": [
          "RI"
         ],
         "y": [
          0
         ]
        },
        {
         "hoverinfo": "text",
         "hovertemplate": "<b>Rhode Island</b><br>Size: 11-50<br>Count: 0<br>Percentage: nan%<br><extra></extra>",
         "marker": {
          "color": "rgba(0,0,0,0)",
          "size": 0
         },
         "mode": "markers",
         "showlegend": false,
         "type": "scatter",
         "x": [
          "RI"
         ],
         "y": [
          0
         ]
        },
        {
         "hoverinfo": "text",
         "hovertemplate": "<b>Rhode Island</b><br>Size: 51-200<br>Count: 0<br>Percentage: nan%<br><extra></extra>",
         "marker": {
          "color": "rgba(0,0,0,0)",
          "size": 0
         },
         "mode": "markers",
         "showlegend": false,
         "type": "scatter",
         "x": [
          "RI"
         ],
         "y": [
          0
         ]
        },
        {
         "hoverinfo": "text",
         "hovertemplate": "<b>Rhode Island</b><br>Size: 201-500<br>Count: 0<br>Percentage: nan%<br><extra></extra>",
         "marker": {
          "color": "rgba(0,0,0,0)",
          "size": 0
         },
         "mode": "markers",
         "showlegend": false,
         "type": "scatter",
         "x": [
          "RI"
         ],
         "y": [
          0
         ]
        },
        {
         "hoverinfo": "text",
         "hovertemplate": "<b>Rhode Island</b><br>Size: 501-1000<br>Count: 0<br>Percentage: nan%<br><extra></extra>",
         "marker": {
          "color": "rgba(0,0,0,0)",
          "size": 0
         },
         "mode": "markers",
         "showlegend": false,
         "type": "scatter",
         "x": [
          "RI"
         ],
         "y": [
          0
         ]
        },
        {
         "hoverinfo": "text",
         "hovertemplate": "<b>Rhode Island</b><br>Size: 1001-5000<br>Count: 0<br>Percentage: nan%<br><extra></extra>",
         "marker": {
          "color": "rgba(0,0,0,0)",
          "size": 0
         },
         "mode": "markers",
         "showlegend": false,
         "type": "scatter",
         "x": [
          "RI"
         ],
         "y": [
          0
         ]
        },
        {
         "hoverinfo": "text",
         "hovertemplate": "<b>Rhode Island</b><br>Size: 5001-10000<br>Count: 0<br>Percentage: nan%<br><extra></extra>",
         "marker": {
          "color": "rgba(0,0,0,0)",
          "size": 0
         },
         "mode": "markers",
         "showlegend": false,
         "type": "scatter",
         "x": [
          "RI"
         ],
         "y": [
          0
         ]
        },
        {
         "hoverinfo": "text",
         "hovertemplate": "<b>Rhode Island</b><br>Size: 10000+<br>Count: 0<br>Percentage: nan%<br><extra></extra>",
         "marker": {
          "color": "rgba(0,0,0,0)",
          "size": 0
         },
         "mode": "markers",
         "showlegend": false,
         "type": "scatter",
         "x": [
          "RI"
         ],
         "y": [
          0
         ]
        },
        {
         "hoverinfo": "text",
         "hovertemplate": "<b>South Carolina</b><br>Size: 1-10<br>Count: 0<br>Percentage: nan%<br><extra></extra>",
         "marker": {
          "color": "rgba(0,0,0,0)",
          "size": 0
         },
         "mode": "markers",
         "showlegend": false,
         "type": "scatter",
         "x": [
          "SC"
         ],
         "y": [
          0
         ]
        },
        {
         "hoverinfo": "text",
         "hovertemplate": "<b>South Carolina</b><br>Size: 11-50<br>Count: 0<br>Percentage: nan%<br><extra></extra>",
         "marker": {
          "color": "rgba(0,0,0,0)",
          "size": 0
         },
         "mode": "markers",
         "showlegend": false,
         "type": "scatter",
         "x": [
          "SC"
         ],
         "y": [
          0
         ]
        },
        {
         "hoverinfo": "text",
         "hovertemplate": "<b>South Carolina</b><br>Size: 51-200<br>Count: 0<br>Percentage: nan%<br><extra></extra>",
         "marker": {
          "color": "rgba(0,0,0,0)",
          "size": 0
         },
         "mode": "markers",
         "showlegend": false,
         "type": "scatter",
         "x": [
          "SC"
         ],
         "y": [
          0
         ]
        },
        {
         "hoverinfo": "text",
         "hovertemplate": "<b>South Carolina</b><br>Size: 201-500<br>Count: 0<br>Percentage: nan%<br><extra></extra>",
         "marker": {
          "color": "rgba(0,0,0,0)",
          "size": 0
         },
         "mode": "markers",
         "showlegend": false,
         "type": "scatter",
         "x": [
          "SC"
         ],
         "y": [
          0
         ]
        },
        {
         "hoverinfo": "text",
         "hovertemplate": "<b>South Carolina</b><br>Size: 501-1000<br>Count: 0<br>Percentage: nan%<br><extra></extra>",
         "marker": {
          "color": "rgba(0,0,0,0)",
          "size": 0
         },
         "mode": "markers",
         "showlegend": false,
         "type": "scatter",
         "x": [
          "SC"
         ],
         "y": [
          0
         ]
        },
        {
         "hoverinfo": "text",
         "hovertemplate": "<b>South Carolina</b><br>Size: 1001-5000<br>Count: 0<br>Percentage: nan%<br><extra></extra>",
         "marker": {
          "color": "rgba(0,0,0,0)",
          "size": 0
         },
         "mode": "markers",
         "showlegend": false,
         "type": "scatter",
         "x": [
          "SC"
         ],
         "y": [
          0
         ]
        },
        {
         "hoverinfo": "text",
         "hovertemplate": "<b>South Carolina</b><br>Size: 5001-10000<br>Count: 0<br>Percentage: nan%<br><extra></extra>",
         "marker": {
          "color": "rgba(0,0,0,0)",
          "size": 0
         },
         "mode": "markers",
         "showlegend": false,
         "type": "scatter",
         "x": [
          "SC"
         ],
         "y": [
          0
         ]
        },
        {
         "hoverinfo": "text",
         "hovertemplate": "<b>South Carolina</b><br>Size: 10000+<br>Count: 0<br>Percentage: nan%<br><extra></extra>",
         "marker": {
          "color": "rgba(0,0,0,0)",
          "size": 0
         },
         "mode": "markers",
         "showlegend": false,
         "type": "scatter",
         "x": [
          "SC"
         ],
         "y": [
          0
         ]
        },
        {
         "hoverinfo": "text",
         "hovertemplate": "<b>South Dakota</b><br>Size: 1-10<br>Count: 0<br>Percentage: nan%<br><extra></extra>",
         "marker": {
          "color": "rgba(0,0,0,0)",
          "size": 0
         },
         "mode": "markers",
         "showlegend": false,
         "type": "scatter",
         "x": [
          "SD"
         ],
         "y": [
          0
         ]
        },
        {
         "hoverinfo": "text",
         "hovertemplate": "<b>South Dakota</b><br>Size: 11-50<br>Count: 0<br>Percentage: nan%<br><extra></extra>",
         "marker": {
          "color": "rgba(0,0,0,0)",
          "size": 0
         },
         "mode": "markers",
         "showlegend": false,
         "type": "scatter",
         "x": [
          "SD"
         ],
         "y": [
          0
         ]
        },
        {
         "hoverinfo": "text",
         "hovertemplate": "<b>South Dakota</b><br>Size: 51-200<br>Count: 0<br>Percentage: nan%<br><extra></extra>",
         "marker": {
          "color": "rgba(0,0,0,0)",
          "size": 0
         },
         "mode": "markers",
         "showlegend": false,
         "type": "scatter",
         "x": [
          "SD"
         ],
         "y": [
          0
         ]
        },
        {
         "hoverinfo": "text",
         "hovertemplate": "<b>South Dakota</b><br>Size: 201-500<br>Count: 0<br>Percentage: nan%<br><extra></extra>",
         "marker": {
          "color": "rgba(0,0,0,0)",
          "size": 0
         },
         "mode": "markers",
         "showlegend": false,
         "type": "scatter",
         "x": [
          "SD"
         ],
         "y": [
          0
         ]
        },
        {
         "hoverinfo": "text",
         "hovertemplate": "<b>South Dakota</b><br>Size: 501-1000<br>Count: 0<br>Percentage: nan%<br><extra></extra>",
         "marker": {
          "color": "rgba(0,0,0,0)",
          "size": 0
         },
         "mode": "markers",
         "showlegend": false,
         "type": "scatter",
         "x": [
          "SD"
         ],
         "y": [
          0
         ]
        },
        {
         "hoverinfo": "text",
         "hovertemplate": "<b>South Dakota</b><br>Size: 1001-5000<br>Count: 0<br>Percentage: nan%<br><extra></extra>",
         "marker": {
          "color": "rgba(0,0,0,0)",
          "size": 0
         },
         "mode": "markers",
         "showlegend": false,
         "type": "scatter",
         "x": [
          "SD"
         ],
         "y": [
          0
         ]
        },
        {
         "hoverinfo": "text",
         "hovertemplate": "<b>South Dakota</b><br>Size: 5001-10000<br>Count: 0<br>Percentage: nan%<br><extra></extra>",
         "marker": {
          "color": "rgba(0,0,0,0)",
          "size": 0
         },
         "mode": "markers",
         "showlegend": false,
         "type": "scatter",
         "x": [
          "SD"
         ],
         "y": [
          0
         ]
        },
        {
         "hoverinfo": "text",
         "hovertemplate": "<b>South Dakota</b><br>Size: 10000+<br>Count: 0<br>Percentage: nan%<br><extra></extra>",
         "marker": {
          "color": "rgba(0,0,0,0)",
          "size": 0
         },
         "mode": "markers",
         "showlegend": false,
         "type": "scatter",
         "x": [
          "SD"
         ],
         "y": [
          0
         ]
        },
        {
         "hoverinfo": "text",
         "hovertemplate": "<b>Tennessee</b><br>Size: 1-10<br>Count: 0<br>Percentage: nan%<br><extra></extra>",
         "marker": {
          "color": "rgba(0,0,0,0)",
          "size": 0
         },
         "mode": "markers",
         "showlegend": false,
         "type": "scatter",
         "x": [
          "TN"
         ],
         "y": [
          0
         ]
        },
        {
         "hoverinfo": "text",
         "hovertemplate": "<b>Tennessee</b><br>Size: 11-50<br>Count: 0<br>Percentage: nan%<br><extra></extra>",
         "marker": {
          "color": "rgba(0,0,0,0)",
          "size": 0
         },
         "mode": "markers",
         "showlegend": false,
         "type": "scatter",
         "x": [
          "TN"
         ],
         "y": [
          0
         ]
        },
        {
         "hoverinfo": "text",
         "hovertemplate": "<b>Tennessee</b><br>Size: 51-200<br>Count: 0<br>Percentage: nan%<br><extra></extra>",
         "marker": {
          "color": "rgba(0,0,0,0)",
          "size": 0
         },
         "mode": "markers",
         "showlegend": false,
         "type": "scatter",
         "x": [
          "TN"
         ],
         "y": [
          0
         ]
        },
        {
         "hoverinfo": "text",
         "hovertemplate": "<b>Tennessee</b><br>Size: 201-500<br>Count: 0<br>Percentage: nan%<br><extra></extra>",
         "marker": {
          "color": "rgba(0,0,0,0)",
          "size": 0
         },
         "mode": "markers",
         "showlegend": false,
         "type": "scatter",
         "x": [
          "TN"
         ],
         "y": [
          0
         ]
        },
        {
         "hoverinfo": "text",
         "hovertemplate": "<b>Tennessee</b><br>Size: 501-1000<br>Count: 0<br>Percentage: nan%<br><extra></extra>",
         "marker": {
          "color": "rgba(0,0,0,0)",
          "size": 0
         },
         "mode": "markers",
         "showlegend": false,
         "type": "scatter",
         "x": [
          "TN"
         ],
         "y": [
          0
         ]
        },
        {
         "hoverinfo": "text",
         "hovertemplate": "<b>Tennessee</b><br>Size: 1001-5000<br>Count: 0<br>Percentage: nan%<br><extra></extra>",
         "marker": {
          "color": "rgba(0,0,0,0)",
          "size": 0
         },
         "mode": "markers",
         "showlegend": false,
         "type": "scatter",
         "x": [
          "TN"
         ],
         "y": [
          0
         ]
        },
        {
         "hoverinfo": "text",
         "hovertemplate": "<b>Tennessee</b><br>Size: 5001-10000<br>Count: 0<br>Percentage: nan%<br><extra></extra>",
         "marker": {
          "color": "rgba(0,0,0,0)",
          "size": 0
         },
         "mode": "markers",
         "showlegend": false,
         "type": "scatter",
         "x": [
          "TN"
         ],
         "y": [
          0
         ]
        },
        {
         "hoverinfo": "text",
         "hovertemplate": "<b>Tennessee</b><br>Size: 10000+<br>Count: 0<br>Percentage: nan%<br><extra></extra>",
         "marker": {
          "color": "rgba(0,0,0,0)",
          "size": 0
         },
         "mode": "markers",
         "showlegend": false,
         "type": "scatter",
         "x": [
          "TN"
         ],
         "y": [
          0
         ]
        },
        {
         "hoverinfo": "text",
         "hovertemplate": "<b>Texas</b><br>Size: 1-10<br>Count: 0<br>Percentage: nan%<br><extra></extra>",
         "marker": {
          "color": "rgba(0,0,0,0)",
          "size": 0
         },
         "mode": "markers",
         "showlegend": false,
         "type": "scatter",
         "x": [
          "TX"
         ],
         "y": [
          0
         ]
        },
        {
         "hoverinfo": "text",
         "hovertemplate": "<b>Texas</b><br>Size: 11-50<br>Count: 0<br>Percentage: nan%<br><extra></extra>",
         "marker": {
          "color": "rgba(0,0,0,0)",
          "size": 0
         },
         "mode": "markers",
         "showlegend": false,
         "type": "scatter",
         "x": [
          "TX"
         ],
         "y": [
          0
         ]
        },
        {
         "hoverinfo": "text",
         "hovertemplate": "<b>Texas</b><br>Size: 51-200<br>Count: 0<br>Percentage: nan%<br><extra></extra>",
         "marker": {
          "color": "rgba(0,0,0,0)",
          "size": 0
         },
         "mode": "markers",
         "showlegend": false,
         "type": "scatter",
         "x": [
          "TX"
         ],
         "y": [
          0
         ]
        },
        {
         "hoverinfo": "text",
         "hovertemplate": "<b>Texas</b><br>Size: 201-500<br>Count: 0<br>Percentage: nan%<br><extra></extra>",
         "marker": {
          "color": "rgba(0,0,0,0)",
          "size": 0
         },
         "mode": "markers",
         "showlegend": false,
         "type": "scatter",
         "x": [
          "TX"
         ],
         "y": [
          0
         ]
        },
        {
         "hoverinfo": "text",
         "hovertemplate": "<b>Texas</b><br>Size: 501-1000<br>Count: 0<br>Percentage: nan%<br><extra></extra>",
         "marker": {
          "color": "rgba(0,0,0,0)",
          "size": 0
         },
         "mode": "markers",
         "showlegend": false,
         "type": "scatter",
         "x": [
          "TX"
         ],
         "y": [
          0
         ]
        },
        {
         "hoverinfo": "text",
         "hovertemplate": "<b>Texas</b><br>Size: 1001-5000<br>Count: 0<br>Percentage: nan%<br><extra></extra>",
         "marker": {
          "color": "rgba(0,0,0,0)",
          "size": 0
         },
         "mode": "markers",
         "showlegend": false,
         "type": "scatter",
         "x": [
          "TX"
         ],
         "y": [
          0
         ]
        },
        {
         "hoverinfo": "text",
         "hovertemplate": "<b>Texas</b><br>Size: 5001-10000<br>Count: 0<br>Percentage: nan%<br><extra></extra>",
         "marker": {
          "color": "rgba(0,0,0,0)",
          "size": 0
         },
         "mode": "markers",
         "showlegend": false,
         "type": "scatter",
         "x": [
          "TX"
         ],
         "y": [
          0
         ]
        },
        {
         "hoverinfo": "text",
         "hovertemplate": "<b>Texas</b><br>Size: 10000+<br>Count: 0<br>Percentage: nan%<br><extra></extra>",
         "marker": {
          "color": "rgba(0,0,0,0)",
          "size": 0
         },
         "mode": "markers",
         "showlegend": false,
         "type": "scatter",
         "x": [
          "TX"
         ],
         "y": [
          0
         ]
        },
        {
         "hoverinfo": "text",
         "hovertemplate": "<b>Utah</b><br>Size: 1-10<br>Count: 0<br>Percentage: nan%<br><extra></extra>",
         "marker": {
          "color": "rgba(0,0,0,0)",
          "size": 0
         },
         "mode": "markers",
         "showlegend": false,
         "type": "scatter",
         "x": [
          "UT"
         ],
         "y": [
          0
         ]
        },
        {
         "hoverinfo": "text",
         "hovertemplate": "<b>Utah</b><br>Size: 11-50<br>Count: 0<br>Percentage: nan%<br><extra></extra>",
         "marker": {
          "color": "rgba(0,0,0,0)",
          "size": 0
         },
         "mode": "markers",
         "showlegend": false,
         "type": "scatter",
         "x": [
          "UT"
         ],
         "y": [
          0
         ]
        },
        {
         "hoverinfo": "text",
         "hovertemplate": "<b>Utah</b><br>Size: 51-200<br>Count: 0<br>Percentage: nan%<br><extra></extra>",
         "marker": {
          "color": "rgba(0,0,0,0)",
          "size": 0
         },
         "mode": "markers",
         "showlegend": false,
         "type": "scatter",
         "x": [
          "UT"
         ],
         "y": [
          0
         ]
        },
        {
         "hoverinfo": "text",
         "hovertemplate": "<b>Utah</b><br>Size: 201-500<br>Count: 0<br>Percentage: nan%<br><extra></extra>",
         "marker": {
          "color": "rgba(0,0,0,0)",
          "size": 0
         },
         "mode": "markers",
         "showlegend": false,
         "type": "scatter",
         "x": [
          "UT"
         ],
         "y": [
          0
         ]
        },
        {
         "hoverinfo": "text",
         "hovertemplate": "<b>Utah</b><br>Size: 501-1000<br>Count: 0<br>Percentage: nan%<br><extra></extra>",
         "marker": {
          "color": "rgba(0,0,0,0)",
          "size": 0
         },
         "mode": "markers",
         "showlegend": false,
         "type": "scatter",
         "x": [
          "UT"
         ],
         "y": [
          0
         ]
        },
        {
         "hoverinfo": "text",
         "hovertemplate": "<b>Utah</b><br>Size: 1001-5000<br>Count: 0<br>Percentage: nan%<br><extra></extra>",
         "marker": {
          "color": "rgba(0,0,0,0)",
          "size": 0
         },
         "mode": "markers",
         "showlegend": false,
         "type": "scatter",
         "x": [
          "UT"
         ],
         "y": [
          0
         ]
        },
        {
         "hoverinfo": "text",
         "hovertemplate": "<b>Utah</b><br>Size: 5001-10000<br>Count: 0<br>Percentage: nan%<br><extra></extra>",
         "marker": {
          "color": "rgba(0,0,0,0)",
          "size": 0
         },
         "mode": "markers",
         "showlegend": false,
         "type": "scatter",
         "x": [
          "UT"
         ],
         "y": [
          0
         ]
        },
        {
         "hoverinfo": "text",
         "hovertemplate": "<b>Utah</b><br>Size: 10000+<br>Count: 0<br>Percentage: nan%<br><extra></extra>",
         "marker": {
          "color": "rgba(0,0,0,0)",
          "size": 0
         },
         "mode": "markers",
         "showlegend": false,
         "type": "scatter",
         "x": [
          "UT"
         ],
         "y": [
          0
         ]
        },
        {
         "hoverinfo": "text",
         "hovertemplate": "<b>Vermont</b><br>Size: 1-10<br>Count: 0<br>Percentage: nan%<br><extra></extra>",
         "marker": {
          "color": "rgba(0,0,0,0)",
          "size": 0
         },
         "mode": "markers",
         "showlegend": false,
         "type": "scatter",
         "x": [
          "VT"
         ],
         "y": [
          0
         ]
        },
        {
         "hoverinfo": "text",
         "hovertemplate": "<b>Vermont</b><br>Size: 11-50<br>Count: 0<br>Percentage: nan%<br><extra></extra>",
         "marker": {
          "color": "rgba(0,0,0,0)",
          "size": 0
         },
         "mode": "markers",
         "showlegend": false,
         "type": "scatter",
         "x": [
          "VT"
         ],
         "y": [
          0
         ]
        },
        {
         "hoverinfo": "text",
         "hovertemplate": "<b>Vermont</b><br>Size: 51-200<br>Count: 0<br>Percentage: nan%<br><extra></extra>",
         "marker": {
          "color": "rgba(0,0,0,0)",
          "size": 0
         },
         "mode": "markers",
         "showlegend": false,
         "type": "scatter",
         "x": [
          "VT"
         ],
         "y": [
          0
         ]
        },
        {
         "hoverinfo": "text",
         "hovertemplate": "<b>Vermont</b><br>Size: 201-500<br>Count: 0<br>Percentage: nan%<br><extra></extra>",
         "marker": {
          "color": "rgba(0,0,0,0)",
          "size": 0
         },
         "mode": "markers",
         "showlegend": false,
         "type": "scatter",
         "x": [
          "VT"
         ],
         "y": [
          0
         ]
        },
        {
         "hoverinfo": "text",
         "hovertemplate": "<b>Vermont</b><br>Size: 501-1000<br>Count: 0<br>Percentage: nan%<br><extra></extra>",
         "marker": {
          "color": "rgba(0,0,0,0)",
          "size": 0
         },
         "mode": "markers",
         "showlegend": false,
         "type": "scatter",
         "x": [
          "VT"
         ],
         "y": [
          0
         ]
        },
        {
         "hoverinfo": "text",
         "hovertemplate": "<b>Vermont</b><br>Size: 1001-5000<br>Count: 0<br>Percentage: nan%<br><extra></extra>",
         "marker": {
          "color": "rgba(0,0,0,0)",
          "size": 0
         },
         "mode": "markers",
         "showlegend": false,
         "type": "scatter",
         "x": [
          "VT"
         ],
         "y": [
          0
         ]
        },
        {
         "hoverinfo": "text",
         "hovertemplate": "<b>Vermont</b><br>Size: 5001-10000<br>Count: 0<br>Percentage: nan%<br><extra></extra>",
         "marker": {
          "color": "rgba(0,0,0,0)",
          "size": 0
         },
         "mode": "markers",
         "showlegend": false,
         "type": "scatter",
         "x": [
          "VT"
         ],
         "y": [
          0
         ]
        },
        {
         "hoverinfo": "text",
         "hovertemplate": "<b>Vermont</b><br>Size: 10000+<br>Count: 0<br>Percentage: nan%<br><extra></extra>",
         "marker": {
          "color": "rgba(0,0,0,0)",
          "size": 0
         },
         "mode": "markers",
         "showlegend": false,
         "type": "scatter",
         "x": [
          "VT"
         ],
         "y": [
          0
         ]
        },
        {
         "hoverinfo": "text",
         "hovertemplate": "<b>Virgin Islands</b><br>Size: 1-10<br>Count: 0<br>Percentage: nan%<br><extra></extra>",
         "marker": {
          "color": "rgba(0,0,0,0)",
          "size": 0
         },
         "mode": "markers",
         "showlegend": false,
         "type": "scatter",
         "x": [
          ""
         ],
         "y": [
          0
         ]
        },
        {
         "hoverinfo": "text",
         "hovertemplate": "<b>Virgin Islands</b><br>Size: 11-50<br>Count: 0<br>Percentage: nan%<br><extra></extra>",
         "marker": {
          "color": "rgba(0,0,0,0)",
          "size": 0
         },
         "mode": "markers",
         "showlegend": false,
         "type": "scatter",
         "x": [
          ""
         ],
         "y": [
          0
         ]
        },
        {
         "hoverinfo": "text",
         "hovertemplate": "<b>Virgin Islands</b><br>Size: 51-200<br>Count: 0<br>Percentage: nan%<br><extra></extra>",
         "marker": {
          "color": "rgba(0,0,0,0)",
          "size": 0
         },
         "mode": "markers",
         "showlegend": false,
         "type": "scatter",
         "x": [
          ""
         ],
         "y": [
          0
         ]
        },
        {
         "hoverinfo": "text",
         "hovertemplate": "<b>Virgin Islands</b><br>Size: 201-500<br>Count: 0<br>Percentage: nan%<br><extra></extra>",
         "marker": {
          "color": "rgba(0,0,0,0)",
          "size": 0
         },
         "mode": "markers",
         "showlegend": false,
         "type": "scatter",
         "x": [
          ""
         ],
         "y": [
          0
         ]
        },
        {
         "hoverinfo": "text",
         "hovertemplate": "<b>Virgin Islands</b><br>Size: 501-1000<br>Count: 0<br>Percentage: nan%<br><extra></extra>",
         "marker": {
          "color": "rgba(0,0,0,0)",
          "size": 0
         },
         "mode": "markers",
         "showlegend": false,
         "type": "scatter",
         "x": [
          ""
         ],
         "y": [
          0
         ]
        },
        {
         "hoverinfo": "text",
         "hovertemplate": "<b>Virgin Islands</b><br>Size: 1001-5000<br>Count: 0<br>Percentage: nan%<br><extra></extra>",
         "marker": {
          "color": "rgba(0,0,0,0)",
          "size": 0
         },
         "mode": "markers",
         "showlegend": false,
         "type": "scatter",
         "x": [
          ""
         ],
         "y": [
          0
         ]
        },
        {
         "hoverinfo": "text",
         "hovertemplate": "<b>Virgin Islands</b><br>Size: 5001-10000<br>Count: 0<br>Percentage: nan%<br><extra></extra>",
         "marker": {
          "color": "rgba(0,0,0,0)",
          "size": 0
         },
         "mode": "markers",
         "showlegend": false,
         "type": "scatter",
         "x": [
          ""
         ],
         "y": [
          0
         ]
        },
        {
         "hoverinfo": "text",
         "hovertemplate": "<b>Virgin Islands</b><br>Size: 10000+<br>Count: 0<br>Percentage: nan%<br><extra></extra>",
         "marker": {
          "color": "rgba(0,0,0,0)",
          "size": 0
         },
         "mode": "markers",
         "showlegend": false,
         "type": "scatter",
         "x": [
          ""
         ],
         "y": [
          0
         ]
        },
        {
         "hoverinfo": "text",
         "hovertemplate": "<b>Virginia</b><br>Size: 1-10<br>Count: 0<br>Percentage: nan%<br><extra></extra>",
         "marker": {
          "color": "rgba(0,0,0,0)",
          "size": 0
         },
         "mode": "markers",
         "showlegend": false,
         "type": "scatter",
         "x": [
          "VA"
         ],
         "y": [
          0
         ]
        },
        {
         "hoverinfo": "text",
         "hovertemplate": "<b>Virginia</b><br>Size: 11-50<br>Count: 0<br>Percentage: nan%<br><extra></extra>",
         "marker": {
          "color": "rgba(0,0,0,0)",
          "size": 0
         },
         "mode": "markers",
         "showlegend": false,
         "type": "scatter",
         "x": [
          "VA"
         ],
         "y": [
          0
         ]
        },
        {
         "hoverinfo": "text",
         "hovertemplate": "<b>Virginia</b><br>Size: 51-200<br>Count: 0<br>Percentage: nan%<br><extra></extra>",
         "marker": {
          "color": "rgba(0,0,0,0)",
          "size": 0
         },
         "mode": "markers",
         "showlegend": false,
         "type": "scatter",
         "x": [
          "VA"
         ],
         "y": [
          0
         ]
        },
        {
         "hoverinfo": "text",
         "hovertemplate": "<b>Virginia</b><br>Size: 201-500<br>Count: 0<br>Percentage: nan%<br><extra></extra>",
         "marker": {
          "color": "rgba(0,0,0,0)",
          "size": 0
         },
         "mode": "markers",
         "showlegend": false,
         "type": "scatter",
         "x": [
          "VA"
         ],
         "y": [
          0
         ]
        },
        {
         "hoverinfo": "text",
         "hovertemplate": "<b>Virginia</b><br>Size: 501-1000<br>Count: 0<br>Percentage: nan%<br><extra></extra>",
         "marker": {
          "color": "rgba(0,0,0,0)",
          "size": 0
         },
         "mode": "markers",
         "showlegend": false,
         "type": "scatter",
         "x": [
          "VA"
         ],
         "y": [
          0
         ]
        },
        {
         "hoverinfo": "text",
         "hovertemplate": "<b>Virginia</b><br>Size: 1001-5000<br>Count: 0<br>Percentage: nan%<br><extra></extra>",
         "marker": {
          "color": "rgba(0,0,0,0)",
          "size": 0
         },
         "mode": "markers",
         "showlegend": false,
         "type": "scatter",
         "x": [
          "VA"
         ],
         "y": [
          0
         ]
        },
        {
         "hoverinfo": "text",
         "hovertemplate": "<b>Virginia</b><br>Size: 5001-10000<br>Count: 0<br>Percentage: nan%<br><extra></extra>",
         "marker": {
          "color": "rgba(0,0,0,0)",
          "size": 0
         },
         "mode": "markers",
         "showlegend": false,
         "type": "scatter",
         "x": [
          "VA"
         ],
         "y": [
          0
         ]
        },
        {
         "hoverinfo": "text",
         "hovertemplate": "<b>Virginia</b><br>Size: 10000+<br>Count: 0<br>Percentage: nan%<br><extra></extra>",
         "marker": {
          "color": "rgba(0,0,0,0)",
          "size": 0
         },
         "mode": "markers",
         "showlegend": false,
         "type": "scatter",
         "x": [
          "VA"
         ],
         "y": [
          0
         ]
        },
        {
         "hoverinfo": "text",
         "hovertemplate": "<b>Washington</b><br>Size: 1-10<br>Count: 0<br>Percentage: nan%<br><extra></extra>",
         "marker": {
          "color": "rgba(0,0,0,0)",
          "size": 0
         },
         "mode": "markers",
         "showlegend": false,
         "type": "scatter",
         "x": [
          "WA"
         ],
         "y": [
          0
         ]
        },
        {
         "hoverinfo": "text",
         "hovertemplate": "<b>Washington</b><br>Size: 11-50<br>Count: 0<br>Percentage: nan%<br><extra></extra>",
         "marker": {
          "color": "rgba(0,0,0,0)",
          "size": 0
         },
         "mode": "markers",
         "showlegend": false,
         "type": "scatter",
         "x": [
          "WA"
         ],
         "y": [
          0
         ]
        },
        {
         "hoverinfo": "text",
         "hovertemplate": "<b>Washington</b><br>Size: 51-200<br>Count: 0<br>Percentage: nan%<br><extra></extra>",
         "marker": {
          "color": "rgba(0,0,0,0)",
          "size": 0
         },
         "mode": "markers",
         "showlegend": false,
         "type": "scatter",
         "x": [
          "WA"
         ],
         "y": [
          0
         ]
        },
        {
         "hoverinfo": "text",
         "hovertemplate": "<b>Washington</b><br>Size: 201-500<br>Count: 0<br>Percentage: nan%<br><extra></extra>",
         "marker": {
          "color": "rgba(0,0,0,0)",
          "size": 0
         },
         "mode": "markers",
         "showlegend": false,
         "type": "scatter",
         "x": [
          "WA"
         ],
         "y": [
          0
         ]
        },
        {
         "hoverinfo": "text",
         "hovertemplate": "<b>Washington</b><br>Size: 501-1000<br>Count: 0<br>Percentage: nan%<br><extra></extra>",
         "marker": {
          "color": "rgba(0,0,0,0)",
          "size": 0
         },
         "mode": "markers",
         "showlegend": false,
         "type": "scatter",
         "x": [
          "WA"
         ],
         "y": [
          0
         ]
        },
        {
         "hoverinfo": "text",
         "hovertemplate": "<b>Washington</b><br>Size: 1001-5000<br>Count: 0<br>Percentage: nan%<br><extra></extra>",
         "marker": {
          "color": "rgba(0,0,0,0)",
          "size": 0
         },
         "mode": "markers",
         "showlegend": false,
         "type": "scatter",
         "x": [
          "WA"
         ],
         "y": [
          0
         ]
        },
        {
         "hoverinfo": "text",
         "hovertemplate": "<b>Washington</b><br>Size: 5001-10000<br>Count: 0<br>Percentage: nan%<br><extra></extra>",
         "marker": {
          "color": "rgba(0,0,0,0)",
          "size": 0
         },
         "mode": "markers",
         "showlegend": false,
         "type": "scatter",
         "x": [
          "WA"
         ],
         "y": [
          0
         ]
        },
        {
         "hoverinfo": "text",
         "hovertemplate": "<b>Washington</b><br>Size: 10000+<br>Count: 0<br>Percentage: nan%<br><extra></extra>",
         "marker": {
          "color": "rgba(0,0,0,0)",
          "size": 0
         },
         "mode": "markers",
         "showlegend": false,
         "type": "scatter",
         "x": [
          "WA"
         ],
         "y": [
          0
         ]
        },
        {
         "hoverinfo": "text",
         "hovertemplate": "<b>West Virginia</b><br>Size: 1-10<br>Count: 0<br>Percentage: nan%<br><extra></extra>",
         "marker": {
          "color": "rgba(0,0,0,0)",
          "size": 0
         },
         "mode": "markers",
         "showlegend": false,
         "type": "scatter",
         "x": [
          "WV"
         ],
         "y": [
          0
         ]
        },
        {
         "hoverinfo": "text",
         "hovertemplate": "<b>West Virginia</b><br>Size: 11-50<br>Count: 0<br>Percentage: nan%<br><extra></extra>",
         "marker": {
          "color": "rgba(0,0,0,0)",
          "size": 0
         },
         "mode": "markers",
         "showlegend": false,
         "type": "scatter",
         "x": [
          "WV"
         ],
         "y": [
          0
         ]
        },
        {
         "hoverinfo": "text",
         "hovertemplate": "<b>West Virginia</b><br>Size: 51-200<br>Count: 0<br>Percentage: nan%<br><extra></extra>",
         "marker": {
          "color": "rgba(0,0,0,0)",
          "size": 0
         },
         "mode": "markers",
         "showlegend": false,
         "type": "scatter",
         "x": [
          "WV"
         ],
         "y": [
          0
         ]
        },
        {
         "hoverinfo": "text",
         "hovertemplate": "<b>West Virginia</b><br>Size: 201-500<br>Count: 0<br>Percentage: nan%<br><extra></extra>",
         "marker": {
          "color": "rgba(0,0,0,0)",
          "size": 0
         },
         "mode": "markers",
         "showlegend": false,
         "type": "scatter",
         "x": [
          "WV"
         ],
         "y": [
          0
         ]
        },
        {
         "hoverinfo": "text",
         "hovertemplate": "<b>West Virginia</b><br>Size: 501-1000<br>Count: 0<br>Percentage: nan%<br><extra></extra>",
         "marker": {
          "color": "rgba(0,0,0,0)",
          "size": 0
         },
         "mode": "markers",
         "showlegend": false,
         "type": "scatter",
         "x": [
          "WV"
         ],
         "y": [
          0
         ]
        },
        {
         "hoverinfo": "text",
         "hovertemplate": "<b>West Virginia</b><br>Size: 1001-5000<br>Count: 0<br>Percentage: nan%<br><extra></extra>",
         "marker": {
          "color": "rgba(0,0,0,0)",
          "size": 0
         },
         "mode": "markers",
         "showlegend": false,
         "type": "scatter",
         "x": [
          "WV"
         ],
         "y": [
          0
         ]
        },
        {
         "hoverinfo": "text",
         "hovertemplate": "<b>West Virginia</b><br>Size: 5001-10000<br>Count: 0<br>Percentage: nan%<br><extra></extra>",
         "marker": {
          "color": "rgba(0,0,0,0)",
          "size": 0
         },
         "mode": "markers",
         "showlegend": false,
         "type": "scatter",
         "x": [
          "WV"
         ],
         "y": [
          0
         ]
        },
        {
         "hoverinfo": "text",
         "hovertemplate": "<b>West Virginia</b><br>Size: 10000+<br>Count: 0<br>Percentage: nan%<br><extra></extra>",
         "marker": {
          "color": "rgba(0,0,0,0)",
          "size": 0
         },
         "mode": "markers",
         "showlegend": false,
         "type": "scatter",
         "x": [
          "WV"
         ],
         "y": [
          0
         ]
        },
        {
         "hoverinfo": "text",
         "hovertemplate": "<b>Wisconsin</b><br>Size: 1-10<br>Count: 0<br>Percentage: nan%<br><extra></extra>",
         "marker": {
          "color": "rgba(0,0,0,0)",
          "size": 0
         },
         "mode": "markers",
         "showlegend": false,
         "type": "scatter",
         "x": [
          "WI"
         ],
         "y": [
          0
         ]
        },
        {
         "hoverinfo": "text",
         "hovertemplate": "<b>Wisconsin</b><br>Size: 11-50<br>Count: 0<br>Percentage: nan%<br><extra></extra>",
         "marker": {
          "color": "rgba(0,0,0,0)",
          "size": 0
         },
         "mode": "markers",
         "showlegend": false,
         "type": "scatter",
         "x": [
          "WI"
         ],
         "y": [
          0
         ]
        },
        {
         "hoverinfo": "text",
         "hovertemplate": "<b>Wisconsin</b><br>Size: 51-200<br>Count: 0<br>Percentage: nan%<br><extra></extra>",
         "marker": {
          "color": "rgba(0,0,0,0)",
          "size": 0
         },
         "mode": "markers",
         "showlegend": false,
         "type": "scatter",
         "x": [
          "WI"
         ],
         "y": [
          0
         ]
        },
        {
         "hoverinfo": "text",
         "hovertemplate": "<b>Wisconsin</b><br>Size: 201-500<br>Count: 0<br>Percentage: nan%<br><extra></extra>",
         "marker": {
          "color": "rgba(0,0,0,0)",
          "size": 0
         },
         "mode": "markers",
         "showlegend": false,
         "type": "scatter",
         "x": [
          "WI"
         ],
         "y": [
          0
         ]
        },
        {
         "hoverinfo": "text",
         "hovertemplate": "<b>Wisconsin</b><br>Size: 501-1000<br>Count: 0<br>Percentage: nan%<br><extra></extra>",
         "marker": {
          "color": "rgba(0,0,0,0)",
          "size": 0
         },
         "mode": "markers",
         "showlegend": false,
         "type": "scatter",
         "x": [
          "WI"
         ],
         "y": [
          0
         ]
        },
        {
         "hoverinfo": "text",
         "hovertemplate": "<b>Wisconsin</b><br>Size: 1001-5000<br>Count: 0<br>Percentage: nan%<br><extra></extra>",
         "marker": {
          "color": "rgba(0,0,0,0)",
          "size": 0
         },
         "mode": "markers",
         "showlegend": false,
         "type": "scatter",
         "x": [
          "WI"
         ],
         "y": [
          0
         ]
        },
        {
         "hoverinfo": "text",
         "hovertemplate": "<b>Wisconsin</b><br>Size: 5001-10000<br>Count: 0<br>Percentage: nan%<br><extra></extra>",
         "marker": {
          "color": "rgba(0,0,0,0)",
          "size": 0
         },
         "mode": "markers",
         "showlegend": false,
         "type": "scatter",
         "x": [
          "WI"
         ],
         "y": [
          0
         ]
        },
        {
         "hoverinfo": "text",
         "hovertemplate": "<b>Wisconsin</b><br>Size: 10000+<br>Count: 0<br>Percentage: nan%<br><extra></extra>",
         "marker": {
          "color": "rgba(0,0,0,0)",
          "size": 0
         },
         "mode": "markers",
         "showlegend": false,
         "type": "scatter",
         "x": [
          "WI"
         ],
         "y": [
          0
         ]
        },
        {
         "hoverinfo": "text",
         "hovertemplate": "<b>Wyoming</b><br>Size: 1-10<br>Count: 0<br>Percentage: nan%<br><extra></extra>",
         "marker": {
          "color": "rgba(0,0,0,0)",
          "size": 0
         },
         "mode": "markers",
         "showlegend": false,
         "type": "scatter",
         "x": [
          "WY"
         ],
         "y": [
          0
         ]
        },
        {
         "hoverinfo": "text",
         "hovertemplate": "<b>Wyoming</b><br>Size: 11-50<br>Count: 0<br>Percentage: nan%<br><extra></extra>",
         "marker": {
          "color": "rgba(0,0,0,0)",
          "size": 0
         },
         "mode": "markers",
         "showlegend": false,
         "type": "scatter",
         "x": [
          "WY"
         ],
         "y": [
          0
         ]
        },
        {
         "hoverinfo": "text",
         "hovertemplate": "<b>Wyoming</b><br>Size: 51-200<br>Count: 0<br>Percentage: nan%<br><extra></extra>",
         "marker": {
          "color": "rgba(0,0,0,0)",
          "size": 0
         },
         "mode": "markers",
         "showlegend": false,
         "type": "scatter",
         "x": [
          "WY"
         ],
         "y": [
          0
         ]
        },
        {
         "hoverinfo": "text",
         "hovertemplate": "<b>Wyoming</b><br>Size: 201-500<br>Count: 0<br>Percentage: nan%<br><extra></extra>",
         "marker": {
          "color": "rgba(0,0,0,0)",
          "size": 0
         },
         "mode": "markers",
         "showlegend": false,
         "type": "scatter",
         "x": [
          "WY"
         ],
         "y": [
          0
         ]
        },
        {
         "hoverinfo": "text",
         "hovertemplate": "<b>Wyoming</b><br>Size: 501-1000<br>Count: 0<br>Percentage: nan%<br><extra></extra>",
         "marker": {
          "color": "rgba(0,0,0,0)",
          "size": 0
         },
         "mode": "markers",
         "showlegend": false,
         "type": "scatter",
         "x": [
          "WY"
         ],
         "y": [
          0
         ]
        },
        {
         "hoverinfo": "text",
         "hovertemplate": "<b>Wyoming</b><br>Size: 1001-5000<br>Count: 0<br>Percentage: nan%<br><extra></extra>",
         "marker": {
          "color": "rgba(0,0,0,0)",
          "size": 0
         },
         "mode": "markers",
         "showlegend": false,
         "type": "scatter",
         "x": [
          "WY"
         ],
         "y": [
          0
         ]
        },
        {
         "hoverinfo": "text",
         "hovertemplate": "<b>Wyoming</b><br>Size: 5001-10000<br>Count: 0<br>Percentage: nan%<br><extra></extra>",
         "marker": {
          "color": "rgba(0,0,0,0)",
          "size": 0
         },
         "mode": "markers",
         "showlegend": false,
         "type": "scatter",
         "x": [
          "WY"
         ],
         "y": [
          0
         ]
        },
        {
         "hoverinfo": "text",
         "hovertemplate": "<b>Wyoming</b><br>Size: 10000+<br>Count: 0<br>Percentage: nan%<br><extra></extra>",
         "marker": {
          "color": "rgba(0,0,0,0)",
          "size": 0
         },
         "mode": "markers",
         "showlegend": false,
         "type": "scatter",
         "x": [
          "WY"
         ],
         "y": [
          0
         ]
        }
       ],
       "layout": {
        "annotations": [
         {
          "font": {
           "size": 12
          },
          "showarrow": false,
          "text": "Hover over states to see size category distribution",
          "x": 0.5,
          "xref": "paper",
          "y": -0.1,
          "yref": "paper"
         }
        ],
        "geo": {
         "domain": {
          "x": [
           0,
           1
          ],
          "y": [
           0,
           1
          ]
         },
         "lakecolor": "rgb(255, 255, 255)",
         "projection": {
          "type": "albers usa"
         },
         "scope": "usa",
         "showlakes": true
        },
        "height": 600,
        "margin": {
         "b": 0,
         "l": 0,
         "r": 0,
         "t": 50
        },
        "showlegend": false,
        "template": {
         "data": {
          "bar": [
           {
            "error_x": {
             "color": "#2a3f5f"
            },
            "error_y": {
             "color": "#2a3f5f"
            },
            "marker": {
             "line": {
              "color": "#E5ECF6",
              "width": 0.5
             },
             "pattern": {
              "fillmode": "overlay",
              "size": 10,
              "solidity": 0.2
             }
            },
            "type": "bar"
           }
          ],
          "barpolar": [
           {
            "marker": {
             "line": {
              "color": "#E5ECF6",
              "width": 0.5
             },
             "pattern": {
              "fillmode": "overlay",
              "size": 10,
              "solidity": 0.2
             }
            },
            "type": "barpolar"
           }
          ],
          "carpet": [
           {
            "aaxis": {
             "endlinecolor": "#2a3f5f",
             "gridcolor": "white",
             "linecolor": "white",
             "minorgridcolor": "white",
             "startlinecolor": "#2a3f5f"
            },
            "baxis": {
             "endlinecolor": "#2a3f5f",
             "gridcolor": "white",
             "linecolor": "white",
             "minorgridcolor": "white",
             "startlinecolor": "#2a3f5f"
            },
            "type": "carpet"
           }
          ],
          "choropleth": [
           {
            "colorbar": {
             "outlinewidth": 0,
             "ticks": ""
            },
            "type": "choropleth"
           }
          ],
          "contour": [
           {
            "colorbar": {
             "outlinewidth": 0,
             "ticks": ""
            },
            "colorscale": [
             [
              0,
              "#0d0887"
             ],
             [
              0.1111111111111111,
              "#46039f"
             ],
             [
              0.2222222222222222,
              "#7201a8"
             ],
             [
              0.3333333333333333,
              "#9c179e"
             ],
             [
              0.4444444444444444,
              "#bd3786"
             ],
             [
              0.5555555555555556,
              "#d8576b"
             ],
             [
              0.6666666666666666,
              "#ed7953"
             ],
             [
              0.7777777777777778,
              "#fb9f3a"
             ],
             [
              0.8888888888888888,
              "#fdca26"
             ],
             [
              1,
              "#f0f921"
             ]
            ],
            "type": "contour"
           }
          ],
          "contourcarpet": [
           {
            "colorbar": {
             "outlinewidth": 0,
             "ticks": ""
            },
            "type": "contourcarpet"
           }
          ],
          "heatmap": [
           {
            "colorbar": {
             "outlinewidth": 0,
             "ticks": ""
            },
            "colorscale": [
             [
              0,
              "#0d0887"
             ],
             [
              0.1111111111111111,
              "#46039f"
             ],
             [
              0.2222222222222222,
              "#7201a8"
             ],
             [
              0.3333333333333333,
              "#9c179e"
             ],
             [
              0.4444444444444444,
              "#bd3786"
             ],
             [
              0.5555555555555556,
              "#d8576b"
             ],
             [
              0.6666666666666666,
              "#ed7953"
             ],
             [
              0.7777777777777778,
              "#fb9f3a"
             ],
             [
              0.8888888888888888,
              "#fdca26"
             ],
             [
              1,
              "#f0f921"
             ]
            ],
            "type": "heatmap"
           }
          ],
          "histogram": [
           {
            "marker": {
             "pattern": {
              "fillmode": "overlay",
              "size": 10,
              "solidity": 0.2
             }
            },
            "type": "histogram"
           }
          ],
          "histogram2d": [
           {
            "colorbar": {
             "outlinewidth": 0,
             "ticks": ""
            },
            "colorscale": [
             [
              0,
              "#0d0887"
             ],
             [
              0.1111111111111111,
              "#46039f"
             ],
             [
              0.2222222222222222,
              "#7201a8"
             ],
             [
              0.3333333333333333,
              "#9c179e"
             ],
             [
              0.4444444444444444,
              "#bd3786"
             ],
             [
              0.5555555555555556,
              "#d8576b"
             ],
             [
              0.6666666666666666,
              "#ed7953"
             ],
             [
              0.7777777777777778,
              "#fb9f3a"
             ],
             [
              0.8888888888888888,
              "#fdca26"
             ],
             [
              1,
              "#f0f921"
             ]
            ],
            "type": "histogram2d"
           }
          ],
          "histogram2dcontour": [
           {
            "colorbar": {
             "outlinewidth": 0,
             "ticks": ""
            },
            "colorscale": [
             [
              0,
              "#0d0887"
             ],
             [
              0.1111111111111111,
              "#46039f"
             ],
             [
              0.2222222222222222,
              "#7201a8"
             ],
             [
              0.3333333333333333,
              "#9c179e"
             ],
             [
              0.4444444444444444,
              "#bd3786"
             ],
             [
              0.5555555555555556,
              "#d8576b"
             ],
             [
              0.6666666666666666,
              "#ed7953"
             ],
             [
              0.7777777777777778,
              "#fb9f3a"
             ],
             [
              0.8888888888888888,
              "#fdca26"
             ],
             [
              1,
              "#f0f921"
             ]
            ],
            "type": "histogram2dcontour"
           }
          ],
          "mesh3d": [
           {
            "colorbar": {
             "outlinewidth": 0,
             "ticks": ""
            },
            "type": "mesh3d"
           }
          ],
          "parcoords": [
           {
            "line": {
             "colorbar": {
              "outlinewidth": 0,
              "ticks": ""
             }
            },
            "type": "parcoords"
           }
          ],
          "pie": [
           {
            "automargin": true,
            "type": "pie"
           }
          ],
          "scatter": [
           {
            "fillpattern": {
             "fillmode": "overlay",
             "size": 10,
             "solidity": 0.2
            },
            "type": "scatter"
           }
          ],
          "scatter3d": [
           {
            "line": {
             "colorbar": {
              "outlinewidth": 0,
              "ticks": ""
             }
            },
            "marker": {
             "colorbar": {
              "outlinewidth": 0,
              "ticks": ""
             }
            },
            "type": "scatter3d"
           }
          ],
          "scattercarpet": [
           {
            "marker": {
             "colorbar": {
              "outlinewidth": 0,
              "ticks": ""
             }
            },
            "type": "scattercarpet"
           }
          ],
          "scattergeo": [
           {
            "marker": {
             "colorbar": {
              "outlinewidth": 0,
              "ticks": ""
             }
            },
            "type": "scattergeo"
           }
          ],
          "scattergl": [
           {
            "marker": {
             "colorbar": {
              "outlinewidth": 0,
              "ticks": ""
             }
            },
            "type": "scattergl"
           }
          ],
          "scattermap": [
           {
            "marker": {
             "colorbar": {
              "outlinewidth": 0,
              "ticks": ""
             }
            },
            "type": "scattermap"
           }
          ],
          "scattermapbox": [
           {
            "marker": {
             "colorbar": {
              "outlinewidth": 0,
              "ticks": ""
             }
            },
            "type": "scattermapbox"
           }
          ],
          "scatterpolar": [
           {
            "marker": {
             "colorbar": {
              "outlinewidth": 0,
              "ticks": ""
             }
            },
            "type": "scatterpolar"
           }
          ],
          "scatterpolargl": [
           {
            "marker": {
             "colorbar": {
              "outlinewidth": 0,
              "ticks": ""
             }
            },
            "type": "scatterpolargl"
           }
          ],
          "scatterternary": [
           {
            "marker": {
             "colorbar": {
              "outlinewidth": 0,
              "ticks": ""
             }
            },
            "type": "scatterternary"
           }
          ],
          "surface": [
           {
            "colorbar": {
             "outlinewidth": 0,
             "ticks": ""
            },
            "colorscale": [
             [
              0,
              "#0d0887"
             ],
             [
              0.1111111111111111,
              "#46039f"
             ],
             [
              0.2222222222222222,
              "#7201a8"
             ],
             [
              0.3333333333333333,
              "#9c179e"
             ],
             [
              0.4444444444444444,
              "#bd3786"
             ],
             [
              0.5555555555555556,
              "#d8576b"
             ],
             [
              0.6666666666666666,
              "#ed7953"
             ],
             [
              0.7777777777777778,
              "#fb9f3a"
             ],
             [
              0.8888888888888888,
              "#fdca26"
             ],
             [
              1,
              "#f0f921"
             ]
            ],
            "type": "surface"
           }
          ],
          "table": [
           {
            "cells": {
             "fill": {
              "color": "#EBF0F8"
             },
             "line": {
              "color": "white"
             }
            },
            "header": {
             "fill": {
              "color": "#C8D4E3"
             },
             "line": {
              "color": "white"
             }
            },
            "type": "table"
           }
          ]
         },
         "layout": {
          "annotationdefaults": {
           "arrowcolor": "#2a3f5f",
           "arrowhead": 0,
           "arrowwidth": 1
          },
          "autotypenumbers": "strict",
          "coloraxis": {
           "colorbar": {
            "outlinewidth": 0,
            "ticks": ""
           }
          },
          "colorscale": {
           "diverging": [
            [
             0,
             "#8e0152"
            ],
            [
             0.1,
             "#c51b7d"
            ],
            [
             0.2,
             "#de77ae"
            ],
            [
             0.3,
             "#f1b6da"
            ],
            [
             0.4,
             "#fde0ef"
            ],
            [
             0.5,
             "#f7f7f7"
            ],
            [
             0.6,
             "#e6f5d0"
            ],
            [
             0.7,
             "#b8e186"
            ],
            [
             0.8,
             "#7fbc41"
            ],
            [
             0.9,
             "#4d9221"
            ],
            [
             1,
             "#276419"
            ]
           ],
           "sequential": [
            [
             0,
             "#0d0887"
            ],
            [
             0.1111111111111111,
             "#46039f"
            ],
            [
             0.2222222222222222,
             "#7201a8"
            ],
            [
             0.3333333333333333,
             "#9c179e"
            ],
            [
             0.4444444444444444,
             "#bd3786"
            ],
            [
             0.5555555555555556,
             "#d8576b"
            ],
            [
             0.6666666666666666,
             "#ed7953"
            ],
            [
             0.7777777777777778,
             "#fb9f3a"
            ],
            [
             0.8888888888888888,
             "#fdca26"
            ],
            [
             1,
             "#f0f921"
            ]
           ],
           "sequentialminus": [
            [
             0,
             "#0d0887"
            ],
            [
             0.1111111111111111,
             "#46039f"
            ],
            [
             0.2222222222222222,
             "#7201a8"
            ],
            [
             0.3333333333333333,
             "#9c179e"
            ],
            [
             0.4444444444444444,
             "#bd3786"
            ],
            [
             0.5555555555555556,
             "#d8576b"
            ],
            [
             0.6666666666666666,
             "#ed7953"
            ],
            [
             0.7777777777777778,
             "#fb9f3a"
            ],
            [
             0.8888888888888888,
             "#fdca26"
            ],
            [
             1,
             "#f0f921"
            ]
           ]
          },
          "colorway": [
           "#636efa",
           "#EF553B",
           "#00cc96",
           "#ab63fa",
           "#FFA15A",
           "#19d3f3",
           "#FF6692",
           "#B6E880",
           "#FF97FF",
           "#FECB52"
          ],
          "font": {
           "color": "#2a3f5f"
          },
          "geo": {
           "bgcolor": "white",
           "lakecolor": "white",
           "landcolor": "#E5ECF6",
           "showlakes": true,
           "showland": true,
           "subunitcolor": "white"
          },
          "hoverlabel": {
           "align": "left"
          },
          "hovermode": "closest",
          "mapbox": {
           "style": "light"
          },
          "paper_bgcolor": "white",
          "plot_bgcolor": "#E5ECF6",
          "polar": {
           "angularaxis": {
            "gridcolor": "white",
            "linecolor": "white",
            "ticks": ""
           },
           "bgcolor": "#E5ECF6",
           "radialaxis": {
            "gridcolor": "white",
            "linecolor": "white",
            "ticks": ""
           }
          },
          "scene": {
           "xaxis": {
            "backgroundcolor": "#E5ECF6",
            "gridcolor": "white",
            "gridwidth": 2,
            "linecolor": "white",
            "showbackground": true,
            "ticks": "",
            "zerolinecolor": "white"
           },
           "yaxis": {
            "backgroundcolor": "#E5ECF6",
            "gridcolor": "white",
            "gridwidth": 2,
            "linecolor": "white",
            "showbackground": true,
            "ticks": "",
            "zerolinecolor": "white"
           },
           "zaxis": {
            "backgroundcolor": "#E5ECF6",
            "gridcolor": "white",
            "gridwidth": 2,
            "linecolor": "white",
            "showbackground": true,
            "ticks": "",
            "zerolinecolor": "white"
           }
          },
          "shapedefaults": {
           "line": {
            "color": "#2a3f5f"
           }
          },
          "ternary": {
           "aaxis": {
            "gridcolor": "white",
            "linecolor": "white",
            "ticks": ""
           },
           "baxis": {
            "gridcolor": "white",
            "linecolor": "white",
            "ticks": ""
           },
           "bgcolor": "#E5ECF6",
           "caxis": {
            "gridcolor": "white",
            "linecolor": "white",
            "ticks": ""
           }
          },
          "title": {
           "x": 0.05
          },
          "xaxis": {
           "automargin": true,
           "gridcolor": "white",
           "linecolor": "white",
           "ticks": "",
           "title": {
            "standoff": 15
           },
           "zerolinecolor": "white",
           "zerolinewidth": 2
          },
          "yaxis": {
           "automargin": true,
           "gridcolor": "white",
           "linecolor": "white",
           "ticks": "",
           "title": {
            "standoff": 15
           },
           "zerolinecolor": "white",
           "zerolinewidth": 2
          }
         }
        },
        "title": {
         "text": "US Automotive Industry Distribution by State",
         "x": 0.5
        },
        "width": 950
       }
      }
     },
     "metadata": {},
     "output_type": "display_data"
    }
   ],
   "source": [
    "fig1.show()"
   ]
  },
  {
   "cell_type": "code",
   "execution_count": 43,
   "id": "4e47db27",
   "metadata": {},
   "outputs": [
    {
     "data": {
      "application/vnd.plotly.v1+json": {
       "config": {
        "plotlyServerURL": "https://plot.ly"
       },
       "data": [
        {
         "domain": {
          "x": [
           0,
           0.16799999999999998
          ],
          "y": [
           0,
           1
          ]
         },
         "hoverinfo": "label+percent+value",
         "hovertemplate": "<b>%{label}</b><br>Count: %{value}<br>Percentage: %{percent}<br><extra></extra>",
         "labels": [
          "1-10",
          "11-50",
          "51-200",
          "201-500",
          "501-1000",
          "1001-5000",
          "5001-10000",
          "10000+"
         ],
         "marker": {
          "colors": [
           "#440154",
           "#482878",
           "#3e4989",
           "#31688e",
           "#26828e",
           "#1f9e89",
           "#35b779",
           "#6ece58"
          ]
         },
         "name": "California",
         "textinfo": "percent",
         "type": "pie",
         "values": {
          "bdata": "AAAAAAAAAAA=",
          "dtype": "i1"
         }
        },
        {
         "domain": {
          "x": [
           0.208,
           0.376
          ],
          "y": [
           0,
           1
          ]
         },
         "hoverinfo": "label+percent+value",
         "hovertemplate": "<b>%{label}</b><br>Count: %{value}<br>Percentage: %{percent}<br><extra></extra>",
         "labels": [
          "1-10",
          "11-50",
          "51-200",
          "201-500",
          "501-1000",
          "1001-5000",
          "5001-10000",
          "10000+"
         ],
         "marker": {
          "colors": [
           "#440154",
           "#482878",
           "#3e4989",
           "#31688e",
           "#26828e",
           "#1f9e89",
           "#35b779",
           "#6ece58"
          ]
         },
         "name": "Texas",
         "textinfo": "percent",
         "type": "pie",
         "values": {
          "bdata": "AAAAAAAAAAA=",
          "dtype": "i1"
         }
        },
        {
         "domain": {
          "x": [
           0.416,
           0.584
          ],
          "y": [
           0,
           1
          ]
         },
         "hoverinfo": "label+percent+value",
         "hovertemplate": "<b>%{label}</b><br>Count: %{value}<br>Percentage: %{percent}<br><extra></extra>",
         "labels": [
          "1-10",
          "11-50",
          "51-200",
          "201-500",
          "501-1000",
          "1001-5000",
          "5001-10000",
          "10000+"
         ],
         "marker": {
          "colors": [
           "#440154",
           "#482878",
           "#3e4989",
           "#31688e",
           "#26828e",
           "#1f9e89",
           "#35b779",
           "#6ece58"
          ]
         },
         "name": "Florida",
         "textinfo": "percent",
         "type": "pie",
         "values": {
          "bdata": "AAAAAAAAAAA=",
          "dtype": "i1"
         }
        },
        {
         "domain": {
          "x": [
           0.624,
           0.792
          ],
          "y": [
           0,
           1
          ]
         },
         "hoverinfo": "label+percent+value",
         "hovertemplate": "<b>%{label}</b><br>Count: %{value}<br>Percentage: %{percent}<br><extra></extra>",
         "labels": [
          "1-10",
          "11-50",
          "51-200",
          "201-500",
          "501-1000",
          "1001-5000",
          "5001-10000",
          "10000+"
         ],
         "marker": {
          "colors": [
           "#440154",
           "#482878",
           "#3e4989",
           "#31688e",
           "#26828e",
           "#1f9e89",
           "#35b779",
           "#6ece58"
          ]
         },
         "name": "Michigan",
         "textinfo": "percent",
         "type": "pie",
         "values": {
          "bdata": "AAAAAAAAAAA=",
          "dtype": "i1"
         }
        },
        {
         "domain": {
          "x": [
           0.832,
           1
          ],
          "y": [
           0,
           1
          ]
         },
         "hoverinfo": "label+percent+value",
         "hovertemplate": "<b>%{label}</b><br>Count: %{value}<br>Percentage: %{percent}<br><extra></extra>",
         "labels": [
          "1-10",
          "11-50",
          "51-200",
          "201-500",
          "501-1000",
          "1001-5000",
          "5001-10000",
          "10000+"
         ],
         "marker": {
          "colors": [
           "#440154",
           "#482878",
           "#3e4989",
           "#31688e",
           "#26828e",
           "#1f9e89",
           "#35b779",
           "#6ece58"
          ]
         },
         "name": "Ohio",
         "textinfo": "percent",
         "type": "pie",
         "values": {
          "bdata": "AAAAAAAAAAA=",
          "dtype": "i1"
         }
        }
       ],
       "layout": {
        "annotations": [
         {
          "font": {
           "size": 16
          },
          "showarrow": false,
          "text": "California",
          "x": 0.08399999999999999,
          "xanchor": "center",
          "xref": "paper",
          "y": 1,
          "yanchor": "bottom",
          "yref": "paper"
         },
         {
          "font": {
           "size": 16
          },
          "showarrow": false,
          "text": "Texas",
          "x": 0.292,
          "xanchor": "center",
          "xref": "paper",
          "y": 1,
          "yanchor": "bottom",
          "yref": "paper"
         },
         {
          "font": {
           "size": 16
          },
          "showarrow": false,
          "text": "Florida",
          "x": 0.5,
          "xanchor": "center",
          "xref": "paper",
          "y": 1,
          "yanchor": "bottom",
          "yref": "paper"
         },
         {
          "font": {
           "size": 16
          },
          "showarrow": false,
          "text": "Michigan",
          "x": 0.708,
          "xanchor": "center",
          "xref": "paper",
          "y": 1,
          "yanchor": "bottom",
          "yref": "paper"
         },
         {
          "font": {
           "size": 16
          },
          "showarrow": false,
          "text": "Ohio",
          "x": 0.9159999999999999,
          "xanchor": "center",
          "xref": "paper",
          "y": 1,
          "yanchor": "bottom",
          "yref": "paper"
         }
        ],
        "height": 400,
        "template": {
         "data": {
          "bar": [
           {
            "error_x": {
             "color": "#2a3f5f"
            },
            "error_y": {
             "color": "#2a3f5f"
            },
            "marker": {
             "line": {
              "color": "#E5ECF6",
              "width": 0.5
             },
             "pattern": {
              "fillmode": "overlay",
              "size": 10,
              "solidity": 0.2
             }
            },
            "type": "bar"
           }
          ],
          "barpolar": [
           {
            "marker": {
             "line": {
              "color": "#E5ECF6",
              "width": 0.5
             },
             "pattern": {
              "fillmode": "overlay",
              "size": 10,
              "solidity": 0.2
             }
            },
            "type": "barpolar"
           }
          ],
          "carpet": [
           {
            "aaxis": {
             "endlinecolor": "#2a3f5f",
             "gridcolor": "white",
             "linecolor": "white",
             "minorgridcolor": "white",
             "startlinecolor": "#2a3f5f"
            },
            "baxis": {
             "endlinecolor": "#2a3f5f",
             "gridcolor": "white",
             "linecolor": "white",
             "minorgridcolor": "white",
             "startlinecolor": "#2a3f5f"
            },
            "type": "carpet"
           }
          ],
          "choropleth": [
           {
            "colorbar": {
             "outlinewidth": 0,
             "ticks": ""
            },
            "type": "choropleth"
           }
          ],
          "contour": [
           {
            "colorbar": {
             "outlinewidth": 0,
             "ticks": ""
            },
            "colorscale": [
             [
              0,
              "#0d0887"
             ],
             [
              0.1111111111111111,
              "#46039f"
             ],
             [
              0.2222222222222222,
              "#7201a8"
             ],
             [
              0.3333333333333333,
              "#9c179e"
             ],
             [
              0.4444444444444444,
              "#bd3786"
             ],
             [
              0.5555555555555556,
              "#d8576b"
             ],
             [
              0.6666666666666666,
              "#ed7953"
             ],
             [
              0.7777777777777778,
              "#fb9f3a"
             ],
             [
              0.8888888888888888,
              "#fdca26"
             ],
             [
              1,
              "#f0f921"
             ]
            ],
            "type": "contour"
           }
          ],
          "contourcarpet": [
           {
            "colorbar": {
             "outlinewidth": 0,
             "ticks": ""
            },
            "type": "contourcarpet"
           }
          ],
          "heatmap": [
           {
            "colorbar": {
             "outlinewidth": 0,
             "ticks": ""
            },
            "colorscale": [
             [
              0,
              "#0d0887"
             ],
             [
              0.1111111111111111,
              "#46039f"
             ],
             [
              0.2222222222222222,
              "#7201a8"
             ],
             [
              0.3333333333333333,
              "#9c179e"
             ],
             [
              0.4444444444444444,
              "#bd3786"
             ],
             [
              0.5555555555555556,
              "#d8576b"
             ],
             [
              0.6666666666666666,
              "#ed7953"
             ],
             [
              0.7777777777777778,
              "#fb9f3a"
             ],
             [
              0.8888888888888888,
              "#fdca26"
             ],
             [
              1,
              "#f0f921"
             ]
            ],
            "type": "heatmap"
           }
          ],
          "histogram": [
           {
            "marker": {
             "pattern": {
              "fillmode": "overlay",
              "size": 10,
              "solidity": 0.2
             }
            },
            "type": "histogram"
           }
          ],
          "histogram2d": [
           {
            "colorbar": {
             "outlinewidth": 0,
             "ticks": ""
            },
            "colorscale": [
             [
              0,
              "#0d0887"
             ],
             [
              0.1111111111111111,
              "#46039f"
             ],
             [
              0.2222222222222222,
              "#7201a8"
             ],
             [
              0.3333333333333333,
              "#9c179e"
             ],
             [
              0.4444444444444444,
              "#bd3786"
             ],
             [
              0.5555555555555556,
              "#d8576b"
             ],
             [
              0.6666666666666666,
              "#ed7953"
             ],
             [
              0.7777777777777778,
              "#fb9f3a"
             ],
             [
              0.8888888888888888,
              "#fdca26"
             ],
             [
              1,
              "#f0f921"
             ]
            ],
            "type": "histogram2d"
           }
          ],
          "histogram2dcontour": [
           {
            "colorbar": {
             "outlinewidth": 0,
             "ticks": ""
            },
            "colorscale": [
             [
              0,
              "#0d0887"
             ],
             [
              0.1111111111111111,
              "#46039f"
             ],
             [
              0.2222222222222222,
              "#7201a8"
             ],
             [
              0.3333333333333333,
              "#9c179e"
             ],
             [
              0.4444444444444444,
              "#bd3786"
             ],
             [
              0.5555555555555556,
              "#d8576b"
             ],
             [
              0.6666666666666666,
              "#ed7953"
             ],
             [
              0.7777777777777778,
              "#fb9f3a"
             ],
             [
              0.8888888888888888,
              "#fdca26"
             ],
             [
              1,
              "#f0f921"
             ]
            ],
            "type": "histogram2dcontour"
           }
          ],
          "mesh3d": [
           {
            "colorbar": {
             "outlinewidth": 0,
             "ticks": ""
            },
            "type": "mesh3d"
           }
          ],
          "parcoords": [
           {
            "line": {
             "colorbar": {
              "outlinewidth": 0,
              "ticks": ""
             }
            },
            "type": "parcoords"
           }
          ],
          "pie": [
           {
            "automargin": true,
            "type": "pie"
           }
          ],
          "scatter": [
           {
            "fillpattern": {
             "fillmode": "overlay",
             "size": 10,
             "solidity": 0.2
            },
            "type": "scatter"
           }
          ],
          "scatter3d": [
           {
            "line": {
             "colorbar": {
              "outlinewidth": 0,
              "ticks": ""
             }
            },
            "marker": {
             "colorbar": {
              "outlinewidth": 0,
              "ticks": ""
             }
            },
            "type": "scatter3d"
           }
          ],
          "scattercarpet": [
           {
            "marker": {
             "colorbar": {
              "outlinewidth": 0,
              "ticks": ""
             }
            },
            "type": "scattercarpet"
           }
          ],
          "scattergeo": [
           {
            "marker": {
             "colorbar": {
              "outlinewidth": 0,
              "ticks": ""
             }
            },
            "type": "scattergeo"
           }
          ],
          "scattergl": [
           {
            "marker": {
             "colorbar": {
              "outlinewidth": 0,
              "ticks": ""
             }
            },
            "type": "scattergl"
           }
          ],
          "scattermap": [
           {
            "marker": {
             "colorbar": {
              "outlinewidth": 0,
              "ticks": ""
             }
            },
            "type": "scattermap"
           }
          ],
          "scattermapbox": [
           {
            "marker": {
             "colorbar": {
              "outlinewidth": 0,
              "ticks": ""
             }
            },
            "type": "scattermapbox"
           }
          ],
          "scatterpolar": [
           {
            "marker": {
             "colorbar": {
              "outlinewidth": 0,
              "ticks": ""
             }
            },
            "type": "scatterpolar"
           }
          ],
          "scatterpolargl": [
           {
            "marker": {
             "colorbar": {
              "outlinewidth": 0,
              "ticks": ""
             }
            },
            "type": "scatterpolargl"
           }
          ],
          "scatterternary": [
           {
            "marker": {
             "colorbar": {
              "outlinewidth": 0,
              "ticks": ""
             }
            },
            "type": "scatterternary"
           }
          ],
          "surface": [
           {
            "colorbar": {
             "outlinewidth": 0,
             "ticks": ""
            },
            "colorscale": [
             [
              0,
              "#0d0887"
             ],
             [
              0.1111111111111111,
              "#46039f"
             ],
             [
              0.2222222222222222,
              "#7201a8"
             ],
             [
              0.3333333333333333,
              "#9c179e"
             ],
             [
              0.4444444444444444,
              "#bd3786"
             ],
             [
              0.5555555555555556,
              "#d8576b"
             ],
             [
              0.6666666666666666,
              "#ed7953"
             ],
             [
              0.7777777777777778,
              "#fb9f3a"
             ],
             [
              0.8888888888888888,
              "#fdca26"
             ],
             [
              1,
              "#f0f921"
             ]
            ],
            "type": "surface"
           }
          ],
          "table": [
           {
            "cells": {
             "fill": {
              "color": "#EBF0F8"
             },
             "line": {
              "color": "white"
             }
            },
            "header": {
             "fill": {
              "color": "#C8D4E3"
             },
             "line": {
              "color": "white"
             }
            },
            "type": "table"
           }
          ]
         },
         "layout": {
          "annotationdefaults": {
           "arrowcolor": "#2a3f5f",
           "arrowhead": 0,
           "arrowwidth": 1
          },
          "autotypenumbers": "strict",
          "coloraxis": {
           "colorbar": {
            "outlinewidth": 0,
            "ticks": ""
           }
          },
          "colorscale": {
           "diverging": [
            [
             0,
             "#8e0152"
            ],
            [
             0.1,
             "#c51b7d"
            ],
            [
             0.2,
             "#de77ae"
            ],
            [
             0.3,
             "#f1b6da"
            ],
            [
             0.4,
             "#fde0ef"
            ],
            [
             0.5,
             "#f7f7f7"
            ],
            [
             0.6,
             "#e6f5d0"
            ],
            [
             0.7,
             "#b8e186"
            ],
            [
             0.8,
             "#7fbc41"
            ],
            [
             0.9,
             "#4d9221"
            ],
            [
             1,
             "#276419"
            ]
           ],
           "sequential": [
            [
             0,
             "#0d0887"
            ],
            [
             0.1111111111111111,
             "#46039f"
            ],
            [
             0.2222222222222222,
             "#7201a8"
            ],
            [
             0.3333333333333333,
             "#9c179e"
            ],
            [
             0.4444444444444444,
             "#bd3786"
            ],
            [
             0.5555555555555556,
             "#d8576b"
            ],
            [
             0.6666666666666666,
             "#ed7953"
            ],
            [
             0.7777777777777778,
             "#fb9f3a"
            ],
            [
             0.8888888888888888,
             "#fdca26"
            ],
            [
             1,
             "#f0f921"
            ]
           ],
           "sequentialminus": [
            [
             0,
             "#0d0887"
            ],
            [
             0.1111111111111111,
             "#46039f"
            ],
            [
             0.2222222222222222,
             "#7201a8"
            ],
            [
             0.3333333333333333,
             "#9c179e"
            ],
            [
             0.4444444444444444,
             "#bd3786"
            ],
            [
             0.5555555555555556,
             "#d8576b"
            ],
            [
             0.6666666666666666,
             "#ed7953"
            ],
            [
             0.7777777777777778,
             "#fb9f3a"
            ],
            [
             0.8888888888888888,
             "#fdca26"
            ],
            [
             1,
             "#f0f921"
            ]
           ]
          },
          "colorway": [
           "#636efa",
           "#EF553B",
           "#00cc96",
           "#ab63fa",
           "#FFA15A",
           "#19d3f3",
           "#FF6692",
           "#B6E880",
           "#FF97FF",
           "#FECB52"
          ],
          "font": {
           "color": "#2a3f5f"
          },
          "geo": {
           "bgcolor": "white",
           "lakecolor": "white",
           "landcolor": "#E5ECF6",
           "showlakes": true,
           "showland": true,
           "subunitcolor": "white"
          },
          "hoverlabel": {
           "align": "left"
          },
          "hovermode": "closest",
          "mapbox": {
           "style": "light"
          },
          "paper_bgcolor": "white",
          "plot_bgcolor": "#E5ECF6",
          "polar": {
           "angularaxis": {
            "gridcolor": "white",
            "linecolor": "white",
            "ticks": ""
           },
           "bgcolor": "#E5ECF6",
           "radialaxis": {
            "gridcolor": "white",
            "linecolor": "white",
            "ticks": ""
           }
          },
          "scene": {
           "xaxis": {
            "backgroundcolor": "#E5ECF6",
            "gridcolor": "white",
            "gridwidth": 2,
            "linecolor": "white",
            "showbackground": true,
            "ticks": "",
            "zerolinecolor": "white"
           },
           "yaxis": {
            "backgroundcolor": "#E5ECF6",
            "gridcolor": "white",
            "gridwidth": 2,
            "linecolor": "white",
            "showbackground": true,
            "ticks": "",
            "zerolinecolor": "white"
           },
           "zaxis": {
            "backgroundcolor": "#E5ECF6",
            "gridcolor": "white",
            "gridwidth": 2,
            "linecolor": "white",
            "showbackground": true,
            "ticks": "",
            "zerolinecolor": "white"
           }
          },
          "shapedefaults": {
           "line": {
            "color": "#2a3f5f"
           }
          },
          "ternary": {
           "aaxis": {
            "gridcolor": "white",
            "linecolor": "white",
            "ticks": ""
           },
           "baxis": {
            "gridcolor": "white",
            "linecolor": "white",
            "ticks": ""
           },
           "bgcolor": "#E5ECF6",
           "caxis": {
            "gridcolor": "white",
            "linecolor": "white",
            "ticks": ""
           }
          },
          "title": {
           "x": 0.05
          },
          "xaxis": {
           "automargin": true,
           "gridcolor": "white",
           "linecolor": "white",
           "ticks": "",
           "title": {
            "standoff": 15
           },
           "zerolinecolor": "white",
           "zerolinewidth": 2
          },
          "yaxis": {
           "automargin": true,
           "gridcolor": "white",
           "linecolor": "white",
           "ticks": "",
           "title": {
            "standoff": 15
           },
           "zerolinecolor": "white",
           "zerolinewidth": 2
          }
         }
        },
        "title": {
         "text": "Size Distribution in Top 5 Automotive Industry States"
        },
        "width": 950
       }
      }
     },
     "metadata": {},
     "output_type": "display_data"
    }
   ],
   "source": [
    "fig2.show()"
   ]
  },
  {
   "cell_type": "markdown",
   "id": "02bfbb7b",
   "metadata": {},
   "source": [
    "## Table updation with YFINANCE"
   ]
  },
  {
   "cell_type": "code",
   "execution_count": 44,
   "id": "675586e3",
   "metadata": {},
   "outputs": [],
   "source": [
    "import pandas as pd\n",
    "import snowflake.connector\n",
    "import yfinance as yf\n",
    "import numpy as np\n",
    "import datetime"
   ]
  },
  {
   "cell_type": "code",
   "execution_count": 46,
   "id": "a8495261",
   "metadata": {},
   "outputs": [],
   "source": [
    "def get_company_data():\n",
    "    \"\"\"Fetch company data with ticker symbols from Snowflake\"\"\"\n",
    "    conn = connect_to_snowflake(conn_params)\n",
    "    if conn is None:\n",
    "        return None\n",
    "    \n",
    "    try:\n",
    "        query = \"\"\"\n",
    "        SELECT * FROM LARGE_COMPANIES_WITH_TICKER\n",
    "        WHERE T_SYMBOL IS NOT NULL\n",
    "        \"\"\"\n",
    "        \n",
    "        df = pd.read_sql(query, conn)\n",
    "        conn.close()\n",
    "        print(f\"Retrieved {len(df)} companies with ticker symbols\")\n",
    "        return df\n",
    "    except Exception as e:\n",
    "        print(f\"Error fetching company data: {e}\")\n",
    "        if conn:\n",
    "            conn.close()\n",
    "        return None "
   ]
  },
  {
   "cell_type": "code",
   "execution_count": 50,
   "id": "90b3bc76",
   "metadata": {},
   "outputs": [],
   "source": [
    "def get_company_data():\n",
    "    \"\"\"Fetch company data with ticker symbols from Snowflake\"\"\"\n",
    "    conn = connect_to_snowflake(conn_params)\n",
    "    if conn is None:\n",
    "        return None\n",
    "    \n",
    "    try:\n",
    "        query = \"\"\"\n",
    "        SELECT * FROM LARGE_COMPANIES_WITH_TICKER\n",
    "        WHERE T_SYMBOL IS NOT NULL\n",
    "        \"\"\"\n",
    "        \n",
    "        df = pd.read_sql(query, conn)\n",
    "        conn.close()\n",
    "        print(f\"Retrieved {len(df)} companies with ticker symbols\")\n",
    "        return df\n",
    "    except Exception as e:\n",
    "        print(f\"Error fetching company data: {e}\")\n",
    "        if conn:\n",
    "            conn.close()\n",
    "        return None\n",
    "\n",
    "def get_yfinance_metrics(ticker_list):\n",
    "    \"\"\"Get relevant financial metrics for a list of tickers\"\"\"\n",
    "    # Filter out None values\n",
    "    ticker_list = [t for t in ticker_list if t]\n",
    "    \n",
    "    if not ticker_list:\n",
    "        return pd.DataFrame()\n",
    "    \n",
    "    # Create a dictionary to store results\n",
    "    results = {}\n",
    "    \n",
    "    # Process tickers in batches to avoid rate limiting\n",
    "    batch_size = 20\n",
    "    for i in range(0, len(ticker_list), batch_size):\n",
    "        batch = ticker_list[i:i+batch_size]\n",
    "        # print(f\"Processing batch {i//batch_size + 1}/{(len(ticker_list) + batch_size - 1)//batch_size}\")\n",
    "        \n",
    "        # Process each ticker in the batch\n",
    "        for ticker in batch:\n",
    "            try:\n",
    "                # print(f\"Processing ticker: {ticker}\")\n",
    "                # Create ticker object\n",
    "                ticker_obj = yf.Ticker(ticker)\n",
    "                \n",
    "                # Get basic info\n",
    "                info = ticker_obj.info\n",
    "                \n",
    "                # Get historical data for 1-year return calculation\n",
    "                hist = ticker_obj.history(period=\"1y\")\n",
    "                \n",
    "                # Calculate metrics if we have historical data\n",
    "                if len(hist) > 0:\n",
    "                    # Calculate return\n",
    "                    start_price = hist['Close'].iloc[0]\n",
    "                    current_price = hist['Close'].iloc[-1]\n",
    "                    yearly_return = ((current_price - start_price) / start_price) * 100\n",
    "                    \n",
    "                    # Calculate volatility\n",
    "                    daily_returns = hist['Close'].pct_change().dropna()\n",
    "                    volatility = daily_returns.std() * 100 * np.sqrt(252)  # Annualized\n",
    "                else:\n",
    "                    yearly_return = None\n",
    "                    volatility = None\n",
    "                \n",
    "                # Store the results\n",
    "                results[ticker] = {\n",
    "                    'ticker': ticker,\n",
    "                    'current_price': hist['Close'].iloc[-1] if len(hist) > 0 else None,\n",
    "                    'market_cap': info.get('marketCap', None),\n",
    "                    'pe_ratio': info.get('trailingPE', None),\n",
    "                    'forward_pe': info.get('forwardPE', None),\n",
    "                    'price_to_book': info.get('priceToBook', None),\n",
    "                    'beta': info.get('beta', None),\n",
    "                    'dividend_yield': info.get('dividendYield', 0) * 100 if info.get('dividendYield') else 0,\n",
    "                    'yearly_return': yearly_return,\n",
    "                    'volatility': volatility,\n",
    "                    'sector': info.get('sector', None),\n",
    "                    'industry_yf': info.get('industry', None),\n",
    "                    'company_name_yf': info.get('longName', None),\n",
    "                    'revenue_growth': info.get('revenueGrowth', None),\n",
    "                    'profit_margins': info.get('profitMargins', None),\n",
    "                    'return_on_equity': info.get('returnOnEquity', None),\n",
    "                    'debt_to_equity': info.get('debtToEquity', None),\n",
    "                    'avg_volume': info.get('averageVolume', None),\n",
    "                    'target_mean_price': info.get('targetMeanPrice', None),\n",
    "                    'analyst_rating': info.get('recommendationMean', None),\n",
    "                    'last_updated': datetime.datetime.now().strftime('%Y-%m-%d')\n",
    "                }\n",
    "                \n",
    "            except Exception as e:\n",
    "                print(f\"Error processing ticker {ticker}: {e}\")\n",
    "                # Add the ticker to results with None values to maintain the record\n",
    "                results[ticker] = {\n",
    "                    'ticker': ticker,\n",
    "                    'current_price': None,\n",
    "                    'market_cap': None,\n",
    "                    'pe_ratio': None,\n",
    "                    'forward_pe': None,\n",
    "                    'price_to_book': None,\n",
    "                    'beta': None,\n",
    "                    'dividend_yield': None,\n",
    "                    'yearly_return': None,\n",
    "                    'volatility': None,\n",
    "                    'sector': None,\n",
    "                    'industry_yf': None,\n",
    "                    'company_name_yf': None,\n",
    "                    'revenue_growth': None,\n",
    "                    'profit_margins': None,\n",
    "                    'return_on_equity': None,\n",
    "                    'debt_to_equity': None,\n",
    "                    'avg_volume': None,\n",
    "                    'target_mean_price': None,\n",
    "                    'analyst_rating': None,\n",
    "                    'last_updated': datetime.datetime.now().strftime('%Y-%m-%d')\n",
    "                }\n",
    "    \n",
    "    # Convert results to DataFrame\n",
    "    metrics_df = pd.DataFrame.from_dict(results, orient='index')\n",
    "    return metrics_df\n",
    "\n",
    "def enhance_company_data_with_yfinance():\n",
    "    \"\"\"Main function to enhance company data with yfinance metrics\"\"\"\n",
    "    # Get company data from Snowflake\n",
    "    company_df = get_company_data()\n",
    "    \n",
    "    if company_df is None or company_df.empty:\n",
    "        print(\"No company data available. Exiting.\")\n",
    "        return\n",
    "    \n",
    "    # Extract unique ticker symbols\n",
    "    ticker_symbols = company_df['T_SYMBOL'].unique().tolist()\n",
    "    print(f\"Found {len(ticker_symbols)} unique ticker symbols\")\n",
    "    \n",
    "    # Get metrics from yfinance\n",
    "    metrics_df = get_yfinance_metrics(ticker_symbols)\n",
    "    \n",
    "    if metrics_df.empty:\n",
    "        print(\"No metrics data retrieved. Exiting.\")\n",
    "        return\n",
    "    \n",
    "    # Merge the data\n",
    "    enhanced_df = pd.merge(\n",
    "        company_df,\n",
    "        metrics_df,\n",
    "        left_on='T_SYMBOL',\n",
    "        right_on='ticker',\n",
    "        how='left'\n",
    "    )\n",
    "    \n",
    "    print(f\"Enhanced dataset has {enhanced_df.shape[1]} columns and {enhanced_df.shape[0]} rows\")\n",
    "    \n",
    "    # Write the enhanced data back to Snowflake\n",
    "    # save_to_snowflake(enhanced_df)\n",
    "    \n",
    "    # Also save locally as CSV for backup\n",
    "    enhanced_df.to_csv('enhanced_company_data.csv', index=False)\n",
    "    print(\"Data saved to enhanced_company_data.csv\")\n",
    "    \n",
    "    return enhanced_df"
   ]
  },
  {
   "cell_type": "code",
   "execution_count": 51,
   "id": "85aac720",
   "metadata": {},
   "outputs": [
    {
     "name": "stdout",
     "output_type": "stream",
     "text": [
      "Connected to Snowflake successfully!\n"
     ]
    },
    {
     "name": "stderr",
     "output_type": "stream",
     "text": [
      "C:\\Users\\yohan\\AppData\\Local\\Temp\\ipykernel_20296\\3518601462.py:13: UserWarning:\n",
      "\n",
      "pandas only supports SQLAlchemy connectable (engine/connection) or database string URI or sqlite3 DBAPI2 connection. Other DBAPI2 objects are not tested. Please consider using SQLAlchemy.\n",
      "\n"
     ]
    },
    {
     "name": "stdout",
     "output_type": "stream",
     "text": [
      "Retrieved 894 companies with ticker symbols\n",
      "Found 737 unique ticker symbols\n"
     ]
    },
    {
     "name": "stderr",
     "output_type": "stream",
     "text": [
      "404 Client Error: Not Found for url: https://query2.finance.yahoo.com/v10/finance/quoteSummary/ANG$B?modules=financialData%2CquoteType%2CdefaultKeyStatistics%2CassetProfile%2CsummaryDetail&corsDomain=finance.yahoo.com&formatted=false&symbol=ANG%24B&crumb=fhSyczRYun3\n"
     ]
    },
    {
     "name": "stdout",
     "output_type": "stream",
     "text": [
      "Error processing ticker ANG$B: 'NoneType' object has no attribute 'update'\n"
     ]
    },
    {
     "name": "stderr",
     "output_type": "stream",
     "text": [
      "404 Client Error: Not Found for url: https://query2.finance.yahoo.com/v10/finance/quoteSummary/ATH$A?modules=financialData%2CquoteType%2CdefaultKeyStatistics%2CassetProfile%2CsummaryDetail&corsDomain=finance.yahoo.com&formatted=false&symbol=ATH%24A&crumb=fhSyczRYun3\n"
     ]
    },
    {
     "name": "stdout",
     "output_type": "stream",
     "text": [
      "Error processing ticker ATH$A: 'NoneType' object has no attribute 'update'\n"
     ]
    },
    {
     "name": "stderr",
     "output_type": "stream",
     "text": [
      "404 Client Error: Not Found for url: https://query2.finance.yahoo.com/v10/finance/quoteSummary/MER$K?modules=financialData%2CquoteType%2CdefaultKeyStatistics%2CassetProfile%2CsummaryDetail&corsDomain=finance.yahoo.com&formatted=false&symbol=MER%24K&crumb=fhSyczRYun3\n"
     ]
    },
    {
     "name": "stdout",
     "output_type": "stream",
     "text": [
      "Error processing ticker MER$K: 'NoneType' object has no attribute 'update'\n"
     ]
    },
    {
     "name": "stderr",
     "output_type": "stream",
     "text": [
      "404 Client Error: Not Found for url: https://query2.finance.yahoo.com/v10/finance/quoteSummary/CELG.R?modules=financialData%2CquoteType%2CdefaultKeyStatistics%2CassetProfile%2CsummaryDetail&corsDomain=finance.yahoo.com&formatted=false&symbol=CELG.R&crumb=fhSyczRYun3\n"
     ]
    },
    {
     "name": "stdout",
     "output_type": "stream",
     "text": [
      "Error processing ticker CELG.R: 'NoneType' object has no attribute 'update'\n"
     ]
    },
    {
     "name": "stderr",
     "output_type": "stream",
     "text": [
      "$CRD.A: possibly delisted; no price data found  (period=1y) (Yahoo error = \"No data found, symbol may be delisted\")\n",
      "404 Client Error: Not Found for url: https://query2.finance.yahoo.com/v10/finance/quoteSummary/CODI$A?modules=financialData%2CquoteType%2CdefaultKeyStatistics%2CassetProfile%2CsummaryDetail&corsDomain=finance.yahoo.com&formatted=false&symbol=CODI%24A&crumb=fhSyczRYun3\n"
     ]
    },
    {
     "name": "stdout",
     "output_type": "stream",
     "text": [
      "Error processing ticker CODI$A: 'NoneType' object has no attribute 'update'\n"
     ]
    },
    {
     "name": "stderr",
     "output_type": "stream",
     "text": [
      "404 Client Error: Not Found for url: https://query2.finance.yahoo.com/v10/finance/quoteSummary/DUK$A?modules=financialData%2CquoteType%2CdefaultKeyStatistics%2CassetProfile%2CsummaryDetail&corsDomain=finance.yahoo.com&formatted=false&symbol=DUK%24A&crumb=fhSyczRYun3\n"
     ]
    },
    {
     "name": "stdout",
     "output_type": "stream",
     "text": [
      "Error processing ticker DUK$A: 'NoneType' object has no attribute 'update'\n"
     ]
    },
    {
     "name": "stderr",
     "output_type": "stream",
     "text": [
      "404 Client Error: Not Found for url: https://query2.finance.yahoo.com/v10/finance/quoteSummary/JPM$K?modules=financialData%2CquoteType%2CdefaultKeyStatistics%2CassetProfile%2CsummaryDetail&corsDomain=finance.yahoo.com&formatted=false&symbol=JPM%24K&crumb=fhSyczRYun3\n"
     ]
    },
    {
     "name": "stdout",
     "output_type": "stream",
     "text": [
      "Error processing ticker JPM$K: 'NoneType' object has no attribute 'update'\n"
     ]
    },
    {
     "name": "stderr",
     "output_type": "stream",
     "text": [
      "404 Client Error: Not Found for url: https://query2.finance.yahoo.com/v10/finance/quoteSummary/CVE.W?modules=financialData%2CquoteType%2CdefaultKeyStatistics%2CassetProfile%2CsummaryDetail&corsDomain=finance.yahoo.com&formatted=false&symbol=CVE.W&crumb=fhSyczRYun3\n"
     ]
    },
    {
     "name": "stdout",
     "output_type": "stream",
     "text": [
      "Error processing ticker CVE.W: 'NoneType' object has no attribute 'update'\n"
     ]
    },
    {
     "name": "stderr",
     "output_type": "stream",
     "text": [
      "404 Client Error: Not Found for url: https://query2.finance.yahoo.com/v10/finance/quoteSummary/IRS.W?modules=financialData%2CquoteType%2CdefaultKeyStatistics%2CassetProfile%2CsummaryDetail&corsDomain=finance.yahoo.com&formatted=false&symbol=IRS.W&crumb=fhSyczRYun3\n"
     ]
    },
    {
     "name": "stdout",
     "output_type": "stream",
     "text": [
      "Error processing ticker IRS.W: 'NoneType' object has no attribute 'update'\n"
     ]
    },
    {
     "name": "stderr",
     "output_type": "stream",
     "text": [
      "404 Client Error: Not Found for url: https://query2.finance.yahoo.com/v10/finance/quoteSummary/CHMI$B?modules=financialData%2CquoteType%2CdefaultKeyStatistics%2CassetProfile%2CsummaryDetail&corsDomain=finance.yahoo.com&formatted=false&symbol=CHMI%24B&crumb=fhSyczRYun3\n"
     ]
    },
    {
     "name": "stdout",
     "output_type": "stream",
     "text": [
      "Error processing ticker CHMI$B: 'NoneType' object has no attribute 'update'\n"
     ]
    },
    {
     "name": "stderr",
     "output_type": "stream",
     "text": [
      "404 Client Error: Not Found for url: https://query2.finance.yahoo.com/v10/finance/quoteSummary/IIPR$A?modules=financialData%2CquoteType%2CdefaultKeyStatistics%2CassetProfile%2CsummaryDetail&corsDomain=finance.yahoo.com&formatted=false&symbol=IIPR%24A&crumb=fhSyczRYun3\n"
     ]
    },
    {
     "name": "stdout",
     "output_type": "stream",
     "text": [
      "Error processing ticker IIPR$A: 'NoneType' object has no attribute 'update'\n"
     ]
    },
    {
     "name": "stderr",
     "output_type": "stream",
     "text": [
      "404 Client Error: Not Found for url: https://query2.finance.yahoo.com/v10/finance/quoteSummary/ACR$D?modules=financialData%2CquoteType%2CdefaultKeyStatistics%2CassetProfile%2CsummaryDetail&corsDomain=finance.yahoo.com&formatted=false&symbol=ACR%24D&crumb=fhSyczRYun3\n"
     ]
    },
    {
     "name": "stdout",
     "output_type": "stream",
     "text": [
      "Error processing ticker ACR$D: 'NoneType' object has no attribute 'update'\n"
     ]
    },
    {
     "name": "stderr",
     "output_type": "stream",
     "text": [
      "404 Client Error: Not Found for url: https://query2.finance.yahoo.com/v10/finance/quoteSummary/SOUL.U?modules=financialData%2CquoteType%2CdefaultKeyStatistics%2CassetProfile%2CsummaryDetail&corsDomain=finance.yahoo.com&formatted=false&symbol=SOUL.U&crumb=fhSyczRYun3\n"
     ]
    },
    {
     "name": "stdout",
     "output_type": "stream",
     "text": [
      "Error processing ticker SOUL.U: 'NoneType' object has no attribute 'update'\n"
     ]
    },
    {
     "name": "stderr",
     "output_type": "stream",
     "text": [
      "404 Client Error: Not Found for url: https://query2.finance.yahoo.com/v10/finance/quoteSummary/CLDT$A?modules=financialData%2CquoteType%2CdefaultKeyStatistics%2CassetProfile%2CsummaryDetail&corsDomain=finance.yahoo.com&formatted=false&symbol=CLDT%24A&crumb=fhSyczRYun3\n"
     ]
    },
    {
     "name": "stdout",
     "output_type": "stream",
     "text": [
      "Error processing ticker CLDT$A: 'NoneType' object has no attribute 'update'\n"
     ]
    },
    {
     "name": "stderr",
     "output_type": "stream",
     "text": [
      "404 Client Error: Not Found for url: https://query2.finance.yahoo.com/v10/finance/quoteSummary/SCE$J?modules=financialData%2CquoteType%2CdefaultKeyStatistics%2CassetProfile%2CsummaryDetail&corsDomain=finance.yahoo.com&formatted=false&symbol=SCE%24J&crumb=fhSyczRYun3\n"
     ]
    },
    {
     "name": "stdout",
     "output_type": "stream",
     "text": [
      "Error processing ticker SCE$J: 'NoneType' object has no attribute 'update'\n",
      "Enhanced dataset has 36 columns and 894 rows\n",
      "Data saved to enhanced_company_data.csv\n"
     ]
    }
   ],
   "source": [
    "en_df = enhance_company_data_with_yfinance()\n"
   ]
  },
  {
   "cell_type": "code",
   "execution_count": 53,
   "id": "0652b5b7",
   "metadata": {},
   "outputs": [
    {
     "data": {
      "text/html": [
       "<div>\n",
       "<style scoped>\n",
       "    .dataframe tbody tr th:only-of-type {\n",
       "        vertical-align: middle;\n",
       "    }\n",
       "\n",
       "    .dataframe tbody tr th {\n",
       "        vertical-align: top;\n",
       "    }\n",
       "\n",
       "    .dataframe thead th {\n",
       "        text-align: right;\n",
       "    }\n",
       "</style>\n",
       "<table border=\"1\" class=\"dataframe\">\n",
       "  <thead>\n",
       "    <tr style=\"text-align: right;\">\n",
       "      <th></th>\n",
       "      <th>ID</th>\n",
       "      <th>INDUSTRY</th>\n",
       "      <th>COMPANY_NAME</th>\n",
       "      <th>SIZE</th>\n",
       "      <th>FOUNDED</th>\n",
       "      <th>REGION</th>\n",
       "      <th>COUNTRY</th>\n",
       "      <th>LOCALITY</th>\n",
       "      <th>WEBSITE</th>\n",
       "      <th>LINKEDIN_URL</th>\n",
       "      <th>...</th>\n",
       "      <th>industry_yf</th>\n",
       "      <th>company_name_yf</th>\n",
       "      <th>revenue_growth</th>\n",
       "      <th>profit_margins</th>\n",
       "      <th>return_on_equity</th>\n",
       "      <th>debt_to_equity</th>\n",
       "      <th>avg_volume</th>\n",
       "      <th>target_mean_price</th>\n",
       "      <th>analyst_rating</th>\n",
       "      <th>last_updated</th>\n",
       "    </tr>\n",
       "  </thead>\n",
       "  <tbody>\n",
       "    <tr>\n",
       "      <th>889</th>\n",
       "      <td>e64MvwCCRwULJn3dpfCPoQLkY6Vi</td>\n",
       "      <td>financial services</td>\n",
       "      <td>the hartford</td>\n",
       "      <td>10001+</td>\n",
       "      <td>1810</td>\n",
       "      <td>connecticut</td>\n",
       "      <td>united states</td>\n",
       "      <td>hartford</td>\n",
       "      <td>thehartford.com</td>\n",
       "      <td>linkedin.com/company/the-hartford</td>\n",
       "      <td>...</td>\n",
       "      <td>Insurance - Property &amp; Casualty</td>\n",
       "      <td>The Hartford Insurance Group, Inc.</td>\n",
       "      <td>0.074</td>\n",
       "      <td>0.11713</td>\n",
       "      <td>0.19582</td>\n",
       "      <td>27.427</td>\n",
       "      <td>1805885.0</td>\n",
       "      <td>130.0000</td>\n",
       "      <td>2.31579</td>\n",
       "      <td>2025-04-11</td>\n",
       "    </tr>\n",
       "    <tr>\n",
       "      <th>890</th>\n",
       "      <td>V6kvOeBij5MTbwYCGf4QEQRTXQVv</td>\n",
       "      <td>consumer goods</td>\n",
       "      <td>the hershey company</td>\n",
       "      <td>10001+</td>\n",
       "      <td>1894</td>\n",
       "      <td>pennsylvania</td>\n",
       "      <td>united states</td>\n",
       "      <td>hershey</td>\n",
       "      <td>thehersheycompany.com</td>\n",
       "      <td>linkedin.com/company/the-hershey-company</td>\n",
       "      <td>...</td>\n",
       "      <td>Confectioners</td>\n",
       "      <td>The Hershey Company</td>\n",
       "      <td>0.087</td>\n",
       "      <td>0.19828</td>\n",
       "      <td>0.50404</td>\n",
       "      <td>115.545</td>\n",
       "      <td>2017479.0</td>\n",
       "      <td>165.2224</td>\n",
       "      <td>3.00000</td>\n",
       "      <td>2025-04-11</td>\n",
       "    </tr>\n",
       "    <tr>\n",
       "      <th>891</th>\n",
       "      <td>BDN04pBEqr4T7NpAvKYB1AhPCbUa</td>\n",
       "      <td>hospitality</td>\n",
       "      <td>the marcus corporation</td>\n",
       "      <td>10001+</td>\n",
       "      <td>1935</td>\n",
       "      <td>wisconsin</td>\n",
       "      <td>united states</td>\n",
       "      <td>milwaukee</td>\n",
       "      <td>marcuscorp.com</td>\n",
       "      <td>linkedin.com/company/marcus-corporation</td>\n",
       "      <td>...</td>\n",
       "      <td>Entertainment</td>\n",
       "      <td>The Marcus Corporation</td>\n",
       "      <td>0.162</td>\n",
       "      <td>-0.01120</td>\n",
       "      <td>-0.01664</td>\n",
       "      <td>75.857</td>\n",
       "      <td>213667.0</td>\n",
       "      <td>26.0000</td>\n",
       "      <td>NaN</td>\n",
       "      <td>2025-04-11</td>\n",
       "    </tr>\n",
       "    <tr>\n",
       "      <th>892</th>\n",
       "      <td>Gk1yEjJBlLCQswdhHUrtmALGZHXD</td>\n",
       "      <td>research</td>\n",
       "      <td>thermo fisher scientific</td>\n",
       "      <td>10001+</td>\n",
       "      <td>1956</td>\n",
       "      <td>massachusetts</td>\n",
       "      <td>united states</td>\n",
       "      <td>waltham</td>\n",
       "      <td>thermofisher.com</td>\n",
       "      <td>linkedin.com/company/thermo-fisher-scientific</td>\n",
       "      <td>...</td>\n",
       "      <td>Diagnostics &amp; Research</td>\n",
       "      <td>Thermo Fisher Scientific Inc.</td>\n",
       "      <td>0.047</td>\n",
       "      <td>0.14774</td>\n",
       "      <td>0.13134</td>\n",
       "      <td>66.099</td>\n",
       "      <td>2118143.0</td>\n",
       "      <td>643.0782</td>\n",
       "      <td>1.61290</td>\n",
       "      <td>2025-04-11</td>\n",
       "    </tr>\n",
       "    <tr>\n",
       "      <th>893</th>\n",
       "      <td>6wkAxWFvrOdCEQESsu5yyQXbPQyR</td>\n",
       "      <td>oil &amp; energy</td>\n",
       "      <td>thermon</td>\n",
       "      <td>1001-5000</td>\n",
       "      <td>1954</td>\n",
       "      <td>texas</td>\n",
       "      <td>united states</td>\n",
       "      <td>san marcos</td>\n",
       "      <td>thermon.com</td>\n",
       "      <td>linkedin.com/company/thermon</td>\n",
       "      <td>...</td>\n",
       "      <td>Specialty Industrial Machinery</td>\n",
       "      <td>Thermon Group Holdings, Inc.</td>\n",
       "      <td>-0.015</td>\n",
       "      <td>0.09481</td>\n",
       "      <td>0.09753</td>\n",
       "      <td>34.152</td>\n",
       "      <td>206272.0</td>\n",
       "      <td>35.0000</td>\n",
       "      <td>NaN</td>\n",
       "      <td>2025-04-11</td>\n",
       "    </tr>\n",
       "  </tbody>\n",
       "</table>\n",
       "<p>5 rows × 36 columns</p>\n",
       "</div>"
      ],
      "text/plain": [
       "                               ID            INDUSTRY  \\\n",
       "889  e64MvwCCRwULJn3dpfCPoQLkY6Vi  financial services   \n",
       "890  V6kvOeBij5MTbwYCGf4QEQRTXQVv      consumer goods   \n",
       "891  BDN04pBEqr4T7NpAvKYB1AhPCbUa         hospitality   \n",
       "892  Gk1yEjJBlLCQswdhHUrtmALGZHXD            research   \n",
       "893  6wkAxWFvrOdCEQESsu5yyQXbPQyR        oil & energy   \n",
       "\n",
       "                 COMPANY_NAME       SIZE  FOUNDED         REGION  \\\n",
       "889              the hartford     10001+     1810    connecticut   \n",
       "890       the hershey company     10001+     1894   pennsylvania   \n",
       "891    the marcus corporation     10001+     1935      wisconsin   \n",
       "892  thermo fisher scientific     10001+     1956  massachusetts   \n",
       "893                   thermon  1001-5000     1954          texas   \n",
       "\n",
       "           COUNTRY    LOCALITY                WEBSITE  \\\n",
       "889  united states    hartford        thehartford.com   \n",
       "890  united states     hershey  thehersheycompany.com   \n",
       "891  united states   milwaukee         marcuscorp.com   \n",
       "892  united states     waltham       thermofisher.com   \n",
       "893  united states  san marcos            thermon.com   \n",
       "\n",
       "                                      LINKEDIN_URL  ...  \\\n",
       "889              linkedin.com/company/the-hartford  ...   \n",
       "890       linkedin.com/company/the-hershey-company  ...   \n",
       "891        linkedin.com/company/marcus-corporation  ...   \n",
       "892  linkedin.com/company/thermo-fisher-scientific  ...   \n",
       "893                   linkedin.com/company/thermon  ...   \n",
       "\n",
       "                         industry_yf                     company_name_yf  \\\n",
       "889  Insurance - Property & Casualty  The Hartford Insurance Group, Inc.   \n",
       "890                    Confectioners                 The Hershey Company   \n",
       "891                    Entertainment              The Marcus Corporation   \n",
       "892           Diagnostics & Research       Thermo Fisher Scientific Inc.   \n",
       "893   Specialty Industrial Machinery        Thermon Group Holdings, Inc.   \n",
       "\n",
       "    revenue_growth  profit_margins return_on_equity debt_to_equity  \\\n",
       "889          0.074         0.11713          0.19582         27.427   \n",
       "890          0.087         0.19828          0.50404        115.545   \n",
       "891          0.162        -0.01120         -0.01664         75.857   \n",
       "892          0.047         0.14774          0.13134         66.099   \n",
       "893         -0.015         0.09481          0.09753         34.152   \n",
       "\n",
       "     avg_volume  target_mean_price analyst_rating  last_updated  \n",
       "889   1805885.0           130.0000        2.31579    2025-04-11  \n",
       "890   2017479.0           165.2224        3.00000    2025-04-11  \n",
       "891    213667.0            26.0000            NaN    2025-04-11  \n",
       "892   2118143.0           643.0782        1.61290    2025-04-11  \n",
       "893    206272.0            35.0000            NaN    2025-04-11  \n",
       "\n",
       "[5 rows x 36 columns]"
      ]
     },
     "execution_count": 53,
     "metadata": {},
     "output_type": "execute_result"
    }
   ],
   "source": [
    "en_df.tail()"
   ]
  },
  {
   "cell_type": "code",
   "execution_count": null,
   "id": "56cacdfb",
   "metadata": {},
   "outputs": [],
   "source": [
    "import pandas as pd\n",
    "import finnhub\n",
    "\n",
    "#list of available exchanges\n",
    "\n",
    "df=pd.read_html(\"https://docs.google.com/spreadsheets/d/1I3pBxjfXB056-g_JYf_6o3Rns3BV2kMGG1nCatb91ls/edit#gid=0\")\n",
    "df1=df[0]\n",
    "exc=df1.loc[:,\"A\"].dropna()\n",
    "\n",
    "exclist=[]\n",
    "for i in exc:\n",
    "    exclist.append(str(i))\n",
    "exclist=exclist[1:] #take out \"name\" from the list\n",
    "\n",
    "#retrieve tickers from every exchange available\n",
    "tickers=[]\n",
    "finnhub_client = finnhub.Client(api_key=\"c46qn9iad3iagvmhdk7g\")\n",
    "for exchange in exclist:\n",
    "    listofdicts=finnhub_client.stock_symbols(exchange)\n",
    "    for dicts in listofdicts:\n",
    "        tickers.append(dicts['symbol'])\n",
    "\n",
    "print(\"You just got a list of %s tickers worldwide.\" % len(tickers), tickers)"
   ]
  },
  {
   "cell_type": "code",
   "execution_count": 2,
   "id": "09d2aacf",
   "metadata": {},
   "outputs": [
    {
     "name": "stderr",
     "output_type": "stream",
     "text": [
      "c:\\Users\\yohan\\anaconda3\\envs\\final_proj_1\\Lib\\site-packages\\get_all_tickers\\get_tickers.py:95: SyntaxWarning: invalid escape sequence '\\.'\n",
      "  df = df[~df['Symbol'].str.contains(\"\\.|\\^\")]\n",
      "c:\\Users\\yohan\\anaconda3\\envs\\final_proj_1\\Lib\\site-packages\\get_all_tickers\\get_tickers.py:140: SyntaxWarning: invalid escape sequence '\\.'\n",
      "  df_filtered = df[~df['Symbol'].str.contains(\"\\.|\\^\")]\n",
      "c:\\Users\\yohan\\anaconda3\\envs\\final_proj_1\\Lib\\site-packages\\get_all_tickers\\get_tickers.py:147: SyntaxWarning: invalid escape sequence '\\.'\n",
      "  df = df[~df['Symbol'].str.contains(\"\\.|\\^\")]\n"
     ]
    },
    {
     "ename": "ParserError",
     "evalue": "Error tokenizing data. C error: Expected 1 fields in line 9, saw 2\n",
     "output_type": "error",
     "traceback": [
      "\u001b[31m---------------------------------------------------------------------------\u001b[39m",
      "\u001b[31mParserError\u001b[39m                               Traceback (most recent call last)",
      "\u001b[36mCell\u001b[39m\u001b[36m \u001b[39m\u001b[32mIn[2]\u001b[39m\u001b[32m, line 6\u001b[39m\n\u001b[32m      3\u001b[39m \u001b[38;5;28;01mimport\u001b[39;00m\u001b[38;5;250m \u001b[39m\u001b[34;01myfinance\u001b[39;00m\u001b[38;5;250m \u001b[39m\u001b[38;5;28;01mas\u001b[39;00m\u001b[38;5;250m \u001b[39m\u001b[34;01myf\u001b[39;00m\n\u001b[32m      4\u001b[39m \u001b[38;5;28;01mfrom\u001b[39;00m\u001b[38;5;250m \u001b[39m\u001b[34;01mget_all_tickers\u001b[39;00m\u001b[34;01m.\u001b[39;00m\u001b[34;01mget_tickers\u001b[39;00m\u001b[38;5;250m \u001b[39m\u001b[38;5;28;01mimport\u001b[39;00m get_tickers\n\u001b[32m----> \u001b[39m\u001b[32m6\u001b[39m tickers_list = \u001b[43mget_tickers\u001b[49m\u001b[43m(\u001b[49m\u001b[43m)\u001b[49m\n\u001b[32m      8\u001b[39m tickers_list = tickers_list[:\u001b[32m50\u001b[39m]\n\u001b[32m     10\u001b[39m \u001b[38;5;66;03m# Initialize an empty list to store the data.\u001b[39;00m\n",
      "\u001b[36mFile \u001b[39m\u001b[32mc:\\Users\\yohan\\anaconda3\\envs\\final_proj_1\\Lib\\site-packages\\get_all_tickers\\get_tickers.py:73\u001b[39m, in \u001b[36mget_tickers\u001b[39m\u001b[34m(NYSE, NASDAQ, AMEX)\u001b[39m\n\u001b[32m     71\u001b[39m tickers_list = []\n\u001b[32m     72\u001b[39m \u001b[38;5;28;01mif\u001b[39;00m NYSE:\n\u001b[32m---> \u001b[39m\u001b[32m73\u001b[39m     tickers_list.extend(\u001b[43m__exchange2list\u001b[49m\u001b[43m(\u001b[49m\u001b[33;43m'\u001b[39;49m\u001b[33;43mnyse\u001b[39;49m\u001b[33;43m'\u001b[39;49m\u001b[43m)\u001b[49m)\n\u001b[32m     74\u001b[39m \u001b[38;5;28;01mif\u001b[39;00m NASDAQ:\n\u001b[32m     75\u001b[39m     tickers_list.extend(__exchange2list(\u001b[33m'\u001b[39m\u001b[33mnasdaq\u001b[39m\u001b[33m'\u001b[39m))\n",
      "\u001b[36mFile \u001b[39m\u001b[32mc:\\Users\\yohan\\anaconda3\\envs\\final_proj_1\\Lib\\site-packages\\get_all_tickers\\get_tickers.py:138\u001b[39m, in \u001b[36m__exchange2list\u001b[39m\u001b[34m(exchange)\u001b[39m\n\u001b[32m    137\u001b[39m \u001b[38;5;28;01mdef\u001b[39;00m\u001b[38;5;250m \u001b[39m\u001b[34m__exchange2list\u001b[39m(exchange):\n\u001b[32m--> \u001b[39m\u001b[32m138\u001b[39m     df = \u001b[43m__exchange2df\u001b[49m\u001b[43m(\u001b[49m\u001b[43mexchange\u001b[49m\u001b[43m)\u001b[49m\n\u001b[32m    139\u001b[39m     \u001b[38;5;66;03m# removes weird tickers\u001b[39;00m\n\u001b[32m    140\u001b[39m     df_filtered = df[~df[\u001b[33m'\u001b[39m\u001b[33mSymbol\u001b[39m\u001b[33m'\u001b[39m].str.contains(\u001b[33m\"\u001b[39m\u001b[33m\\\u001b[39m\u001b[33m.|\u001b[39m\u001b[33m\\\u001b[39m\u001b[33m^\u001b[39m\u001b[33m\"\u001b[39m)]\n",
      "\u001b[36mFile \u001b[39m\u001b[32mc:\\Users\\yohan\\anaconda3\\envs\\final_proj_1\\Lib\\site-packages\\get_all_tickers\\get_tickers.py:134\u001b[39m, in \u001b[36m__exchange2df\u001b[39m\u001b[34m(exchange)\u001b[39m\n\u001b[32m    132\u001b[39m response = requests.get(\u001b[33m'\u001b[39m\u001b[33mhttps://old.nasdaq.com/screening/companies-by-name.aspx\u001b[39m\u001b[33m'\u001b[39m, headers=headers, params=params(exchange))\n\u001b[32m    133\u001b[39m data = io.StringIO(response.text)\n\u001b[32m--> \u001b[39m\u001b[32m134\u001b[39m df = \u001b[43mpd\u001b[49m\u001b[43m.\u001b[49m\u001b[43mread_csv\u001b[49m\u001b[43m(\u001b[49m\u001b[43mdata\u001b[49m\u001b[43m,\u001b[49m\u001b[43m \u001b[49m\u001b[43msep\u001b[49m\u001b[43m=\u001b[49m\u001b[33;43m\"\u001b[39;49m\u001b[33;43m,\u001b[39;49m\u001b[33;43m\"\u001b[39;49m\u001b[43m)\u001b[49m\n\u001b[32m    135\u001b[39m \u001b[38;5;28;01mreturn\u001b[39;00m df\n",
      "\u001b[36mFile \u001b[39m\u001b[32mc:\\Users\\yohan\\anaconda3\\envs\\final_proj_1\\Lib\\site-packages\\pandas\\io\\parsers\\readers.py:1026\u001b[39m, in \u001b[36mread_csv\u001b[39m\u001b[34m(filepath_or_buffer, sep, delimiter, header, names, index_col, usecols, dtype, engine, converters, true_values, false_values, skipinitialspace, skiprows, skipfooter, nrows, na_values, keep_default_na, na_filter, verbose, skip_blank_lines, parse_dates, infer_datetime_format, keep_date_col, date_parser, date_format, dayfirst, cache_dates, iterator, chunksize, compression, thousands, decimal, lineterminator, quotechar, quoting, doublequote, escapechar, comment, encoding, encoding_errors, dialect, on_bad_lines, delim_whitespace, low_memory, memory_map, float_precision, storage_options, dtype_backend)\u001b[39m\n\u001b[32m   1013\u001b[39m kwds_defaults = _refine_defaults_read(\n\u001b[32m   1014\u001b[39m     dialect,\n\u001b[32m   1015\u001b[39m     delimiter,\n\u001b[32m   (...)\u001b[39m\u001b[32m   1022\u001b[39m     dtype_backend=dtype_backend,\n\u001b[32m   1023\u001b[39m )\n\u001b[32m   1024\u001b[39m kwds.update(kwds_defaults)\n\u001b[32m-> \u001b[39m\u001b[32m1026\u001b[39m \u001b[38;5;28;01mreturn\u001b[39;00m \u001b[43m_read\u001b[49m\u001b[43m(\u001b[49m\u001b[43mfilepath_or_buffer\u001b[49m\u001b[43m,\u001b[49m\u001b[43m \u001b[49m\u001b[43mkwds\u001b[49m\u001b[43m)\u001b[49m\n",
      "\u001b[36mFile \u001b[39m\u001b[32mc:\\Users\\yohan\\anaconda3\\envs\\final_proj_1\\Lib\\site-packages\\pandas\\io\\parsers\\readers.py:626\u001b[39m, in \u001b[36m_read\u001b[39m\u001b[34m(filepath_or_buffer, kwds)\u001b[39m\n\u001b[32m    623\u001b[39m     \u001b[38;5;28;01mreturn\u001b[39;00m parser\n\u001b[32m    625\u001b[39m \u001b[38;5;28;01mwith\u001b[39;00m parser:\n\u001b[32m--> \u001b[39m\u001b[32m626\u001b[39m     \u001b[38;5;28;01mreturn\u001b[39;00m \u001b[43mparser\u001b[49m\u001b[43m.\u001b[49m\u001b[43mread\u001b[49m\u001b[43m(\u001b[49m\u001b[43mnrows\u001b[49m\u001b[43m)\u001b[49m\n",
      "\u001b[36mFile \u001b[39m\u001b[32mc:\\Users\\yohan\\anaconda3\\envs\\final_proj_1\\Lib\\site-packages\\pandas\\io\\parsers\\readers.py:1923\u001b[39m, in \u001b[36mTextFileReader.read\u001b[39m\u001b[34m(self, nrows)\u001b[39m\n\u001b[32m   1916\u001b[39m nrows = validate_integer(\u001b[33m\"\u001b[39m\u001b[33mnrows\u001b[39m\u001b[33m\"\u001b[39m, nrows)\n\u001b[32m   1917\u001b[39m \u001b[38;5;28;01mtry\u001b[39;00m:\n\u001b[32m   1918\u001b[39m     \u001b[38;5;66;03m# error: \"ParserBase\" has no attribute \"read\"\u001b[39;00m\n\u001b[32m   1919\u001b[39m     (\n\u001b[32m   1920\u001b[39m         index,\n\u001b[32m   1921\u001b[39m         columns,\n\u001b[32m   1922\u001b[39m         col_dict,\n\u001b[32m-> \u001b[39m\u001b[32m1923\u001b[39m     ) = \u001b[38;5;28;43mself\u001b[39;49m\u001b[43m.\u001b[49m\u001b[43m_engine\u001b[49m\u001b[43m.\u001b[49m\u001b[43mread\u001b[49m\u001b[43m(\u001b[49m\u001b[43m  \u001b[49m\u001b[38;5;66;43;03m# type: ignore[attr-defined]\u001b[39;49;00m\n\u001b[32m   1924\u001b[39m \u001b[43m        \u001b[49m\u001b[43mnrows\u001b[49m\n\u001b[32m   1925\u001b[39m \u001b[43m    \u001b[49m\u001b[43m)\u001b[49m\n\u001b[32m   1926\u001b[39m \u001b[38;5;28;01mexcept\u001b[39;00m \u001b[38;5;167;01mException\u001b[39;00m:\n\u001b[32m   1927\u001b[39m     \u001b[38;5;28mself\u001b[39m.close()\n",
      "\u001b[36mFile \u001b[39m\u001b[32mc:\\Users\\yohan\\anaconda3\\envs\\final_proj_1\\Lib\\site-packages\\pandas\\io\\parsers\\c_parser_wrapper.py:234\u001b[39m, in \u001b[36mCParserWrapper.read\u001b[39m\u001b[34m(self, nrows)\u001b[39m\n\u001b[32m    232\u001b[39m \u001b[38;5;28;01mtry\u001b[39;00m:\n\u001b[32m    233\u001b[39m     \u001b[38;5;28;01mif\u001b[39;00m \u001b[38;5;28mself\u001b[39m.low_memory:\n\u001b[32m--> \u001b[39m\u001b[32m234\u001b[39m         chunks = \u001b[38;5;28;43mself\u001b[39;49m\u001b[43m.\u001b[49m\u001b[43m_reader\u001b[49m\u001b[43m.\u001b[49m\u001b[43mread_low_memory\u001b[49m\u001b[43m(\u001b[49m\u001b[43mnrows\u001b[49m\u001b[43m)\u001b[49m\n\u001b[32m    235\u001b[39m         \u001b[38;5;66;03m# destructive to chunks\u001b[39;00m\n\u001b[32m    236\u001b[39m         data = _concatenate_chunks(chunks)\n",
      "\u001b[36mFile \u001b[39m\u001b[32mparsers.pyx:838\u001b[39m, in \u001b[36mpandas._libs.parsers.TextReader.read_low_memory\u001b[39m\u001b[34m()\u001b[39m\n",
      "\u001b[36mFile \u001b[39m\u001b[32mparsers.pyx:905\u001b[39m, in \u001b[36mpandas._libs.parsers.TextReader._read_rows\u001b[39m\u001b[34m()\u001b[39m\n",
      "\u001b[36mFile \u001b[39m\u001b[32mparsers.pyx:874\u001b[39m, in \u001b[36mpandas._libs.parsers.TextReader._tokenize_rows\u001b[39m\u001b[34m()\u001b[39m\n",
      "\u001b[36mFile \u001b[39m\u001b[32mparsers.pyx:891\u001b[39m, in \u001b[36mpandas._libs.parsers.TextReader._check_tokenize_status\u001b[39m\u001b[34m()\u001b[39m\n",
      "\u001b[36mFile \u001b[39m\u001b[32mparsers.pyx:2061\u001b[39m, in \u001b[36mpandas._libs.parsers.raise_parser_error\u001b[39m\u001b[34m()\u001b[39m\n",
      "\u001b[31mParserError\u001b[39m: Error tokenizing data. C error: Expected 1 fields in line 9, saw 2\n"
     ]
    }
   ],
   "source": [
    "import time\n",
    "import pandas as pd\n",
    "import yfinance as yf\n",
    "from get_all_tickers.get_tickers import get_tickers\n",
    "\n",
    "tickers_list = get_tickers()\n",
    "\n",
    "tickers_list = tickers_list[:50]\n",
    "\n",
    "# Initialize an empty list to store the data.\n",
    "data = []\n",
    "\n",
    "for ticker in tickers_list:\n",
    "    try:\n",
    "        stock = yf.Ticker(ticker)\n",
    "        info = stock.info  # Retrieve the info dictionary from yfinance\n",
    "        \n",
    "        # Extract the company name and market capitalization.\n",
    "        company_name = info.get('longName', 'N/A')\n",
    "        market_cap = info.get('marketCap', 'N/A')\n",
    "        \n",
    "        # Append the data as a dictionary.\n",
    "        data.append({\n",
    "            'Ticker': ticker,\n",
    "            'Company Name': company_name,\n",
    "            'Market Cap': market_cap\n",
    "        })\n",
    "        \n",
    "        # Pause briefly to respect rate limits.\n",
    "        time.sleep(0.1)\n",
    "    except Exception as e:\n",
    "        print(f\"Error retrieving data for {ticker}: {e}\")\n",
    "        continue\n",
    "\n",
    "# Create a DataFrame from the list of dictionaries.\n"
   ]
  },
  {
   "cell_type": "code",
   "execution_count": 3,
   "id": "31c2b011",
   "metadata": {},
   "outputs": [
    {
     "name": "stdout",
     "output_type": "stream",
     "text": [
      "[{'name': '3i Group PLC', 'symbol': 'III', 'country': 'United Kingdom', 'indices': ['FTSE 100'], 'industries': ['Banking & Investment Services', 'Investment Banking & Investment Services', 'Financials', 'Investment Management & Fund Operators'], 'symbols': [{'yahoo': 'IGQ5.F', 'google': 'FRA:IGQ5', 'currency': 'EUR'}, {'yahoo': 'TGOPY', 'google': 'OTCMKTS:TGOPY', 'currency': 'USD'}, {'yahoo': 'III.L', 'google': 'LON:III', 'currency': 'GBP'}, {'yahoo': 'IGQ.F', 'google': 'FRA:IGQ', 'currency': 'EUR'}, {'yahoo': 'TGOPF', 'google': 'OTCMKTS:TGOPF', 'currency': 'USD'}], 'metadata': {'founded': 1945, 'employees': 244}, 'isins': ['GB00B1YW4409'], 'akas': []}, {'name': 'Admiral Group PLC', 'symbol': 'ADM', 'country': 'United Kingdom', 'indices': ['FTSE 100'], 'industries': ['Insurance', 'Property & Casualty Insurance', 'Financials'], 'symbols': [{'yahoo': 'FLN.F', 'google': 'FRA:FLN', 'currency': 'EUR'}, {'yahoo': 'ADM.L', 'google': 'LON:ADM', 'currency': 'GBP'}, {'yahoo': 'AMIGY', 'google': 'OTCMKTS:AMIGY', 'currency': 'USD'}, {'yahoo': 'AMIGF', 'google': 'OTCMKTS:AMIGF', 'currency': 'USD'}], 'metadata': {'founded': 1991, 'employees': 3000}, 'isins': ['GB00B02J6398'], 'akas': []}, {'name': 'Anglo American PLC', 'symbol': 'AAL', 'country': 'United Kingdom', 'indices': ['FTSE 100'], 'industries': ['Metals & Mining', 'Mineral Resources', 'Basic Materials', 'Integrated Mining'], 'symbols': [{'yahoo': 'NGLD.F', 'google': 'FRA:NGLD', 'currency': 'EUR'}, {'yahoo': 'AGPPF', 'google': 'OTCMKTS:AGPPF', 'currency': 'USD'}, {'yahoo': 'NGLOY', 'google': 'OTCMKTS:NGLOY', 'currency': 'USD'}, {'yahoo': 'NGLB.F', 'google': 'FRA:NGLB', 'currency': 'EUR'}, {'yahoo': 'AAL.L', 'google': 'LON:AAL', 'currency': 'GBP'}], 'metadata': {'founded': 1917, 'employees': 90000}, 'isins': ['GB00B1XZS820'], 'akas': []}, {'name': 'Antofagasta PLC', 'symbol': 'ANTO', 'country': 'United Kingdom', 'indices': ['FTSE 100'], 'industries': ['Metals & Mining', 'Mineral Resources', 'Specialty Mining & Metals', 'Basic Materials'], 'symbols': [{'yahoo': 'FG1.F', 'google': 'FRA:FG1', 'currency': 'EUR'}, {'yahoo': 'ANFGF', 'google': 'OTCMKTS:ANFGF', 'currency': 'USD'}, {'yahoo': 'ANTO.L', 'google': 'LON:ANTO', 'currency': 'GBP'}], 'metadata': {'founded': 1888, 'employees': 5427}, 'isins': ['GB0000456144'], 'akas': []}, {'name': 'Ashtead Group PLC', 'symbol': 'AHT', 'country': 'United Kingdom', 'indices': ['FTSE 100'], 'industries': ['Business Support Services', 'Industrials', 'Professional & Commercial Services', 'Industrial & Commercial Services'], 'symbols': [{'yahoo': 'AHT.F', 'google': 'FRA:AHT', 'currency': 'EUR'}, {'yahoo': 'AHT', 'google': 'OTCMKTS:AHT', 'currency': 'USD'}, {'yahoo': '0LC.F', 'google': 'FRA:0LC', 'currency': 'EUR'}, {'yahoo': 'AHT.L', 'google': 'LON:AHT', 'currency': 'GBP'}, {'yahoo': 'ASHTY', 'google': 'OTCMKTS:ASHTY', 'currency': 'USD'}, {'yahoo': 'ASHTF', 'google': 'OTCMKTS:ASHTF', 'currency': 'USD'}, {'yahoo': '0LCA.F', 'google': 'FRA:0LCA', 'currency': 'EUR'}], 'metadata': {'founded': 1947, 'employees': 13233}, 'isins': ['GB0000536739'], 'akas': []}, {'name': 'Associated British Foods PLC', 'symbol': 'ABF', 'country': 'United Kingdom', 'indices': ['FTSE 100'], 'industries': ['Food & Beverages', 'Consumer Non-Cyclicals', 'Food Processing', 'Food & Tobacco'], 'symbols': [{'yahoo': 'ABF.F', 'google': 'FRA:ABF', 'currency': 'EUR'}, {'yahoo': 'ABF', 'google': 'OTCMKTS:ABF', 'currency': 'USD'}, {'yahoo': 'AFO1.F', 'google': 'FRA:AFO1', 'currency': 'EUR'}, {'yahoo': 'ABF.L', 'google': 'LON:ABF', 'currency': 'GBP'}, {'yahoo': 'ASBFY', 'google': 'OTCMKTS:ASBFY', 'currency': 'USD'}, {'yahoo': 'AFO2.F', 'google': 'FRA:AFO2', 'currency': 'EUR'}, {'yahoo': 'ASBFF', 'google': 'OTCMKTS:ASBFF', 'currency': 'USD'}], 'metadata': {'founded': 1935, 'employees': 133000}, 'isins': ['GB0006731235'], 'akas': []}, {'name': 'AstraZeneca PLC', 'symbol': 'AZN', 'country': 'United Kingdom', 'indices': ['FTSE 100', 'NASDAQ 100', 'OMX Stockholm 30'], 'industries': ['Pharmaceuticals', 'Pharmaceuticals & Medical Research', 'Healthcare'], 'symbols': [{'yahoo': 'ZEG.F', 'google': 'FRA:ZEG', 'currency': 'EUR'}, {'yahoo': 'AZN', 'google': 'NYSE:AZN', 'currency': 'USD'}, {'yahoo': 'ZEGA.F', 'google': 'FRA:ZEGA', 'currency': 'EUR'}, {'yahoo': 'AZNCF', 'google': 'OTCMKTS:AZNCF', 'currency': 'USD'}, {'yahoo': 'AZN.L', 'google': 'LON:AZN', 'currency': 'GBP'}], 'metadata': {'founded': 1999, 'employees': 76100}, 'isins': ['GB0009895292'], 'akas': []}, {'name': 'Auto Trader Group PLC', 'symbol': 'AUTO', 'country': 'United Kingdom', 'indices': ['FTSE 100'], 'industries': ['Technology', 'Software & IT Services', 'Internet Services'], 'symbols': [{'yahoo': 'AUTO.F', 'google': 'FRA:AUTO', 'currency': 'EUR'}, {'yahoo': 'AUTO', 'google': 'OTCMKTS:AUTO', 'currency': 'USD'}, {'yahoo': 'ATDRY', 'google': 'OTCMKTS:ATDRY', 'currency': 'USD'}, {'yahoo': 'AUTO.L', 'google': 'LON:AUTO', 'currency': 'GBP'}, {'yahoo': '2UA.F', 'google': 'FRA:2UA', 'currency': 'EUR'}, {'yahoo': '2UA0.F', 'google': 'FRA:2UA0', 'currency': 'EUR'}, {'yahoo': 'ATDRF', 'google': 'OTCMKTS:ATDRF', 'currency': 'USD'}], 'metadata': {'founded': 1975, 'employees': ''}, 'isins': ['GB00BVYVFW23'], 'akas': []}, {'name': 'Aviva PLC', 'symbol': 'AV.', 'country': 'United Kingdom', 'indices': ['FTSE 100'], 'industries': ['Insurance', 'Financials', 'Life & Health Insurance'], 'symbols': [{'yahoo': '5V51.F', 'google': 'FRA:5V51', 'currency': 'EUR'}, {'yahoo': 'AVVIY', 'google': 'OTCMKTS:AVVIY', 'currency': 'USD'}, {'yahoo': 'GU8E.F', 'google': 'FRA:GU8E', 'currency': 'EUR'}, {'yahoo': 'AV.L', 'google': 'LON:AV', 'currency': 'GBP'}, {'yahoo': 'GU8.F', 'google': 'FRA:GU8', 'currency': 'EUR'}, {'yahoo': 'GU81.F', 'google': 'FRA:GU81', 'currency': 'EUR'}, {'yahoo': 'GU80.F', 'google': 'FRA:GU80', 'currency': 'EUR'}], 'metadata': {'founded': 2000, 'employees': 31000}, 'isins': [], 'akas': []}, {'name': 'BAE Systems PLC', 'symbol': 'BA.', 'country': 'United Kingdom', 'indices': ['FTSE 100'], 'industries': ['Industrial Goods', 'Industrials', 'Aerospace & Defense'], 'symbols': [{'yahoo': 'BSP.F', 'google': 'FRA:BSP', 'currency': 'EUR'}, {'yahoo': 'BAESY', 'google': 'OTCMKTS:BAESY', 'currency': 'USD'}, {'yahoo': 'BA.L', 'google': 'LON:BA', 'currency': 'GBP'}, {'yahoo': 'BSPA.F', 'google': 'FRA:BSPA', 'currency': 'EUR'}], 'metadata': {'founded': 1999, 'employees': 85800}, 'isins': [], 'akas': []}, {'name': 'Barclays PLC', 'symbol': 'BARC', 'country': 'United Kingdom', 'indices': ['FTSE 100'], 'industries': ['Banking & Investment Services', 'Banking Services', 'Financials', 'Banks'], 'symbols': [{'yahoo': 'BCY2.F', 'google': 'FRA:BCY2', 'currency': 'EUR'}, {'yahoo': 'INPTF', 'google': 'OTCMKTS:INPTF', 'currency': 'USD'}, {'yahoo': 'BARC.L', 'google': 'LON:BARC', 'currency': 'GBP'}, {'yahoo': 'BCS', 'google': 'NYSE:BCS', 'currency': 'USD'}, {'yahoo': 'BCY.F', 'google': 'FRA:BCY', 'currency': 'EUR'}, {'yahoo': 'BCLYF', 'google': 'OTCMKTS:BCLYF', 'currency': 'USD'}], 'metadata': {'founded': 1690, 'employees': 83500}, 'isins': ['GB0031348658'], 'akas': []}, {'name': 'Barratt Developments PLC', 'symbol': 'BDEV', 'country': 'United Kingdom', 'indices': ['FTSE 100'], 'industries': ['Cyclical Consumer Products', 'Homebuilding', 'Homebuilding / Household Goods', 'Consumer Cyclicals'], 'symbols': [{'yahoo': 'BDEV.F', 'google': 'FRA:BDEV', 'currency': 'EUR'}, {'yahoo': 'BDEV', 'google': 'OTCMKTS:BDEV', 'currency': 'USD'}, {'yahoo': '3BA.F', 'google': 'FRA:3BA', 'currency': 'EUR'}, {'yahoo': 'BTDPY', 'google': 'OTCMKTS:BTDPY', 'currency': 'USD'}, {'yahoo': 'BDEV.L', 'google': 'LON:BDEV', 'currency': 'GBP'}, {'yahoo': '3BAA.F', 'google': 'FRA:3BAA', 'currency': 'EUR'}, {'yahoo': 'BTDPF', 'google': 'OTCMKTS:BTDPF', 'currency': 'USD'}], 'metadata': {'founded': 1958, 'employees': 6655}, 'isins': ['GB0000811801'], 'akas': []}, {'name': 'Berkeley Group Holdings/The', 'symbol': 'BKG', 'country': 'United Kingdom', 'indices': ['FTSE 100'], 'industries': ['Cyclical Consumer Products', 'Homebuilding', 'Homebuilding / Household Goods', 'Consumer Cyclicals'], 'symbols': [{'yahoo': 'BKG.F', 'google': 'FRA:BKG', 'currency': 'EUR'}, {'yahoo': 'BKG', 'google': 'OTCMKTS:BKG', 'currency': 'USD'}, {'yahoo': 'BKGFF', 'google': 'OTCMKTS:BKGFF', 'currency': 'USD'}, {'yahoo': '42BA.F', 'google': 'FRA:42BA', 'currency': 'EUR'}, {'yahoo': 'BKG.L', 'google': 'LON:BKG', 'currency': 'GBP'}, {'yahoo': 'BKGFY', 'google': 'OTCMKTS:BKGFY', 'currency': 'USD'}, {'yahoo': '42BB.F', 'google': 'FRA:42BB', 'currency': 'EUR'}], 'metadata': {'founded': 1976, 'employees': 2709}, 'isins': ['GB00BLJNXL82'], 'akas': []}, {'name': 'BP PLC', 'symbol': 'BP.', 'country': 'United Kingdom', 'indices': ['FTSE 100', 'MOEX'], 'industries': ['Energy', 'Fossil Fuels', 'Oil & Gas'], 'symbols': [{'yahoo': 'BSU', 'google': 'FRA:BSU', 'currency': 'USD'}, {'yahoo': 'BP', 'google': 'NYSE:BP', 'currency': 'USD'}, {'yahoo': 'BPE.F', 'google': 'FRA:BPE', 'currency': 'EUR'}, {'yahoo': 'BPAQF', 'google': 'OTCMKTS:BPAQF', 'currency': 'USD'}, {'yahoo': 'BSU.F', 'google': 'FRA:BSU', 'currency': 'EUR'}, {'yahoo': 'BP.L', 'google': 'LON:BP', 'currency': 'GBP'}, {'yahoo': 'BPE5.F', 'google': 'FRA:BPE5', 'currency': 'EUR'}], 'metadata': {'founded': 1909, 'employees': 70100}, 'isins': ['GB0007980591'], 'akas': []}, {'name': 'British American Tobacco p.l.c.', 'symbol': 'BATS', 'country': 'United Kingdom', 'indices': ['FTSE 100'], 'industries': ['Food & Beverages', 'Consumer Non-Cyclicals', 'Tobacco', 'Food & Tobacco'], 'symbols': [{'yahoo': 'BATS.F', 'google': 'FRA:BATS', 'currency': 'EUR'}, {'yahoo': 'BTAFF', 'google': 'OTCMKTS:BTAFF', 'currency': 'USD'}, {'yahoo': 'BMT.F', 'google': 'FRA:BMT', 'currency': 'EUR'}, {'yahoo': 'BTI', 'google': 'NYSE:BTI', 'currency': 'USD'}, {'yahoo': 'BATS.L', 'google': 'LON:BATS', 'currency': 'GBP'}, {'yahoo': 'BMTA.F', 'google': 'FRA:BMTA', 'currency': 'EUR'}], 'metadata': {'founded': 1902, 'employees': 55000}, 'isins': ['GB0002875804'], 'akas': []}, {'name': 'British Land Company PLC', 'symbol': 'BLND', 'country': 'United Kingdom', 'indices': ['FTSE 100'], 'industries': ['Commercial REITs', 'Real Estate', 'Financials', 'Residential & Commercial RETIs'], 'symbols': [{'yahoo': 'BLDA.F', 'google': 'FRA:BLDA', 'currency': 'EUR'}, {'yahoo': 'BTLCY', 'google': 'OTCMKTS:BTLCY', 'currency': 'USD'}, {'yahoo': 'BLND.L', 'google': 'LON:BLND', 'currency': 'GBP'}, {'yahoo': 'BLD.F', 'google': 'FRA:BLD', 'currency': 'EUR'}, {'yahoo': 'BRLAF', 'google': 'OTCMKTS:BRLAF', 'currency': 'USD'}], 'metadata': {'founded': 1856, 'employees': 783}, 'isins': ['GB0001367019'], 'akas': []}, {'name': 'BT Group PLC', 'symbol': 'BT.A', 'country': 'United Kingdom', 'indices': ['FTSE 100'], 'industries': ['Telecommunications Services', 'Integrated Telecommunications Services'], 'symbols': [{'yahoo': 'BTQ.F', 'google': 'FRA:BTQ', 'currency': 'EUR'}, {'yahoo': 'BT', 'google': 'NYSE:BT', 'currency': 'USD'}, {'yahoo': 'BTGOF', 'google': 'OTCMKTS:BTGOF', 'currency': 'USD'}, {'yahoo': 'BT-A.L', 'google': 'LON:BT-A', 'currency': 'GBP'}], 'metadata': {'founded': 1846, 'employees': 105300}, 'isins': [], 'akas': []}, {'name': 'Bunzl PLC', 'symbol': 'BNZL', 'country': 'United Kingdom', 'indices': ['FTSE 100'], 'industries': ['Industrials', 'Diversified Trading & Distributing', 'Industrial & Commercial Services'], 'symbols': [{'yahoo': 'BUZ1.F', 'google': 'FRA:BUZ1', 'currency': 'EUR'}, {'yahoo': 'BZLFF', 'google': 'OTCMKTS:BZLFF', 'currency': 'USD'}, {'yahoo': 'BNZL.L', 'google': 'LON:BNZL', 'currency': 'GBP'}, {'yahoo': 'BZLFY', 'google': 'OTCMKTS:BZLFY', 'currency': 'USD'}, {'yahoo': 'BUZ.F', 'google': 'FRA:BUZ', 'currency': 'EUR'}], 'metadata': {'founded': 1854, 'employees': 19006}, 'isins': ['GB00B0744B38'], 'akas': []}, {'name': 'Burberry Group PLC', 'symbol': 'BRBY', 'country': 'United Kingdom', 'indices': ['FTSE 100'], 'industries': ['Retailers', 'Apparel & Accessories Retailers', 'Specialty Retailers', 'Consumer Cyclicals'], 'symbols': [{'yahoo': 'BB2.F', 'google': 'FRA:BB2', 'currency': 'EUR'}, {'yahoo': 'BURBY', 'google': 'OTCMKTS:BURBY', 'currency': 'USD'}, {'yahoo': 'BRBY.L', 'google': 'LON:BRBY', 'currency': 'GBP'}, {'yahoo': 'BB2A.F', 'google': 'FRA:BB2A', 'currency': 'EUR'}], 'metadata': {'founded': 1856, 'employees': 9892}, 'isins': ['GB0031743007'], 'akas': []}, {'name': 'Centrica PLC', 'symbol': 'CNA', 'country': 'United Kingdom', 'indices': ['FTSE 100'], 'industries': ['Multiline Utilities', 'Utilities'], 'symbols': [{'yahoo': 'CENB.F', 'google': 'FRA:CENB', 'currency': 'EUR'}, {'yahoo': 'CPYYY', 'google': 'OTCMKTS:CPYYY', 'currency': 'USD'}, {'yahoo': 'CNA.L', 'google': 'LON:CNA', 'currency': 'GBP'}, {'yahoo': 'CENN.F', 'google': 'FRA:CENN', 'currency': 'EUR'}, {'yahoo': 'CPYYF', 'google': 'OTCMKTS:CPYYF', 'currency': 'USD'}], 'metadata': {'founded': 1997, 'employees': 'unknown'}, 'isins': ['GB00B033F229'], 'akas': []}, {'name': 'Coca-Cola HBC AG', 'symbol': 'CCH', 'country': 'Switzerland', 'indices': ['FTSE 100'], 'industries': ['Food & Beverages', 'Consumer Non-Cyclicals', 'Beverages', 'Non-Alcoholic Beverages'], 'symbols': [{'yahoo': 'CCKC.F', 'google': 'FRA:CCKC', 'currency': 'EUR'}, {'yahoo': 'CCHGY', 'google': 'OTCMKTS:CCHGY', 'currency': 'USD'}, {'yahoo': 'CCH.L', 'google': 'LON:CCH', 'currency': 'GBP'}, {'yahoo': 'C0Q.F', 'google': 'FRA:C0Q', 'currency': 'EUR'}, {'yahoo': 'CCHBF', 'google': 'OTCMKTS:CCHBF', 'currency': 'USD'}], 'metadata': {'founded': 1969, 'employees': 38}, 'isins': ['CH0198251305'], 'akas': []}, {'name': 'Compass Group PLC', 'symbol': 'CPG', 'country': 'United Kingdom', 'indices': ['FTSE 100'], 'industries': ['Hotels & Entertainment Services', 'Restaurants & Bars', 'Cyclical Consumer Services', 'Consumer Cyclicals'], 'symbols': [{'yahoo': 'XGR2.F', 'google': 'FRA:XGR2', 'currency': 'EUR'}, {'yahoo': 'CMPGY', 'google': 'OTCMKTS:CMPGY', 'currency': 'USD'}, {'yahoo': 'CPG.L', 'google': 'LON:CPG', 'currency': 'GBP'}, {'yahoo': 'XGR.F', 'google': 'FRA:XGR', 'currency': 'EUR'}, {'yahoo': 'CMPGF', 'google': 'OTCMKTS:CMPGF', 'currency': 'USD'}], 'metadata': {'founded': 1941, 'employees': 548143}, 'isins': ['GB00BD6K4575'], 'akas': []}, {'name': 'CRH PLC', 'symbol': 'CRH', 'country': 'Ireland', 'indices': ['EURO STOXX 50', 'FTSE 100'], 'industries': ['Construction Materials', 'Mineral Resources', 'Basic Materials'], 'symbols': [{'yahoo': 'CRG.F', 'google': 'FRA:CRG', 'currency': 'EUR'}, {'yahoo': 'CRH', 'google': 'NYSE:CRH', 'currency': 'USD'}, {'yahoo': 'CRHCF', 'google': 'OTCMKTS:CRHCF', 'currency': 'USD'}, {'yahoo': 'XCRA.F', 'google': 'FRA:XCRA', 'currency': 'EUR'}, {'yahoo': 'CRH.L', 'google': 'LON:CRH', 'currency': 'GBP'}], 'metadata': {'founded': 1936, 'employees': 79200}, 'isins': ['IE0001827041'], 'akas': []}, {'name': 'Croda International PLC', 'symbol': 'CRDA', 'country': 'United Kingdom', 'indices': ['FTSE 100'], 'industries': ['Specialty Chemicals', 'Basic Materials', 'Chemicals'], 'symbols': [{'yahoo': '6CMB.F', 'google': 'FRA:6CMB', 'currency': 'EUR'}, {'yahoo': 'COIHF', 'google': 'OTCMKTS:COIHF', 'currency': 'USD'}, {'yahoo': 'COIHY', 'google': 'OTCMKTS:COIHY', 'currency': 'USD'}, {'yahoo': 'CRDA.L', 'google': 'LON:CRDA', 'currency': 'GBP'}], 'metadata': {'founded': 1925, 'employees': 4000}, 'isins': ['GB00BJFFLV09'], 'akas': []}, {'name': 'DCC PLC', 'symbol': 'DCC', 'country': 'Ireland', 'indices': ['FTSE 100'], 'industries': ['Energy', 'Fossil Fuels', 'Oil & Gas'], 'symbols': [{'yahoo': 'DCC.F', 'google': 'FRA:DCC', 'currency': 'EUR'}, {'yahoo': 'DCCPF', 'google': 'OTCMKTS:DCCPF', 'currency': 'USD'}, {'yahoo': 'DCC.L', 'google': 'LON:DCC', 'currency': 'GBP'}], 'metadata': {'founded': 1976, 'employees': 12773}, 'isins': ['IE0002424939'], 'akas': []}, {'name': 'Diageo PLC', 'symbol': 'DGE', 'country': 'United Kingdom', 'indices': ['FTSE 100'], 'industries': ['Food & Beverages', 'Consumer Non-Cyclicals', 'Beverages', 'Distillers & Wineries'], 'symbols': [{'yahoo': 'GUIA.F', 'google': 'FRA:GUIA', 'currency': 'EUR'}, {'yahoo': 'DEO', 'google': 'NYSE:DEO', 'currency': 'USD'}, {'yahoo': 'DGE.L', 'google': 'LON:DGE', 'currency': 'GBP'}, {'yahoo': 'GUI.F', 'google': 'FRA:GUI', 'currency': 'EUR'}, {'yahoo': 'DGEAF', 'google': 'OTCMKTS:DGEAF', 'currency': 'USD'}], 'metadata': {'founded': 1997, 'employees': 27775}, 'isins': ['GB0002374006'], 'akas': []}, {'name': 'DS Smith PLC', 'symbol': 'SMDS', 'country': 'United Kingdom', 'indices': ['FTSE 100'], 'industries': ['Paper Packaging', 'Basic Materials', 'Containers & Packaging', 'Applied Resources'], 'symbols': [{'yahoo': '1KR.F', 'google': 'FRA:1KR', 'currency': 'EUR'}, {'yahoo': 'DITHF', 'google': 'OTCMKTS:DITHF', 'currency': 'USD'}, {'yahoo': 'SMDS.L', 'google': 'LON:SMDS', 'currency': 'GBP'}], 'metadata': {'founded': 1940, 'employees': 29397}, 'isins': ['GB0008220112'], 'akas': []}, {'name': 'Experian PLC', 'symbol': 'EXPN', 'country': 'Ireland', 'indices': ['FTSE 100'], 'industries': ['Professional Information Services', 'Industrials', 'Professional & Commercial Services', 'Industrial & Commercial Services'], 'symbols': [{'yahoo': 'J2B.F', 'google': 'FRA:J2B', 'currency': 'EUR'}, {'yahoo': 'EXPGY', 'google': 'OTCMKTS:EXPGY', 'currency': 'USD'}, {'yahoo': 'EXPN.L', 'google': 'LON:EXPN', 'currency': 'GBP'}, {'yahoo': 'EXPGF', 'google': 'OTCMKTS:EXPGF', 'currency': 'USD'}, {'yahoo': 'J2BA.F', 'google': 'FRA:J2BA', 'currency': 'EUR'}], 'metadata': {'founded': 1996, 'employees': 17800}, 'isins': ['GB00B19NLV48'], 'akas': []}, {'name': 'Fresnillo PLC', 'symbol': 'FRES', 'country': 'Mexico', 'indices': ['FTSE 100'], 'industries': ['Metals & Mining', 'Mineral Resources', 'Basic Materials', 'Integrated Mining'], 'symbols': [{'yahoo': 'FNL.F', 'google': 'FRA:FNL', 'currency': 'EUR'}, {'yahoo': 'FNLPF', 'google': 'OTCMKTS:FNLPF', 'currency': 'USD'}, {'yahoo': 'FRES.L', 'google': 'LON:FRES', 'currency': 'GBP'}], 'metadata': {'founded': 2008, 'employees': 3830}, 'isins': ['GB00B2QPKJ12'], 'akas': []}, {'name': 'GlaxoSmithKline PLC', 'symbol': 'GSK', 'country': 'United Kingdom', 'indices': ['FTSE 100'], 'industries': ['Pharmaceuticals', 'Pharmaceuticals & Medical Research', 'Healthcare'], 'symbols': [{'yahoo': 'GS7A.F', 'google': 'FRA:GS7A', 'currency': 'EUR'}, {'yahoo': 'GSK', 'google': 'NYSE:GSK', 'currency': 'USD'}, {'yahoo': 'GLAXF', 'google': 'OTCMKTS:GLAXF', 'currency': 'USD'}, {'yahoo': 'GS7.F', 'google': 'FRA:GS7', 'currency': 'EUR'}, {'yahoo': 'GSK.L', 'google': 'LON:GSK', 'currency': 'GBP'}, {'yahoo': 'GS70.F', 'google': 'FRA:GS70', 'currency': 'EUR'}, {'yahoo': 'GS71.F', 'google': 'FRA:GS71', 'currency': 'EUR'}], 'metadata': {'founded': 2000, 'employees': 99000}, 'isins': ['GB0009252882', 'GB00BN7SWP63'], 'akas': []}, {'name': 'Glencore PLC', 'symbol': 'GLEN', 'country': 'Switzerland', 'indices': ['FTSE 100'], 'industries': ['Energy', 'Fossil Fuels', 'Coal'], 'symbols': [{'yahoo': '8GCA.F', 'google': 'FRA:8GCA', 'currency': 'EUR'}, {'yahoo': 'GLNCY', 'google': 'OTCMKTS:GLNCY', 'currency': 'USD'}, {'yahoo': 'GLEN.L', 'google': 'LON:GLEN', 'currency': 'GBP'}, {'yahoo': '8GC.F', 'google': 'FRA:8GC', 'currency': 'EUR'}], 'metadata': {'founded': 1974, 'employees': 145000}, 'isins': ['JE00B4T3BW64'], 'akas': []}, {'name': 'Halma PLC', 'symbol': 'HLMA', 'country': 'United Kingdom', 'indices': ['FTSE 100'], 'industries': ['Industrial Goods', 'Industrials', 'Machinery, Equipment & Components', 'Electrical Components & Equipment'], 'symbols': [{'yahoo': 'H11.F', 'google': 'FRA:H11', 'currency': 'EUR'}, {'yahoo': 'HLMAF', 'google': 'OTCMKTS:HLMAF', 'currency': 'USD'}, {'yahoo': 'HLMA.L', 'google': 'LON:HLMA', 'currency': 'GBP'}, {'yahoo': 'HALMY', 'google': 'OTCMKTS:HALMY', 'currency': 'USD'}], 'metadata': {'founded': 1894, 'employees': 6341}, 'isins': ['GB0004052071'], 'akas': []}, {'name': 'Hargreaves Lansdown PLC', 'symbol': 'HL.', 'country': 'United Kingdom', 'indices': ['FTSE 100'], 'industries': ['Banking & Investment Services', 'Investment Banking & Investment Services', 'Financials', 'Investment Management & Fund Operators'], 'symbols': [{'yahoo': 'DMB.F', 'google': 'FRA:DMB', 'currency': 'EUR'}, {'yahoo': 'HRGLY', 'google': 'OTCMKTS:HRGLY', 'currency': 'USD'}, {'yahoo': 'HL.L', 'google': 'LON:HL', 'currency': 'GBP'}, {'yahoo': 'HRGLF', 'google': 'OTCMKTS:HRGLF', 'currency': 'USD'}], 'metadata': {'founded': 1981, 'employees': 1700}, 'isins': [], 'akas': []}, {'name': 'HSBC Holdings PLC', 'symbol': 'HSBA', 'country': 'United Kingdom', 'indices': ['FTSE 100'], 'industries': ['Banking & Investment Services', 'Banking Services', 'Financials', 'Banks'], 'symbols': [{'yahoo': 'HBC1.F', 'google': 'FRA:HBC1', 'currency': 'EUR'}, {'yahoo': 'HSBC', 'google': 'NYSE:HSBC', 'currency': 'USD'}, {'yahoo': 'HSBA.L', 'google': 'LON:HSBA', 'currency': 'GBP'}, {'yahoo': 'HBCYF', 'google': 'OTCMKTS:HBCYF', 'currency': 'USD'}, {'yahoo': 'HBC2.F', 'google': 'FRA:HBC2', 'currency': 'EUR'}], 'metadata': {'founded': 131, 'employees': 226059}, 'isins': ['GB0005405286'], 'akas': []}, {'name': 'Imperial Brands PLC', 'symbol': 'IMB', 'country': 'United Kingdom', 'indices': ['FTSE 100'], 'industries': ['Food & Beverages', 'Consumer Non-Cyclicals', 'Tobacco', 'Food & Tobacco'], 'symbols': [{'yahoo': 'ITBA.F', 'google': 'FRA:ITBA', 'currency': 'EUR'}, {'yahoo': 'IMBBF', 'google': 'OTCMKTS:IMBBF', 'currency': 'USD'}, {'yahoo': 'IMB.L', 'google': 'LON:IMB', 'currency': 'GBP'}, {'yahoo': 'IMBBY', 'google': 'OTCMKTS:IMBBY', 'currency': 'USD'}, {'yahoo': 'ITB.F', 'google': 'FRA:ITB', 'currency': 'EUR'}], 'metadata': {'founded': 1901, 'employees': 32100}, 'isins': ['GB0004544929'], 'akas': []}, {'name': 'Informa PLC', 'symbol': 'INF', 'country': 'United Kingdom', 'indices': ['FTSE 100'], 'industries': ['Media & Publishing', 'Consumer Publishing', 'Cyclical Consumer Services', 'Consumer Cyclicals'], 'symbols': [{'yahoo': 'IEA.F', 'google': 'FRA:IEA', 'currency': 'EUR'}, {'yahoo': 'IFPJF', 'google': 'OTCMKTS:IFPJF', 'currency': 'USD'}, {'yahoo': 'INF.L', 'google': 'LON:INF', 'currency': 'GBP'}, {'yahoo': 'IFJPY', 'google': 'OTCMKTS:IFJPY', 'currency': 'USD'}], 'metadata': {'founded': 1998, 'employees': 11000}, 'isins': ['GB00BMJ6DW54'], 'akas': []}, {'name': 'InterContinental Hotels Group PLC', 'symbol': 'IHG', 'country': 'United Kingdom', 'indices': ['FTSE 100'], 'industries': ['Hotels & Entertainment Services', 'Cyclical Consumer Services', 'Hotels, Motels & Cruise Lines', 'Consumer Cyclicals'], 'symbols': [{'yahoo': 'IC1B.F', 'google': 'FRA:IC1B', 'currency': 'EUR'}, {'yahoo': 'ICHGF', 'google': 'OTCMKTS:ICHGF', 'currency': 'USD'}, {'yahoo': 'IHG.L', 'google': 'LON:IHG', 'currency': 'GBP'}, {'yahoo': 'IC1H.F', 'google': 'FRA:IC1H', 'currency': 'EUR'}, {'yahoo': 'IHG', 'google': 'NYSE:IHG', 'currency': 'USD'}], 'metadata': {'founded': 2003, 'employees': 350000}, 'isins': ['GB00BHJYC057'], 'akas': []}, {'name': 'International Consolidated Airlines Group SA', 'symbol': 'IAG', 'country': 'United States', 'indices': ['FTSE 100', 'IBEX 35'], 'industries': ['Environmental Services & Equipment', 'Industrials', 'Professional & Commercial Services', 'Industrial & Commercial Services'], 'symbols': [{'yahoo': 'INR.F', 'google': 'FRA:INR', 'currency': 'EUR'}, {'yahoo': 'ICAGY', 'google': 'OTCMKTS:ICAGY', 'currency': 'USD'}, {'yahoo': 'IAG.MC', 'google': 'BME:IAG', 'currency': 'EUR'}, {'yahoo': 'IAG.L', 'google': 'LON:IAG', 'currency': 'GBP'}, {'yahoo': 'BABWF', 'google': 'OTCMKTS:BABWF', 'currency': 'USD'}, {'yahoo': 'INRA.F', 'google': 'FRA:INRA', 'currency': 'EUR'}], 'metadata': {'founded': 2011, 'employees': 60612}, 'isins': ['ES0177542018'], 'akas': []}, {'name': 'Intertek Group PLC', 'symbol': 'ITRK', 'country': 'United Kingdom', 'indices': ['FTSE 100'], 'industries': ['Business Support Services', 'Industrials', 'Professional & Commercial Services', 'Industrial & Commercial Services'], 'symbols': [{'yahoo': 'IT1.F', 'google': 'FRA:IT1', 'currency': 'EUR'}, {'yahoo': 'IKTSF', 'google': 'OTCMKTS:IKTSF', 'currency': 'USD'}, {'yahoo': 'ITRK.L', 'google': 'LON:ITRK', 'currency': 'GBP'}, {'yahoo': 'IKTSY', 'google': 'OTCMKTS:IKTSY', 'currency': 'USD'}], 'metadata': {'founded': 1888, 'employees': 44000}, 'isins': ['GB0031638363'], 'akas': []}, {'name': 'Kingfisher PLC', 'symbol': 'KGF', 'country': 'United Kingdom', 'indices': ['FTSE 100'], 'industries': ['Retailers', 'Specialty Retailers', 'Home Improvement Products & Services Retailers', 'Consumer Cyclicals'], 'symbols': [{'yahoo': 'KFI1.F', 'google': 'FRA:KFI1', 'currency': 'EUR'}, {'yahoo': 'KGFHY', 'google': 'OTCMKTS:KGFHY', 'currency': 'USD'}, {'yahoo': 'KGF.L', 'google': 'LON:KGF', 'currency': 'GBP'}, {'yahoo': 'KGFHF', 'google': 'OTCMKTS:KGFHF', 'currency': 'USD'}, {'yahoo': 'KFI2.F', 'google': 'FRA:KFI2', 'currency': 'EUR'}], 'metadata': {'founded': 1982, 'employees': 79000}, 'isins': ['GB0033195214'], 'akas': []}, {'name': 'Legal & General Group PLC', 'symbol': 'LGEN', 'country': 'United Kingdom', 'indices': ['FTSE 100'], 'industries': ['Banking & Investment Services', 'Investment Banking & Investment Services', 'Financials', 'Investment Management & Fund Operators'], 'symbols': [{'yahoo': 'LGI.F', 'google': 'FRA:LGEN', 'currency': 'EUR'}, {'yahoo': 'LGGNY', 'google': 'OTCMKTS:LGGNY', 'currency': 'USD'}, {'yahoo': 'LGEN.L', 'google': 'LON:LGEN', 'currency': 'GBP'}, {'yahoo': 'LGGNF', 'google': 'OTCMKTS:LGGNF', 'currency': 'USD'}], 'metadata': {'founded': 1836, 'employees': 10046}, 'isins': ['GB0005603997'], 'akas': []}, {'name': 'Lloyds Banking Group PLC', 'symbol': 'LLOY', 'country': 'United Kingdom', 'indices': ['FTSE 100'], 'industries': ['Banking & Investment Services', 'Banking Services', 'Financials', 'Banks'], 'symbols': [{'yahoo': 'LLD2.F', 'google': 'FRA:LLD2', 'currency': 'EUR'}, {'yahoo': 'LYG', 'google': 'NYSE:LYG', 'currency': 'USD'}, {'yahoo': 'LLDTF', 'google': 'OTCMKTS:LLDTF', 'currency': 'USD'}, {'yahoo': 'LLOY.L', 'google': 'LON:LLOY', 'currency': 'GBP'}, {'yahoo': 'LLD.F', 'google': 'FRA:LLD', 'currency': 'EUR'}], 'metadata': {'founded': 2009, 'employees': 65000}, 'isins': ['GB0008706128'], 'akas': []}, {'name': 'London Stock Exchange Group PLC', 'symbol': 'LSE', 'country': 'United Kingdom', 'indices': ['FTSE 100'], 'industries': ['Real Estate', 'Investment Banking & Investment Services', 'Real Estate Development & Operations', 'Financial & Commodity Market Operators', 'Real Estate Operations', 'Financials', 'Banking & Investment Services'], 'symbols': [{'yahoo': 'LS4C.F', 'google': 'FRA:LSE', 'currency': 'EUR'}, {'yahoo': 'LNSTY', 'google': 'OTCMKTS:LNSTY', 'currency': 'USD'}, {'yahoo': 'LS4D.F', 'google': 'FRA:LS4D', 'currency': 'EUR'}, {'yahoo': 'LSE.L', 'google': 'LON:LSE', 'currency': 'GBP'}, {'yahoo': 'LSEG.L', 'google': 'LON:LSEG', 'currency': 'GBP'}], 'metadata': {'founded': 2007, 'employees': 5219}, 'isins': [], 'akas': []}, {'name': 'Melrose Industries PLC', 'symbol': 'MRO', 'country': 'United Kingdom', 'indices': ['FTSE 100'], 'industries': ['Industrial Goods', 'Industrials', 'Machinery, Equipment & Components', 'Electrical Components & Equipment'], 'symbols': [{'yahoo': '27MA.F', 'google': 'FRA:27MA', 'currency': 'EUR'}, {'yahoo': 'MLSPF', 'google': 'OTCMKTS:MLSPF', 'currency': 'USD'}, {'yahoo': 'MRO.L', 'google': 'LON:MRO', 'currency': 'GBP'}, {'yahoo': '27M.F', 'google': 'FRA:27M', 'currency': 'EUR'}, {'yahoo': '27MB.F', 'google': 'FRA:27MB', 'currency': 'EUR'}, {'yahoo': 'MLSYY', 'google': 'OTCMKTS:MLSYY', 'currency': 'USD'}], 'metadata': {'founded': 2003, 'employees': ''}, 'isins': ['GB00BV9FYX34'], 'akas': []}, {'name': 'Mondi PLC', 'symbol': 'MNDI', 'country': 'United Kingdom', 'indices': ['FTSE 100'], 'industries': ['Paper Packaging', 'Basic Materials', 'Containers & Packaging', 'Applied Resources'], 'symbols': [{'yahoo': 'KYCA.F', 'google': 'FRA:KYCA', 'currency': 'EUR'}, {'yahoo': 'MONDY', 'google': 'OTCMKTS:MONDY', 'currency': 'USD'}, {'yahoo': 'KYC.F', 'google': 'FRA:KYC', 'currency': 'EUR'}, {'yahoo': 'MNDI.L', 'google': 'LON:MNDI', 'currency': 'GBP'}, {'yahoo': 'MONDF', 'google': 'OTCMKTS:MONDF', 'currency': 'USD'}], 'metadata': {'founded': 1967, 'employees': 26000}, 'isins': ['GB00B1CRLC47', 'ZAE000156550'], 'akas': []}, {'name': 'National Grid PLC', 'symbol': 'NG.', 'country': 'United Kingdom', 'indices': ['FTSE 100'], 'industries': ['Multiline Utilities', 'Utilities'], 'symbols': [{'yahoo': 'NNGF.F', 'google': 'FRA:NNGF', 'currency': 'EUR'}, {'yahoo': 'NGG', 'google': 'NYSE:NGG', 'currency': 'USD'}, {'yahoo': 'NG.L', 'google': 'LON:NG', 'currency': 'GBP'}, {'yahoo': 'NGGTF', 'google': 'OTCMKTS:NGGTF', 'currency': 'USD'}, {'yahoo': 'NNGD.F', 'google': 'FRA:NNGD', 'currency': 'EUR'}], 'metadata': {'founded': 1990, 'employees': 23069}, 'isins': ['GB00BDR05C01'], 'akas': []}, {'name': 'NEXT PLC', 'symbol': 'NXT', 'country': 'United Kingdom', 'indices': ['FTSE 100'], 'industries': ['Other Specialty Retailers', 'Retailers', 'Specialty Retailers', 'Consumer Cyclicals'], 'symbols': [{'yahoo': 'NXG.F', 'google': 'FRA:NXG', 'currency': 'EUR'}, {'yahoo': 'NXGPF', 'google': 'OTCMKTS:NXGPF', 'currency': 'USD'}, {'yahoo': 'NXT.L', 'google': 'LON:NXT', 'currency': 'GBP'}, {'yahoo': 'NXGPY', 'google': 'OTCMKTS:NXGPY', 'currency': 'USD'}], 'metadata': {'founded': 1864, 'employees': 44193}, 'isins': [], 'akas': []}, {'name': 'Ocado Group PLC', 'symbol': 'OCDO', 'country': 'United Kingdom', 'indices': ['FTSE 100'], 'industries': ['Diversified Retail', 'Retailers', 'Discount Stores', 'Consumer Cyclicals'], 'symbols': [{'yahoo': '0OC.F', 'google': 'FRA:0OC', 'currency': 'EUR'}, {'yahoo': 'OCDGF', 'google': 'OTCMKTS:OCDGF', 'currency': 'USD'}, {'yahoo': '0OC1.F', 'google': 'FRA:0OC1', 'currency': 'EUR'}, {'yahoo': 'OCDO.L', 'google': 'LON:OCDO', 'currency': 'GBP'}, {'yahoo': 'OCDDY', 'google': 'OTCMKTS:OCDDY', 'currency': 'USD'}], 'metadata': {'founded': 2000, 'employees': 18618}, 'isins': ['GB00B3MBS747'], 'akas': []}, {'name': 'Flutter Entertainment PLC', 'symbol': 'PPB', 'country': 'Ireland', 'indices': ['EURO STOXX 50', 'FTSE 100'], 'industries': ['Hotels & Entertainment Services', 'Casinos & Gaming', 'Cyclical Consumer Services', 'Consumer Cyclicals'], 'symbols': [{'yahoo': 'PPB.F', 'google': 'FRA:PPB', 'currency': 'EUR'}, {'yahoo': 'PDYPY', 'google': 'OTCMKTS:PDYPY', 'currency': 'USD'}, {'yahoo': 'FLTR.L', 'google': 'LON:FLTR', 'currency': 'GBP'}, {'yahoo': 'PPBA.F', 'google': 'FRA:PPBA', 'currency': 'EUR'}], 'metadata': {'founded': 2016, 'employees': 9153}, 'isins': ['IE00BWT6H894'], 'akas': []}, {'name': 'Pearson PLC', 'symbol': 'PSON', 'country': 'United Kingdom', 'indices': ['FTSE 100'], 'industries': ['Media & Publishing', 'Consumer Publishing', 'Cyclical Consumer Services', 'Consumer Cyclicals'], 'symbols': [{'yahoo': 'PES.F', 'google': 'FRA:PES', 'currency': 'EUR'}, {'yahoo': 'PSO', 'google': 'NYSE:PSO', 'currency': 'USD'}, {'yahoo': 'PSORF', 'google': 'OTCMKTS:PSORF', 'currency': 'USD'}, {'yahoo': 'PESA.F', 'google': 'FRA:PESA', 'currency': 'EUR'}, {'yahoo': 'PSON.L', 'google': 'LON:PSON', 'currency': 'GBP'}], 'metadata': {'founded': 1844, 'employees': 24322}, 'isins': ['GB0006776081'], 'akas': []}, {'name': 'Persimmon PLC', 'symbol': 'PSN', 'country': 'United Kingdom', 'indices': ['FTSE 100'], 'industries': ['Cyclical Consumer Products', 'Homebuilding', 'Homebuilding / Household Goods', 'Consumer Cyclicals'], 'symbols': [{'yahoo': 'OHP.F', 'google': 'FRA:OHP', 'currency': 'EUR'}, {'yahoo': 'PSMMY', 'google': 'OTCMKTS:PSMMY', 'currency': 'USD'}, {'yahoo': 'PSMMF', 'google': 'OTCMKTS:PSMMF', 'currency': 'USD'}, {'yahoo': 'PSN.L', 'google': 'LON:PSN', 'currency': 'GBP'}, {'yahoo': 'OHP0.F', 'google': 'FRA:OHP0', 'currency': 'EUR'}], 'metadata': {'founded': 1972, 'employees': 5221}, 'isins': ['GB0006825383'], 'akas': []}, {'name': 'Phoenix Group Holdings PLC', 'symbol': 'PHNX', 'country': 'United Kingdom', 'indices': ['FTSE 100'], 'industries': ['Insurance', 'Financials', 'Life & Health Insurance'], 'symbols': [{'yahoo': '1BF.F', 'google': 'FRA:1BF', 'currency': 'EUR'}, {'yahoo': 'PNXGF', 'google': 'OTCMKTS:PNXGF', 'currency': 'USD'}, {'yahoo': 'PHNX.L', 'google': 'LON:PHNX', 'currency': 'GBP'}], 'metadata': {'founded': 1857, 'employees': 5752}, 'isins': ['KYG7091M1096'], 'akas': []}, {'name': 'Prudential PLC', 'symbol': 'PRU', 'country': 'United Kingdom', 'indices': ['FTSE 100'], 'industries': ['Insurance', 'Financials', 'Life & Health Insurance'], 'symbols': [{'yahoo': 'PRU.F', 'google': 'FRA:PRU', 'currency': 'EUR'}, {'yahoo': 'PUKPF', 'google': 'OTCMKTS:PUKPF', 'currency': 'USD'}, {'yahoo': 'PRU.L', 'google': 'LON:PRU', 'currency': 'GBP'}, {'yahoo': 'PUK', 'google': 'NYSE:PUK', 'currency': 'USD'}, {'yahoo': 'PRU2.F', 'google': 'FRA:PRU2', 'currency': 'EUR'}], 'metadata': {'founded': 1848, 'employees': 23000}, 'isins': ['GB0007099541'], 'akas': []}, {'name': 'Reckitt Benckiser Group PLC', 'symbol': 'RB.', 'country': 'United Kingdom', 'indices': ['FTSE 100'], 'industries': ['Consumer Non-Cyclicals', 'Personal Products', 'Personal & Household Products & Services'], 'symbols': [{'yahoo': '3RB.F', 'google': 'FRA:3RB', 'currency': 'EUR'}, {'yahoo': 'RBGLY', 'google': 'OTCMKTS:RBGLY', 'currency': 'USD'}, {'yahoo': '3RBB.F', 'google': 'FRA:3RBB', 'currency': 'EUR'}, {'yahoo': 'RB.L', 'google': 'LON:RB', 'currency': 'GBP'}, {'yahoo': 'RKT.L', 'google': 'LON:RKT', 'currency': 'GBP'}], 'metadata': {'founded': 1814, 'employees': 40000}, 'isins': ['GB00B24CGK77'], 'akas': []}, {'name': 'RELX PLC', 'symbol': 'REL', 'country': 'United Kingdom', 'indices': ['FTSE 100', 'AEX'], 'industries': ['Professional Information Services', 'Industrials', 'Professional & Commercial Services', 'Industrial & Commercial Services'], 'symbols': [{'yahoo': 'RDED.F', 'google': 'FRA:RDED', 'currency': 'EUR'}, {'yahoo': 'RELX', 'google': 'NYSE:RELX', 'currency': 'USD'}, {'yahoo': 'REL.L', 'google': 'LON:REL', 'currency': 'GBP'}, {'yahoo': 'REN.AS', 'google': 'AMS:REN', 'currency': 'EUR'}, {'yahoo': 'RLXXF', 'google': 'OTCMKTS:RLXXF', 'currency': 'USD'}, {'yahoo': 'RDEB.F', 'google': 'FRA:RDEB', 'currency': 'EUR'}], 'metadata': {'founded': 1993, 'employees': 33200}, 'isins': ['GB00B2B0DG97'], 'akas': []}, {'name': 'Rentokil Initial PLC', 'symbol': 'RTO', 'country': 'United Kingdom', 'indices': ['FTSE 100'], 'industries': ['Business Support Services', 'Industrials', 'Professional & Commercial Services', 'Industrial & Commercial Services'], 'symbols': [{'yahoo': 'RTO1.F', 'google': 'FRA:RTO1', 'currency': 'EUR'}, {'yahoo': 'RTOKY', 'google': 'OTCMKTS:RTOKY', 'currency': 'USD'}, {'yahoo': 'RTO.F', 'google': 'FRA:RTO', 'currency': 'EUR'}, {'yahoo': 'RTO.L', 'google': 'LON:RTO', 'currency': 'GBP'}, {'yahoo': 'RKLIF', 'google': 'OTCMKTS:RKLIF', 'currency': 'USD'}, {'yahoo': 'RTO', 'google': 'NYSE:RTO', 'currency': 'USD'}], 'metadata': {'founded': 1925, 'employees': 36000}, 'isins': ['GB00B082RF11'], 'akas': []}, {'name': 'Rightmove PLC', 'symbol': 'RMV', 'country': 'United Kingdom', 'indices': ['FTSE 100'], 'industries': ['Technology', 'Software & IT Services', 'Internet Services'], 'symbols': [{'yahoo': '3JDA.F', 'google': 'FRA:3JDA', 'currency': 'EUR'}, {'yahoo': 'RTMVY', 'google': 'OTCMKTS:RTMVY', 'currency': 'USD'}, {'yahoo': 'RMV.L', 'google': 'LON:RMV', 'currency': 'GBP'}, {'yahoo': '3JD.F', 'google': 'FRA:3JD', 'currency': 'EUR'}], 'metadata': {'founded': 2000, 'employees': ''}, 'isins': ['GB00BGDT3G23'], 'akas': []}, {'name': 'Rolls-Royce Holdings PLC', 'symbol': 'RR.', 'country': 'United Kingdom', 'indices': ['FTSE 100'], 'industries': ['Industrial Goods', 'Industrials', 'Aerospace & Defense'], 'symbols': [{'yahoo': 'RRU.F', 'google': 'FRA:RRU', 'currency': 'EUR'}, {'yahoo': 'RYCEF', 'google': 'OTCMKTS:RYCEF', 'currency': 'USD'}, {'yahoo': 'RR.L', 'google': 'LON:RR', 'currency': 'GBP'}, {'yahoo': 'RYCEY', 'google': 'OTCMKTS:RYCEY', 'currency': 'USD'}, {'yahoo': 'RRU1.F', 'google': 'FRA:RRU1', 'currency': 'EUR'}], 'metadata': {'founded': 1904, 'employees': 50000}, 'isins': [], 'akas': []}, {'name': 'The Royal Bank of Scotland Group PLC', 'symbol': 'RBS', 'country': 'United Kingdom', 'indices': ['FTSE 100'], 'industries': ['Banking & Investment Services', 'Banking Services', 'Financials', 'Banks'], 'symbols': [{'yahoo': 'RYS1.F', 'google': 'FRA:RYS1', 'currency': 'EUR'}, {'yahoo': 'RBS', 'google': 'NYSE:RBS', 'currency': 'USD'}, {'yahoo': 'NWG', 'google': 'NYSE:NWG', 'currency': 'USD'}, {'yahoo': 'NWG.L', 'google': 'LON:NWG', 'currency': 'GBP'}, {'yahoo': 'RBSPF', 'google': 'OTCMKTS:RBSPF', 'currency': 'USD'}, {'yahoo': 'RYSD.F', 'google': 'FRA:RYSD', 'currency': 'EUR'}], 'metadata': {'founded': 1968, 'employees': 59900}, 'isins': [], 'akas': []}, {'name': 'The Sage Group PLC', 'symbol': 'SGE', 'country': 'United Kingdom', 'indices': ['FTSE 100'], 'industries': ['Software', 'Technology', 'Software & IT Services'], 'symbols': [{'yahoo': 'SGK1.F', 'google': 'FRA:SGK1', 'currency': 'EUR'}, {'yahoo': 'SGPYY', 'google': 'OTCMKTS:SGPYY', 'currency': 'USD'}, {'yahoo': 'SGE.L', 'google': 'LON:SGE', 'currency': 'GBP'}, {'yahoo': 'SGGEF', 'google': 'OTCMKTS:SGGEF', 'currency': 'USD'}], 'metadata': {'founded': 1981, 'employees': 12000}, 'isins': ['GB00B8C3BL03'], 'akas': []}, {'name': 'J Sainsbury PLC', 'symbol': 'SBRY', 'country': 'United Kingdom', 'indices': ['FTSE 100'], 'industries': ['Consumer Non-Cyclicals', 'Food & Drug Retailing', 'Food Retail & Distribution'], 'symbols': [{'yahoo': 'SUY1.F', 'google': 'FRA:SUY1', 'currency': 'EUR'}, {'yahoo': 'JSAIY', 'google': 'OTCMKTS:JSAIY', 'currency': 'USD'}, {'yahoo': 'SBRY.L', 'google': 'LON:SBRY', 'currency': 'GBP'}, {'yahoo': 'SUY.F', 'google': 'FRA:SUY', 'currency': 'EUR'}, {'yahoo': 'JSNSF', 'google': 'OTCMKTS:JSNSF', 'currency': 'USD'}], 'metadata': {'founded': 1869, 'employees': 111900}, 'isins': ['GB00B019KW72'], 'akas': []}, {'name': 'Schroders PLC', 'symbol': 'SDR', 'country': 'United Kingdom', 'indices': ['FTSE 100'], 'industries': ['Banking & Investment Services', 'Investment Banking & Investment Services', 'Financials', 'Investment Management & Fund Operators'], 'symbols': [{'yahoo': 'PYX.F', 'google': 'FRA:PYX', 'currency': 'EUR'}, {'yahoo': 'SHNWF', 'google': 'OTCMKTS:SHNWF', 'currency': 'USD'}, {'yahoo': 'SDR.L', 'google': 'LON:SDR', 'currency': 'GBP'}, {'yahoo': 'SDRC.L', 'google': 'LON:SDRC', 'currency': 'GBP'}, {'yahoo': 'PYXA.F', 'google': 'FRA:PYXA', 'currency': 'EUR'}, {'yahoo': 'SHNWD', 'google': 'OTCMKTS:SHNWD', 'currency': 'USD'}, {'yahoo': 'PYXB.F', 'google': 'FRA:PYXB', 'currency': 'EUR'}], 'metadata': {'founded': 1804, 'employees': 5000}, 'isins': ['GB0002405495'], 'akas': []}, {'name': 'Scottish Mortgage Investment Trust PLC', 'symbol': 'SMT', 'country': 'United Kingdom', 'indices': ['FTSE 100'], 'industries': ['Investment Trusts', 'Collective Investments', 'Financials'], 'symbols': [{'yahoo': '1IZ1.F', 'google': 'FRA:1IZ1', 'currency': 'EUR'}, {'yahoo': 'STMZF', 'google': 'OTCMKTS:STMZF', 'currency': 'USD'}, {'yahoo': 'SMT.L', 'google': 'LON:SMT', 'currency': 'GBP'}], 'metadata': {'founded': 1909, 'employees': ''}, 'isins': ['GB00BLDYK618'], 'akas': []}, {'name': 'SEGRO PLC', 'symbol': 'SGRO', 'country': 'United Kingdom', 'indices': ['FTSE 100'], 'industries': ['Commercial REITs', 'Real Estate', 'Financials', 'Residential & Commercial RETIs'], 'symbols': [{'yahoo': 'S4VC.F', 'google': 'FRA:S4VC', 'currency': 'EUR'}, {'yahoo': 'ESGRO', 'google': 'NASDAQ:ESGRO', 'currency': 'USD'}, {'yahoo': 'SGRO.L', 'google': 'LON:SGRO', 'currency': 'GBP'}, {'yahoo': 'SEGXF', 'google': 'OTCMKTS:SEGXF', 'currency': 'USD'}], 'metadata': {'founded': 1920, 'employees': ''}, 'isins': ['GB00B5ZN1N88'], 'akas': []}, {'name': 'Severn Trent PLC', 'symbol': 'SVT', 'country': 'United Kingdom', 'indices': ['FTSE 100'], 'industries': ['Water Utilities', 'Utilities'], 'symbols': [{'yahoo': 'SVT1.F', 'google': 'FRA:SVT1', 'currency': 'EUR'}, {'yahoo': 'STRNY', 'google': 'OTCMKTS:STRNY', 'currency': 'USD'}, {'yahoo': 'SVT.L', 'google': 'LON:SVT', 'currency': 'GBP'}, {'yahoo': 'SVTRF', 'google': 'OTCMKTS:SVTRF', 'currency': 'USD'}], 'metadata': {'founded': 1989, 'employees': ''}, 'isins': ['GB00B1FH8J72'], 'akas': []}, {'name': 'Smith & Nephew PLC', 'symbol': 'SN.', 'country': 'United Kingdom', 'indices': ['FTSE 100'], 'industries': ['Medical Equipment, Supplies & Distribution', 'Healthcare', 'Healthcare Services', 'Healthcare Equipment & Supplies'], 'symbols': [{'yahoo': 'NPWA.F', 'google': 'FRA:NPWA', 'currency': 'EUR'}, {'yahoo': 'SNN', 'google': 'NYSE:SNN', 'currency': 'USD'}, {'yahoo': 'NPW1.F', 'google': 'FRA:NPW1', 'currency': 'EUR'}, {'yahoo': 'SNNUF', 'google': 'OTCMKTS:SNNUF', 'currency': 'USD'}, {'yahoo': 'SN.L', 'google': 'LON:SN', 'currency': 'GBP'}], 'metadata': {'founded': 1856, 'employees': 17500}, 'isins': ['GB0009223206'], 'akas': []}, {'name': 'Smiths Group PLC', 'symbol': 'SMIN', 'country': 'United Kingdom', 'indices': ['CAC Mid 60', 'FTSE 100'], 'industries': ['Industrials', 'Industrial Conglomerates'], 'symbols': [{'yahoo': 'QS2A.F', 'google': 'FRA:QS2A', 'currency': 'EUR'}, {'yahoo': 'SMGZY', 'google': 'OTCMKTS:SMGZY', 'currency': 'USD'}, {'yahoo': 'SMIN.L', 'google': 'LON:SMIN', 'currency': 'GBP'}, {'yahoo': 'SMGKF', 'google': 'OTCMKTS:SMGKF', 'currency': 'USD'}], 'metadata': {'founded': 1851, 'employees': 23000}, 'isins': ['GB00B1WY2338', 'LU0088087324'], 'akas': []}, {'name': 'Smurfit Kappa Group PLC', 'symbol': 'SKG', 'country': 'Ireland', 'indices': ['FTSE 100'], 'industries': ['Paper Packaging', 'Basic Materials', 'Containers & Packaging', 'Applied Resources'], 'symbols': [{'yahoo': 'SK3.F', 'google': 'FRA:SK3', 'currency': 'EUR'}, {'yahoo': 'SMFTF', 'google': 'OTCMKTS:SMFTF', 'currency': 'USD'}, {'yahoo': 'SMFKY', 'google': 'OTCMKTS:SMFKY', 'currency': 'USD'}, {'yahoo': 'SKG.L', 'google': 'LON:SKG', 'currency': 'GBP'}, {'yahoo': 'SK30.F', 'google': 'FRA:SK30', 'currency': 'EUR'}], 'metadata': {'founded': 1934, 'employees': 46000}, 'isins': ['IE00B1RR8406'], 'akas': []}, {'name': 'Spirax-Sarco Engineering PLC', 'symbol': 'SPX', 'country': 'United Kingdom', 'indices': ['FTSE 100'], 'industries': ['Industrial Goods', 'Industrials', 'Machinery, Equipment & Components', 'Industrial Machinery & Equipment'], 'symbols': [{'yahoo': '1LNB.F', 'google': 'FRA:1LNB', 'currency': 'EUR'}, {'yahoo': 'SPXSF', 'google': 'OTCMKTS:SPXSF', 'currency': 'USD'}, {'yahoo': 'SPX.L', 'google': 'LON:SPX', 'currency': 'GBP'}, {'yahoo': 'SPXSY', 'google': 'OTCMKTS:SPXSY', 'currency': 'USD'}], 'metadata': {'founded': 1888, 'employees': ''}, 'isins': ['GB00BWFGQN14'], 'akas': []}, {'name': \"St. James's Place PLC\", 'symbol': 'STJ', 'country': 'United Kingdom', 'indices': ['FTSE 100'], 'industries': ['Banking & Investment Services', 'Investment Banking & Investment Services', 'Financials', 'Investment Management & Fund Operators'], 'symbols': [{'yahoo': '1IV.F', 'google': 'FRA:1IV', 'currency': 'EUR'}, {'yahoo': 'STJPF', 'google': 'OTCMKTS:STJPF', 'currency': 'USD'}, {'yahoo': 'STJ.L', 'google': 'LON:STJ', 'currency': 'GBP'}], 'metadata': {'founded': 1991, 'employees': ''}, 'isins': ['GB0007669376'], 'akas': []}, {'name': 'Standard Chartered PLC', 'symbol': 'STAN', 'country': 'United Kingdom', 'indices': ['FTSE 100'], 'industries': ['Banking & Investment Services', 'Banking Services', 'Financials', 'Banks'], 'symbols': [{'yahoo': 'STD.F', 'google': 'FRA:STD', 'currency': 'EUR'}, {'yahoo': 'SCBFF', 'google': 'OTCMKTS:SCBFF', 'currency': 'USD'}, {'yahoo': 'STAN.L', 'google': 'LON:STAN', 'currency': 'GBP'}, {'yahoo': 'STD0.F', 'google': 'FRA:STD0', 'currency': 'EUR'}, {'yahoo': 'SCBFY', 'google': 'OTCMKTS:SCBFY', 'currency': 'USD'}], 'metadata': {'founded': 1853, 'employees': 85000}, 'isins': ['GB0004082847'], 'akas': []}, {'name': 'Taylor Wimpey PLC', 'symbol': 'TW.', 'country': 'United Kingdom', 'indices': ['FTSE 100'], 'industries': ['Cyclical Consumer Products', 'Homebuilding', 'Homebuilding / Household Goods', 'Consumer Cyclicals'], 'symbols': [{'yahoo': 'TWW.F', 'google': 'FRA:TWW', 'currency': 'EUR'}, {'yahoo': 'TWODF', 'google': 'OTCMKTS:TWODF', 'currency': 'USD'}, {'yahoo': 'TW.L', 'google': 'LON:TW', 'currency': 'GBP'}, {'yahoo': 'TWODY', 'google': 'OTCMKTS:TWODY', 'currency': 'USD'}], 'metadata': {'founded': 2007, 'employees': ''}, 'isins': [], 'akas': []}, {'name': 'Tesco PLC', 'symbol': 'TSCO', 'country': 'United Kingdom', 'indices': ['FTSE 100'], 'industries': ['Consumer Non-Cyclicals', 'Food & Drug Retailing', 'Food Retail & Distribution'], 'symbols': [{'yahoo': 'TCO1.F', 'google': 'FRA:TCO1', 'currency': 'EUR'}, {'yahoo': 'TSCDY', 'google': 'OTCMKTS:TSCDY', 'currency': 'USD'}, {'yahoo': 'TSCO.L', 'google': 'LON:TSCO', 'currency': 'GBP'}, {'yahoo': 'TCO2.F', 'google': 'FRA:TCO2', 'currency': 'EUR'}, {'yahoo': 'TCO0.F', 'google': 'FRA:TCO0', 'currency': 'EUR'}, {'yahoo': 'TSCDF', 'google': 'OTCMKTS:TSCDF', 'currency': 'USD'}], 'metadata': {'founded': 1919, 'employees': 423092}, 'isins': ['GB0008847096', 'GB00BLGZ9862'], 'akas': []}, {'name': 'Unilever PLC', 'symbol': 'ULVR', 'country': 'United Kingdom', 'indices': ['AEX', 'FTSE 100'], 'industries': ['Consumer Non-Cyclicals', 'Personal Products', 'Personal & Household Products & Services'], 'symbols': [{'yahoo': 'UNVB.F', 'google': 'FRA:UNVB', 'currency': 'EUR'}, {'yahoo': 'UL', 'google': 'NYSE:UL', 'currency': 'USD'}, {'yahoo': 'UNA.AS', 'google': 'AMS:UNA', 'currency': 'EUR'}, {'yahoo': 'UNLYF', 'google': 'OTCMKTS:UNLYF', 'currency': 'USD'}, {'yahoo': 'ULVR.L', 'google': 'LON:ULVR', 'currency': 'GBP'}, {'yahoo': 'UN', 'google': 'NYSE:UN', 'currency': 'USD'}, {'yahoo': 'UNVA.F', 'google': 'FRA:UNVA', 'currency': 'EUR'}], 'metadata': {'founded': 1929, 'employees': 155000}, 'isins': ['GB00B10RZP78'], 'akas': []}, {'name': 'United Utilities Group PLC', 'symbol': 'UU.', 'country': 'United Kingdom', 'indices': ['FTSE 100'], 'industries': ['Water Utilities', 'Utilities'], 'symbols': [{'yahoo': 'UUEC.F', 'google': 'FRA:UUEC', 'currency': 'EUR'}, {'yahoo': 'UUGRY', 'google': 'OTCMKTS:UUGRY', 'currency': 'USD'}, {'yahoo': 'UUEA.F', 'google': 'FRA:UUEA', 'currency': 'EUR'}, {'yahoo': 'UU.L', 'google': 'LON:UU', 'currency': 'GBP'}], 'metadata': {'founded': 1995, 'employees': 5382}, 'isins': [], 'akas': []}, {'name': 'Vodafone Group PLC', 'symbol': 'VOD', 'country': 'United Kingdom', 'indices': ['FTSE 100'], 'industries': ['Telecommunications Services', 'Wireless Telecommunications Services'], 'symbols': [{'yahoo': 'VODI.F', 'google': 'FRA:VODI', 'currency': 'EUR'}, {'yahoo': 'VOD', 'google': 'NASDAQ:VOD', 'currency': 'USD'}, {'yahoo': 'VOD.L', 'google': 'LON:VOD', 'currency': 'GBP'}, {'yahoo': 'VODJ.F', 'google': 'FRA:VODJ', 'currency': 'EUR'}, {'yahoo': 'VODPF', 'google': 'OTCMKTS:VODPF', 'currency': 'USD'}], 'metadata': {'founded': 1991, 'employees': 93000}, 'isins': ['GB00BH4HKS39'], 'akas': []}, {'name': 'Whitbread PLC', 'symbol': 'WTB', 'country': 'United Kingdom', 'indices': ['FTSE 100'], 'industries': ['Hotels & Entertainment Services', 'Restaurants & Bars', 'Cyclical Consumer Services', 'Consumer Cyclicals'], 'symbols': [{'yahoo': 'WHF4', 'google': 'FRA:WHF4', 'currency': 'USD'}, {'yahoo': 'WTBDY', 'google': 'OTCMKTS:WTBDY', 'currency': 'USD'}, {'yahoo': 'WTB.L', 'google': 'LON:WTB', 'currency': 'GBP'}, {'yahoo': 'WHF4.F', 'google': 'FRA:WHF4', 'currency': 'EUR'}, {'yahoo': 'WTBCF', 'google': 'OTCMKTS:WTBCF', 'currency': 'USD'}], 'metadata': {'founded': 1742, 'employees': 35000}, 'isins': ['GB00B1KJJ408'], 'akas': []}, {'name': 'WPP PLC', 'symbol': 'WPP', 'country': 'United Kingdom', 'indices': ['FTSE 100'], 'industries': ['Media & Publishing', 'Advertising & Marketing', 'Cyclical Consumer Services', 'Consumer Cyclicals'], 'symbols': [{'yahoo': '0WP.F', 'google': 'FRA:0WP', 'currency': 'EUR'}, {'yahoo': 'WP', 'google': 'NYSE:WP', 'currency': 'USD'}, {'yahoo': 'WPPGF', 'google': 'OTCMKTS:WPPGF', 'currency': 'USD'}, {'yahoo': 'WPP.L', 'google': 'LON:WPP', 'currency': 'GBP'}, {'yahoo': 'WPP', 'google': 'NYSE:WPP', 'currency': 'USD'}, {'yahoo': '0WPA.F', 'google': 'FRA:0WPA', 'currency': 'EUR'}], 'metadata': {'founded': 1971, 'employees': 107000}, 'isins': ['JE00B8KF9B49'], 'akas': []}, {'name': 'AVEVA Group plc', 'wiki_name': 'AVEVA Group plc', 'symbol': 'AVV', 'country': 'United Kingdom', 'indices': ['FTSE 100'], 'industries': ['Software', 'Enterprise Asset Management', 'Manufacturing Execution System', 'Enterprise Solutions'], 'symbols': [{'yahoo': 'AVV.L', 'google': 'LON:AVV', 'currency': 'GBP'}, {'yahoo': 'AVEVF', 'google': 'OTCMKTS:AVEVF', 'currency': 'USD'}, {'yahoo': '4A91.F', 'google': 'FRA:4A91', 'currency': 'EUR'}, {'yahoo': 'AVVYY', 'google': 'OTCMKTS:AVVYY', 'currency': 'USD'}], 'isins': ['GB00BBG9VN75'], 'metadata': {'founded': 1967, 'employees': 1317}, 'akas': []}, {'name': 'B&M S.A.', 'wiki_name': 'B&M S.A.', 'symbol': 'BME', 'country': 'United Kingdom', 'indices': ['FTSE 100'], 'industries': ['Retail'], 'symbols': [{'yahoo': 'BME.L', 'google': 'LON:BME', 'currency': 'GBP'}, {'yahoo': 'BMRRY', 'google': 'OTCMKTS:BMRRY', 'currency': 'USD'}, {'yahoo': 'BMRPF', 'google': 'OTCMKTS:BMRPF', 'currency': 'USD'}, {'yahoo': 'BMNU.F', 'google': 'FRA:BMNU', 'currency': 'EUR'}], 'isins': [], 'metadata': {'founded': 1978, 'employees': 32000}, 'akas': []}, {'name': 'Entain plc', 'wiki_name': 'Entain plc', 'symbol': 'ENT', 'country': 'Isle of Man', 'indices': ['FTSE 100'], 'industries': ['Online gambling'], 'symbols': [{'yahoo': 'ENT.L', 'google': 'LON:ENT', 'currency': 'GBP'}, {'yahoo': '6GI.F', 'google': 'FRA:6GI', 'currency': 'EUR'}, {'yahoo': 'GMVHF', 'google': 'OTCMKTS:GMVHF', 'currency': 'USD'}, {'yahoo': 'GMVHY', 'google': 'OTCMKTS:GMVHY', 'currency': 'USD'}, {'yahoo': '6GI0.F', 'google': 'FRA:6GI0', 'currency': 'EUR'}], 'isins': ['IM00B5VQMV65', 'US2936031069'], 'metadata': {'founded': 2004, 'employees': ''}, 'akas': []}, {'name': 'Intermediate Capital Group plc', 'wiki_name': 'Intermediate Capital Group plc', 'symbol': 'ICP', 'country': 'United Kingdom', 'indices': ['FTSE 100'], 'industries': ['Financial services', 'asset management'], 'symbols': [{'yahoo': 'I2X2.F', 'google': 'FRA:I2X2', 'currency': 'EUR'}, {'yahoo': 'ICGUF', 'google': 'OTCMKTS:ICGUF', 'currency': 'USD'}, {'yahoo': 'ICP.L', 'google': 'LON:ICP', 'currency': 'GBP'}], 'isins': ['GB00BYT1DJ19'], 'metadata': {'founded': 1989, 'employees': ''}, 'akas': []}, {'name': 'JD Sports Fashion plc', 'wiki_name': 'JD Sports Fashion plc', 'symbol': 'JD', 'country': 'United Kingdom', 'indices': ['FTSE 100'], 'industries': ['Retail'], 'symbols': [{'yahoo': 'JD.L', 'google': 'LON:JD', 'currency': 'GBP'}, {'yahoo': '9JD2.F', 'google': 'FRA:9JD2', 'currency': 'EUR'}, {'yahoo': 'JDSPY', 'google': 'OTCMKTS:JDSPY', 'currency': 'USD'}, {'yahoo': 'JDDSF', 'google': 'OTCMKTS:JDDSF', 'currency': 'USD'}, {'yahoo': '9JD.F', 'google': 'FRA:9JD', 'currency': 'EUR'}], 'isins': [], 'metadata': {'founded': 1981, 'employees': 34885}, 'akas': []}, {'name': 'Landsec', 'wiki_name': 'Landsec', 'symbol': 'LAND', 'country': 'United Kingdom', 'indices': ['FTSE 100'], 'industries': ['Property'], 'symbols': [], 'isins': ['GB0031809436'], 'metadata': {'founded': 1944, 'employees': 578}, 'akas': []}, {'name': 'M&G', 'wiki_name': 'M&G', 'symbol': 'MNG', 'country': 'United Kingdom', 'indices': ['FTSE 100'], 'industries': ['Financial services'], 'symbols': [{'yahoo': 'MGPUF', 'google': 'OTCMKTS:MGPUF', 'currency': 'USD'}, {'yahoo': 'MNG.L', 'google': 'LON:MNG', 'currency': 'GBP'}], 'isins': ['GB00BKFB1C65'], 'metadata': {'founded': 1931, 'employees': 6000}, 'akas': []}, {'name': 'Rio Tinto Group Rio Tinto plc & Rio Tinto Limited', 'wiki_name': 'Rio Tinto Group Rio Tinto plc & Rio Tinto Limited', 'symbol': 'RIO', 'country': 'Australia', 'indices': ['FTSE 100'], 'industries': ['Metal', 'Mining'], 'symbols': [{'yahoo': 'RIO', 'google': 'NYSE:RIO', 'currency': 'USD'}], 'isins': ['AU000000RIO1', 'GB0007188757'], 'metadata': {'founded': 1873, 'employees': 45000}, 'akas': []}, {'name': 'SSE plc', 'wiki_name': 'SSE plc', 'symbol': 'SSE', 'country': 'United Kingdom', 'indices': ['FTSE 100'], 'industries': [], 'symbols': [{'yahoo': 'SSE.L', 'google': 'LON:SSE', 'currency': 'GBP'}, {'yahoo': 'SCT.F', 'google': 'FRA:SCT', 'currency': 'EUR'}, {'yahoo': 'SSEZY', 'google': 'OTCMKTS:SSEZY', 'currency': 'USD'}, {'yahoo': 'SCTA.F', 'google': 'FRA:SCTA', 'currency': 'EUR'}], 'isins': ['GB0007908733'], 'metadata': {'founded': 1998, 'employees': 11720}, 'akas': []}, {'name': 'Darktrace plc', 'wiki_name': 'Darktrace plc', 'symbol': 'DARK', 'country': 'United Kingdom', 'indices': ['FTSE 100'], 'industries': [], 'symbols': [{'yahoo': '7TJ.F', 'google': 'FRA:7TJ', 'currency': 'EUR'}, {'yahoo': 'DRKTF', 'google': 'OTCMKTS:DRKTF', 'currency': 'USD'}, {'yahoo': 'DARK.L', 'google': 'LON:DARK', 'currency': 'GBP'}], 'isins': [], 'metadata': {'founded': 2013, 'employees': 1200}, 'akas': []}, {'name': 'Royal Dutch Shell PLC', 'symbol': 'RDSA', 'country': 'Netherlands', 'indices': ['FTSE 100'], 'industries': ['Energy', 'Fossil Fuels', 'Integrated Oil & Gas', 'Oil & Gas'], 'symbols': [{'yahoo': 'R6C.F', 'google': 'FRA:R6C', 'currency': 'EUR'}, {'yahoo': 'RDS-A', 'google': 'NYSE:RDS-A', 'currency': 'USD'}, {'yahoo': 'R6C3', 'google': 'FRA:R6C3', 'currency': 'USD'}, {'yahoo': 'RDS-B', 'google': 'NYSE:RDS-B', 'currency': 'USD'}, {'yahoo': 'RDSB.L', 'google': 'LON:RDSB', 'currency': 'GBP'}, {'yahoo': 'RDSA.AS', 'google': 'AMS:RDSA', 'currency': 'EUR'}, {'yahoo': 'R6C3.F', 'google': 'FRA:R6C3', 'currency': 'EUR'}], 'metadata': {'founded': 1907, 'employees': 86000}, 'isins': ['GB00B03MLX29', 'GB00B03MM408', 'GB00BP6MXD84'], 'akas': []}, {'name': 'Airtel Africa plc', 'wiki_name': 'Airtel Africa plc', 'symbol': 'AAF', 'country': 'United Kingdom', 'indices': ['FTSE 100'], 'industries': ['Telecommunication'], 'symbols': [{'yahoo': 'AAFRF', 'google': 'OTCMKTS:AAFRF', 'currency': 'USD'}, {'yahoo': 'AAF.L', 'google': 'LON:AAF', 'currency': 'GBP'}, {'yahoo': '9AA.F', 'google': 'FRA:9AA', 'currency': 'EUR'}, {'yahoo': '9AA0.F', 'google': 'FRA:9AA0', 'currency': 'EUR'}, {'yahoo': 'AARTY', 'google': 'OTCMKTS:AARTY', 'currency': 'USD'}], 'isins': [], 'metadata': {'founded': 2010, 'employees': 25000}, 'akas': []}, {'name': 'Endeavour Mining', 'wiki_name': 'Endeavour Mining', 'symbol': 'EDV', 'country': 'United Kingdom', 'indices': ['FTSE 100'], 'industries': ['Mining'], 'symbols': [{'yahoo': 'EDV.L', 'google': 'LON:EDV', 'currency': 'GBP'}, {'yahoo': 'EDVMF', 'google': 'OTCMKTS:EDVMF', 'currency': 'USD'}, {'yahoo': '6E2.F', 'google': 'FRA:6E2', 'currency': 'EUR'}], 'isins': [], 'metadata': {'founded': 1988, 'employees': ''}, 'akas': []}, {'name': 'Howden Joinery Group plc', 'wiki_name': 'Howden Joinery Group plc', 'symbol': 'HWDN', 'country': 'United Kingdom', 'indices': ['FTSE 100'], 'industries': ['Furniture'], 'symbols': [{'yahoo': '10J.F', 'google': 'FRA:10J', 'currency': 'EUR'}, {'yahoo': 'HWDJF', 'google': 'OTCMKTS:HWDJF', 'currency': 'USD'}, {'yahoo': 'HWDN.L', 'google': 'LON:HWDN', 'currency': 'GBP'}], 'isins': [], 'metadata': {'founded': 1995, 'employees': ''}, 'akas': []}, {'name': 'RS Group plc', 'wiki_name': 'RS Group plc', 'symbol': 'RS', 'country': 'United Kingdom', 'indices': ['FTSE 100'], 'industries': [], 'symbols': [{'yahoo': 'ECN.F', 'google': 'FRA:ECN', 'currency': 'EUR'}, {'yahoo': 'EENEF', 'google': 'OTCMKTS:EENEF', 'currency': 'USD'}, {'yahoo': 'RS1.L', 'google': 'LON:RS1', 'currency': 'GBP'}], 'isins': ['GB0003096442'], 'metadata': {'founded': 1937, 'employees': 6806}, 'akas': []}, {'name': 'Convatec Group plc', 'wiki_name': 'Convatec Group plc', 'symbol': 'CTEC', 'country': 'United Kingdom', 'indices': ['FTSE 100'], 'industries': [], 'symbols': [{'yahoo': 'CTEC.L', 'google': 'LON:CTEC', 'currency': 'GBP'}, {'yahoo': '2CV.F', 'google': 'FRA:2CV', 'currency': 'EUR'}, {'yahoo': 'CNVVY', 'google': 'OTCMKTS:CNVVY', 'currency': 'USD'}, {'yahoo': '2CVU.F', 'google': 'FRA:2CVU', 'currency': 'EUR'}], 'isins': [], 'metadata': {'founded': 1978, 'employees': 9900}, 'akas': []}, {'name': 'Dechra Pharmaceuticals plc', 'wiki_name': 'Dechra Pharmaceuticals plc', 'symbol': 'DPH', 'country': 'United Kingdom', 'indices': ['FTSE 100'], 'industries': ['Pharmaceuticals'], 'symbols': [{'yahoo': '1PK0.F', 'google': 'FRA:1PK0', 'currency': 'EUR'}, {'yahoo': 'DPHAY', 'google': 'OTCMKTS:DPHAY', 'currency': 'USD'}, {'yahoo': 'DPH.L', 'google': 'LON:DPH', 'currency': 'GBP'}, {'yahoo': '1PK.F', 'google': 'FRA:1PK', 'currency': 'EUR'}, {'yahoo': 'DCHPF', 'google': 'OTCMKTS:DCHPF', 'currency': 'USD'}], 'isins': ['GB0009633180'], 'metadata': {'founded': 1997, 'employees': 1700}, 'akas': []}, {'name': 'F&C Investment Trust plc', 'wiki_name': 'F&C Investment Trust plc', 'symbol': 'FCIT', 'country': 'United Kingdom', 'indices': ['FTSE 100'], 'industries': ['Investment management'], 'symbols': [{'yahoo': 'FCIT.L', 'google': 'LON:FCIT', 'currency': 'GBP'}, {'yahoo': 'FLIVF', 'google': 'OTCMKTS:FLIVF', 'currency': 'USD'}], 'isins': [], 'metadata': {'founded': 1868, 'employees': ''}, 'akas': []}, {'name': 'Frasers Group plc', 'wiki_name': 'Frasers Group plc', 'symbol': 'FRAS', 'country': 'United Kingdom', 'indices': ['FTSE 100'], 'industries': ['textile', 'cosmetics', 'electronics'], 'symbols': [{'yahoo': 'FRAS.L', 'google': 'LON:FRAS', 'currency': 'GBP'}, {'yahoo': 'ZVX.F', 'google': 'FRA:ZVX', 'currency': 'EUR'}], 'isins': [], 'metadata': {'founded': 1982, 'employees': 26496}, 'akas': []}, {'name': 'Haleon plc', 'wiki_name': 'Haleon plc', 'symbol': 'HLN', 'country': 'United Kingdom', 'indices': ['FTSE 100'], 'industries': ['Healthcare'], 'symbols': [{'yahoo': 'HLNCF', 'google': 'OTCMKTS:HLNCF', 'currency': 'USD'}, {'yahoo': 'HLN', 'google': 'NYSE:HLN', 'currency': 'USD'}, {'yahoo': 'H6D.F', 'google': 'FRA:H6D', 'currency': 'EUR'}, {'yahoo': 'HLN.L', 'google': 'LON:HLN', 'currency': 'GBP'}, {'yahoo': 'H6D0.F', 'google': 'FRA:H6D0', 'currency': 'EUR'}], 'isins': ['GB00BMX86B70'], 'metadata': {'founded': 2022, 'employees': 22000}, 'akas': []}, {'name': 'Harbour Energy plc', 'wiki_name': 'Harbour Energy plc', 'symbol': 'HBR', 'country': 'United Kingdom', 'indices': ['FTSE 100'], 'industries': ['Oil'], 'symbols': [{'yahoo': 'PQQ0.F', 'google': 'FRA:PQQ0', 'currency': 'EUR'}, {'yahoo': 'PMOIF', 'google': 'OTCMKTS:PMOIF', 'currency': 'USD'}, {'yahoo': 'HBR.L', 'google': 'LON:HBR', 'currency': 'GBP'}, {'yahoo': 'PQQ2.F', 'google': 'FRA:PQQ2', 'currency': 'EUR'}, {'yahoo': 'HBRIY', 'google': 'OTCMKTS:HBRIY', 'currency': 'USD'}], 'isins': [], 'metadata': {'founded': 2014, 'employees': ''}, 'akas': []}, {'name': 'HomeServe plc', 'wiki_name': 'HomeServe plc', 'symbol': 'HSV', 'country': 'United Kingdom', 'indices': ['FTSE 100'], 'industries': [], 'symbols': [{'yahoo': 'HSV.L', 'google': 'LON:HSV', 'currency': 'GBP'}, {'yahoo': 'XHSB.F', 'google': 'FRA:XHSB', 'currency': 'EUR'}, {'yahoo': 'HMSVF', 'google': 'OTCMKTS:HMSVF', 'currency': 'USD'}], 'isins': [], 'metadata': {'founded': 1993, 'employees': ''}, 'akas': []}, {'name': 'Pershing Square Holdings Ltd.', 'wiki_name': 'Pershing Square Holdings Ltd.', 'symbol': 'PSH', 'country': 'Guernsey', 'indices': ['FTSE 100'], 'industries': [], 'symbols': [{'yahoo': 'PSH.L', 'google': 'LON:PSH', 'currency': 'GBP'}, {'yahoo': '7P2.F', 'google': 'FRA:7P2', 'currency': 'EUR'}, {'yahoo': 'PSH.AS', 'google': 'AMS:PSH', 'currency': 'EUR'}, {'yahoo': 'PSHZF', 'google': 'OTCMKTS:PSHZF', 'currency': 'USD'}], 'isins': [], 'metadata': {'founded': '', 'employees': ''}, 'akas': []}, {'name': 'The Unite Group plc', 'wiki_name': 'The Unite Group plc', 'symbol': 'UTG', 'country': 'United Kingdom', 'indices': ['FTSE 100'], 'industries': [], 'symbols': [], 'isins': [], 'metadata': {'founded': 1991, 'employees': 1900}, 'akas': []}]\n"
     ]
    }
   ],
   "source": [
    "from pytickersymbols import PyTickerSymbols\n",
    "\n",
    "stock_data = PyTickerSymbols()\n",
    "german_stocks = stock_data.get_stocks_by_index('DAX')\n",
    "uk_stocks = stock_data.get_stocks_by_index('FTSE 100')\n",
    "\n",
    "print(list(uk_stocks))"
   ]
  },
  {
   "cell_type": "code",
   "execution_count": 5,
   "id": "5af04466",
   "metadata": {},
   "outputs": [],
   "source": [
    "from pytickersymbols import PyTickerSymbols\n",
    "\n",
    "# Initialize the PyTickerSymbols object\n",
    "stock_data = PyTickerSymbols()\n",
    "\n",
    "# Retrieve stocks for each index\n",
    "sp500_stocks = list(stock_data.get_stocks_by_index('S&P 500'))\n",
    "dowjones_stocks = list(stock_data.get_stocks_by_index('DOW JONES'))\n",
    "nasdaq100_stocks = list(stock_data.get_stocks_by_index('NASDAQ 100'))\n",
    "\n",
    "# Combine all stocks into a single list\n",
    "us_stocks = sp500_stocks + dowjones_stocks + nasdaq100_stocks\n",
    "\n",
    "# Extract unique ticker symbols\n",
    "tickers = list({stock['symbol'] for stock in us_stocks})"
   ]
  },
  {
   "cell_type": "code",
   "execution_count": 35,
   "id": "9dad9492",
   "metadata": {},
   "outputs": [],
   "source": [
    "import ftplib\n",
    "import pandas as pd\n",
    "from io import StringIO\n",
    "\n",
    "def fetch_us_listed_tickers():\n",
    "    ftp = ftplib.FTP('ftp.nasdaqtrader.com')\n",
    "    ftp.login()\n",
    "    ftp.encoding = 'utf-8'\n",
    "    ftp.cwd('SymbolDirectory')\n",
    "\n",
    "    files = [\"nasdaqlisted.txt\", \"otherlisted.txt\"]\n",
    "    all_dfs = []\n",
    "\n",
    "    for file in files:\n",
    "        buffer = []\n",
    "        ftp.retrlines(f\"RETR {file}\", buffer.append)\n",
    "        content = \"\\n\".join(buffer)\n",
    "        \n",
    "        df = pd.read_csv(StringIO(content), sep=\"|\")\n",
    "        df = df[:-1]  # remove footer row\n",
    "        all_dfs.append(df)\n",
    "\n",
    "    ftp.quit()\n",
    "\n",
    "    # Combine and return a unified DataFrame with standardized columns\n",
    "    combined_df = pd.concat(all_dfs, ignore_index=True)\n",
    "    combined_df.rename(columns={'Symbol': 'ticker', 'Security Name': 'company_name'}, inplace=True)\n",
    "    return combined_df[['ticker', 'company_name']].drop_duplicates()"
   ]
  },
  {
   "cell_type": "code",
   "execution_count": 24,
   "id": "42d7ec79",
   "metadata": {},
   "outputs": [],
   "source": [
    "import yfinance as yf\n",
    "import time\n",
    "\n",
    "def enrich_with_yfinance(df: pd.DataFrame, sleep_time: float = 0.5) -> pd.DataFrame:\n",
    "    \"\"\"\n",
    "    Adds 'yf_company_name' and 'market_cap' columns to the DataFrame using yfinance.\n",
    "    Original 'company_name' from NASDAQ remains untouched for reference.\n",
    "    \"\"\"\n",
    "    enriched_data = []\n",
    "\n",
    "    for _, row in df.iterrows():\n",
    "        ticker = row['ticker']\n",
    "        try:\n",
    "            stock = yf.Ticker(ticker)\n",
    "            info = stock.info\n",
    "            yf_name = info.get('longName', 'N/A')\n",
    "            market_cap = info.get('marketCap', 'N/A')\n",
    "        except Exception as e:\n",
    "            print(f\"Error for {ticker}: {e}\")\n",
    "            yf_name = \"Error\"\n",
    "            market_cap = None\n",
    "        \n",
    "        enriched_data.append({\n",
    "            'ticker': ticker,\n",
    "            'original_name': row['company_name'],\n",
    "            'yf_company_name': yf_name,\n",
    "            'market_cap': market_cap\n",
    "        })\n",
    "\n",
    "        time.sleep(sleep_time)  # avoid rate limiting\n",
    "\n",
    "    return pd.DataFrame(enriched_data)"
   ]
  },
  {
   "cell_type": "code",
   "execution_count": 36,
   "id": "be79238c",
   "metadata": {},
   "outputs": [],
   "source": [
    "tickers_df = fetch_us_listed_tickers()\n"
   ]
  },
  {
   "cell_type": "code",
   "execution_count": 38,
   "id": "a27c94cd",
   "metadata": {},
   "outputs": [],
   "source": [
    "tickers_df = tickers_df.drop_duplicates(subset=['ticker'])  # Remove duplicates based on ticker"
   ]
  },
  {
   "cell_type": "code",
   "execution_count": 39,
   "id": "f55ca7ca",
   "metadata": {},
   "outputs": [
    {
     "data": {
      "text/html": [
       "<div>\n",
       "<style scoped>\n",
       "    .dataframe tbody tr th:only-of-type {\n",
       "        vertical-align: middle;\n",
       "    }\n",
       "\n",
       "    .dataframe tbody tr th {\n",
       "        vertical-align: top;\n",
       "    }\n",
       "\n",
       "    .dataframe thead th {\n",
       "        text-align: right;\n",
       "    }\n",
       "</style>\n",
       "<table border=\"1\" class=\"dataframe\">\n",
       "  <thead>\n",
       "    <tr style=\"text-align: right;\">\n",
       "      <th></th>\n",
       "      <th>ticker</th>\n",
       "      <th>company_name</th>\n",
       "    </tr>\n",
       "  </thead>\n",
       "  <tbody>\n",
       "    <tr>\n",
       "      <th>0</th>\n",
       "      <td>AACB</td>\n",
       "      <td>Artius II Acquisition Inc. - Class A Ordinary ...</td>\n",
       "    </tr>\n",
       "    <tr>\n",
       "      <th>1</th>\n",
       "      <td>AACBR</td>\n",
       "      <td>Artius II Acquisition Inc. - Rights</td>\n",
       "    </tr>\n",
       "    <tr>\n",
       "      <th>2</th>\n",
       "      <td>AACBU</td>\n",
       "      <td>Artius II Acquisition Inc. - Units</td>\n",
       "    </tr>\n",
       "    <tr>\n",
       "      <th>3</th>\n",
       "      <td>AACG</td>\n",
       "      <td>ATA Creativity Global - American Depositary Sh...</td>\n",
       "    </tr>\n",
       "    <tr>\n",
       "      <th>4</th>\n",
       "      <td>AADR</td>\n",
       "      <td>AdvisorShares Dorsey Wright ADR ETF</td>\n",
       "    </tr>\n",
       "  </tbody>\n",
       "</table>\n",
       "</div>"
      ],
      "text/plain": [
       "  ticker                                       company_name\n",
       "0   AACB  Artius II Acquisition Inc. - Class A Ordinary ...\n",
       "1  AACBR                Artius II Acquisition Inc. - Rights\n",
       "2  AACBU                 Artius II Acquisition Inc. - Units\n",
       "3   AACG  ATA Creativity Global - American Depositary Sh...\n",
       "4   AADR                AdvisorShares Dorsey Wright ADR ETF"
      ]
     },
     "execution_count": 39,
     "metadata": {},
     "output_type": "execute_result"
    }
   ],
   "source": [
    "tickers_df.head()"
   ]
  },
  {
   "cell_type": "code",
   "execution_count": 26,
   "id": "fea65d96",
   "metadata": {},
   "outputs": [
    {
     "name": "stderr",
     "output_type": "stream",
     "text": [
      "500 Server Error: Internal Server Error for url: https://query2.finance.yahoo.com/v10/finance/quoteSummary/LUCYW?modules=financialData%2CquoteType%2CdefaultKeyStatistics%2CassetProfile%2CsummaryDetail&corsDomain=finance.yahoo.com&formatted=false&symbol=LUCYW&crumb=fhSyczRYun3\n"
     ]
    },
    {
     "name": "stdout",
     "output_type": "stream",
     "text": [
      "Error for LUCYW: 'NoneType' object has no attribute 'update'\n",
      "Error for nan: 'float' object has no attribute 'upper'\n"
     ]
    },
    {
     "name": "stderr",
     "output_type": "stream",
     "text": [
      "404 Client Error: Not Found for url: https://query2.finance.yahoo.com/v10/finance/quoteSummary/ZAZZT?modules=financialData%2CquoteType%2CdefaultKeyStatistics%2CassetProfile%2CsummaryDetail&corsDomain=finance.yahoo.com&formatted=false&symbol=ZAZZT&crumb=fhSyczRYun3\n"
     ]
    },
    {
     "name": "stdout",
     "output_type": "stream",
     "text": [
      "Error for ZAZZT: 'NoneType' object has no attribute 'update'\n"
     ]
    },
    {
     "name": "stderr",
     "output_type": "stream",
     "text": [
      "404 Client Error: Not Found for url: https://query2.finance.yahoo.com/v10/finance/quoteSummary/ZBZZT?modules=financialData%2CquoteType%2CdefaultKeyStatistics%2CassetProfile%2CsummaryDetail&corsDomain=finance.yahoo.com&formatted=false&symbol=ZBZZT&crumb=fhSyczRYun3\n"
     ]
    },
    {
     "name": "stdout",
     "output_type": "stream",
     "text": [
      "Error for ZBZZT: 'NoneType' object has no attribute 'update'\n"
     ]
    },
    {
     "name": "stderr",
     "output_type": "stream",
     "text": [
      "404 Client Error: Not Found for url: https://query2.finance.yahoo.com/v10/finance/quoteSummary/ZCZZT?modules=financialData%2CquoteType%2CdefaultKeyStatistics%2CassetProfile%2CsummaryDetail&corsDomain=finance.yahoo.com&formatted=false&symbol=ZCZZT&crumb=fhSyczRYun3\n"
     ]
    },
    {
     "name": "stdout",
     "output_type": "stream",
     "text": [
      "Error for ZCZZT: 'NoneType' object has no attribute 'update'\n"
     ]
    },
    {
     "name": "stderr",
     "output_type": "stream",
     "text": [
      "404 Client Error: Not Found for url: https://query2.finance.yahoo.com/v10/finance/quoteSummary/ZXYZ.A?modules=financialData%2CquoteType%2CdefaultKeyStatistics%2CassetProfile%2CsummaryDetail&corsDomain=finance.yahoo.com&formatted=false&symbol=ZXYZ.A&crumb=fhSyczRYun3\n"
     ]
    },
    {
     "name": "stdout",
     "output_type": "stream",
     "text": [
      "Error for ZXYZ.A: 'NoneType' object has no attribute 'update'\n",
      "Error for nan: 'float' object has no attribute 'upper'\n",
      "Error for nan: 'float' object has no attribute 'upper'\n",
      "Error for nan: 'float' object has no attribute 'upper'\n",
      "Error for nan: 'float' object has no attribute 'upper'\n",
      "Error for nan: 'float' object has no attribute 'upper'\n",
      "Error for nan: 'float' object has no attribute 'upper'\n",
      "Error for nan: 'float' object has no attribute 'upper'\n",
      "Error for nan: 'float' object has no attribute 'upper'\n",
      "Error for nan: 'float' object has no attribute 'upper'\n",
      "Error for nan: 'float' object has no attribute 'upper'\n",
      "Error for nan: 'float' object has no attribute 'upper'\n",
      "Error for nan: 'float' object has no attribute 'upper'\n",
      "Error for nan: 'float' object has no attribute 'upper'\n",
      "Error for nan: 'float' object has no attribute 'upper'\n",
      "Error for nan: 'float' object has no attribute 'upper'\n",
      "Error for nan: 'float' object has no attribute 'upper'\n",
      "Error for nan: 'float' object has no attribute 'upper'\n",
      "Error for nan: 'float' object has no attribute 'upper'\n",
      "Error for nan: 'float' object has no attribute 'upper'\n",
      "Error for nan: 'float' object has no attribute 'upper'\n",
      "Error for nan: 'float' object has no attribute 'upper'\n",
      "Error for nan: 'float' object has no attribute 'upper'\n",
      "Error for nan: 'float' object has no attribute 'upper'\n",
      "Error for nan: 'float' object has no attribute 'upper'\n",
      "Error for nan: 'float' object has no attribute 'upper'\n",
      "Error for nan: 'float' object has no attribute 'upper'\n",
      "Error for nan: 'float' object has no attribute 'upper'\n",
      "Error for nan: 'float' object has no attribute 'upper'\n",
      "Error for nan: 'float' object has no attribute 'upper'\n",
      "Error for nan: 'float' object has no attribute 'upper'\n",
      "Error for nan: 'float' object has no attribute 'upper'\n",
      "Error for nan: 'float' object has no attribute 'upper'\n",
      "Error for nan: 'float' object has no attribute 'upper'\n",
      "Error for nan: 'float' object has no attribute 'upper'\n",
      "Error for nan: 'float' object has no attribute 'upper'\n",
      "Error for nan: 'float' object has no attribute 'upper'\n",
      "Error for nan: 'float' object has no attribute 'upper'\n",
      "Error for nan: 'float' object has no attribute 'upper'\n",
      "Error for nan: 'float' object has no attribute 'upper'\n",
      "Error for nan: 'float' object has no attribute 'upper'\n",
      "Error for nan: 'float' object has no attribute 'upper'\n",
      "Error for nan: 'float' object has no attribute 'upper'\n",
      "Error for nan: 'float' object has no attribute 'upper'\n",
      "Error for nan: 'float' object has no attribute 'upper'\n",
      "Error for nan: 'float' object has no attribute 'upper'\n",
      "Error for nan: 'float' object has no attribute 'upper'\n",
      "Error for nan: 'float' object has no attribute 'upper'\n",
      "Error for nan: 'float' object has no attribute 'upper'\n",
      "Error for nan: 'float' object has no attribute 'upper'\n",
      "Error for nan: 'float' object has no attribute 'upper'\n",
      "Error for nan: 'float' object has no attribute 'upper'\n",
      "Error for nan: 'float' object has no attribute 'upper'\n",
      "Error for nan: 'float' object has no attribute 'upper'\n",
      "Error for nan: 'float' object has no attribute 'upper'\n",
      "Error for nan: 'float' object has no attribute 'upper'\n",
      "Error for nan: 'float' object has no attribute 'upper'\n",
      "Error for nan: 'float' object has no attribute 'upper'\n",
      "Error for nan: 'float' object has no attribute 'upper'\n",
      "Error for nan: 'float' object has no attribute 'upper'\n",
      "Error for nan: 'float' object has no attribute 'upper'\n",
      "Error for nan: 'float' object has no attribute 'upper'\n",
      "Error for nan: 'float' object has no attribute 'upper'\n",
      "Error for nan: 'float' object has no attribute 'upper'\n",
      "Error for nan: 'float' object has no attribute 'upper'\n",
      "Error for nan: 'float' object has no attribute 'upper'\n",
      "Error for nan: 'float' object has no attribute 'upper'\n",
      "Error for nan: 'float' object has no attribute 'upper'\n",
      "Error for nan: 'float' object has no attribute 'upper'\n",
      "Error for nan: 'float' object has no attribute 'upper'\n",
      "Error for nan: 'float' object has no attribute 'upper'\n",
      "Error for nan: 'float' object has no attribute 'upper'\n",
      "Error for nan: 'float' object has no attribute 'upper'\n",
      "Error for nan: 'float' object has no attribute 'upper'\n",
      "Error for nan: 'float' object has no attribute 'upper'\n",
      "Error for nan: 'float' object has no attribute 'upper'\n",
      "Error for nan: 'float' object has no attribute 'upper'\n",
      "Error for nan: 'float' object has no attribute 'upper'\n",
      "Error for nan: 'float' object has no attribute 'upper'\n",
      "Error for nan: 'float' object has no attribute 'upper'\n",
      "Error for nan: 'float' object has no attribute 'upper'\n",
      "Error for nan: 'float' object has no attribute 'upper'\n",
      "Error for nan: 'float' object has no attribute 'upper'\n",
      "Error for nan: 'float' object has no attribute 'upper'\n",
      "Error for nan: 'float' object has no attribute 'upper'\n",
      "Error for nan: 'float' object has no attribute 'upper'\n",
      "Error for nan: 'float' object has no attribute 'upper'\n",
      "Error for nan: 'float' object has no attribute 'upper'\n",
      "Error for nan: 'float' object has no attribute 'upper'\n",
      "Error for nan: 'float' object has no attribute 'upper'\n",
      "Error for nan: 'float' object has no attribute 'upper'\n",
      "Error for nan: 'float' object has no attribute 'upper'\n",
      "Error for nan: 'float' object has no attribute 'upper'\n",
      "Error for nan: 'float' object has no attribute 'upper'\n",
      "Error for nan: 'float' object has no attribute 'upper'\n",
      "Error for nan: 'float' object has no attribute 'upper'\n",
      "Error for nan: 'float' object has no attribute 'upper'\n",
      "Error for nan: 'float' object has no attribute 'upper'\n",
      "Error for nan: 'float' object has no attribute 'upper'\n",
      "Error for nan: 'float' object has no attribute 'upper'\n",
      "Error for nan: 'float' object has no attribute 'upper'\n",
      "Error for nan: 'float' object has no attribute 'upper'\n",
      "Error for nan: 'float' object has no attribute 'upper'\n",
      "Error for nan: 'float' object has no attribute 'upper'\n",
      "Error for nan: 'float' object has no attribute 'upper'\n",
      "Error for nan: 'float' object has no attribute 'upper'\n",
      "Error for nan: 'float' object has no attribute 'upper'\n",
      "Error for nan: 'float' object has no attribute 'upper'\n",
      "Error for nan: 'float' object has no attribute 'upper'\n",
      "Error for nan: 'float' object has no attribute 'upper'\n",
      "Error for nan: 'float' object has no attribute 'upper'\n",
      "Error for nan: 'float' object has no attribute 'upper'\n",
      "Error for nan: 'float' object has no attribute 'upper'\n",
      "Error for nan: 'float' object has no attribute 'upper'\n",
      "Error for nan: 'float' object has no attribute 'upper'\n",
      "Error for nan: 'float' object has no attribute 'upper'\n",
      "Error for nan: 'float' object has no attribute 'upper'\n",
      "Error for nan: 'float' object has no attribute 'upper'\n",
      "Error for nan: 'float' object has no attribute 'upper'\n",
      "Error for nan: 'float' object has no attribute 'upper'\n",
      "Error for nan: 'float' object has no attribute 'upper'\n",
      "Error for nan: 'float' object has no attribute 'upper'\n",
      "Error for nan: 'float' object has no attribute 'upper'\n",
      "Error for nan: 'float' object has no attribute 'upper'\n",
      "Error for nan: 'float' object has no attribute 'upper'\n",
      "Error for nan: 'float' object has no attribute 'upper'\n",
      "Error for nan: 'float' object has no attribute 'upper'\n",
      "Error for nan: 'float' object has no attribute 'upper'\n",
      "Error for nan: 'float' object has no attribute 'upper'\n",
      "Error for nan: 'float' object has no attribute 'upper'\n",
      "Error for nan: 'float' object has no attribute 'upper'\n",
      "Error for nan: 'float' object has no attribute 'upper'\n",
      "Error for nan: 'float' object has no attribute 'upper'\n",
      "Error for nan: 'float' object has no attribute 'upper'\n",
      "Error for nan: 'float' object has no attribute 'upper'\n",
      "Error for nan: 'float' object has no attribute 'upper'\n",
      "Error for nan: 'float' object has no attribute 'upper'\n",
      "Error for nan: 'float' object has no attribute 'upper'\n",
      "Error for nan: 'float' object has no attribute 'upper'\n",
      "Error for nan: 'float' object has no attribute 'upper'\n",
      "Error for nan: 'float' object has no attribute 'upper'\n",
      "Error for nan: 'float' object has no attribute 'upper'\n",
      "Error for nan: 'float' object has no attribute 'upper'\n",
      "Error for nan: 'float' object has no attribute 'upper'\n",
      "Error for nan: 'float' object has no attribute 'upper'\n",
      "Error for nan: 'float' object has no attribute 'upper'\n",
      "Error for nan: 'float' object has no attribute 'upper'\n",
      "Error for nan: 'float' object has no attribute 'upper'\n",
      "Error for nan: 'float' object has no attribute 'upper'\n",
      "Error for nan: 'float' object has no attribute 'upper'\n",
      "Error for nan: 'float' object has no attribute 'upper'\n",
      "Error for nan: 'float' object has no attribute 'upper'\n",
      "Error for nan: 'float' object has no attribute 'upper'\n",
      "Error for nan: 'float' object has no attribute 'upper'\n",
      "Error for nan: 'float' object has no attribute 'upper'\n",
      "Error for nan: 'float' object has no attribute 'upper'\n",
      "Error for nan: 'float' object has no attribute 'upper'\n",
      "Error for nan: 'float' object has no attribute 'upper'\n",
      "Error for nan: 'float' object has no attribute 'upper'\n",
      "Error for nan: 'float' object has no attribute 'upper'\n",
      "Error for nan: 'float' object has no attribute 'upper'\n",
      "Error for nan: 'float' object has no attribute 'upper'\n",
      "Error for nan: 'float' object has no attribute 'upper'\n",
      "Error for nan: 'float' object has no attribute 'upper'\n",
      "Error for nan: 'float' object has no attribute 'upper'\n",
      "Error for nan: 'float' object has no attribute 'upper'\n",
      "Error for nan: 'float' object has no attribute 'upper'\n",
      "Error for nan: 'float' object has no attribute 'upper'\n",
      "Error for nan: 'float' object has no attribute 'upper'\n",
      "Error for nan: 'float' object has no attribute 'upper'\n",
      "Error for nan: 'float' object has no attribute 'upper'\n",
      "Error for nan: 'float' object has no attribute 'upper'\n",
      "Error for nan: 'float' object has no attribute 'upper'\n",
      "Error for nan: 'float' object has no attribute 'upper'\n",
      "Error for nan: 'float' object has no attribute 'upper'\n",
      "Error for nan: 'float' object has no attribute 'upper'\n",
      "Error for nan: 'float' object has no attribute 'upper'\n",
      "Error for nan: 'float' object has no attribute 'upper'\n",
      "Error for nan: 'float' object has no attribute 'upper'\n",
      "Error for nan: 'float' object has no attribute 'upper'\n",
      "Error for nan: 'float' object has no attribute 'upper'\n",
      "Error for nan: 'float' object has no attribute 'upper'\n",
      "Error for nan: 'float' object has no attribute 'upper'\n",
      "Error for nan: 'float' object has no attribute 'upper'\n",
      "Error for nan: 'float' object has no attribute 'upper'\n",
      "Error for nan: 'float' object has no attribute 'upper'\n",
      "Error for nan: 'float' object has no attribute 'upper'\n",
      "Error for nan: 'float' object has no attribute 'upper'\n",
      "Error for nan: 'float' object has no attribute 'upper'\n",
      "Error for nan: 'float' object has no attribute 'upper'\n",
      "Error for nan: 'float' object has no attribute 'upper'\n",
      "Error for nan: 'float' object has no attribute 'upper'\n",
      "Error for nan: 'float' object has no attribute 'upper'\n",
      "Error for nan: 'float' object has no attribute 'upper'\n",
      "Error for nan: 'float' object has no attribute 'upper'\n",
      "Error for nan: 'float' object has no attribute 'upper'\n",
      "Error for nan: 'float' object has no attribute 'upper'\n",
      "Error for nan: 'float' object has no attribute 'upper'\n",
      "Error for nan: 'float' object has no attribute 'upper'\n",
      "Error for nan: 'float' object has no attribute 'upper'\n",
      "Error for nan: 'float' object has no attribute 'upper'\n",
      "Error for nan: 'float' object has no attribute 'upper'\n",
      "Error for nan: 'float' object has no attribute 'upper'\n",
      "Error for nan: 'float' object has no attribute 'upper'\n",
      "Error for nan: 'float' object has no attribute 'upper'\n",
      "Error for nan: 'float' object has no attribute 'upper'\n",
      "Error for nan: 'float' object has no attribute 'upper'\n",
      "Error for nan: 'float' object has no attribute 'upper'\n",
      "Error for nan: 'float' object has no attribute 'upper'\n",
      "Error for nan: 'float' object has no attribute 'upper'\n",
      "Error for nan: 'float' object has no attribute 'upper'\n",
      "Error for nan: 'float' object has no attribute 'upper'\n",
      "Error for nan: 'float' object has no attribute 'upper'\n",
      "Error for nan: 'float' object has no attribute 'upper'\n",
      "Error for nan: 'float' object has no attribute 'upper'\n",
      "Error for nan: 'float' object has no attribute 'upper'\n",
      "Error for nan: 'float' object has no attribute 'upper'\n",
      "Error for nan: 'float' object has no attribute 'upper'\n",
      "Error for nan: 'float' object has no attribute 'upper'\n",
      "Error for nan: 'float' object has no attribute 'upper'\n",
      "Error for nan: 'float' object has no attribute 'upper'\n",
      "Error for nan: 'float' object has no attribute 'upper'\n",
      "Error for nan: 'float' object has no attribute 'upper'\n",
      "Error for nan: 'float' object has no attribute 'upper'\n",
      "Error for nan: 'float' object has no attribute 'upper'\n",
      "Error for nan: 'float' object has no attribute 'upper'\n",
      "Error for nan: 'float' object has no attribute 'upper'\n",
      "Error for nan: 'float' object has no attribute 'upper'\n",
      "Error for nan: 'float' object has no attribute 'upper'\n",
      "Error for nan: 'float' object has no attribute 'upper'\n",
      "Error for nan: 'float' object has no attribute 'upper'\n",
      "Error for nan: 'float' object has no attribute 'upper'\n",
      "Error for nan: 'float' object has no attribute 'upper'\n",
      "Error for nan: 'float' object has no attribute 'upper'\n",
      "Error for nan: 'float' object has no attribute 'upper'\n",
      "Error for nan: 'float' object has no attribute 'upper'\n",
      "Error for nan: 'float' object has no attribute 'upper'\n",
      "Error for nan: 'float' object has no attribute 'upper'\n",
      "Error for nan: 'float' object has no attribute 'upper'\n",
      "Error for nan: 'float' object has no attribute 'upper'\n",
      "Error for nan: 'float' object has no attribute 'upper'\n",
      "Error for nan: 'float' object has no attribute 'upper'\n",
      "Error for nan: 'float' object has no attribute 'upper'\n",
      "Error for nan: 'float' object has no attribute 'upper'\n",
      "Error for nan: 'float' object has no attribute 'upper'\n",
      "Error for nan: 'float' object has no attribute 'upper'\n",
      "Error for nan: 'float' object has no attribute 'upper'\n",
      "Error for nan: 'float' object has no attribute 'upper'\n",
      "Error for nan: 'float' object has no attribute 'upper'\n",
      "Error for nan: 'float' object has no attribute 'upper'\n",
      "Error for nan: 'float' object has no attribute 'upper'\n",
      "Error for nan: 'float' object has no attribute 'upper'\n",
      "Error for nan: 'float' object has no attribute 'upper'\n",
      "Error for nan: 'float' object has no attribute 'upper'\n",
      "Error for nan: 'float' object has no attribute 'upper'\n",
      "Error for nan: 'float' object has no attribute 'upper'\n",
      "Error for nan: 'float' object has no attribute 'upper'\n",
      "Error for nan: 'float' object has no attribute 'upper'\n",
      "Error for nan: 'float' object has no attribute 'upper'\n",
      "Error for nan: 'float' object has no attribute 'upper'\n",
      "Error for nan: 'float' object has no attribute 'upper'\n",
      "Error for nan: 'float' object has no attribute 'upper'\n",
      "Error for nan: 'float' object has no attribute 'upper'\n",
      "Error for nan: 'float' object has no attribute 'upper'\n",
      "Error for nan: 'float' object has no attribute 'upper'\n",
      "Error for nan: 'float' object has no attribute 'upper'\n",
      "Error for nan: 'float' object has no attribute 'upper'\n",
      "Error for nan: 'float' object has no attribute 'upper'\n",
      "Error for nan: 'float' object has no attribute 'upper'\n",
      "Error for nan: 'float' object has no attribute 'upper'\n",
      "Error for nan: 'float' object has no attribute 'upper'\n",
      "Error for nan: 'float' object has no attribute 'upper'\n",
      "Error for nan: 'float' object has no attribute 'upper'\n",
      "Error for nan: 'float' object has no attribute 'upper'\n",
      "Error for nan: 'float' object has no attribute 'upper'\n",
      "Error for nan: 'float' object has no attribute 'upper'\n",
      "Error for nan: 'float' object has no attribute 'upper'\n",
      "Error for nan: 'float' object has no attribute 'upper'\n",
      "Error for nan: 'float' object has no attribute 'upper'\n",
      "Error for nan: 'float' object has no attribute 'upper'\n",
      "Error for nan: 'float' object has no attribute 'upper'\n",
      "Error for nan: 'float' object has no attribute 'upper'\n",
      "Error for nan: 'float' object has no attribute 'upper'\n",
      "Error for nan: 'float' object has no attribute 'upper'\n",
      "Error for nan: 'float' object has no attribute 'upper'\n",
      "Error for nan: 'float' object has no attribute 'upper'\n",
      "Error for nan: 'float' object has no attribute 'upper'\n",
      "Error for nan: 'float' object has no attribute 'upper'\n",
      "Error for nan: 'float' object has no attribute 'upper'\n",
      "Error for nan: 'float' object has no attribute 'upper'\n",
      "Error for nan: 'float' object has no attribute 'upper'\n",
      "Error for nan: 'float' object has no attribute 'upper'\n",
      "Error for nan: 'float' object has no attribute 'upper'\n",
      "Error for nan: 'float' object has no attribute 'upper'\n",
      "Error for nan: 'float' object has no attribute 'upper'\n",
      "Error for nan: 'float' object has no attribute 'upper'\n",
      "Error for nan: 'float' object has no attribute 'upper'\n",
      "Error for nan: 'float' object has no attribute 'upper'\n",
      "Error for nan: 'float' object has no attribute 'upper'\n",
      "Error for nan: 'float' object has no attribute 'upper'\n",
      "Error for nan: 'float' object has no attribute 'upper'\n",
      "Error for nan: 'float' object has no attribute 'upper'\n",
      "Error for nan: 'float' object has no attribute 'upper'\n",
      "Error for nan: 'float' object has no attribute 'upper'\n",
      "Error for nan: 'float' object has no attribute 'upper'\n",
      "Error for nan: 'float' object has no attribute 'upper'\n",
      "Error for nan: 'float' object has no attribute 'upper'\n",
      "Error for nan: 'float' object has no attribute 'upper'\n",
      "Error for nan: 'float' object has no attribute 'upper'\n",
      "Error for nan: 'float' object has no attribute 'upper'\n",
      "Error for nan: 'float' object has no attribute 'upper'\n",
      "Error for nan: 'float' object has no attribute 'upper'\n",
      "Error for nan: 'float' object has no attribute 'upper'\n",
      "Error for nan: 'float' object has no attribute 'upper'\n",
      "Error for nan: 'float' object has no attribute 'upper'\n",
      "Error for nan: 'float' object has no attribute 'upper'\n",
      "Error for nan: 'float' object has no attribute 'upper'\n",
      "Error for nan: 'float' object has no attribute 'upper'\n",
      "Error for nan: 'float' object has no attribute 'upper'\n",
      "Error for nan: 'float' object has no attribute 'upper'\n",
      "Error for nan: 'float' object has no attribute 'upper'\n",
      "Error for nan: 'float' object has no attribute 'upper'\n",
      "Error for nan: 'float' object has no attribute 'upper'\n",
      "Error for nan: 'float' object has no attribute 'upper'\n",
      "Error for nan: 'float' object has no attribute 'upper'\n",
      "Error for nan: 'float' object has no attribute 'upper'\n",
      "Error for nan: 'float' object has no attribute 'upper'\n",
      "Error for nan: 'float' object has no attribute 'upper'\n",
      "Error for nan: 'float' object has no attribute 'upper'\n",
      "Error for nan: 'float' object has no attribute 'upper'\n",
      "Error for nan: 'float' object has no attribute 'upper'\n",
      "Error for nan: 'float' object has no attribute 'upper'\n",
      "Error for nan: 'float' object has no attribute 'upper'\n",
      "Error for nan: 'float' object has no attribute 'upper'\n",
      "Error for nan: 'float' object has no attribute 'upper'\n",
      "Error for nan: 'float' object has no attribute 'upper'\n",
      "Error for nan: 'float' object has no attribute 'upper'\n",
      "Error for nan: 'float' object has no attribute 'upper'\n",
      "Error for nan: 'float' object has no attribute 'upper'\n",
      "Error for nan: 'float' object has no attribute 'upper'\n",
      "Error for nan: 'float' object has no attribute 'upper'\n",
      "Error for nan: 'float' object has no attribute 'upper'\n",
      "Error for nan: 'float' object has no attribute 'upper'\n",
      "Error for nan: 'float' object has no attribute 'upper'\n",
      "Error for nan: 'float' object has no attribute 'upper'\n",
      "Error for nan: 'float' object has no attribute 'upper'\n",
      "Error for nan: 'float' object has no attribute 'upper'\n",
      "Error for nan: 'float' object has no attribute 'upper'\n",
      "Error for nan: 'float' object has no attribute 'upper'\n",
      "Error for nan: 'float' object has no attribute 'upper'\n",
      "Error for nan: 'float' object has no attribute 'upper'\n",
      "Error for nan: 'float' object has no attribute 'upper'\n",
      "Error for nan: 'float' object has no attribute 'upper'\n",
      "Error for nan: 'float' object has no attribute 'upper'\n",
      "Error for nan: 'float' object has no attribute 'upper'\n",
      "Error for nan: 'float' object has no attribute 'upper'\n",
      "Error for nan: 'float' object has no attribute 'upper'\n",
      "Error for nan: 'float' object has no attribute 'upper'\n",
      "Error for nan: 'float' object has no attribute 'upper'\n",
      "Error for nan: 'float' object has no attribute 'upper'\n",
      "Error for nan: 'float' object has no attribute 'upper'\n",
      "Error for nan: 'float' object has no attribute 'upper'\n",
      "Error for nan: 'float' object has no attribute 'upper'\n",
      "Error for nan: 'float' object has no attribute 'upper'\n",
      "Error for nan: 'float' object has no attribute 'upper'\n",
      "Error for nan: 'float' object has no attribute 'upper'\n",
      "Error for nan: 'float' object has no attribute 'upper'\n",
      "Error for nan: 'float' object has no attribute 'upper'\n",
      "Error for nan: 'float' object has no attribute 'upper'\n",
      "Error for nan: 'float' object has no attribute 'upper'\n",
      "Error for nan: 'float' object has no attribute 'upper'\n",
      "Error for nan: 'float' object has no attribute 'upper'\n",
      "Error for nan: 'float' object has no attribute 'upper'\n",
      "Error for nan: 'float' object has no attribute 'upper'\n",
      "Error for nan: 'float' object has no attribute 'upper'\n",
      "Error for nan: 'float' object has no attribute 'upper'\n",
      "Error for nan: 'float' object has no attribute 'upper'\n",
      "Error for nan: 'float' object has no attribute 'upper'\n",
      "Error for nan: 'float' object has no attribute 'upper'\n",
      "Error for nan: 'float' object has no attribute 'upper'\n",
      "Error for nan: 'float' object has no attribute 'upper'\n",
      "Error for nan: 'float' object has no attribute 'upper'\n",
      "Error for nan: 'float' object has no attribute 'upper'\n",
      "Error for nan: 'float' object has no attribute 'upper'\n",
      "Error for nan: 'float' object has no attribute 'upper'\n",
      "Error for nan: 'float' object has no attribute 'upper'\n",
      "Error for nan: 'float' object has no attribute 'upper'\n",
      "Error for nan: 'float' object has no attribute 'upper'\n",
      "Error for nan: 'float' object has no attribute 'upper'\n",
      "Error for nan: 'float' object has no attribute 'upper'\n",
      "Error for nan: 'float' object has no attribute 'upper'\n",
      "Error for nan: 'float' object has no attribute 'upper'\n",
      "Error for nan: 'float' object has no attribute 'upper'\n",
      "Error for nan: 'float' object has no attribute 'upper'\n",
      "Error for nan: 'float' object has no attribute 'upper'\n",
      "Error for nan: 'float' object has no attribute 'upper'\n",
      "Error for nan: 'float' object has no attribute 'upper'\n",
      "Error for nan: 'float' object has no attribute 'upper'\n",
      "Error for nan: 'float' object has no attribute 'upper'\n",
      "Error for nan: 'float' object has no attribute 'upper'\n",
      "Error for nan: 'float' object has no attribute 'upper'\n",
      "Error for nan: 'float' object has no attribute 'upper'\n",
      "Error for nan: 'float' object has no attribute 'upper'\n",
      "Error for nan: 'float' object has no attribute 'upper'\n",
      "Error for nan: 'float' object has no attribute 'upper'\n",
      "Error for nan: 'float' object has no attribute 'upper'\n",
      "Error for nan: 'float' object has no attribute 'upper'\n",
      "Error for nan: 'float' object has no attribute 'upper'\n",
      "Error for nan: 'float' object has no attribute 'upper'\n",
      "Error for nan: 'float' object has no attribute 'upper'\n",
      "Error for nan: 'float' object has no attribute 'upper'\n",
      "Error for nan: 'float' object has no attribute 'upper'\n",
      "Error for nan: 'float' object has no attribute 'upper'\n",
      "Error for nan: 'float' object has no attribute 'upper'\n",
      "Error for nan: 'float' object has no attribute 'upper'\n",
      "Error for nan: 'float' object has no attribute 'upper'\n",
      "Error for nan: 'float' object has no attribute 'upper'\n",
      "Error for nan: 'float' object has no attribute 'upper'\n",
      "Error for nan: 'float' object has no attribute 'upper'\n",
      "Error for nan: 'float' object has no attribute 'upper'\n",
      "Error for nan: 'float' object has no attribute 'upper'\n",
      "Error for nan: 'float' object has no attribute 'upper'\n",
      "Error for nan: 'float' object has no attribute 'upper'\n",
      "Error for nan: 'float' object has no attribute 'upper'\n",
      "Error for nan: 'float' object has no attribute 'upper'\n",
      "Error for nan: 'float' object has no attribute 'upper'\n",
      "Error for nan: 'float' object has no attribute 'upper'\n",
      "Error for nan: 'float' object has no attribute 'upper'\n",
      "Error for nan: 'float' object has no attribute 'upper'\n",
      "Error for nan: 'float' object has no attribute 'upper'\n",
      "Error for nan: 'float' object has no attribute 'upper'\n",
      "Error for nan: 'float' object has no attribute 'upper'\n",
      "Error for nan: 'float' object has no attribute 'upper'\n",
      "Error for nan: 'float' object has no attribute 'upper'\n",
      "Error for nan: 'float' object has no attribute 'upper'\n",
      "Error for nan: 'float' object has no attribute 'upper'\n",
      "Error for nan: 'float' object has no attribute 'upper'\n",
      "Error for nan: 'float' object has no attribute 'upper'\n",
      "Error for nan: 'float' object has no attribute 'upper'\n",
      "Error for nan: 'float' object has no attribute 'upper'\n",
      "Error for nan: 'float' object has no attribute 'upper'\n",
      "Error for nan: 'float' object has no attribute 'upper'\n",
      "Error for nan: 'float' object has no attribute 'upper'\n",
      "Error for nan: 'float' object has no attribute 'upper'\n",
      "Error for nan: 'float' object has no attribute 'upper'\n",
      "Error for nan: 'float' object has no attribute 'upper'\n",
      "Error for nan: 'float' object has no attribute 'upper'\n",
      "Error for nan: 'float' object has no attribute 'upper'\n",
      "Error for nan: 'float' object has no attribute 'upper'\n",
      "Error for nan: 'float' object has no attribute 'upper'\n",
      "Error for nan: 'float' object has no attribute 'upper'\n",
      "Error for nan: 'float' object has no attribute 'upper'\n",
      "Error for nan: 'float' object has no attribute 'upper'\n",
      "Error for nan: 'float' object has no attribute 'upper'\n",
      "Error for nan: 'float' object has no attribute 'upper'\n",
      "Error for nan: 'float' object has no attribute 'upper'\n",
      "Error for nan: 'float' object has no attribute 'upper'\n",
      "Error for nan: 'float' object has no attribute 'upper'\n",
      "Error for nan: 'float' object has no attribute 'upper'\n",
      "Error for nan: 'float' object has no attribute 'upper'\n",
      "Error for nan: 'float' object has no attribute 'upper'\n",
      "Error for nan: 'float' object has no attribute 'upper'\n",
      "Error for nan: 'float' object has no attribute 'upper'\n",
      "Error for nan: 'float' object has no attribute 'upper'\n",
      "Error for nan: 'float' object has no attribute 'upper'\n",
      "Error for nan: 'float' object has no attribute 'upper'\n",
      "Error for nan: 'float' object has no attribute 'upper'\n",
      "Error for nan: 'float' object has no attribute 'upper'\n",
      "Error for nan: 'float' object has no attribute 'upper'\n",
      "Error for nan: 'float' object has no attribute 'upper'\n",
      "Error for nan: 'float' object has no attribute 'upper'\n",
      "Error for nan: 'float' object has no attribute 'upper'\n",
      "Error for nan: 'float' object has no attribute 'upper'\n",
      "Error for nan: 'float' object has no attribute 'upper'\n",
      "Error for nan: 'float' object has no attribute 'upper'\n",
      "Error for nan: 'float' object has no attribute 'upper'\n",
      "Error for nan: 'float' object has no attribute 'upper'\n",
      "Error for nan: 'float' object has no attribute 'upper'\n",
      "Error for nan: 'float' object has no attribute 'upper'\n",
      "Error for nan: 'float' object has no attribute 'upper'\n",
      "Error for nan: 'float' object has no attribute 'upper'\n",
      "Error for nan: 'float' object has no attribute 'upper'\n",
      "Error for nan: 'float' object has no attribute 'upper'\n",
      "Error for nan: 'float' object has no attribute 'upper'\n",
      "Error for nan: 'float' object has no attribute 'upper'\n",
      "Error for nan: 'float' object has no attribute 'upper'\n",
      "Error for nan: 'float' object has no attribute 'upper'\n",
      "Error for nan: 'float' object has no attribute 'upper'\n",
      "Error for nan: 'float' object has no attribute 'upper'\n",
      "Error for nan: 'float' object has no attribute 'upper'\n",
      "Error for nan: 'float' object has no attribute 'upper'\n",
      "Error for nan: 'float' object has no attribute 'upper'\n",
      "Error for nan: 'float' object has no attribute 'upper'\n",
      "Error for nan: 'float' object has no attribute 'upper'\n",
      "Error for nan: 'float' object has no attribute 'upper'\n",
      "Error for nan: 'float' object has no attribute 'upper'\n",
      "Error for nan: 'float' object has no attribute 'upper'\n",
      "Error for nan: 'float' object has no attribute 'upper'\n",
      "Error for nan: 'float' object has no attribute 'upper'\n",
      "Error for nan: 'float' object has no attribute 'upper'\n",
      "Error for nan: 'float' object has no attribute 'upper'\n",
      "Error for nan: 'float' object has no attribute 'upper'\n",
      "Error for nan: 'float' object has no attribute 'upper'\n",
      "Error for nan: 'float' object has no attribute 'upper'\n",
      "Error for nan: 'float' object has no attribute 'upper'\n",
      "Error for nan: 'float' object has no attribute 'upper'\n",
      "Error for nan: 'float' object has no attribute 'upper'\n",
      "Error for nan: 'float' object has no attribute 'upper'\n",
      "Error for nan: 'float' object has no attribute 'upper'\n",
      "Error for nan: 'float' object has no attribute 'upper'\n",
      "Error for nan: 'float' object has no attribute 'upper'\n",
      "Error for nan: 'float' object has no attribute 'upper'\n",
      "Error for nan: 'float' object has no attribute 'upper'\n",
      "Error for nan: 'float' object has no attribute 'upper'\n",
      "Error for nan: 'float' object has no attribute 'upper'\n",
      "Error for nan: 'float' object has no attribute 'upper'\n",
      "Error for nan: 'float' object has no attribute 'upper'\n",
      "Error for nan: 'float' object has no attribute 'upper'\n",
      "Error for nan: 'float' object has no attribute 'upper'\n",
      "Error for nan: 'float' object has no attribute 'upper'\n",
      "Error for nan: 'float' object has no attribute 'upper'\n",
      "Error for nan: 'float' object has no attribute 'upper'\n",
      "Error for nan: 'float' object has no attribute 'upper'\n",
      "Error for nan: 'float' object has no attribute 'upper'\n",
      "Error for nan: 'float' object has no attribute 'upper'\n",
      "Error for nan: 'float' object has no attribute 'upper'\n",
      "Error for nan: 'float' object has no attribute 'upper'\n",
      "Error for nan: 'float' object has no attribute 'upper'\n",
      "Error for nan: 'float' object has no attribute 'upper'\n",
      "Error for nan: 'float' object has no attribute 'upper'\n",
      "Error for nan: 'float' object has no attribute 'upper'\n",
      "Error for nan: 'float' object has no attribute 'upper'\n",
      "Error for nan: 'float' object has no attribute 'upper'\n",
      "Error for nan: 'float' object has no attribute 'upper'\n",
      "Error for nan: 'float' object has no attribute 'upper'\n",
      "Error for nan: 'float' object has no attribute 'upper'\n",
      "Error for nan: 'float' object has no attribute 'upper'\n",
      "Error for nan: 'float' object has no attribute 'upper'\n",
      "Error for nan: 'float' object has no attribute 'upper'\n",
      "Error for nan: 'float' object has no attribute 'upper'\n",
      "Error for nan: 'float' object has no attribute 'upper'\n",
      "Error for nan: 'float' object has no attribute 'upper'\n",
      "Error for nan: 'float' object has no attribute 'upper'\n",
      "Error for nan: 'float' object has no attribute 'upper'\n",
      "Error for nan: 'float' object has no attribute 'upper'\n",
      "Error for nan: 'float' object has no attribute 'upper'\n",
      "Error for nan: 'float' object has no attribute 'upper'\n",
      "Error for nan: 'float' object has no attribute 'upper'\n",
      "Error for nan: 'float' object has no attribute 'upper'\n",
      "Error for nan: 'float' object has no attribute 'upper'\n",
      "Error for nan: 'float' object has no attribute 'upper'\n",
      "Error for nan: 'float' object has no attribute 'upper'\n",
      "Error for nan: 'float' object has no attribute 'upper'\n",
      "Error for nan: 'float' object has no attribute 'upper'\n",
      "Error for nan: 'float' object has no attribute 'upper'\n",
      "Error for nan: 'float' object has no attribute 'upper'\n",
      "Error for nan: 'float' object has no attribute 'upper'\n",
      "Error for nan: 'float' object has no attribute 'upper'\n",
      "Error for nan: 'float' object has no attribute 'upper'\n",
      "Error for nan: 'float' object has no attribute 'upper'\n",
      "Error for nan: 'float' object has no attribute 'upper'\n",
      "Error for nan: 'float' object has no attribute 'upper'\n",
      "Error for nan: 'float' object has no attribute 'upper'\n",
      "Error for nan: 'float' object has no attribute 'upper'\n",
      "Error for nan: 'float' object has no attribute 'upper'\n",
      "Error for nan: 'float' object has no attribute 'upper'\n",
      "Error for nan: 'float' object has no attribute 'upper'\n",
      "Error for nan: 'float' object has no attribute 'upper'\n",
      "Error for nan: 'float' object has no attribute 'upper'\n",
      "Error for nan: 'float' object has no attribute 'upper'\n",
      "Error for nan: 'float' object has no attribute 'upper'\n",
      "Error for nan: 'float' object has no attribute 'upper'\n",
      "Error for nan: 'float' object has no attribute 'upper'\n",
      "Error for nan: 'float' object has no attribute 'upper'\n",
      "Error for nan: 'float' object has no attribute 'upper'\n",
      "Error for nan: 'float' object has no attribute 'upper'\n",
      "Error for nan: 'float' object has no attribute 'upper'\n",
      "Error for nan: 'float' object has no attribute 'upper'\n",
      "Error for nan: 'float' object has no attribute 'upper'\n",
      "Error for nan: 'float' object has no attribute 'upper'\n",
      "Error for nan: 'float' object has no attribute 'upper'\n",
      "Error for nan: 'float' object has no attribute 'upper'\n",
      "Error for nan: 'float' object has no attribute 'upper'\n",
      "Error for nan: 'float' object has no attribute 'upper'\n",
      "Error for nan: 'float' object has no attribute 'upper'\n",
      "Error for nan: 'float' object has no attribute 'upper'\n",
      "Error for nan: 'float' object has no attribute 'upper'\n",
      "Error for nan: 'float' object has no attribute 'upper'\n",
      "Error for nan: 'float' object has no attribute 'upper'\n",
      "Error for nan: 'float' object has no attribute 'upper'\n",
      "Error for nan: 'float' object has no attribute 'upper'\n",
      "Error for nan: 'float' object has no attribute 'upper'\n",
      "Error for nan: 'float' object has no attribute 'upper'\n",
      "Error for nan: 'float' object has no attribute 'upper'\n",
      "Error for nan: 'float' object has no attribute 'upper'\n",
      "Error for nan: 'float' object has no attribute 'upper'\n",
      "Error for nan: 'float' object has no attribute 'upper'\n",
      "Error for nan: 'float' object has no attribute 'upper'\n",
      "Error for nan: 'float' object has no attribute 'upper'\n",
      "Error for nan: 'float' object has no attribute 'upper'\n",
      "Error for nan: 'float' object has no attribute 'upper'\n",
      "Error for nan: 'float' object has no attribute 'upper'\n",
      "Error for nan: 'float' object has no attribute 'upper'\n",
      "Error for nan: 'float' object has no attribute 'upper'\n",
      "Error for nan: 'float' object has no attribute 'upper'\n",
      "Error for nan: 'float' object has no attribute 'upper'\n",
      "Error for nan: 'float' object has no attribute 'upper'\n",
      "Error for nan: 'float' object has no attribute 'upper'\n",
      "Error for nan: 'float' object has no attribute 'upper'\n",
      "Error for nan: 'float' object has no attribute 'upper'\n",
      "Error for nan: 'float' object has no attribute 'upper'\n",
      "Error for nan: 'float' object has no attribute 'upper'\n",
      "Error for nan: 'float' object has no attribute 'upper'\n",
      "Error for nan: 'float' object has no attribute 'upper'\n",
      "Error for nan: 'float' object has no attribute 'upper'\n",
      "Error for nan: 'float' object has no attribute 'upper'\n",
      "Error for nan: 'float' object has no attribute 'upper'\n",
      "Error for nan: 'float' object has no attribute 'upper'\n",
      "Error for nan: 'float' object has no attribute 'upper'\n",
      "Error for nan: 'float' object has no attribute 'upper'\n",
      "Error for nan: 'float' object has no attribute 'upper'\n",
      "Error for nan: 'float' object has no attribute 'upper'\n",
      "Error for nan: 'float' object has no attribute 'upper'\n",
      "Error for nan: 'float' object has no attribute 'upper'\n",
      "Error for nan: 'float' object has no attribute 'upper'\n",
      "Error for nan: 'float' object has no attribute 'upper'\n",
      "Error for nan: 'float' object has no attribute 'upper'\n",
      "Error for nan: 'float' object has no attribute 'upper'\n",
      "Error for nan: 'float' object has no attribute 'upper'\n",
      "Error for nan: 'float' object has no attribute 'upper'\n",
      "Error for nan: 'float' object has no attribute 'upper'\n",
      "Error for nan: 'float' object has no attribute 'upper'\n",
      "Error for nan: 'float' object has no attribute 'upper'\n",
      "Error for nan: 'float' object has no attribute 'upper'\n",
      "Error for nan: 'float' object has no attribute 'upper'\n",
      "Error for nan: 'float' object has no attribute 'upper'\n",
      "Error for nan: 'float' object has no attribute 'upper'\n",
      "Error for nan: 'float' object has no attribute 'upper'\n",
      "Error for nan: 'float' object has no attribute 'upper'\n",
      "Error for nan: 'float' object has no attribute 'upper'\n",
      "Error for nan: 'float' object has no attribute 'upper'\n",
      "Error for nan: 'float' object has no attribute 'upper'\n",
      "Error for nan: 'float' object has no attribute 'upper'\n",
      "Error for nan: 'float' object has no attribute 'upper'\n",
      "Error for nan: 'float' object has no attribute 'upper'\n",
      "Error for nan: 'float' object has no attribute 'upper'\n",
      "Error for nan: 'float' object has no attribute 'upper'\n",
      "Error for nan: 'float' object has no attribute 'upper'\n",
      "Error for nan: 'float' object has no attribute 'upper'\n",
      "Error for nan: 'float' object has no attribute 'upper'\n",
      "Error for nan: 'float' object has no attribute 'upper'\n",
      "Error for nan: 'float' object has no attribute 'upper'\n",
      "Error for nan: 'float' object has no attribute 'upper'\n",
      "Error for nan: 'float' object has no attribute 'upper'\n",
      "Error for nan: 'float' object has no attribute 'upper'\n",
      "Error for nan: 'float' object has no attribute 'upper'\n",
      "Error for nan: 'float' object has no attribute 'upper'\n",
      "Error for nan: 'float' object has no attribute 'upper'\n",
      "Error for nan: 'float' object has no attribute 'upper'\n",
      "Error for nan: 'float' object has no attribute 'upper'\n",
      "Error for nan: 'float' object has no attribute 'upper'\n",
      "Error for nan: 'float' object has no attribute 'upper'\n",
      "Error for nan: 'float' object has no attribute 'upper'\n",
      "Error for nan: 'float' object has no attribute 'upper'\n",
      "Error for nan: 'float' object has no attribute 'upper'\n",
      "Error for nan: 'float' object has no attribute 'upper'\n",
      "Error for nan: 'float' object has no attribute 'upper'\n",
      "Error for nan: 'float' object has no attribute 'upper'\n",
      "Error for nan: 'float' object has no attribute 'upper'\n",
      "Error for nan: 'float' object has no attribute 'upper'\n",
      "Error for nan: 'float' object has no attribute 'upper'\n",
      "Error for nan: 'float' object has no attribute 'upper'\n",
      "Error for nan: 'float' object has no attribute 'upper'\n",
      "Error for nan: 'float' object has no attribute 'upper'\n",
      "Error for nan: 'float' object has no attribute 'upper'\n",
      "Error for nan: 'float' object has no attribute 'upper'\n",
      "Error for nan: 'float' object has no attribute 'upper'\n",
      "Error for nan: 'float' object has no attribute 'upper'\n",
      "Error for nan: 'float' object has no attribute 'upper'\n",
      "Error for nan: 'float' object has no attribute 'upper'\n",
      "Error for nan: 'float' object has no attribute 'upper'\n",
      "Error for nan: 'float' object has no attribute 'upper'\n",
      "Error for nan: 'float' object has no attribute 'upper'\n",
      "Error for nan: 'float' object has no attribute 'upper'\n",
      "Error for nan: 'float' object has no attribute 'upper'\n",
      "Error for nan: 'float' object has no attribute 'upper'\n",
      "Error for nan: 'float' object has no attribute 'upper'\n",
      "Error for nan: 'float' object has no attribute 'upper'\n",
      "Error for nan: 'float' object has no attribute 'upper'\n",
      "Error for nan: 'float' object has no attribute 'upper'\n",
      "Error for nan: 'float' object has no attribute 'upper'\n",
      "Error for nan: 'float' object has no attribute 'upper'\n",
      "Error for nan: 'float' object has no attribute 'upper'\n",
      "Error for nan: 'float' object has no attribute 'upper'\n",
      "Error for nan: 'float' object has no attribute 'upper'\n",
      "Error for nan: 'float' object has no attribute 'upper'\n",
      "Error for nan: 'float' object has no attribute 'upper'\n",
      "Error for nan: 'float' object has no attribute 'upper'\n",
      "Error for nan: 'float' object has no attribute 'upper'\n",
      "Error for nan: 'float' object has no attribute 'upper'\n",
      "Error for nan: 'float' object has no attribute 'upper'\n",
      "Error for nan: 'float' object has no attribute 'upper'\n",
      "Error for nan: 'float' object has no attribute 'upper'\n",
      "Error for nan: 'float' object has no attribute 'upper'\n",
      "Error for nan: 'float' object has no attribute 'upper'\n",
      "Error for nan: 'float' object has no attribute 'upper'\n",
      "Error for nan: 'float' object has no attribute 'upper'\n",
      "Error for nan: 'float' object has no attribute 'upper'\n",
      "Error for nan: 'float' object has no attribute 'upper'\n",
      "Error for nan: 'float' object has no attribute 'upper'\n",
      "Error for nan: 'float' object has no attribute 'upper'\n",
      "Error for nan: 'float' object has no attribute 'upper'\n",
      "Error for nan: 'float' object has no attribute 'upper'\n",
      "Error for nan: 'float' object has no attribute 'upper'\n",
      "Error for nan: 'float' object has no attribute 'upper'\n",
      "Error for nan: 'float' object has no attribute 'upper'\n",
      "Error for nan: 'float' object has no attribute 'upper'\n",
      "Error for nan: 'float' object has no attribute 'upper'\n",
      "Error for nan: 'float' object has no attribute 'upper'\n",
      "Error for nan: 'float' object has no attribute 'upper'\n",
      "Error for nan: 'float' object has no attribute 'upper'\n",
      "Error for nan: 'float' object has no attribute 'upper'\n",
      "Error for nan: 'float' object has no attribute 'upper'\n",
      "Error for nan: 'float' object has no attribute 'upper'\n",
      "Error for nan: 'float' object has no attribute 'upper'\n",
      "Error for nan: 'float' object has no attribute 'upper'\n",
      "Error for nan: 'float' object has no attribute 'upper'\n",
      "Error for nan: 'float' object has no attribute 'upper'\n",
      "Error for nan: 'float' object has no attribute 'upper'\n",
      "Error for nan: 'float' object has no attribute 'upper'\n",
      "Error for nan: 'float' object has no attribute 'upper'\n",
      "Error for nan: 'float' object has no attribute 'upper'\n",
      "Error for nan: 'float' object has no attribute 'upper'\n",
      "Error for nan: 'float' object has no attribute 'upper'\n",
      "Error for nan: 'float' object has no attribute 'upper'\n",
      "Error for nan: 'float' object has no attribute 'upper'\n",
      "Error for nan: 'float' object has no attribute 'upper'\n",
      "Error for nan: 'float' object has no attribute 'upper'\n",
      "Error for nan: 'float' object has no attribute 'upper'\n",
      "Error for nan: 'float' object has no attribute 'upper'\n",
      "Error for nan: 'float' object has no attribute 'upper'\n",
      "Error for nan: 'float' object has no attribute 'upper'\n",
      "Error for nan: 'float' object has no attribute 'upper'\n",
      "Error for nan: 'float' object has no attribute 'upper'\n",
      "Error for nan: 'float' object has no attribute 'upper'\n",
      "Error for nan: 'float' object has no attribute 'upper'\n",
      "Error for nan: 'float' object has no attribute 'upper'\n",
      "Error for nan: 'float' object has no attribute 'upper'\n",
      "Error for nan: 'float' object has no attribute 'upper'\n",
      "Error for nan: 'float' object has no attribute 'upper'\n",
      "Error for nan: 'float' object has no attribute 'upper'\n",
      "Error for nan: 'float' object has no attribute 'upper'\n",
      "Error for nan: 'float' object has no attribute 'upper'\n",
      "Error for nan: 'float' object has no attribute 'upper'\n",
      "Error for nan: 'float' object has no attribute 'upper'\n",
      "Error for nan: 'float' object has no attribute 'upper'\n",
      "Error for nan: 'float' object has no attribute 'upper'\n",
      "Error for nan: 'float' object has no attribute 'upper'\n",
      "Error for nan: 'float' object has no attribute 'upper'\n",
      "Error for nan: 'float' object has no attribute 'upper'\n",
      "Error for nan: 'float' object has no attribute 'upper'\n",
      "Error for nan: 'float' object has no attribute 'upper'\n",
      "Error for nan: 'float' object has no attribute 'upper'\n",
      "Error for nan: 'float' object has no attribute 'upper'\n",
      "Error for nan: 'float' object has no attribute 'upper'\n",
      "Error for nan: 'float' object has no attribute 'upper'\n",
      "Error for nan: 'float' object has no attribute 'upper'\n",
      "Error for nan: 'float' object has no attribute 'upper'\n",
      "Error for nan: 'float' object has no attribute 'upper'\n",
      "Error for nan: 'float' object has no attribute 'upper'\n",
      "Error for nan: 'float' object has no attribute 'upper'\n",
      "Error for nan: 'float' object has no attribute 'upper'\n",
      "Error for nan: 'float' object has no attribute 'upper'\n",
      "Error for nan: 'float' object has no attribute 'upper'\n",
      "Error for nan: 'float' object has no attribute 'upper'\n",
      "Error for nan: 'float' object has no attribute 'upper'\n",
      "Error for nan: 'float' object has no attribute 'upper'\n",
      "Error for nan: 'float' object has no attribute 'upper'\n",
      "Error for nan: 'float' object has no attribute 'upper'\n",
      "Error for nan: 'float' object has no attribute 'upper'\n",
      "Error for nan: 'float' object has no attribute 'upper'\n",
      "Error for nan: 'float' object has no attribute 'upper'\n",
      "Error for nan: 'float' object has no attribute 'upper'\n",
      "Error for nan: 'float' object has no attribute 'upper'\n",
      "Error for nan: 'float' object has no attribute 'upper'\n",
      "Error for nan: 'float' object has no attribute 'upper'\n",
      "Error for nan: 'float' object has no attribute 'upper'\n",
      "Error for nan: 'float' object has no attribute 'upper'\n",
      "Error for nan: 'float' object has no attribute 'upper'\n",
      "Error for nan: 'float' object has no attribute 'upper'\n",
      "Error for nan: 'float' object has no attribute 'upper'\n",
      "Error for nan: 'float' object has no attribute 'upper'\n",
      "Error for nan: 'float' object has no attribute 'upper'\n",
      "Error for nan: 'float' object has no attribute 'upper'\n",
      "Error for nan: 'float' object has no attribute 'upper'\n",
      "Error for nan: 'float' object has no attribute 'upper'\n",
      "Error for nan: 'float' object has no attribute 'upper'\n",
      "Error for nan: 'float' object has no attribute 'upper'\n",
      "Error for nan: 'float' object has no attribute 'upper'\n",
      "Error for nan: 'float' object has no attribute 'upper'\n",
      "Error for nan: 'float' object has no attribute 'upper'\n",
      "Error for nan: 'float' object has no attribute 'upper'\n",
      "Error for nan: 'float' object has no attribute 'upper'\n",
      "Error for nan: 'float' object has no attribute 'upper'\n",
      "Error for nan: 'float' object has no attribute 'upper'\n",
      "Error for nan: 'float' object has no attribute 'upper'\n",
      "Error for nan: 'float' object has no attribute 'upper'\n",
      "Error for nan: 'float' object has no attribute 'upper'\n",
      "Error for nan: 'float' object has no attribute 'upper'\n",
      "Error for nan: 'float' object has no attribute 'upper'\n",
      "Error for nan: 'float' object has no attribute 'upper'\n",
      "Error for nan: 'float' object has no attribute 'upper'\n",
      "Error for nan: 'float' object has no attribute 'upper'\n",
      "Error for nan: 'float' object has no attribute 'upper'\n",
      "Error for nan: 'float' object has no attribute 'upper'\n",
      "Error for nan: 'float' object has no attribute 'upper'\n",
      "Error for nan: 'float' object has no attribute 'upper'\n",
      "Error for nan: 'float' object has no attribute 'upper'\n",
      "Error for nan: 'float' object has no attribute 'upper'\n",
      "Error for nan: 'float' object has no attribute 'upper'\n",
      "Error for nan: 'float' object has no attribute 'upper'\n",
      "Error for nan: 'float' object has no attribute 'upper'\n",
      "Error for nan: 'float' object has no attribute 'upper'\n",
      "Error for nan: 'float' object has no attribute 'upper'\n",
      "Error for nan: 'float' object has no attribute 'upper'\n",
      "Error for nan: 'float' object has no attribute 'upper'\n",
      "Error for nan: 'float' object has no attribute 'upper'\n",
      "Error for nan: 'float' object has no attribute 'upper'\n",
      "Error for nan: 'float' object has no attribute 'upper'\n",
      "Error for nan: 'float' object has no attribute 'upper'\n",
      "Error for nan: 'float' object has no attribute 'upper'\n",
      "Error for nan: 'float' object has no attribute 'upper'\n",
      "Error for nan: 'float' object has no attribute 'upper'\n",
      "Error for nan: 'float' object has no attribute 'upper'\n",
      "Error for nan: 'float' object has no attribute 'upper'\n",
      "Error for nan: 'float' object has no attribute 'upper'\n",
      "Error for nan: 'float' object has no attribute 'upper'\n",
      "Error for nan: 'float' object has no attribute 'upper'\n",
      "Error for nan: 'float' object has no attribute 'upper'\n",
      "Error for nan: 'float' object has no attribute 'upper'\n",
      "Error for nan: 'float' object has no attribute 'upper'\n",
      "Error for nan: 'float' object has no attribute 'upper'\n",
      "Error for nan: 'float' object has no attribute 'upper'\n",
      "Error for nan: 'float' object has no attribute 'upper'\n",
      "Error for nan: 'float' object has no attribute 'upper'\n",
      "Error for nan: 'float' object has no attribute 'upper'\n",
      "Error for nan: 'float' object has no attribute 'upper'\n",
      "Error for nan: 'float' object has no attribute 'upper'\n",
      "Error for nan: 'float' object has no attribute 'upper'\n",
      "Error for nan: 'float' object has no attribute 'upper'\n",
      "Error for nan: 'float' object has no attribute 'upper'\n",
      "Error for nan: 'float' object has no attribute 'upper'\n",
      "Error for nan: 'float' object has no attribute 'upper'\n",
      "Error for nan: 'float' object has no attribute 'upper'\n",
      "Error for nan: 'float' object has no attribute 'upper'\n",
      "Error for nan: 'float' object has no attribute 'upper'\n",
      "Error for nan: 'float' object has no attribute 'upper'\n",
      "Error for nan: 'float' object has no attribute 'upper'\n",
      "Error for nan: 'float' object has no attribute 'upper'\n",
      "Error for nan: 'float' object has no attribute 'upper'\n",
      "Error for nan: 'float' object has no attribute 'upper'\n",
      "Error for nan: 'float' object has no attribute 'upper'\n",
      "Error for nan: 'float' object has no attribute 'upper'\n",
      "Error for nan: 'float' object has no attribute 'upper'\n",
      "Error for nan: 'float' object has no attribute 'upper'\n",
      "Error for nan: 'float' object has no attribute 'upper'\n",
      "Error for nan: 'float' object has no attribute 'upper'\n",
      "Error for nan: 'float' object has no attribute 'upper'\n",
      "Error for nan: 'float' object has no attribute 'upper'\n",
      "Error for nan: 'float' object has no attribute 'upper'\n",
      "Error for nan: 'float' object has no attribute 'upper'\n",
      "Error for nan: 'float' object has no attribute 'upper'\n",
      "Error for nan: 'float' object has no attribute 'upper'\n",
      "Error for nan: 'float' object has no attribute 'upper'\n",
      "Error for nan: 'float' object has no attribute 'upper'\n",
      "Error for nan: 'float' object has no attribute 'upper'\n",
      "Error for nan: 'float' object has no attribute 'upper'\n",
      "Error for nan: 'float' object has no attribute 'upper'\n",
      "Error for nan: 'float' object has no attribute 'upper'\n",
      "Error for nan: 'float' object has no attribute 'upper'\n",
      "Error for nan: 'float' object has no attribute 'upper'\n",
      "Error for nan: 'float' object has no attribute 'upper'\n",
      "Error for nan: 'float' object has no attribute 'upper'\n",
      "Error for nan: 'float' object has no attribute 'upper'\n",
      "Error for nan: 'float' object has no attribute 'upper'\n",
      "Error for nan: 'float' object has no attribute 'upper'\n",
      "Error for nan: 'float' object has no attribute 'upper'\n",
      "Error for nan: 'float' object has no attribute 'upper'\n",
      "Error for nan: 'float' object has no attribute 'upper'\n",
      "Error for nan: 'float' object has no attribute 'upper'\n",
      "Error for nan: 'float' object has no attribute 'upper'\n",
      "Error for nan: 'float' object has no attribute 'upper'\n",
      "Error for nan: 'float' object has no attribute 'upper'\n",
      "Error for nan: 'float' object has no attribute 'upper'\n",
      "Error for nan: 'float' object has no attribute 'upper'\n",
      "Error for nan: 'float' object has no attribute 'upper'\n",
      "Error for nan: 'float' object has no attribute 'upper'\n",
      "Error for nan: 'float' object has no attribute 'upper'\n",
      "Error for nan: 'float' object has no attribute 'upper'\n",
      "Error for nan: 'float' object has no attribute 'upper'\n",
      "Error for nan: 'float' object has no attribute 'upper'\n",
      "Error for nan: 'float' object has no attribute 'upper'\n",
      "Error for nan: 'float' object has no attribute 'upper'\n",
      "Error for nan: 'float' object has no attribute 'upper'\n",
      "Error for nan: 'float' object has no attribute 'upper'\n",
      "Error for nan: 'float' object has no attribute 'upper'\n",
      "Error for nan: 'float' object has no attribute 'upper'\n",
      "Error for nan: 'float' object has no attribute 'upper'\n",
      "Error for nan: 'float' object has no attribute 'upper'\n",
      "Error for nan: 'float' object has no attribute 'upper'\n",
      "Error for nan: 'float' object has no attribute 'upper'\n",
      "Error for nan: 'float' object has no attribute 'upper'\n",
      "Error for nan: 'float' object has no attribute 'upper'\n",
      "Error for nan: 'float' object has no attribute 'upper'\n",
      "Error for nan: 'float' object has no attribute 'upper'\n",
      "Error for nan: 'float' object has no attribute 'upper'\n",
      "Error for nan: 'float' object has no attribute 'upper'\n",
      "Error for nan: 'float' object has no attribute 'upper'\n",
      "Error for nan: 'float' object has no attribute 'upper'\n",
      "Error for nan: 'float' object has no attribute 'upper'\n",
      "Error for nan: 'float' object has no attribute 'upper'\n",
      "Error for nan: 'float' object has no attribute 'upper'\n",
      "Error for nan: 'float' object has no attribute 'upper'\n",
      "Error for nan: 'float' object has no attribute 'upper'\n",
      "Error for nan: 'float' object has no attribute 'upper'\n",
      "Error for nan: 'float' object has no attribute 'upper'\n",
      "Error for nan: 'float' object has no attribute 'upper'\n",
      "Error for nan: 'float' object has no attribute 'upper'\n",
      "Error for nan: 'float' object has no attribute 'upper'\n",
      "Error for nan: 'float' object has no attribute 'upper'\n",
      "Error for nan: 'float' object has no attribute 'upper'\n",
      "Error for nan: 'float' object has no attribute 'upper'\n",
      "Error for nan: 'float' object has no attribute 'upper'\n",
      "Error for nan: 'float' object has no attribute 'upper'\n",
      "Error for nan: 'float' object has no attribute 'upper'\n",
      "Error for nan: 'float' object has no attribute 'upper'\n",
      "Error for nan: 'float' object has no attribute 'upper'\n",
      "Error for nan: 'float' object has no attribute 'upper'\n",
      "Error for nan: 'float' object has no attribute 'upper'\n",
      "Error for nan: 'float' object has no attribute 'upper'\n",
      "Error for nan: 'float' object has no attribute 'upper'\n",
      "Error for nan: 'float' object has no attribute 'upper'\n",
      "Error for nan: 'float' object has no attribute 'upper'\n",
      "Error for nan: 'float' object has no attribute 'upper'\n",
      "Error for nan: 'float' object has no attribute 'upper'\n",
      "Error for nan: 'float' object has no attribute 'upper'\n",
      "Error for nan: 'float' object has no attribute 'upper'\n",
      "Error for nan: 'float' object has no attribute 'upper'\n",
      "Error for nan: 'float' object has no attribute 'upper'\n",
      "Error for nan: 'float' object has no attribute 'upper'\n",
      "Error for nan: 'float' object has no attribute 'upper'\n",
      "Error for nan: 'float' object has no attribute 'upper'\n",
      "Error for nan: 'float' object has no attribute 'upper'\n",
      "Error for nan: 'float' object has no attribute 'upper'\n",
      "Error for nan: 'float' object has no attribute 'upper'\n",
      "Error for nan: 'float' object has no attribute 'upper'\n",
      "Error for nan: 'float' object has no attribute 'upper'\n",
      "Error for nan: 'float' object has no attribute 'upper'\n",
      "Error for nan: 'float' object has no attribute 'upper'\n",
      "Error for nan: 'float' object has no attribute 'upper'\n",
      "Error for nan: 'float' object has no attribute 'upper'\n",
      "Error for nan: 'float' object has no attribute 'upper'\n",
      "Error for nan: 'float' object has no attribute 'upper'\n",
      "Error for nan: 'float' object has no attribute 'upper'\n",
      "Error for nan: 'float' object has no attribute 'upper'\n",
      "Error for nan: 'float' object has no attribute 'upper'\n",
      "Error for nan: 'float' object has no attribute 'upper'\n",
      "Error for nan: 'float' object has no attribute 'upper'\n",
      "Error for nan: 'float' object has no attribute 'upper'\n",
      "Error for nan: 'float' object has no attribute 'upper'\n",
      "Error for nan: 'float' object has no attribute 'upper'\n",
      "Error for nan: 'float' object has no attribute 'upper'\n",
      "Error for nan: 'float' object has no attribute 'upper'\n",
      "Error for nan: 'float' object has no attribute 'upper'\n",
      "Error for nan: 'float' object has no attribute 'upper'\n",
      "Error for nan: 'float' object has no attribute 'upper'\n",
      "Error for nan: 'float' object has no attribute 'upper'\n",
      "Error for nan: 'float' object has no attribute 'upper'\n",
      "Error for nan: 'float' object has no attribute 'upper'\n",
      "Error for nan: 'float' object has no attribute 'upper'\n",
      "Error for nan: 'float' object has no attribute 'upper'\n",
      "Error for nan: 'float' object has no attribute 'upper'\n",
      "Error for nan: 'float' object has no attribute 'upper'\n",
      "Error for nan: 'float' object has no attribute 'upper'\n",
      "Error for nan: 'float' object has no attribute 'upper'\n",
      "Error for nan: 'float' object has no attribute 'upper'\n",
      "Error for nan: 'float' object has no attribute 'upper'\n",
      "Error for nan: 'float' object has no attribute 'upper'\n",
      "Error for nan: 'float' object has no attribute 'upper'\n",
      "Error for nan: 'float' object has no attribute 'upper'\n",
      "Error for nan: 'float' object has no attribute 'upper'\n",
      "Error for nan: 'float' object has no attribute 'upper'\n",
      "Error for nan: 'float' object has no attribute 'upper'\n",
      "Error for nan: 'float' object has no attribute 'upper'\n",
      "Error for nan: 'float' object has no attribute 'upper'\n",
      "Error for nan: 'float' object has no attribute 'upper'\n",
      "Error for nan: 'float' object has no attribute 'upper'\n",
      "Error for nan: 'float' object has no attribute 'upper'\n",
      "Error for nan: 'float' object has no attribute 'upper'\n",
      "Error for nan: 'float' object has no attribute 'upper'\n",
      "Error for nan: 'float' object has no attribute 'upper'\n",
      "Error for nan: 'float' object has no attribute 'upper'\n",
      "Error for nan: 'float' object has no attribute 'upper'\n",
      "Error for nan: 'float' object has no attribute 'upper'\n",
      "Error for nan: 'float' object has no attribute 'upper'\n",
      "Error for nan: 'float' object has no attribute 'upper'\n",
      "Error for nan: 'float' object has no attribute 'upper'\n",
      "Error for nan: 'float' object has no attribute 'upper'\n",
      "Error for nan: 'float' object has no attribute 'upper'\n",
      "Error for nan: 'float' object has no attribute 'upper'\n",
      "Error for nan: 'float' object has no attribute 'upper'\n",
      "Error for nan: 'float' object has no attribute 'upper'\n",
      "Error for nan: 'float' object has no attribute 'upper'\n",
      "Error for nan: 'float' object has no attribute 'upper'\n",
      "Error for nan: 'float' object has no attribute 'upper'\n",
      "Error for nan: 'float' object has no attribute 'upper'\n",
      "Error for nan: 'float' object has no attribute 'upper'\n",
      "Error for nan: 'float' object has no attribute 'upper'\n",
      "Error for nan: 'float' object has no attribute 'upper'\n",
      "Error for nan: 'float' object has no attribute 'upper'\n",
      "Error for nan: 'float' object has no attribute 'upper'\n",
      "Error for nan: 'float' object has no attribute 'upper'\n",
      "Error for nan: 'float' object has no attribute 'upper'\n",
      "Error for nan: 'float' object has no attribute 'upper'\n",
      "Error for nan: 'float' object has no attribute 'upper'\n",
      "Error for nan: 'float' object has no attribute 'upper'\n",
      "Error for nan: 'float' object has no attribute 'upper'\n",
      "Error for nan: 'float' object has no attribute 'upper'\n",
      "Error for nan: 'float' object has no attribute 'upper'\n",
      "Error for nan: 'float' object has no attribute 'upper'\n",
      "Error for nan: 'float' object has no attribute 'upper'\n",
      "Error for nan: 'float' object has no attribute 'upper'\n",
      "Error for nan: 'float' object has no attribute 'upper'\n",
      "Error for nan: 'float' object has no attribute 'upper'\n",
      "Error for nan: 'float' object has no attribute 'upper'\n",
      "Error for nan: 'float' object has no attribute 'upper'\n",
      "Error for nan: 'float' object has no attribute 'upper'\n",
      "Error for nan: 'float' object has no attribute 'upper'\n",
      "Error for nan: 'float' object has no attribute 'upper'\n",
      "Error for nan: 'float' object has no attribute 'upper'\n",
      "Error for nan: 'float' object has no attribute 'upper'\n",
      "Error for nan: 'float' object has no attribute 'upper'\n",
      "Error for nan: 'float' object has no attribute 'upper'\n",
      "Error for nan: 'float' object has no attribute 'upper'\n",
      "Error for nan: 'float' object has no attribute 'upper'\n",
      "Error for nan: 'float' object has no attribute 'upper'\n",
      "Error for nan: 'float' object has no attribute 'upper'\n",
      "Error for nan: 'float' object has no attribute 'upper'\n",
      "Error for nan: 'float' object has no attribute 'upper'\n",
      "Error for nan: 'float' object has no attribute 'upper'\n",
      "Error for nan: 'float' object has no attribute 'upper'\n",
      "Error for nan: 'float' object has no attribute 'upper'\n",
      "Error for nan: 'float' object has no attribute 'upper'\n",
      "Error for nan: 'float' object has no attribute 'upper'\n",
      "Error for nan: 'float' object has no attribute 'upper'\n",
      "Error for nan: 'float' object has no attribute 'upper'\n",
      "Error for nan: 'float' object has no attribute 'upper'\n",
      "Error for nan: 'float' object has no attribute 'upper'\n",
      "Error for nan: 'float' object has no attribute 'upper'\n",
      "Error for nan: 'float' object has no attribute 'upper'\n",
      "Error for nan: 'float' object has no attribute 'upper'\n",
      "Error for nan: 'float' object has no attribute 'upper'\n",
      "Error for nan: 'float' object has no attribute 'upper'\n",
      "Error for nan: 'float' object has no attribute 'upper'\n",
      "Error for nan: 'float' object has no attribute 'upper'\n",
      "Error for nan: 'float' object has no attribute 'upper'\n",
      "Error for nan: 'float' object has no attribute 'upper'\n",
      "Error for nan: 'float' object has no attribute 'upper'\n",
      "Error for nan: 'float' object has no attribute 'upper'\n",
      "Error for nan: 'float' object has no attribute 'upper'\n",
      "Error for nan: 'float' object has no attribute 'upper'\n",
      "Error for nan: 'float' object has no attribute 'upper'\n",
      "Error for nan: 'float' object has no attribute 'upper'\n",
      "Error for nan: 'float' object has no attribute 'upper'\n",
      "Error for nan: 'float' object has no attribute 'upper'\n",
      "Error for nan: 'float' object has no attribute 'upper'\n",
      "Error for nan: 'float' object has no attribute 'upper'\n",
      "Error for nan: 'float' object has no attribute 'upper'\n",
      "Error for nan: 'float' object has no attribute 'upper'\n",
      "Error for nan: 'float' object has no attribute 'upper'\n",
      "Error for nan: 'float' object has no attribute 'upper'\n",
      "Error for nan: 'float' object has no attribute 'upper'\n",
      "Error for nan: 'float' object has no attribute 'upper'\n",
      "Error for nan: 'float' object has no attribute 'upper'\n",
      "Error for nan: 'float' object has no attribute 'upper'\n",
      "Error for nan: 'float' object has no attribute 'upper'\n",
      "Error for nan: 'float' object has no attribute 'upper'\n",
      "Error for nan: 'float' object has no attribute 'upper'\n",
      "Error for nan: 'float' object has no attribute 'upper'\n",
      "Error for nan: 'float' object has no attribute 'upper'\n",
      "Error for nan: 'float' object has no attribute 'upper'\n",
      "Error for nan: 'float' object has no attribute 'upper'\n",
      "Error for nan: 'float' object has no attribute 'upper'\n",
      "Error for nan: 'float' object has no attribute 'upper'\n",
      "Error for nan: 'float' object has no attribute 'upper'\n",
      "Error for nan: 'float' object has no attribute 'upper'\n",
      "Error for nan: 'float' object has no attribute 'upper'\n",
      "Error for nan: 'float' object has no attribute 'upper'\n",
      "Error for nan: 'float' object has no attribute 'upper'\n",
      "Error for nan: 'float' object has no attribute 'upper'\n",
      "Error for nan: 'float' object has no attribute 'upper'\n",
      "Error for nan: 'float' object has no attribute 'upper'\n",
      "Error for nan: 'float' object has no attribute 'upper'\n",
      "Error for nan: 'float' object has no attribute 'upper'\n",
      "Error for nan: 'float' object has no attribute 'upper'\n",
      "Error for nan: 'float' object has no attribute 'upper'\n",
      "Error for nan: 'float' object has no attribute 'upper'\n",
      "Error for nan: 'float' object has no attribute 'upper'\n",
      "Error for nan: 'float' object has no attribute 'upper'\n",
      "Error for nan: 'float' object has no attribute 'upper'\n",
      "Error for nan: 'float' object has no attribute 'upper'\n",
      "Error for nan: 'float' object has no attribute 'upper'\n",
      "Error for nan: 'float' object has no attribute 'upper'\n",
      "Error for nan: 'float' object has no attribute 'upper'\n",
      "Error for nan: 'float' object has no attribute 'upper'\n",
      "Error for nan: 'float' object has no attribute 'upper'\n",
      "Error for nan: 'float' object has no attribute 'upper'\n",
      "Error for nan: 'float' object has no attribute 'upper'\n",
      "Error for nan: 'float' object has no attribute 'upper'\n",
      "Error for nan: 'float' object has no attribute 'upper'\n",
      "Error for nan: 'float' object has no attribute 'upper'\n",
      "Error for nan: 'float' object has no attribute 'upper'\n",
      "Error for nan: 'float' object has no attribute 'upper'\n",
      "Error for nan: 'float' object has no attribute 'upper'\n",
      "Error for nan: 'float' object has no attribute 'upper'\n",
      "Error for nan: 'float' object has no attribute 'upper'\n",
      "Error for nan: 'float' object has no attribute 'upper'\n",
      "Error for nan: 'float' object has no attribute 'upper'\n",
      "Error for nan: 'float' object has no attribute 'upper'\n",
      "Error for nan: 'float' object has no attribute 'upper'\n",
      "Error for nan: 'float' object has no attribute 'upper'\n",
      "Error for nan: 'float' object has no attribute 'upper'\n",
      "Error for nan: 'float' object has no attribute 'upper'\n",
      "Error for nan: 'float' object has no attribute 'upper'\n",
      "Error for nan: 'float' object has no attribute 'upper'\n",
      "Error for nan: 'float' object has no attribute 'upper'\n",
      "Error for nan: 'float' object has no attribute 'upper'\n",
      "Error for nan: 'float' object has no attribute 'upper'\n",
      "Error for nan: 'float' object has no attribute 'upper'\n",
      "Error for nan: 'float' object has no attribute 'upper'\n",
      "Error for nan: 'float' object has no attribute 'upper'\n",
      "Error for nan: 'float' object has no attribute 'upper'\n",
      "Error for nan: 'float' object has no attribute 'upper'\n",
      "Error for nan: 'float' object has no attribute 'upper'\n",
      "Error for nan: 'float' object has no attribute 'upper'\n",
      "Error for nan: 'float' object has no attribute 'upper'\n",
      "Error for nan: 'float' object has no attribute 'upper'\n",
      "Error for nan: 'float' object has no attribute 'upper'\n",
      "Error for nan: 'float' object has no attribute 'upper'\n",
      "Error for nan: 'float' object has no attribute 'upper'\n",
      "Error for nan: 'float' object has no attribute 'upper'\n",
      "Error for nan: 'float' object has no attribute 'upper'\n",
      "Error for nan: 'float' object has no attribute 'upper'\n",
      "Error for nan: 'float' object has no attribute 'upper'\n",
      "Error for nan: 'float' object has no attribute 'upper'\n",
      "Error for nan: 'float' object has no attribute 'upper'\n",
      "Error for nan: 'float' object has no attribute 'upper'\n",
      "Error for nan: 'float' object has no attribute 'upper'\n",
      "Error for nan: 'float' object has no attribute 'upper'\n",
      "Error for nan: 'float' object has no attribute 'upper'\n",
      "Error for nan: 'float' object has no attribute 'upper'\n",
      "Error for nan: 'float' object has no attribute 'upper'\n",
      "Error for nan: 'float' object has no attribute 'upper'\n",
      "Error for nan: 'float' object has no attribute 'upper'\n",
      "Error for nan: 'float' object has no attribute 'upper'\n",
      "Error for nan: 'float' object has no attribute 'upper'\n",
      "Error for nan: 'float' object has no attribute 'upper'\n",
      "Error for nan: 'float' object has no attribute 'upper'\n",
      "Error for nan: 'float' object has no attribute 'upper'\n",
      "Error for nan: 'float' object has no attribute 'upper'\n",
      "Error for nan: 'float' object has no attribute 'upper'\n",
      "Error for nan: 'float' object has no attribute 'upper'\n",
      "Error for nan: 'float' object has no attribute 'upper'\n",
      "Error for nan: 'float' object has no attribute 'upper'\n",
      "Error for nan: 'float' object has no attribute 'upper'\n",
      "Error for nan: 'float' object has no attribute 'upper'\n",
      "Error for nan: 'float' object has no attribute 'upper'\n",
      "Error for nan: 'float' object has no attribute 'upper'\n",
      "Error for nan: 'float' object has no attribute 'upper'\n",
      "Error for nan: 'float' object has no attribute 'upper'\n",
      "Error for nan: 'float' object has no attribute 'upper'\n",
      "Error for nan: 'float' object has no attribute 'upper'\n",
      "Error for nan: 'float' object has no attribute 'upper'\n",
      "Error for nan: 'float' object has no attribute 'upper'\n",
      "Error for nan: 'float' object has no attribute 'upper'\n",
      "Error for nan: 'float' object has no attribute 'upper'\n",
      "Error for nan: 'float' object has no attribute 'upper'\n",
      "Error for nan: 'float' object has no attribute 'upper'\n",
      "Error for nan: 'float' object has no attribute 'upper'\n",
      "Error for nan: 'float' object has no attribute 'upper'\n",
      "Error for nan: 'float' object has no attribute 'upper'\n",
      "Error for nan: 'float' object has no attribute 'upper'\n",
      "Error for nan: 'float' object has no attribute 'upper'\n",
      "Error for nan: 'float' object has no attribute 'upper'\n",
      "Error for nan: 'float' object has no attribute 'upper'\n",
      "Error for nan: 'float' object has no attribute 'upper'\n",
      "Error for nan: 'float' object has no attribute 'upper'\n",
      "Error for nan: 'float' object has no attribute 'upper'\n",
      "Error for nan: 'float' object has no attribute 'upper'\n",
      "Error for nan: 'float' object has no attribute 'upper'\n",
      "Error for nan: 'float' object has no attribute 'upper'\n",
      "Error for nan: 'float' object has no attribute 'upper'\n",
      "Error for nan: 'float' object has no attribute 'upper'\n",
      "Error for nan: 'float' object has no attribute 'upper'\n",
      "Error for nan: 'float' object has no attribute 'upper'\n",
      "Error for nan: 'float' object has no attribute 'upper'\n",
      "Error for nan: 'float' object has no attribute 'upper'\n",
      "Error for nan: 'float' object has no attribute 'upper'\n",
      "Error for nan: 'float' object has no attribute 'upper'\n",
      "Error for nan: 'float' object has no attribute 'upper'\n",
      "Error for nan: 'float' object has no attribute 'upper'\n",
      "Error for nan: 'float' object has no attribute 'upper'\n",
      "Error for nan: 'float' object has no attribute 'upper'\n",
      "Error for nan: 'float' object has no attribute 'upper'\n",
      "Error for nan: 'float' object has no attribute 'upper'\n",
      "Error for nan: 'float' object has no attribute 'upper'\n",
      "Error for nan: 'float' object has no attribute 'upper'\n",
      "Error for nan: 'float' object has no attribute 'upper'\n",
      "Error for nan: 'float' object has no attribute 'upper'\n",
      "Error for nan: 'float' object has no attribute 'upper'\n",
      "Error for nan: 'float' object has no attribute 'upper'\n",
      "Error for nan: 'float' object has no attribute 'upper'\n",
      "Error for nan: 'float' object has no attribute 'upper'\n",
      "Error for nan: 'float' object has no attribute 'upper'\n",
      "Error for nan: 'float' object has no attribute 'upper'\n",
      "Error for nan: 'float' object has no attribute 'upper'\n",
      "Error for nan: 'float' object has no attribute 'upper'\n",
      "Error for nan: 'float' object has no attribute 'upper'\n",
      "Error for nan: 'float' object has no attribute 'upper'\n",
      "Error for nan: 'float' object has no attribute 'upper'\n",
      "Error for nan: 'float' object has no attribute 'upper'\n",
      "Error for nan: 'float' object has no attribute 'upper'\n",
      "Error for nan: 'float' object has no attribute 'upper'\n",
      "Error for nan: 'float' object has no attribute 'upper'\n",
      "Error for nan: 'float' object has no attribute 'upper'\n",
      "Error for nan: 'float' object has no attribute 'upper'\n",
      "Error for nan: 'float' object has no attribute 'upper'\n",
      "Error for nan: 'float' object has no attribute 'upper'\n",
      "Error for nan: 'float' object has no attribute 'upper'\n",
      "Error for nan: 'float' object has no attribute 'upper'\n",
      "Error for nan: 'float' object has no attribute 'upper'\n",
      "Error for nan: 'float' object has no attribute 'upper'\n",
      "Error for nan: 'float' object has no attribute 'upper'\n",
      "Error for nan: 'float' object has no attribute 'upper'\n",
      "Error for nan: 'float' object has no attribute 'upper'\n",
      "Error for nan: 'float' object has no attribute 'upper'\n",
      "Error for nan: 'float' object has no attribute 'upper'\n",
      "Error for nan: 'float' object has no attribute 'upper'\n",
      "Error for nan: 'float' object has no attribute 'upper'\n",
      "Error for nan: 'float' object has no attribute 'upper'\n",
      "Error for nan: 'float' object has no attribute 'upper'\n",
      "Error for nan: 'float' object has no attribute 'upper'\n",
      "Error for nan: 'float' object has no attribute 'upper'\n",
      "Error for nan: 'float' object has no attribute 'upper'\n",
      "Error for nan: 'float' object has no attribute 'upper'\n",
      "Error for nan: 'float' object has no attribute 'upper'\n",
      "Error for nan: 'float' object has no attribute 'upper'\n",
      "Error for nan: 'float' object has no attribute 'upper'\n",
      "Error for nan: 'float' object has no attribute 'upper'\n",
      "Error for nan: 'float' object has no attribute 'upper'\n",
      "Error for nan: 'float' object has no attribute 'upper'\n",
      "Error for nan: 'float' object has no attribute 'upper'\n",
      "Error for nan: 'float' object has no attribute 'upper'\n",
      "Error for nan: 'float' object has no attribute 'upper'\n",
      "Error for nan: 'float' object has no attribute 'upper'\n",
      "Error for nan: 'float' object has no attribute 'upper'\n",
      "Error for nan: 'float' object has no attribute 'upper'\n",
      "Error for nan: 'float' object has no attribute 'upper'\n",
      "Error for nan: 'float' object has no attribute 'upper'\n",
      "Error for nan: 'float' object has no attribute 'upper'\n",
      "Error for nan: 'float' object has no attribute 'upper'\n",
      "Error for nan: 'float' object has no attribute 'upper'\n",
      "Error for nan: 'float' object has no attribute 'upper'\n",
      "Error for nan: 'float' object has no attribute 'upper'\n",
      "Error for nan: 'float' object has no attribute 'upper'\n",
      "Error for nan: 'float' object has no attribute 'upper'\n",
      "Error for nan: 'float' object has no attribute 'upper'\n",
      "Error for nan: 'float' object has no attribute 'upper'\n",
      "Error for nan: 'float' object has no attribute 'upper'\n",
      "Error for nan: 'float' object has no attribute 'upper'\n",
      "Error for nan: 'float' object has no attribute 'upper'\n",
      "Error for nan: 'float' object has no attribute 'upper'\n",
      "Error for nan: 'float' object has no attribute 'upper'\n",
      "Error for nan: 'float' object has no attribute 'upper'\n",
      "Error for nan: 'float' object has no attribute 'upper'\n",
      "Error for nan: 'float' object has no attribute 'upper'\n",
      "Error for nan: 'float' object has no attribute 'upper'\n",
      "Error for nan: 'float' object has no attribute 'upper'\n",
      "Error for nan: 'float' object has no attribute 'upper'\n",
      "Error for nan: 'float' object has no attribute 'upper'\n",
      "Error for nan: 'float' object has no attribute 'upper'\n",
      "Error for nan: 'float' object has no attribute 'upper'\n",
      "Error for nan: 'float' object has no attribute 'upper'\n",
      "Error for nan: 'float' object has no attribute 'upper'\n",
      "Error for nan: 'float' object has no attribute 'upper'\n",
      "Error for nan: 'float' object has no attribute 'upper'\n",
      "Error for nan: 'float' object has no attribute 'upper'\n",
      "Error for nan: 'float' object has no attribute 'upper'\n",
      "Error for nan: 'float' object has no attribute 'upper'\n",
      "Error for nan: 'float' object has no attribute 'upper'\n",
      "Error for nan: 'float' object has no attribute 'upper'\n",
      "Error for nan: 'float' object has no attribute 'upper'\n",
      "Error for nan: 'float' object has no attribute 'upper'\n",
      "Error for nan: 'float' object has no attribute 'upper'\n",
      "Error for nan: 'float' object has no attribute 'upper'\n",
      "Error for nan: 'float' object has no attribute 'upper'\n",
      "Error for nan: 'float' object has no attribute 'upper'\n",
      "Error for nan: 'float' object has no attribute 'upper'\n",
      "Error for nan: 'float' object has no attribute 'upper'\n",
      "Error for nan: 'float' object has no attribute 'upper'\n",
      "Error for nan: 'float' object has no attribute 'upper'\n",
      "Error for nan: 'float' object has no attribute 'upper'\n",
      "Error for nan: 'float' object has no attribute 'upper'\n",
      "Error for nan: 'float' object has no attribute 'upper'\n",
      "Error for nan: 'float' object has no attribute 'upper'\n",
      "Error for nan: 'float' object has no attribute 'upper'\n",
      "Error for nan: 'float' object has no attribute 'upper'\n",
      "Error for nan: 'float' object has no attribute 'upper'\n",
      "Error for nan: 'float' object has no attribute 'upper'\n",
      "Error for nan: 'float' object has no attribute 'upper'\n",
      "Error for nan: 'float' object has no attribute 'upper'\n",
      "Error for nan: 'float' object has no attribute 'upper'\n",
      "Error for nan: 'float' object has no attribute 'upper'\n",
      "Error for nan: 'float' object has no attribute 'upper'\n",
      "Error for nan: 'float' object has no attribute 'upper'\n",
      "Error for nan: 'float' object has no attribute 'upper'\n",
      "Error for nan: 'float' object has no attribute 'upper'\n",
      "Error for nan: 'float' object has no attribute 'upper'\n",
      "Error for nan: 'float' object has no attribute 'upper'\n",
      "Error for nan: 'float' object has no attribute 'upper'\n",
      "Error for nan: 'float' object has no attribute 'upper'\n",
      "Error for nan: 'float' object has no attribute 'upper'\n",
      "Error for nan: 'float' object has no attribute 'upper'\n",
      "Error for nan: 'float' object has no attribute 'upper'\n",
      "Error for nan: 'float' object has no attribute 'upper'\n",
      "Error for nan: 'float' object has no attribute 'upper'\n",
      "Error for nan: 'float' object has no attribute 'upper'\n",
      "Error for nan: 'float' object has no attribute 'upper'\n",
      "Error for nan: 'float' object has no attribute 'upper'\n",
      "Error for nan: 'float' object has no attribute 'upper'\n",
      "Error for nan: 'float' object has no attribute 'upper'\n",
      "Error for nan: 'float' object has no attribute 'upper'\n",
      "Error for nan: 'float' object has no attribute 'upper'\n",
      "Error for nan: 'float' object has no attribute 'upper'\n",
      "Error for nan: 'float' object has no attribute 'upper'\n",
      "Error for nan: 'float' object has no attribute 'upper'\n",
      "Error for nan: 'float' object has no attribute 'upper'\n",
      "Error for nan: 'float' object has no attribute 'upper'\n",
      "Error for nan: 'float' object has no attribute 'upper'\n",
      "Error for nan: 'float' object has no attribute 'upper'\n",
      "Error for nan: 'float' object has no attribute 'upper'\n",
      "Error for nan: 'float' object has no attribute 'upper'\n",
      "Error for nan: 'float' object has no attribute 'upper'\n",
      "Error for nan: 'float' object has no attribute 'upper'\n",
      "Error for nan: 'float' object has no attribute 'upper'\n",
      "Error for nan: 'float' object has no attribute 'upper'\n",
      "Error for nan: 'float' object has no attribute 'upper'\n",
      "Error for nan: 'float' object has no attribute 'upper'\n",
      "Error for nan: 'float' object has no attribute 'upper'\n",
      "Error for nan: 'float' object has no attribute 'upper'\n",
      "Error for nan: 'float' object has no attribute 'upper'\n",
      "Error for nan: 'float' object has no attribute 'upper'\n",
      "Error for nan: 'float' object has no attribute 'upper'\n",
      "Error for nan: 'float' object has no attribute 'upper'\n",
      "Error for nan: 'float' object has no attribute 'upper'\n",
      "Error for nan: 'float' object has no attribute 'upper'\n",
      "Error for nan: 'float' object has no attribute 'upper'\n",
      "Error for nan: 'float' object has no attribute 'upper'\n",
      "Error for nan: 'float' object has no attribute 'upper'\n",
      "Error for nan: 'float' object has no attribute 'upper'\n",
      "Error for nan: 'float' object has no attribute 'upper'\n",
      "Error for nan: 'float' object has no attribute 'upper'\n",
      "Error for nan: 'float' object has no attribute 'upper'\n",
      "Error for nan: 'float' object has no attribute 'upper'\n",
      "Error for nan: 'float' object has no attribute 'upper'\n",
      "Error for nan: 'float' object has no attribute 'upper'\n",
      "Error for nan: 'float' object has no attribute 'upper'\n",
      "Error for nan: 'float' object has no attribute 'upper'\n",
      "Error for nan: 'float' object has no attribute 'upper'\n",
      "Error for nan: 'float' object has no attribute 'upper'\n",
      "Error for nan: 'float' object has no attribute 'upper'\n",
      "Error for nan: 'float' object has no attribute 'upper'\n",
      "Error for nan: 'float' object has no attribute 'upper'\n",
      "Error for nan: 'float' object has no attribute 'upper'\n",
      "Error for nan: 'float' object has no attribute 'upper'\n",
      "Error for nan: 'float' object has no attribute 'upper'\n",
      "Error for nan: 'float' object has no attribute 'upper'\n",
      "Error for nan: 'float' object has no attribute 'upper'\n",
      "Error for nan: 'float' object has no attribute 'upper'\n",
      "Error for nan: 'float' object has no attribute 'upper'\n",
      "Error for nan: 'float' object has no attribute 'upper'\n",
      "Error for nan: 'float' object has no attribute 'upper'\n",
      "Error for nan: 'float' object has no attribute 'upper'\n",
      "Error for nan: 'float' object has no attribute 'upper'\n",
      "Error for nan: 'float' object has no attribute 'upper'\n",
      "Error for nan: 'float' object has no attribute 'upper'\n",
      "Error for nan: 'float' object has no attribute 'upper'\n",
      "Error for nan: 'float' object has no attribute 'upper'\n",
      "Error for nan: 'float' object has no attribute 'upper'\n",
      "Error for nan: 'float' object has no attribute 'upper'\n",
      "Error for nan: 'float' object has no attribute 'upper'\n",
      "Error for nan: 'float' object has no attribute 'upper'\n",
      "Error for nan: 'float' object has no attribute 'upper'\n",
      "Error for nan: 'float' object has no attribute 'upper'\n",
      "Error for nan: 'float' object has no attribute 'upper'\n",
      "Error for nan: 'float' object has no attribute 'upper'\n",
      "Error for nan: 'float' object has no attribute 'upper'\n",
      "Error for nan: 'float' object has no attribute 'upper'\n",
      "Error for nan: 'float' object has no attribute 'upper'\n",
      "Error for nan: 'float' object has no attribute 'upper'\n",
      "Error for nan: 'float' object has no attribute 'upper'\n",
      "Error for nan: 'float' object has no attribute 'upper'\n",
      "Error for nan: 'float' object has no attribute 'upper'\n",
      "Error for nan: 'float' object has no attribute 'upper'\n",
      "Error for nan: 'float' object has no attribute 'upper'\n",
      "Error for nan: 'float' object has no attribute 'upper'\n",
      "Error for nan: 'float' object has no attribute 'upper'\n",
      "Error for nan: 'float' object has no attribute 'upper'\n",
      "Error for nan: 'float' object has no attribute 'upper'\n",
      "Error for nan: 'float' object has no attribute 'upper'\n",
      "Error for nan: 'float' object has no attribute 'upper'\n",
      "Error for nan: 'float' object has no attribute 'upper'\n",
      "Error for nan: 'float' object has no attribute 'upper'\n",
      "Error for nan: 'float' object has no attribute 'upper'\n",
      "Error for nan: 'float' object has no attribute 'upper'\n",
      "Error for nan: 'float' object has no attribute 'upper'\n",
      "Error for nan: 'float' object has no attribute 'upper'\n",
      "Error for nan: 'float' object has no attribute 'upper'\n",
      "Error for nan: 'float' object has no attribute 'upper'\n",
      "Error for nan: 'float' object has no attribute 'upper'\n",
      "Error for nan: 'float' object has no attribute 'upper'\n",
      "Error for nan: 'float' object has no attribute 'upper'\n",
      "Error for nan: 'float' object has no attribute 'upper'\n",
      "Error for nan: 'float' object has no attribute 'upper'\n",
      "Error for nan: 'float' object has no attribute 'upper'\n",
      "Error for nan: 'float' object has no attribute 'upper'\n",
      "Error for nan: 'float' object has no attribute 'upper'\n",
      "Error for nan: 'float' object has no attribute 'upper'\n",
      "Error for nan: 'float' object has no attribute 'upper'\n",
      "Error for nan: 'float' object has no attribute 'upper'\n",
      "Error for nan: 'float' object has no attribute 'upper'\n",
      "Error for nan: 'float' object has no attribute 'upper'\n",
      "Error for nan: 'float' object has no attribute 'upper'\n",
      "Error for nan: 'float' object has no attribute 'upper'\n",
      "Error for nan: 'float' object has no attribute 'upper'\n",
      "Error for nan: 'float' object has no attribute 'upper'\n",
      "Error for nan: 'float' object has no attribute 'upper'\n",
      "Error for nan: 'float' object has no attribute 'upper'\n",
      "Error for nan: 'float' object has no attribute 'upper'\n",
      "Error for nan: 'float' object has no attribute 'upper'\n",
      "Error for nan: 'float' object has no attribute 'upper'\n",
      "Error for nan: 'float' object has no attribute 'upper'\n",
      "Error for nan: 'float' object has no attribute 'upper'\n",
      "Error for nan: 'float' object has no attribute 'upper'\n",
      "Error for nan: 'float' object has no attribute 'upper'\n",
      "Error for nan: 'float' object has no attribute 'upper'\n",
      "Error for nan: 'float' object has no attribute 'upper'\n",
      "Error for nan: 'float' object has no attribute 'upper'\n",
      "Error for nan: 'float' object has no attribute 'upper'\n",
      "Error for nan: 'float' object has no attribute 'upper'\n",
      "Error for nan: 'float' object has no attribute 'upper'\n",
      "Error for nan: 'float' object has no attribute 'upper'\n",
      "Error for nan: 'float' object has no attribute 'upper'\n",
      "Error for nan: 'float' object has no attribute 'upper'\n",
      "Error for nan: 'float' object has no attribute 'upper'\n",
      "Error for nan: 'float' object has no attribute 'upper'\n",
      "Error for nan: 'float' object has no attribute 'upper'\n",
      "Error for nan: 'float' object has no attribute 'upper'\n",
      "Error for nan: 'float' object has no attribute 'upper'\n",
      "Error for nan: 'float' object has no attribute 'upper'\n",
      "Error for nan: 'float' object has no attribute 'upper'\n",
      "Error for nan: 'float' object has no attribute 'upper'\n",
      "Error for nan: 'float' object has no attribute 'upper'\n",
      "Error for nan: 'float' object has no attribute 'upper'\n",
      "Error for nan: 'float' object has no attribute 'upper'\n",
      "Error for nan: 'float' object has no attribute 'upper'\n",
      "Error for nan: 'float' object has no attribute 'upper'\n",
      "Error for nan: 'float' object has no attribute 'upper'\n",
      "Error for nan: 'float' object has no attribute 'upper'\n",
      "Error for nan: 'float' object has no attribute 'upper'\n",
      "Error for nan: 'float' object has no attribute 'upper'\n",
      "Error for nan: 'float' object has no attribute 'upper'\n",
      "Error for nan: 'float' object has no attribute 'upper'\n",
      "Error for nan: 'float' object has no attribute 'upper'\n",
      "Error for nan: 'float' object has no attribute 'upper'\n",
      "Error for nan: 'float' object has no attribute 'upper'\n",
      "Error for nan: 'float' object has no attribute 'upper'\n",
      "Error for nan: 'float' object has no attribute 'upper'\n",
      "Error for nan: 'float' object has no attribute 'upper'\n",
      "Error for nan: 'float' object has no attribute 'upper'\n",
      "Error for nan: 'float' object has no attribute 'upper'\n",
      "Error for nan: 'float' object has no attribute 'upper'\n",
      "Error for nan: 'float' object has no attribute 'upper'\n",
      "Error for nan: 'float' object has no attribute 'upper'\n",
      "Error for nan: 'float' object has no attribute 'upper'\n",
      "Error for nan: 'float' object has no attribute 'upper'\n",
      "Error for nan: 'float' object has no attribute 'upper'\n",
      "Error for nan: 'float' object has no attribute 'upper'\n",
      "Error for nan: 'float' object has no attribute 'upper'\n",
      "Error for nan: 'float' object has no attribute 'upper'\n",
      "Error for nan: 'float' object has no attribute 'upper'\n",
      "Error for nan: 'float' object has no attribute 'upper'\n",
      "Error for nan: 'float' object has no attribute 'upper'\n",
      "Error for nan: 'float' object has no attribute 'upper'\n",
      "Error for nan: 'float' object has no attribute 'upper'\n",
      "Error for nan: 'float' object has no attribute 'upper'\n",
      "Error for nan: 'float' object has no attribute 'upper'\n",
      "Error for nan: 'float' object has no attribute 'upper'\n",
      "Error for nan: 'float' object has no attribute 'upper'\n",
      "Error for nan: 'float' object has no attribute 'upper'\n",
      "Error for nan: 'float' object has no attribute 'upper'\n",
      "Error for nan: 'float' object has no attribute 'upper'\n",
      "Error for nan: 'float' object has no attribute 'upper'\n",
      "Error for nan: 'float' object has no attribute 'upper'\n",
      "Error for nan: 'float' object has no attribute 'upper'\n",
      "Error for nan: 'float' object has no attribute 'upper'\n",
      "Error for nan: 'float' object has no attribute 'upper'\n",
      "Error for nan: 'float' object has no attribute 'upper'\n",
      "Error for nan: 'float' object has no attribute 'upper'\n",
      "Error for nan: 'float' object has no attribute 'upper'\n",
      "Error for nan: 'float' object has no attribute 'upper'\n",
      "Error for nan: 'float' object has no attribute 'upper'\n",
      "Error for nan: 'float' object has no attribute 'upper'\n",
      "Error for nan: 'float' object has no attribute 'upper'\n",
      "Error for nan: 'float' object has no attribute 'upper'\n",
      "Error for nan: 'float' object has no attribute 'upper'\n",
      "Error for nan: 'float' object has no attribute 'upper'\n",
      "Error for nan: 'float' object has no attribute 'upper'\n",
      "Error for nan: 'float' object has no attribute 'upper'\n",
      "Error for nan: 'float' object has no attribute 'upper'\n",
      "Error for nan: 'float' object has no attribute 'upper'\n",
      "Error for nan: 'float' object has no attribute 'upper'\n",
      "Error for nan: 'float' object has no attribute 'upper'\n",
      "Error for nan: 'float' object has no attribute 'upper'\n",
      "Error for nan: 'float' object has no attribute 'upper'\n",
      "Error for nan: 'float' object has no attribute 'upper'\n",
      "Error for nan: 'float' object has no attribute 'upper'\n",
      "Error for nan: 'float' object has no attribute 'upper'\n",
      "Error for nan: 'float' object has no attribute 'upper'\n",
      "Error for nan: 'float' object has no attribute 'upper'\n",
      "Error for nan: 'float' object has no attribute 'upper'\n",
      "Error for nan: 'float' object has no attribute 'upper'\n",
      "Error for nan: 'float' object has no attribute 'upper'\n",
      "Error for nan: 'float' object has no attribute 'upper'\n",
      "Error for nan: 'float' object has no attribute 'upper'\n",
      "Error for nan: 'float' object has no attribute 'upper'\n",
      "Error for nan: 'float' object has no attribute 'upper'\n",
      "Error for nan: 'float' object has no attribute 'upper'\n",
      "Error for nan: 'float' object has no attribute 'upper'\n",
      "Error for nan: 'float' object has no attribute 'upper'\n",
      "Error for nan: 'float' object has no attribute 'upper'\n",
      "Error for nan: 'float' object has no attribute 'upper'\n",
      "Error for nan: 'float' object has no attribute 'upper'\n",
      "Error for nan: 'float' object has no attribute 'upper'\n",
      "Error for nan: 'float' object has no attribute 'upper'\n",
      "Error for nan: 'float' object has no attribute 'upper'\n",
      "Error for nan: 'float' object has no attribute 'upper'\n",
      "Error for nan: 'float' object has no attribute 'upper'\n",
      "Error for nan: 'float' object has no attribute 'upper'\n",
      "Error for nan: 'float' object has no attribute 'upper'\n",
      "Error for nan: 'float' object has no attribute 'upper'\n",
      "Error for nan: 'float' object has no attribute 'upper'\n",
      "Error for nan: 'float' object has no attribute 'upper'\n",
      "Error for nan: 'float' object has no attribute 'upper'\n",
      "Error for nan: 'float' object has no attribute 'upper'\n",
      "Error for nan: 'float' object has no attribute 'upper'\n",
      "Error for nan: 'float' object has no attribute 'upper'\n",
      "Error for nan: 'float' object has no attribute 'upper'\n",
      "Error for nan: 'float' object has no attribute 'upper'\n",
      "Error for nan: 'float' object has no attribute 'upper'\n",
      "Error for nan: 'float' object has no attribute 'upper'\n"
     ]
    },
    {
     "ename": "KeyboardInterrupt",
     "evalue": "",
     "output_type": "error",
     "traceback": [
      "\u001b[31m---------------------------------------------------------------------------\u001b[39m",
      "\u001b[31mKeyboardInterrupt\u001b[39m                         Traceback (most recent call last)",
      "\u001b[36mCell\u001b[39m\u001b[36m \u001b[39m\u001b[32mIn[26]\u001b[39m\u001b[32m, line 1\u001b[39m\n\u001b[32m----> \u001b[39m\u001b[32m1\u001b[39m enriched_df = \u001b[43menrich_with_yfinance\u001b[49m\u001b[43m(\u001b[49m\u001b[43mtickers_df\u001b[49m\u001b[43m)\u001b[49m\n",
      "\u001b[36mCell\u001b[39m\u001b[36m \u001b[39m\u001b[32mIn[24]\u001b[39m\u001b[32m, line 30\u001b[39m, in \u001b[36menrich_with_yfinance\u001b[39m\u001b[34m(df, sleep_time)\u001b[39m\n\u001b[32m     21\u001b[39m         market_cap = \u001b[38;5;28;01mNone\u001b[39;00m\n\u001b[32m     23\u001b[39m     enriched_data.append({\n\u001b[32m     24\u001b[39m         \u001b[33m'\u001b[39m\u001b[33mticker\u001b[39m\u001b[33m'\u001b[39m: ticker,\n\u001b[32m     25\u001b[39m         \u001b[33m'\u001b[39m\u001b[33moriginal_name\u001b[39m\u001b[33m'\u001b[39m: row[\u001b[33m'\u001b[39m\u001b[33mcompany_name\u001b[39m\u001b[33m'\u001b[39m],\n\u001b[32m     26\u001b[39m         \u001b[33m'\u001b[39m\u001b[33myf_company_name\u001b[39m\u001b[33m'\u001b[39m: yf_name,\n\u001b[32m     27\u001b[39m         \u001b[33m'\u001b[39m\u001b[33mmarket_cap\u001b[39m\u001b[33m'\u001b[39m: market_cap\n\u001b[32m     28\u001b[39m     })\n\u001b[32m---> \u001b[39m\u001b[32m30\u001b[39m     \u001b[43mtime\u001b[49m\u001b[43m.\u001b[49m\u001b[43msleep\u001b[49m\u001b[43m(\u001b[49m\u001b[43msleep_time\u001b[49m\u001b[43m)\u001b[49m  \u001b[38;5;66;03m# avoid rate limiting\u001b[39;00m\n\u001b[32m     32\u001b[39m \u001b[38;5;28;01mreturn\u001b[39;00m pd.DataFrame(enriched_data)\n",
      "\u001b[31mKeyboardInterrupt\u001b[39m: "
     ]
    }
   ],
   "source": [
    "enriched_df = enrich_with_yfinance(tickers_df)"
   ]
  },
  {
   "cell_type": "code",
   "execution_count": 22,
   "id": "614de0b5",
   "metadata": {},
   "outputs": [],
   "source": [
    "def filter_valid_companies(df: pd.DataFrame):\n",
    "    \"\"\"\n",
    "    Filters the DataFrame to keep only rows with valid company names and market cap.\n",
    "    \"\"\"\n",
    "    return df[\n",
    "        (df['yf_company_name'].notna()) &\n",
    "        (df['yf_company_name'] != 'N/A') &\n",
    "        (df['yf_company_name'] != 'Error') &\n",
    "        (df['market_cap'] != 'N/A')\n",
    "    ].reset_index(drop=True)"
   ]
  },
  {
   "cell_type": "code",
   "execution_count": null,
   "id": "c00f0e54",
   "metadata": {},
   "outputs": [
    {
     "data": {
      "text/plain": [
       "100"
      ]
     },
     "execution_count": 28,
     "metadata": {},
     "output_type": "execute_result"
    }
   ],
   "source": [
    "enriched_df"
   ]
  },
  {
   "cell_type": "code",
   "execution_count": 23,
   "id": "e7148c1c",
   "metadata": {},
   "outputs": [
    {
     "data": {
      "text/html": [
       "<div>\n",
       "<style scoped>\n",
       "    .dataframe tbody tr th:only-of-type {\n",
       "        vertical-align: middle;\n",
       "    }\n",
       "\n",
       "    .dataframe tbody tr th {\n",
       "        vertical-align: top;\n",
       "    }\n",
       "\n",
       "    .dataframe thead th {\n",
       "        text-align: right;\n",
       "    }\n",
       "</style>\n",
       "<table border=\"1\" class=\"dataframe\">\n",
       "  <thead>\n",
       "    <tr style=\"text-align: right;\">\n",
       "      <th></th>\n",
       "      <th>ticker</th>\n",
       "      <th>original_name</th>\n",
       "      <th>yf_company_name</th>\n",
       "      <th>market_cap</th>\n",
       "    </tr>\n",
       "  </thead>\n",
       "  <tbody>\n",
       "    <tr>\n",
       "      <th>0</th>\n",
       "      <td>AACB</td>\n",
       "      <td>Artius II Acquisition Inc. - Class A Ordinary ...</td>\n",
       "      <td>Artius II Acquisition Inc. Class A Ordinary Sh...</td>\n",
       "      <td>248854880</td>\n",
       "    </tr>\n",
       "    <tr>\n",
       "      <th>1</th>\n",
       "      <td>AACBU</td>\n",
       "      <td>Artius II Acquisition Inc. - Units</td>\n",
       "      <td>Artius II Acquisition Inc. Units</td>\n",
       "      <td>253260512</td>\n",
       "    </tr>\n",
       "    <tr>\n",
       "      <th>2</th>\n",
       "      <td>AACG</td>\n",
       "      <td>ATA Creativity Global - American Depositary Sh...</td>\n",
       "      <td>ATA Creativity Global</td>\n",
       "      <td>30211798</td>\n",
       "    </tr>\n",
       "    <tr>\n",
       "      <th>3</th>\n",
       "      <td>AAL</td>\n",
       "      <td>American Airlines Group, Inc. - Common Stock</td>\n",
       "      <td>American Airlines Group Inc.</td>\n",
       "      <td>6358759936</td>\n",
       "    </tr>\n",
       "    <tr>\n",
       "      <th>4</th>\n",
       "      <td>AAME</td>\n",
       "      <td>Atlantic American Corporation - Common Stock</td>\n",
       "      <td>Atlantic American Corporation</td>\n",
       "      <td>26931038</td>\n",
       "    </tr>\n",
       "  </tbody>\n",
       "</table>\n",
       "</div>"
      ],
      "text/plain": [
       "  ticker                                      original_name  \\\n",
       "0   AACB  Artius II Acquisition Inc. - Class A Ordinary ...   \n",
       "1  AACBU                 Artius II Acquisition Inc. - Units   \n",
       "2   AACG  ATA Creativity Global - American Depositary Sh...   \n",
       "3    AAL       American Airlines Group, Inc. - Common Stock   \n",
       "4   AAME       Atlantic American Corporation - Common Stock   \n",
       "\n",
       "                                     yf_company_name  market_cap  \n",
       "0  Artius II Acquisition Inc. Class A Ordinary Sh...   248854880  \n",
       "1                   Artius II Acquisition Inc. Units   253260512  \n",
       "2                              ATA Creativity Global    30211798  \n",
       "3                       American Airlines Group Inc.  6358759936  \n",
       "4                      Atlantic American Corporation    26931038  "
      ]
     },
     "execution_count": 23,
     "metadata": {},
     "output_type": "execute_result"
    }
   ],
   "source": [
    "filtered_df = filter_valid_companies(enriched_df)\n",
    "filtered_df.head()"
   ]
  },
  {
   "cell_type": "code",
   "execution_count": null,
   "id": "67581034",
   "metadata": {},
   "outputs": [],
   "source": [
    "filtered_df.to_csv('filtered_us_companies.csv', index=False)"
   ]
  }
 ],
 "metadata": {
  "kernelspec": {
   "display_name": "final_proj_1",
   "language": "python",
   "name": "python3"
  },
  "language_info": {
   "codemirror_mode": {
    "name": "ipython",
    "version": 3
   },
   "file_extension": ".py",
   "mimetype": "text/x-python",
   "name": "python",
   "nbconvert_exporter": "python",
   "pygments_lexer": "ipython3",
   "version": "3.12.0"
  }
 },
 "nbformat": 4,
 "nbformat_minor": 5
}
